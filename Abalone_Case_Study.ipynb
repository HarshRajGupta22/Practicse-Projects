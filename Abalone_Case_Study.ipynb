{
  "nbformat": 4,
  "nbformat_minor": 0,
  "metadata": {
    "colab": {
      "name": "Abalone Case Study.ipynb",
      "provenance": [],
      "authorship_tag": "ABX9TyOi1a8i7qpgyNGcpjY6YZQz",
      "include_colab_link": true
    },
    "kernelspec": {
      "name": "python3",
      "display_name": "Python 3"
    },
    "language_info": {
      "name": "python"
    }
  },
  "cells": [
    {
      "cell_type": "markdown",
      "metadata": {
        "id": "view-in-github",
        "colab_type": "text"
      },
      "source": [
        "<a href=\"https://colab.research.google.com/github/HarshRajGupta22/Practicse-Projects/blob/main/Abalone_Case_Study.ipynb\" target=\"_parent\"><img src=\"https://colab.research.google.com/assets/colab-badge.svg\" alt=\"Open In Colab\"/></a>"
      ]
    },
    {
      "cell_type": "markdown",
      "source": [
        "# Abalone "
      ],
      "metadata": {
        "id": "7L0jm3NshfZy"
      }
    },
    {
      "cell_type": "markdown",
      "source": [
        "Abalones are marine snails. Their taxonomy puts them in the family Haliotidae, which contains only one genus, Haliotis, which once contained six subgenera. These subgenera have become alternate representations of Haliotis. The number of species recognized worldwide ranges between 30 and 130 with over 230 species-level taxa described. The most comprehensive treatment of the family considers 56 species valid, with 18 additional subspecies.\n",
        "\n",
        "The shells of abalones have a low, open spiral structure, and are characterized by several open respiratory pores in a row near the shell's outer edge. The thick inner layer of the shell is composed of nacre (mother-of-pearl), which in many species is highly iridescent, giving rise to a range of strong, changeable colors which make the shells attractive to humans as decorative objects, jewelry, and as a source of colorful mother-of-pearl.\n",
        "\n",
        "Distribution..\n",
        "\n",
        "Abalone with a live sponge on its shell in Póvoa de Varzim, Portugal\n",
        "The haliotid family has a worldwide distribution, along the coastal waters of every continent, except the Pacific coast of South America, the Atlantic coast of North America, the Arctic, and Antarctica. The majority of abalone species are found in cold waters, such as off the coasts of New Zealand, South Africa, Australia, Western North America, and Japan.\n",
        "\n",
        "Structure and properties of the shell..\n",
        "\n",
        "The shell of the abalone is exceptionally strong and is made of microscopic calcium carbonate tiles stacked like bricks. Between the layers of tiles is a clingy protein substance. When the abalone shell is struck, the tiles slide instead of shattering and the protein stretches to absorb the energy of the blow. Material scientists around the world are studying this tiled structure for insight into stronger ceramic products such as body armor. The dust created by grinding and cutting abalone shell is dangerous; appropriate safeguards must be taken to protect people from inhaling these particles."
      ],
      "metadata": {
        "id": "4VBllEHYhkd2"
      }
    },
    {
      "cell_type": "markdown",
      "source": [
        "# Data Description"
      ],
      "metadata": {
        "id": "Xyfuc3yel3ky"
      }
    },
    {
      "cell_type": "markdown",
      "source": [
        "The age of abalone is determined by cutting the shell through the cone, staining it, and counting the number of rings through a microscope -- a boring and time-consuming task. Other measurements, which are easier to obtain, are used to predict the age. Further information, such as weather patterns and location (hence food availability) may be required to solve the problem.\n"
      ],
      "metadata": {
        "id": "aLAbMAN2mBgJ"
      }
    },
    {
      "cell_type": "markdown",
      "source": [
        "# Loading the DataSet"
      ],
      "metadata": {
        "id": "zYDGAo75uUgl"
      }
    },
    {
      "cell_type": "code",
      "source": [
        "import pandas as pd\n",
        "import numpy as np\n",
        "path ='https://raw.githubusercontent.com/dsrscientist/dataset1/master/abalone.csv'\n",
        "df = pd.read_csv(path)"
      ],
      "metadata": {
        "id": "ZCnDS10ofm1_"
      },
      "execution_count": null,
      "outputs": []
    },
    {
      "cell_type": "code",
      "source": [
        "df"
      ],
      "metadata": {
        "colab": {
          "base_uri": "https://localhost:8080/",
          "height": 423
        },
        "id": "p5taRFF5f0QR",
        "outputId": "e3ca9d97-1bc5-4171-a771-aaf95828f887"
      },
      "execution_count": null,
      "outputs": [
        {
          "output_type": "execute_result",
          "data": {
            "text/plain": [
              "     Sex  Length  Diameter  Height  Whole weight  Shucked weight  \\\n",
              "0      M   0.455     0.365   0.095        0.5140          0.2245   \n",
              "1      M   0.350     0.265   0.090        0.2255          0.0995   \n",
              "2      F   0.530     0.420   0.135        0.6770          0.2565   \n",
              "3      M   0.440     0.365   0.125        0.5160          0.2155   \n",
              "4      I   0.330     0.255   0.080        0.2050          0.0895   \n",
              "...   ..     ...       ...     ...           ...             ...   \n",
              "4172   F   0.565     0.450   0.165        0.8870          0.3700   \n",
              "4173   M   0.590     0.440   0.135        0.9660          0.4390   \n",
              "4174   M   0.600     0.475   0.205        1.1760          0.5255   \n",
              "4175   F   0.625     0.485   0.150        1.0945          0.5310   \n",
              "4176   M   0.710     0.555   0.195        1.9485          0.9455   \n",
              "\n",
              "      Viscera weight  Shell weight  Rings  \n",
              "0             0.1010        0.1500     15  \n",
              "1             0.0485        0.0700      7  \n",
              "2             0.1415        0.2100      9  \n",
              "3             0.1140        0.1550     10  \n",
              "4             0.0395        0.0550      7  \n",
              "...              ...           ...    ...  \n",
              "4172          0.2390        0.2490     11  \n",
              "4173          0.2145        0.2605     10  \n",
              "4174          0.2875        0.3080      9  \n",
              "4175          0.2610        0.2960     10  \n",
              "4176          0.3765        0.4950     12  \n",
              "\n",
              "[4177 rows x 9 columns]"
            ],
            "text/html": [
              "\n",
              "  <div id=\"df-75e135b2-3e05-4c37-95af-38f3289e0409\">\n",
              "    <div class=\"colab-df-container\">\n",
              "      <div>\n",
              "<style scoped>\n",
              "    .dataframe tbody tr th:only-of-type {\n",
              "        vertical-align: middle;\n",
              "    }\n",
              "\n",
              "    .dataframe tbody tr th {\n",
              "        vertical-align: top;\n",
              "    }\n",
              "\n",
              "    .dataframe thead th {\n",
              "        text-align: right;\n",
              "    }\n",
              "</style>\n",
              "<table border=\"1\" class=\"dataframe\">\n",
              "  <thead>\n",
              "    <tr style=\"text-align: right;\">\n",
              "      <th></th>\n",
              "      <th>Sex</th>\n",
              "      <th>Length</th>\n",
              "      <th>Diameter</th>\n",
              "      <th>Height</th>\n",
              "      <th>Whole weight</th>\n",
              "      <th>Shucked weight</th>\n",
              "      <th>Viscera weight</th>\n",
              "      <th>Shell weight</th>\n",
              "      <th>Rings</th>\n",
              "    </tr>\n",
              "  </thead>\n",
              "  <tbody>\n",
              "    <tr>\n",
              "      <th>0</th>\n",
              "      <td>M</td>\n",
              "      <td>0.455</td>\n",
              "      <td>0.365</td>\n",
              "      <td>0.095</td>\n",
              "      <td>0.5140</td>\n",
              "      <td>0.2245</td>\n",
              "      <td>0.1010</td>\n",
              "      <td>0.1500</td>\n",
              "      <td>15</td>\n",
              "    </tr>\n",
              "    <tr>\n",
              "      <th>1</th>\n",
              "      <td>M</td>\n",
              "      <td>0.350</td>\n",
              "      <td>0.265</td>\n",
              "      <td>0.090</td>\n",
              "      <td>0.2255</td>\n",
              "      <td>0.0995</td>\n",
              "      <td>0.0485</td>\n",
              "      <td>0.0700</td>\n",
              "      <td>7</td>\n",
              "    </tr>\n",
              "    <tr>\n",
              "      <th>2</th>\n",
              "      <td>F</td>\n",
              "      <td>0.530</td>\n",
              "      <td>0.420</td>\n",
              "      <td>0.135</td>\n",
              "      <td>0.6770</td>\n",
              "      <td>0.2565</td>\n",
              "      <td>0.1415</td>\n",
              "      <td>0.2100</td>\n",
              "      <td>9</td>\n",
              "    </tr>\n",
              "    <tr>\n",
              "      <th>3</th>\n",
              "      <td>M</td>\n",
              "      <td>0.440</td>\n",
              "      <td>0.365</td>\n",
              "      <td>0.125</td>\n",
              "      <td>0.5160</td>\n",
              "      <td>0.2155</td>\n",
              "      <td>0.1140</td>\n",
              "      <td>0.1550</td>\n",
              "      <td>10</td>\n",
              "    </tr>\n",
              "    <tr>\n",
              "      <th>4</th>\n",
              "      <td>I</td>\n",
              "      <td>0.330</td>\n",
              "      <td>0.255</td>\n",
              "      <td>0.080</td>\n",
              "      <td>0.2050</td>\n",
              "      <td>0.0895</td>\n",
              "      <td>0.0395</td>\n",
              "      <td>0.0550</td>\n",
              "      <td>7</td>\n",
              "    </tr>\n",
              "    <tr>\n",
              "      <th>...</th>\n",
              "      <td>...</td>\n",
              "      <td>...</td>\n",
              "      <td>...</td>\n",
              "      <td>...</td>\n",
              "      <td>...</td>\n",
              "      <td>...</td>\n",
              "      <td>...</td>\n",
              "      <td>...</td>\n",
              "      <td>...</td>\n",
              "    </tr>\n",
              "    <tr>\n",
              "      <th>4172</th>\n",
              "      <td>F</td>\n",
              "      <td>0.565</td>\n",
              "      <td>0.450</td>\n",
              "      <td>0.165</td>\n",
              "      <td>0.8870</td>\n",
              "      <td>0.3700</td>\n",
              "      <td>0.2390</td>\n",
              "      <td>0.2490</td>\n",
              "      <td>11</td>\n",
              "    </tr>\n",
              "    <tr>\n",
              "      <th>4173</th>\n",
              "      <td>M</td>\n",
              "      <td>0.590</td>\n",
              "      <td>0.440</td>\n",
              "      <td>0.135</td>\n",
              "      <td>0.9660</td>\n",
              "      <td>0.4390</td>\n",
              "      <td>0.2145</td>\n",
              "      <td>0.2605</td>\n",
              "      <td>10</td>\n",
              "    </tr>\n",
              "    <tr>\n",
              "      <th>4174</th>\n",
              "      <td>M</td>\n",
              "      <td>0.600</td>\n",
              "      <td>0.475</td>\n",
              "      <td>0.205</td>\n",
              "      <td>1.1760</td>\n",
              "      <td>0.5255</td>\n",
              "      <td>0.2875</td>\n",
              "      <td>0.3080</td>\n",
              "      <td>9</td>\n",
              "    </tr>\n",
              "    <tr>\n",
              "      <th>4175</th>\n",
              "      <td>F</td>\n",
              "      <td>0.625</td>\n",
              "      <td>0.485</td>\n",
              "      <td>0.150</td>\n",
              "      <td>1.0945</td>\n",
              "      <td>0.5310</td>\n",
              "      <td>0.2610</td>\n",
              "      <td>0.2960</td>\n",
              "      <td>10</td>\n",
              "    </tr>\n",
              "    <tr>\n",
              "      <th>4176</th>\n",
              "      <td>M</td>\n",
              "      <td>0.710</td>\n",
              "      <td>0.555</td>\n",
              "      <td>0.195</td>\n",
              "      <td>1.9485</td>\n",
              "      <td>0.9455</td>\n",
              "      <td>0.3765</td>\n",
              "      <td>0.4950</td>\n",
              "      <td>12</td>\n",
              "    </tr>\n",
              "  </tbody>\n",
              "</table>\n",
              "<p>4177 rows × 9 columns</p>\n",
              "</div>\n",
              "      <button class=\"colab-df-convert\" onclick=\"convertToInteractive('df-75e135b2-3e05-4c37-95af-38f3289e0409')\"\n",
              "              title=\"Convert this dataframe to an interactive table.\"\n",
              "              style=\"display:none;\">\n",
              "        \n",
              "  <svg xmlns=\"http://www.w3.org/2000/svg\" height=\"24px\"viewBox=\"0 0 24 24\"\n",
              "       width=\"24px\">\n",
              "    <path d=\"M0 0h24v24H0V0z\" fill=\"none\"/>\n",
              "    <path d=\"M18.56 5.44l.94 2.06.94-2.06 2.06-.94-2.06-.94-.94-2.06-.94 2.06-2.06.94zm-11 1L8.5 8.5l.94-2.06 2.06-.94-2.06-.94L8.5 2.5l-.94 2.06-2.06.94zm10 10l.94 2.06.94-2.06 2.06-.94-2.06-.94-.94-2.06-.94 2.06-2.06.94z\"/><path d=\"M17.41 7.96l-1.37-1.37c-.4-.4-.92-.59-1.43-.59-.52 0-1.04.2-1.43.59L10.3 9.45l-7.72 7.72c-.78.78-.78 2.05 0 2.83L4 21.41c.39.39.9.59 1.41.59.51 0 1.02-.2 1.41-.59l7.78-7.78 2.81-2.81c.8-.78.8-2.07 0-2.86zM5.41 20L4 18.59l7.72-7.72 1.47 1.35L5.41 20z\"/>\n",
              "  </svg>\n",
              "      </button>\n",
              "      \n",
              "  <style>\n",
              "    .colab-df-container {\n",
              "      display:flex;\n",
              "      flex-wrap:wrap;\n",
              "      gap: 12px;\n",
              "    }\n",
              "\n",
              "    .colab-df-convert {\n",
              "      background-color: #E8F0FE;\n",
              "      border: none;\n",
              "      border-radius: 50%;\n",
              "      cursor: pointer;\n",
              "      display: none;\n",
              "      fill: #1967D2;\n",
              "      height: 32px;\n",
              "      padding: 0 0 0 0;\n",
              "      width: 32px;\n",
              "    }\n",
              "\n",
              "    .colab-df-convert:hover {\n",
              "      background-color: #E2EBFA;\n",
              "      box-shadow: 0px 1px 2px rgba(60, 64, 67, 0.3), 0px 1px 3px 1px rgba(60, 64, 67, 0.15);\n",
              "      fill: #174EA6;\n",
              "    }\n",
              "\n",
              "    [theme=dark] .colab-df-convert {\n",
              "      background-color: #3B4455;\n",
              "      fill: #D2E3FC;\n",
              "    }\n",
              "\n",
              "    [theme=dark] .colab-df-convert:hover {\n",
              "      background-color: #434B5C;\n",
              "      box-shadow: 0px 1px 3px 1px rgba(0, 0, 0, 0.15);\n",
              "      filter: drop-shadow(0px 1px 2px rgba(0, 0, 0, 0.3));\n",
              "      fill: #FFFFFF;\n",
              "    }\n",
              "  </style>\n",
              "\n",
              "      <script>\n",
              "        const buttonEl =\n",
              "          document.querySelector('#df-75e135b2-3e05-4c37-95af-38f3289e0409 button.colab-df-convert');\n",
              "        buttonEl.style.display =\n",
              "          google.colab.kernel.accessAllowed ? 'block' : 'none';\n",
              "\n",
              "        async function convertToInteractive(key) {\n",
              "          const element = document.querySelector('#df-75e135b2-3e05-4c37-95af-38f3289e0409');\n",
              "          const dataTable =\n",
              "            await google.colab.kernel.invokeFunction('convertToInteractive',\n",
              "                                                     [key], {});\n",
              "          if (!dataTable) return;\n",
              "\n",
              "          const docLinkHtml = 'Like what you see? Visit the ' +\n",
              "            '<a target=\"_blank\" href=https://colab.research.google.com/notebooks/data_table.ipynb>data table notebook</a>'\n",
              "            + ' to learn more about interactive tables.';\n",
              "          element.innerHTML = '';\n",
              "          dataTable['output_type'] = 'display_data';\n",
              "          await google.colab.output.renderOutput(dataTable, element);\n",
              "          const docLink = document.createElement('div');\n",
              "          docLink.innerHTML = docLinkHtml;\n",
              "          element.appendChild(docLink);\n",
              "        }\n",
              "      </script>\n",
              "    </div>\n",
              "  </div>\n",
              "  "
            ]
          },
          "metadata": {},
          "execution_count": 295
        }
      ]
    },
    {
      "cell_type": "code",
      "source": [
        "df.head().T"
      ],
      "metadata": {
        "colab": {
          "base_uri": "https://localhost:8080/",
          "height": 331
        },
        "id": "LHxtluyJgoLA",
        "outputId": "4b405651-66eb-4328-a921-e44e8ccb32ef"
      },
      "execution_count": null,
      "outputs": [
        {
          "output_type": "execute_result",
          "data": {
            "text/plain": [
              "                     0       1       2       3       4\n",
              "Sex                  M       M       F       M       I\n",
              "Length           0.455    0.35    0.53    0.44    0.33\n",
              "Diameter         0.365   0.265    0.42   0.365   0.255\n",
              "Height           0.095    0.09   0.135   0.125    0.08\n",
              "Whole weight     0.514  0.2255   0.677   0.516   0.205\n",
              "Shucked weight  0.2245  0.0995  0.2565  0.2155  0.0895\n",
              "Viscera weight   0.101  0.0485  0.1415   0.114  0.0395\n",
              "Shell weight      0.15    0.07    0.21   0.155   0.055\n",
              "Rings               15       7       9      10       7"
            ],
            "text/html": [
              "\n",
              "  <div id=\"df-864400b4-ebcd-47be-8ee8-001652754369\">\n",
              "    <div class=\"colab-df-container\">\n",
              "      <div>\n",
              "<style scoped>\n",
              "    .dataframe tbody tr th:only-of-type {\n",
              "        vertical-align: middle;\n",
              "    }\n",
              "\n",
              "    .dataframe tbody tr th {\n",
              "        vertical-align: top;\n",
              "    }\n",
              "\n",
              "    .dataframe thead th {\n",
              "        text-align: right;\n",
              "    }\n",
              "</style>\n",
              "<table border=\"1\" class=\"dataframe\">\n",
              "  <thead>\n",
              "    <tr style=\"text-align: right;\">\n",
              "      <th></th>\n",
              "      <th>0</th>\n",
              "      <th>1</th>\n",
              "      <th>2</th>\n",
              "      <th>3</th>\n",
              "      <th>4</th>\n",
              "    </tr>\n",
              "  </thead>\n",
              "  <tbody>\n",
              "    <tr>\n",
              "      <th>Sex</th>\n",
              "      <td>M</td>\n",
              "      <td>M</td>\n",
              "      <td>F</td>\n",
              "      <td>M</td>\n",
              "      <td>I</td>\n",
              "    </tr>\n",
              "    <tr>\n",
              "      <th>Length</th>\n",
              "      <td>0.455</td>\n",
              "      <td>0.35</td>\n",
              "      <td>0.53</td>\n",
              "      <td>0.44</td>\n",
              "      <td>0.33</td>\n",
              "    </tr>\n",
              "    <tr>\n",
              "      <th>Diameter</th>\n",
              "      <td>0.365</td>\n",
              "      <td>0.265</td>\n",
              "      <td>0.42</td>\n",
              "      <td>0.365</td>\n",
              "      <td>0.255</td>\n",
              "    </tr>\n",
              "    <tr>\n",
              "      <th>Height</th>\n",
              "      <td>0.095</td>\n",
              "      <td>0.09</td>\n",
              "      <td>0.135</td>\n",
              "      <td>0.125</td>\n",
              "      <td>0.08</td>\n",
              "    </tr>\n",
              "    <tr>\n",
              "      <th>Whole weight</th>\n",
              "      <td>0.514</td>\n",
              "      <td>0.2255</td>\n",
              "      <td>0.677</td>\n",
              "      <td>0.516</td>\n",
              "      <td>0.205</td>\n",
              "    </tr>\n",
              "    <tr>\n",
              "      <th>Shucked weight</th>\n",
              "      <td>0.2245</td>\n",
              "      <td>0.0995</td>\n",
              "      <td>0.2565</td>\n",
              "      <td>0.2155</td>\n",
              "      <td>0.0895</td>\n",
              "    </tr>\n",
              "    <tr>\n",
              "      <th>Viscera weight</th>\n",
              "      <td>0.101</td>\n",
              "      <td>0.0485</td>\n",
              "      <td>0.1415</td>\n",
              "      <td>0.114</td>\n",
              "      <td>0.0395</td>\n",
              "    </tr>\n",
              "    <tr>\n",
              "      <th>Shell weight</th>\n",
              "      <td>0.15</td>\n",
              "      <td>0.07</td>\n",
              "      <td>0.21</td>\n",
              "      <td>0.155</td>\n",
              "      <td>0.055</td>\n",
              "    </tr>\n",
              "    <tr>\n",
              "      <th>Rings</th>\n",
              "      <td>15</td>\n",
              "      <td>7</td>\n",
              "      <td>9</td>\n",
              "      <td>10</td>\n",
              "      <td>7</td>\n",
              "    </tr>\n",
              "  </tbody>\n",
              "</table>\n",
              "</div>\n",
              "      <button class=\"colab-df-convert\" onclick=\"convertToInteractive('df-864400b4-ebcd-47be-8ee8-001652754369')\"\n",
              "              title=\"Convert this dataframe to an interactive table.\"\n",
              "              style=\"display:none;\">\n",
              "        \n",
              "  <svg xmlns=\"http://www.w3.org/2000/svg\" height=\"24px\"viewBox=\"0 0 24 24\"\n",
              "       width=\"24px\">\n",
              "    <path d=\"M0 0h24v24H0V0z\" fill=\"none\"/>\n",
              "    <path d=\"M18.56 5.44l.94 2.06.94-2.06 2.06-.94-2.06-.94-.94-2.06-.94 2.06-2.06.94zm-11 1L8.5 8.5l.94-2.06 2.06-.94-2.06-.94L8.5 2.5l-.94 2.06-2.06.94zm10 10l.94 2.06.94-2.06 2.06-.94-2.06-.94-.94-2.06-.94 2.06-2.06.94z\"/><path d=\"M17.41 7.96l-1.37-1.37c-.4-.4-.92-.59-1.43-.59-.52 0-1.04.2-1.43.59L10.3 9.45l-7.72 7.72c-.78.78-.78 2.05 0 2.83L4 21.41c.39.39.9.59 1.41.59.51 0 1.02-.2 1.41-.59l7.78-7.78 2.81-2.81c.8-.78.8-2.07 0-2.86zM5.41 20L4 18.59l7.72-7.72 1.47 1.35L5.41 20z\"/>\n",
              "  </svg>\n",
              "      </button>\n",
              "      \n",
              "  <style>\n",
              "    .colab-df-container {\n",
              "      display:flex;\n",
              "      flex-wrap:wrap;\n",
              "      gap: 12px;\n",
              "    }\n",
              "\n",
              "    .colab-df-convert {\n",
              "      background-color: #E8F0FE;\n",
              "      border: none;\n",
              "      border-radius: 50%;\n",
              "      cursor: pointer;\n",
              "      display: none;\n",
              "      fill: #1967D2;\n",
              "      height: 32px;\n",
              "      padding: 0 0 0 0;\n",
              "      width: 32px;\n",
              "    }\n",
              "\n",
              "    .colab-df-convert:hover {\n",
              "      background-color: #E2EBFA;\n",
              "      box-shadow: 0px 1px 2px rgba(60, 64, 67, 0.3), 0px 1px 3px 1px rgba(60, 64, 67, 0.15);\n",
              "      fill: #174EA6;\n",
              "    }\n",
              "\n",
              "    [theme=dark] .colab-df-convert {\n",
              "      background-color: #3B4455;\n",
              "      fill: #D2E3FC;\n",
              "    }\n",
              "\n",
              "    [theme=dark] .colab-df-convert:hover {\n",
              "      background-color: #434B5C;\n",
              "      box-shadow: 0px 1px 3px 1px rgba(0, 0, 0, 0.15);\n",
              "      filter: drop-shadow(0px 1px 2px rgba(0, 0, 0, 0.3));\n",
              "      fill: #FFFFFF;\n",
              "    }\n",
              "  </style>\n",
              "\n",
              "      <script>\n",
              "        const buttonEl =\n",
              "          document.querySelector('#df-864400b4-ebcd-47be-8ee8-001652754369 button.colab-df-convert');\n",
              "        buttonEl.style.display =\n",
              "          google.colab.kernel.accessAllowed ? 'block' : 'none';\n",
              "\n",
              "        async function convertToInteractive(key) {\n",
              "          const element = document.querySelector('#df-864400b4-ebcd-47be-8ee8-001652754369');\n",
              "          const dataTable =\n",
              "            await google.colab.kernel.invokeFunction('convertToInteractive',\n",
              "                                                     [key], {});\n",
              "          if (!dataTable) return;\n",
              "\n",
              "          const docLinkHtml = 'Like what you see? Visit the ' +\n",
              "            '<a target=\"_blank\" href=https://colab.research.google.com/notebooks/data_table.ipynb>data table notebook</a>'\n",
              "            + ' to learn more about interactive tables.';\n",
              "          element.innerHTML = '';\n",
              "          dataTable['output_type'] = 'display_data';\n",
              "          await google.colab.output.renderOutput(dataTable, element);\n",
              "          const docLink = document.createElement('div');\n",
              "          docLink.innerHTML = docLinkHtml;\n",
              "          element.appendChild(docLink);\n",
              "        }\n",
              "      </script>\n",
              "    </div>\n",
              "  </div>\n",
              "  "
            ]
          },
          "metadata": {},
          "execution_count": 296
        }
      ]
    },
    {
      "cell_type": "code",
      "source": [
        "df.tail().T"
      ],
      "metadata": {
        "colab": {
          "base_uri": "https://localhost:8080/",
          "height": 331
        },
        "id": "i59zw3Oig2sF",
        "outputId": "f4d8414b-1080-4a35-9144-3ffc52f6cc14"
      },
      "execution_count": null,
      "outputs": [
        {
          "output_type": "execute_result",
          "data": {
            "text/plain": [
              "                 4172    4173    4174    4175    4176\n",
              "Sex                 F       M       M       F       M\n",
              "Length          0.565    0.59     0.6   0.625    0.71\n",
              "Diameter         0.45    0.44   0.475   0.485   0.555\n",
              "Height          0.165   0.135   0.205    0.15   0.195\n",
              "Whole weight    0.887   0.966   1.176  1.0945  1.9485\n",
              "Shucked weight   0.37   0.439  0.5255   0.531  0.9455\n",
              "Viscera weight  0.239  0.2145  0.2875   0.261  0.3765\n",
              "Shell weight    0.249  0.2605   0.308   0.296   0.495\n",
              "Rings              11      10       9      10      12"
            ],
            "text/html": [
              "\n",
              "  <div id=\"df-edbe758a-60fd-47d0-9037-09ae1a243456\">\n",
              "    <div class=\"colab-df-container\">\n",
              "      <div>\n",
              "<style scoped>\n",
              "    .dataframe tbody tr th:only-of-type {\n",
              "        vertical-align: middle;\n",
              "    }\n",
              "\n",
              "    .dataframe tbody tr th {\n",
              "        vertical-align: top;\n",
              "    }\n",
              "\n",
              "    .dataframe thead th {\n",
              "        text-align: right;\n",
              "    }\n",
              "</style>\n",
              "<table border=\"1\" class=\"dataframe\">\n",
              "  <thead>\n",
              "    <tr style=\"text-align: right;\">\n",
              "      <th></th>\n",
              "      <th>4172</th>\n",
              "      <th>4173</th>\n",
              "      <th>4174</th>\n",
              "      <th>4175</th>\n",
              "      <th>4176</th>\n",
              "    </tr>\n",
              "  </thead>\n",
              "  <tbody>\n",
              "    <tr>\n",
              "      <th>Sex</th>\n",
              "      <td>F</td>\n",
              "      <td>M</td>\n",
              "      <td>M</td>\n",
              "      <td>F</td>\n",
              "      <td>M</td>\n",
              "    </tr>\n",
              "    <tr>\n",
              "      <th>Length</th>\n",
              "      <td>0.565</td>\n",
              "      <td>0.59</td>\n",
              "      <td>0.6</td>\n",
              "      <td>0.625</td>\n",
              "      <td>0.71</td>\n",
              "    </tr>\n",
              "    <tr>\n",
              "      <th>Diameter</th>\n",
              "      <td>0.45</td>\n",
              "      <td>0.44</td>\n",
              "      <td>0.475</td>\n",
              "      <td>0.485</td>\n",
              "      <td>0.555</td>\n",
              "    </tr>\n",
              "    <tr>\n",
              "      <th>Height</th>\n",
              "      <td>0.165</td>\n",
              "      <td>0.135</td>\n",
              "      <td>0.205</td>\n",
              "      <td>0.15</td>\n",
              "      <td>0.195</td>\n",
              "    </tr>\n",
              "    <tr>\n",
              "      <th>Whole weight</th>\n",
              "      <td>0.887</td>\n",
              "      <td>0.966</td>\n",
              "      <td>1.176</td>\n",
              "      <td>1.0945</td>\n",
              "      <td>1.9485</td>\n",
              "    </tr>\n",
              "    <tr>\n",
              "      <th>Shucked weight</th>\n",
              "      <td>0.37</td>\n",
              "      <td>0.439</td>\n",
              "      <td>0.5255</td>\n",
              "      <td>0.531</td>\n",
              "      <td>0.9455</td>\n",
              "    </tr>\n",
              "    <tr>\n",
              "      <th>Viscera weight</th>\n",
              "      <td>0.239</td>\n",
              "      <td>0.2145</td>\n",
              "      <td>0.2875</td>\n",
              "      <td>0.261</td>\n",
              "      <td>0.3765</td>\n",
              "    </tr>\n",
              "    <tr>\n",
              "      <th>Shell weight</th>\n",
              "      <td>0.249</td>\n",
              "      <td>0.2605</td>\n",
              "      <td>0.308</td>\n",
              "      <td>0.296</td>\n",
              "      <td>0.495</td>\n",
              "    </tr>\n",
              "    <tr>\n",
              "      <th>Rings</th>\n",
              "      <td>11</td>\n",
              "      <td>10</td>\n",
              "      <td>9</td>\n",
              "      <td>10</td>\n",
              "      <td>12</td>\n",
              "    </tr>\n",
              "  </tbody>\n",
              "</table>\n",
              "</div>\n",
              "      <button class=\"colab-df-convert\" onclick=\"convertToInteractive('df-edbe758a-60fd-47d0-9037-09ae1a243456')\"\n",
              "              title=\"Convert this dataframe to an interactive table.\"\n",
              "              style=\"display:none;\">\n",
              "        \n",
              "  <svg xmlns=\"http://www.w3.org/2000/svg\" height=\"24px\"viewBox=\"0 0 24 24\"\n",
              "       width=\"24px\">\n",
              "    <path d=\"M0 0h24v24H0V0z\" fill=\"none\"/>\n",
              "    <path d=\"M18.56 5.44l.94 2.06.94-2.06 2.06-.94-2.06-.94-.94-2.06-.94 2.06-2.06.94zm-11 1L8.5 8.5l.94-2.06 2.06-.94-2.06-.94L8.5 2.5l-.94 2.06-2.06.94zm10 10l.94 2.06.94-2.06 2.06-.94-2.06-.94-.94-2.06-.94 2.06-2.06.94z\"/><path d=\"M17.41 7.96l-1.37-1.37c-.4-.4-.92-.59-1.43-.59-.52 0-1.04.2-1.43.59L10.3 9.45l-7.72 7.72c-.78.78-.78 2.05 0 2.83L4 21.41c.39.39.9.59 1.41.59.51 0 1.02-.2 1.41-.59l7.78-7.78 2.81-2.81c.8-.78.8-2.07 0-2.86zM5.41 20L4 18.59l7.72-7.72 1.47 1.35L5.41 20z\"/>\n",
              "  </svg>\n",
              "      </button>\n",
              "      \n",
              "  <style>\n",
              "    .colab-df-container {\n",
              "      display:flex;\n",
              "      flex-wrap:wrap;\n",
              "      gap: 12px;\n",
              "    }\n",
              "\n",
              "    .colab-df-convert {\n",
              "      background-color: #E8F0FE;\n",
              "      border: none;\n",
              "      border-radius: 50%;\n",
              "      cursor: pointer;\n",
              "      display: none;\n",
              "      fill: #1967D2;\n",
              "      height: 32px;\n",
              "      padding: 0 0 0 0;\n",
              "      width: 32px;\n",
              "    }\n",
              "\n",
              "    .colab-df-convert:hover {\n",
              "      background-color: #E2EBFA;\n",
              "      box-shadow: 0px 1px 2px rgba(60, 64, 67, 0.3), 0px 1px 3px 1px rgba(60, 64, 67, 0.15);\n",
              "      fill: #174EA6;\n",
              "    }\n",
              "\n",
              "    [theme=dark] .colab-df-convert {\n",
              "      background-color: #3B4455;\n",
              "      fill: #D2E3FC;\n",
              "    }\n",
              "\n",
              "    [theme=dark] .colab-df-convert:hover {\n",
              "      background-color: #434B5C;\n",
              "      box-shadow: 0px 1px 3px 1px rgba(0, 0, 0, 0.15);\n",
              "      filter: drop-shadow(0px 1px 2px rgba(0, 0, 0, 0.3));\n",
              "      fill: #FFFFFF;\n",
              "    }\n",
              "  </style>\n",
              "\n",
              "      <script>\n",
              "        const buttonEl =\n",
              "          document.querySelector('#df-edbe758a-60fd-47d0-9037-09ae1a243456 button.colab-df-convert');\n",
              "        buttonEl.style.display =\n",
              "          google.colab.kernel.accessAllowed ? 'block' : 'none';\n",
              "\n",
              "        async function convertToInteractive(key) {\n",
              "          const element = document.querySelector('#df-edbe758a-60fd-47d0-9037-09ae1a243456');\n",
              "          const dataTable =\n",
              "            await google.colab.kernel.invokeFunction('convertToInteractive',\n",
              "                                                     [key], {});\n",
              "          if (!dataTable) return;\n",
              "\n",
              "          const docLinkHtml = 'Like what you see? Visit the ' +\n",
              "            '<a target=\"_blank\" href=https://colab.research.google.com/notebooks/data_table.ipynb>data table notebook</a>'\n",
              "            + ' to learn more about interactive tables.';\n",
              "          element.innerHTML = '';\n",
              "          dataTable['output_type'] = 'display_data';\n",
              "          await google.colab.output.renderOutput(dataTable, element);\n",
              "          const docLink = document.createElement('div');\n",
              "          docLink.innerHTML = docLinkHtml;\n",
              "          element.appendChild(docLink);\n",
              "        }\n",
              "      </script>\n",
              "    </div>\n",
              "  </div>\n",
              "  "
            ]
          },
          "metadata": {},
          "execution_count": 297
        }
      ]
    },
    {
      "cell_type": "code",
      "source": [
        "df.columns"
      ],
      "metadata": {
        "colab": {
          "base_uri": "https://localhost:8080/"
        },
        "id": "waKXPXqNg2vU",
        "outputId": "25a41312-9f7a-4293-86d4-369e64960156"
      },
      "execution_count": null,
      "outputs": [
        {
          "output_type": "execute_result",
          "data": {
            "text/plain": [
              "Index(['Sex', 'Length', 'Diameter', 'Height', 'Whole weight', 'Shucked weight',\n",
              "       'Viscera weight', 'Shell weight', 'Rings'],\n",
              "      dtype='object')"
            ]
          },
          "metadata": {},
          "execution_count": 298
        }
      ]
    },
    {
      "cell_type": "markdown",
      "source": [
        "# Details About The Columns"
      ],
      "metadata": {
        "id": "BnakkJPMhOkj"
      }
    },
    {
      "cell_type": "markdown",
      "source": [
        "     1. Abalone's Sex : -\n",
        "\n",
        "This Column shows the gender of the Abalone . Abalone are separate sexed. The sex of a live abalone can be determined by holding the abalone out of the water with the holes along the bottom. \n",
        "\n",
        "     2. Abalone's Length : -\n",
        "\n",
        "This Column Shows the length of the Abalones . Abalone vary in size from 20 mm (0.8 in) (Haliotis pulcherrima) to 200 mm (8 in) while Haliotis rufescens is the largest of the genus at 12 in (30 cm). The shell of abalones is convex, rounded to oval in shape, and may be highly arched or very flattened.\n",
        "\n",
        "\n",
        "     3. Abalone's Diameter : -\n",
        "\n",
        "This Column shows the Abalones Diameter . Abalone vary in size from 20 mm (0.8 in) (Haliotis pulcherrima) to 200 mm (8 in) while Haliotis rufescens is the largest of the genus at 12 in (30 cm).\n",
        " \n",
        "      4. Abalone's Hieght : - \n",
        "\n",
        "This Coluimn Shows the Hieght of the Abalones . Height, continuous, mm, with meat in shell. Whole weight, continuous, grams, whole abalone. Shucked weight, continuous, grams, weight of meat.\n",
        "\n",
        "      5. Abalone's Whole wieght : -\n",
        "\n",
        "This Column shows the Abalones Whole Wieght . Whole weight means the weight of a whole fish before any processing..\n",
        "\n",
        "       6. Abalone's Shucked wieght : -\n",
        "\n",
        "This Column Shows the Abalones Shucked wieght . It refers to the wieght of the Meat of the shell seperated apart.\n",
        "\n",
        "       7. Abalone's Viscera wieght : -\n",
        " \n",
        " This Column shows the Viscera Wieght of the Abalones . It refer to the continous guts wieght after bledding in grams   \n",
        "\n",
        "        8. Abalone's Shell wieght : -\n",
        " \n",
        " This Column Shows the Abalones shell wieght .. It refers to the shells wieght of the Abalone after bieng seperated and dried..\n",
        "\n",
        "\n",
        "        9. Abalone's Rings : -\n",
        "\n",
        "This Column Refers to the Abalones ring. It refers to the Target column also wchich gives the ring due to age "
      ],
      "metadata": {
        "id": "rnxzyY7Qmbvi"
      }
    },
    {
      "cell_type": "markdown",
      "source": [
        "# Transforming Datatypes of The Dataset into same format .ie. Categorical to Numerical For better Analysis.."
      ],
      "metadata": {
        "id": "9jdAYaeTwToy"
      }
    },
    {
      "cell_type": "code",
      "source": [
        "df.dtypes"
      ],
      "metadata": {
        "colab": {
          "base_uri": "https://localhost:8080/"
        },
        "id": "58PVi4DLwZsU",
        "outputId": "a2ad302c-db74-4261-9c8e-c5d3ae062df5"
      },
      "execution_count": null,
      "outputs": [
        {
          "output_type": "execute_result",
          "data": {
            "text/plain": [
              "Sex                object\n",
              "Length            float64\n",
              "Diameter          float64\n",
              "Height            float64\n",
              "Whole weight      float64\n",
              "Shucked weight    float64\n",
              "Viscera weight    float64\n",
              "Shell weight      float64\n",
              "Rings               int64\n",
              "dtype: object"
            ]
          },
          "metadata": {},
          "execution_count": 261
        }
      ]
    },
    {
      "cell_type": "code",
      "source": [
        "from sklearn.preprocessing import LabelEncoder\n",
        "le =LabelEncoder()\n",
        "\n",
        "list1=['Sex']\n",
        "for val in list1:\n",
        "  df[val]=le.fit_transform(df[val].astype(str))\n",
        "\n",
        "df[\"Sex\"].value_counts()"
      ],
      "metadata": {
        "colab": {
          "base_uri": "https://localhost:8080/"
        },
        "id": "CRkHtE7CwddT",
        "outputId": "b0a7b6ec-45ac-4889-96c1-98edb3cd0211"
      },
      "execution_count": null,
      "outputs": [
        {
          "output_type": "execute_result",
          "data": {
            "text/plain": [
              "2    1528\n",
              "1    1342\n",
              "0    1307\n",
              "Name: Sex, dtype: int64"
            ]
          },
          "metadata": {},
          "execution_count": 299
        }
      ]
    },
    {
      "cell_type": "code",
      "source": [
        "df.dtypes"
      ],
      "metadata": {
        "colab": {
          "base_uri": "https://localhost:8080/"
        },
        "id": "fRPAVANv8nF_",
        "outputId": "4277c4ef-0486-4b10-c036-fde7646329fd"
      },
      "execution_count": null,
      "outputs": [
        {
          "output_type": "execute_result",
          "data": {
            "text/plain": [
              "Sex                 int64\n",
              "Length            float64\n",
              "Diameter          float64\n",
              "Height            float64\n",
              "Whole weight      float64\n",
              "Shucked weight    float64\n",
              "Viscera weight    float64\n",
              "Shell weight      float64\n",
              "Rings               int64\n",
              "dtype: object"
            ]
          },
          "metadata": {},
          "execution_count": 263
        }
      ]
    },
    {
      "cell_type": "code",
      "source": [
        "df['Sex']=df['Sex'].astype('float')"
      ],
      "metadata": {
        "id": "Rm4mFm7ExOEG"
      },
      "execution_count": null,
      "outputs": []
    },
    {
      "cell_type": "code",
      "source": [
        "df.dtypes"
      ],
      "metadata": {
        "colab": {
          "base_uri": "https://localhost:8080/"
        },
        "id": "XLRhI3d0xT8z",
        "outputId": "3bf7886e-446b-4f01-ea97-27d621a5c2df"
      },
      "execution_count": null,
      "outputs": [
        {
          "output_type": "execute_result",
          "data": {
            "text/plain": [
              "Sex               float64\n",
              "Length            float64\n",
              "Diameter          float64\n",
              "Height            float64\n",
              "Whole weight      float64\n",
              "Shucked weight    float64\n",
              "Viscera weight    float64\n",
              "Shell weight      float64\n",
              "Rings               int64\n",
              "dtype: object"
            ]
          },
          "metadata": {},
          "execution_count": 301
        }
      ]
    },
    {
      "cell_type": "code",
      "source": [
        "df"
      ],
      "metadata": {
        "colab": {
          "base_uri": "https://localhost:8080/",
          "height": 423
        },
        "id": "LaKzenzHwdgn",
        "outputId": "a7177d9e-29cd-467c-96e4-d5fdaaeff152"
      },
      "execution_count": null,
      "outputs": [
        {
          "output_type": "execute_result",
          "data": {
            "text/plain": [
              "      Sex  Length  Diameter  Height  Whole weight  Shucked weight  \\\n",
              "0     2.0   0.455     0.365   0.095        0.5140          0.2245   \n",
              "1     2.0   0.350     0.265   0.090        0.2255          0.0995   \n",
              "2     0.0   0.530     0.420   0.135        0.6770          0.2565   \n",
              "3     2.0   0.440     0.365   0.125        0.5160          0.2155   \n",
              "4     1.0   0.330     0.255   0.080        0.2050          0.0895   \n",
              "...   ...     ...       ...     ...           ...             ...   \n",
              "4172  0.0   0.565     0.450   0.165        0.8870          0.3700   \n",
              "4173  2.0   0.590     0.440   0.135        0.9660          0.4390   \n",
              "4174  2.0   0.600     0.475   0.205        1.1760          0.5255   \n",
              "4175  0.0   0.625     0.485   0.150        1.0945          0.5310   \n",
              "4176  2.0   0.710     0.555   0.195        1.9485          0.9455   \n",
              "\n",
              "      Viscera weight  Shell weight  Rings  \n",
              "0             0.1010        0.1500     15  \n",
              "1             0.0485        0.0700      7  \n",
              "2             0.1415        0.2100      9  \n",
              "3             0.1140        0.1550     10  \n",
              "4             0.0395        0.0550      7  \n",
              "...              ...           ...    ...  \n",
              "4172          0.2390        0.2490     11  \n",
              "4173          0.2145        0.2605     10  \n",
              "4174          0.2875        0.3080      9  \n",
              "4175          0.2610        0.2960     10  \n",
              "4176          0.3765        0.4950     12  \n",
              "\n",
              "[4177 rows x 9 columns]"
            ],
            "text/html": [
              "\n",
              "  <div id=\"df-ccbe94f8-1423-44a1-8015-77f95bcd28ef\">\n",
              "    <div class=\"colab-df-container\">\n",
              "      <div>\n",
              "<style scoped>\n",
              "    .dataframe tbody tr th:only-of-type {\n",
              "        vertical-align: middle;\n",
              "    }\n",
              "\n",
              "    .dataframe tbody tr th {\n",
              "        vertical-align: top;\n",
              "    }\n",
              "\n",
              "    .dataframe thead th {\n",
              "        text-align: right;\n",
              "    }\n",
              "</style>\n",
              "<table border=\"1\" class=\"dataframe\">\n",
              "  <thead>\n",
              "    <tr style=\"text-align: right;\">\n",
              "      <th></th>\n",
              "      <th>Sex</th>\n",
              "      <th>Length</th>\n",
              "      <th>Diameter</th>\n",
              "      <th>Height</th>\n",
              "      <th>Whole weight</th>\n",
              "      <th>Shucked weight</th>\n",
              "      <th>Viscera weight</th>\n",
              "      <th>Shell weight</th>\n",
              "      <th>Rings</th>\n",
              "    </tr>\n",
              "  </thead>\n",
              "  <tbody>\n",
              "    <tr>\n",
              "      <th>0</th>\n",
              "      <td>2.0</td>\n",
              "      <td>0.455</td>\n",
              "      <td>0.365</td>\n",
              "      <td>0.095</td>\n",
              "      <td>0.5140</td>\n",
              "      <td>0.2245</td>\n",
              "      <td>0.1010</td>\n",
              "      <td>0.1500</td>\n",
              "      <td>15</td>\n",
              "    </tr>\n",
              "    <tr>\n",
              "      <th>1</th>\n",
              "      <td>2.0</td>\n",
              "      <td>0.350</td>\n",
              "      <td>0.265</td>\n",
              "      <td>0.090</td>\n",
              "      <td>0.2255</td>\n",
              "      <td>0.0995</td>\n",
              "      <td>0.0485</td>\n",
              "      <td>0.0700</td>\n",
              "      <td>7</td>\n",
              "    </tr>\n",
              "    <tr>\n",
              "      <th>2</th>\n",
              "      <td>0.0</td>\n",
              "      <td>0.530</td>\n",
              "      <td>0.420</td>\n",
              "      <td>0.135</td>\n",
              "      <td>0.6770</td>\n",
              "      <td>0.2565</td>\n",
              "      <td>0.1415</td>\n",
              "      <td>0.2100</td>\n",
              "      <td>9</td>\n",
              "    </tr>\n",
              "    <tr>\n",
              "      <th>3</th>\n",
              "      <td>2.0</td>\n",
              "      <td>0.440</td>\n",
              "      <td>0.365</td>\n",
              "      <td>0.125</td>\n",
              "      <td>0.5160</td>\n",
              "      <td>0.2155</td>\n",
              "      <td>0.1140</td>\n",
              "      <td>0.1550</td>\n",
              "      <td>10</td>\n",
              "    </tr>\n",
              "    <tr>\n",
              "      <th>4</th>\n",
              "      <td>1.0</td>\n",
              "      <td>0.330</td>\n",
              "      <td>0.255</td>\n",
              "      <td>0.080</td>\n",
              "      <td>0.2050</td>\n",
              "      <td>0.0895</td>\n",
              "      <td>0.0395</td>\n",
              "      <td>0.0550</td>\n",
              "      <td>7</td>\n",
              "    </tr>\n",
              "    <tr>\n",
              "      <th>...</th>\n",
              "      <td>...</td>\n",
              "      <td>...</td>\n",
              "      <td>...</td>\n",
              "      <td>...</td>\n",
              "      <td>...</td>\n",
              "      <td>...</td>\n",
              "      <td>...</td>\n",
              "      <td>...</td>\n",
              "      <td>...</td>\n",
              "    </tr>\n",
              "    <tr>\n",
              "      <th>4172</th>\n",
              "      <td>0.0</td>\n",
              "      <td>0.565</td>\n",
              "      <td>0.450</td>\n",
              "      <td>0.165</td>\n",
              "      <td>0.8870</td>\n",
              "      <td>0.3700</td>\n",
              "      <td>0.2390</td>\n",
              "      <td>0.2490</td>\n",
              "      <td>11</td>\n",
              "    </tr>\n",
              "    <tr>\n",
              "      <th>4173</th>\n",
              "      <td>2.0</td>\n",
              "      <td>0.590</td>\n",
              "      <td>0.440</td>\n",
              "      <td>0.135</td>\n",
              "      <td>0.9660</td>\n",
              "      <td>0.4390</td>\n",
              "      <td>0.2145</td>\n",
              "      <td>0.2605</td>\n",
              "      <td>10</td>\n",
              "    </tr>\n",
              "    <tr>\n",
              "      <th>4174</th>\n",
              "      <td>2.0</td>\n",
              "      <td>0.600</td>\n",
              "      <td>0.475</td>\n",
              "      <td>0.205</td>\n",
              "      <td>1.1760</td>\n",
              "      <td>0.5255</td>\n",
              "      <td>0.2875</td>\n",
              "      <td>0.3080</td>\n",
              "      <td>9</td>\n",
              "    </tr>\n",
              "    <tr>\n",
              "      <th>4175</th>\n",
              "      <td>0.0</td>\n",
              "      <td>0.625</td>\n",
              "      <td>0.485</td>\n",
              "      <td>0.150</td>\n",
              "      <td>1.0945</td>\n",
              "      <td>0.5310</td>\n",
              "      <td>0.2610</td>\n",
              "      <td>0.2960</td>\n",
              "      <td>10</td>\n",
              "    </tr>\n",
              "    <tr>\n",
              "      <th>4176</th>\n",
              "      <td>2.0</td>\n",
              "      <td>0.710</td>\n",
              "      <td>0.555</td>\n",
              "      <td>0.195</td>\n",
              "      <td>1.9485</td>\n",
              "      <td>0.9455</td>\n",
              "      <td>0.3765</td>\n",
              "      <td>0.4950</td>\n",
              "      <td>12</td>\n",
              "    </tr>\n",
              "  </tbody>\n",
              "</table>\n",
              "<p>4177 rows × 9 columns</p>\n",
              "</div>\n",
              "      <button class=\"colab-df-convert\" onclick=\"convertToInteractive('df-ccbe94f8-1423-44a1-8015-77f95bcd28ef')\"\n",
              "              title=\"Convert this dataframe to an interactive table.\"\n",
              "              style=\"display:none;\">\n",
              "        \n",
              "  <svg xmlns=\"http://www.w3.org/2000/svg\" height=\"24px\"viewBox=\"0 0 24 24\"\n",
              "       width=\"24px\">\n",
              "    <path d=\"M0 0h24v24H0V0z\" fill=\"none\"/>\n",
              "    <path d=\"M18.56 5.44l.94 2.06.94-2.06 2.06-.94-2.06-.94-.94-2.06-.94 2.06-2.06.94zm-11 1L8.5 8.5l.94-2.06 2.06-.94-2.06-.94L8.5 2.5l-.94 2.06-2.06.94zm10 10l.94 2.06.94-2.06 2.06-.94-2.06-.94-.94-2.06-.94 2.06-2.06.94z\"/><path d=\"M17.41 7.96l-1.37-1.37c-.4-.4-.92-.59-1.43-.59-.52 0-1.04.2-1.43.59L10.3 9.45l-7.72 7.72c-.78.78-.78 2.05 0 2.83L4 21.41c.39.39.9.59 1.41.59.51 0 1.02-.2 1.41-.59l7.78-7.78 2.81-2.81c.8-.78.8-2.07 0-2.86zM5.41 20L4 18.59l7.72-7.72 1.47 1.35L5.41 20z\"/>\n",
              "  </svg>\n",
              "      </button>\n",
              "      \n",
              "  <style>\n",
              "    .colab-df-container {\n",
              "      display:flex;\n",
              "      flex-wrap:wrap;\n",
              "      gap: 12px;\n",
              "    }\n",
              "\n",
              "    .colab-df-convert {\n",
              "      background-color: #E8F0FE;\n",
              "      border: none;\n",
              "      border-radius: 50%;\n",
              "      cursor: pointer;\n",
              "      display: none;\n",
              "      fill: #1967D2;\n",
              "      height: 32px;\n",
              "      padding: 0 0 0 0;\n",
              "      width: 32px;\n",
              "    }\n",
              "\n",
              "    .colab-df-convert:hover {\n",
              "      background-color: #E2EBFA;\n",
              "      box-shadow: 0px 1px 2px rgba(60, 64, 67, 0.3), 0px 1px 3px 1px rgba(60, 64, 67, 0.15);\n",
              "      fill: #174EA6;\n",
              "    }\n",
              "\n",
              "    [theme=dark] .colab-df-convert {\n",
              "      background-color: #3B4455;\n",
              "      fill: #D2E3FC;\n",
              "    }\n",
              "\n",
              "    [theme=dark] .colab-df-convert:hover {\n",
              "      background-color: #434B5C;\n",
              "      box-shadow: 0px 1px 3px 1px rgba(0, 0, 0, 0.15);\n",
              "      filter: drop-shadow(0px 1px 2px rgba(0, 0, 0, 0.3));\n",
              "      fill: #FFFFFF;\n",
              "    }\n",
              "  </style>\n",
              "\n",
              "      <script>\n",
              "        const buttonEl =\n",
              "          document.querySelector('#df-ccbe94f8-1423-44a1-8015-77f95bcd28ef button.colab-df-convert');\n",
              "        buttonEl.style.display =\n",
              "          google.colab.kernel.accessAllowed ? 'block' : 'none';\n",
              "\n",
              "        async function convertToInteractive(key) {\n",
              "          const element = document.querySelector('#df-ccbe94f8-1423-44a1-8015-77f95bcd28ef');\n",
              "          const dataTable =\n",
              "            await google.colab.kernel.invokeFunction('convertToInteractive',\n",
              "                                                     [key], {});\n",
              "          if (!dataTable) return;\n",
              "\n",
              "          const docLinkHtml = 'Like what you see? Visit the ' +\n",
              "            '<a target=\"_blank\" href=https://colab.research.google.com/notebooks/data_table.ipynb>data table notebook</a>'\n",
              "            + ' to learn more about interactive tables.';\n",
              "          element.innerHTML = '';\n",
              "          dataTable['output_type'] = 'display_data';\n",
              "          await google.colab.output.renderOutput(dataTable, element);\n",
              "          const docLink = document.createElement('div');\n",
              "          docLink.innerHTML = docLinkHtml;\n",
              "          element.appendChild(docLink);\n",
              "        }\n",
              "      </script>\n",
              "    </div>\n",
              "  </div>\n",
              "  "
            ]
          },
          "metadata": {},
          "execution_count": 266
        }
      ]
    },
    {
      "cell_type": "markdown",
      "source": [
        "# Checking For Null values in DataSet"
      ],
      "metadata": {
        "id": "t1Z2rPM8t8an"
      }
    },
    {
      "cell_type": "code",
      "source": [
        "df.isnull().sum()"
      ],
      "metadata": {
        "colab": {
          "base_uri": "https://localhost:8080/"
        },
        "id": "wdLE99P1g2x_",
        "outputId": "508b9e46-d1eb-418c-f0ba-4069fc041afc"
      },
      "execution_count": null,
      "outputs": [
        {
          "output_type": "execute_result",
          "data": {
            "text/plain": [
              "Sex               0\n",
              "Length            0\n",
              "Diameter          0\n",
              "Height            0\n",
              "Whole weight      0\n",
              "Shucked weight    0\n",
              "Viscera weight    0\n",
              "Shell weight      0\n",
              "Rings             0\n",
              "dtype: int64"
            ]
          },
          "metadata": {},
          "execution_count": 212
        }
      ]
    },
    {
      "cell_type": "code",
      "source": [
        "import seaborn as sns\n",
        "import matplotlib.pyplot as plt\n",
        "\n",
        "sns.heatmap(df.isnull())\n",
        "plt.title(\"Null Values\")\n",
        "plt.show()"
      ],
      "metadata": {
        "colab": {
          "base_uri": "https://localhost:8080/",
          "height": 351
        },
        "id": "UpDXoTNsvEJM",
        "outputId": "4c201519-8ed3-4bc3-c031-5478c9baa521"
      },
      "execution_count": null,
      "outputs": [
        {
          "output_type": "display_data",
          "data": {
            "text/plain": [
              "<Figure size 432x288 with 2 Axes>"
            ],
            "image/png": "[encoded data removed]"
          },
          "metadata": {
            "needs_background": "light"
          }
        }
      ]
    },
    {
      "cell_type": "markdown",
      "source": [
        "From this we come to know that there are No Null Values Present in the Data Set "
      ],
      "metadata": {
        "id": "1M8bpXRVuzPT"
      }
    },
    {
      "cell_type": "markdown",
      "source": [
        "# EDA"
      ],
      "metadata": {
        "id": "AVlzVCjC0V2N"
      }
    },
    {
      "cell_type": "markdown",
      "source": [
        "Voilin Plot"
      ],
      "metadata": {
        "id": "7zzQIevh89H8"
      }
    },
    {
      "cell_type": "code",
      "source": [
        "plt.figure(figsize = (20,7))\n",
        "sns.swarmplot(x = 'Sex', y = 'Rings', data = df, hue = 'Sex')\n",
        "sns.violinplot(x = 'Sex', y = 'Rings', data = df)"
      ],
      "metadata": {
        "colab": {
          "base_uri": "https://localhost:8080/",
          "height": 583
        },
        "id": "VKAzCAic7a__",
        "outputId": "09f52947-f75f-4a74-8330-938e36c19895"
      },
      "execution_count": null,
      "outputs": [
        {
          "output_type": "stream",
          "name": "stderr",
          "text": [
            "/usr/local/lib/python3.7/dist-packages/seaborn/categorical.py:1296: UserWarning: 52.2% of the points cannot be placed; you may want to decrease the size of the markers or use stripplot.\n",
            "  warnings.warn(msg, UserWarning)\n",
            "/usr/local/lib/python3.7/dist-packages/seaborn/categorical.py:1296: UserWarning: 58.5% of the points cannot be placed; you may want to decrease the size of the markers or use stripplot.\n",
            "  warnings.warn(msg, UserWarning)\n",
            "/usr/local/lib/python3.7/dist-packages/seaborn/categorical.py:1296: UserWarning: 56.2% of the points cannot be placed; you may want to decrease the size of the markers or use stripplot.\n",
            "  warnings.warn(msg, UserWarning)\n"
          ]
        },
        {
          "output_type": "execute_result",
          "data": {
            "text/plain": [
              "<matplotlib.axes._subplots.AxesSubplot at 0x7f3ac3e14050>"
            ]
          },
          "metadata": {},
          "execution_count": 52
        },
        {
          "output_type": "display_data",
          "data": {
            "text/plain": [
              "<Figure size 1440x504 with 1 Axes>"
            ],
            "image/png": "[encoded data removed]"
          },
          "metadata": {
            "needs_background": "light"
          }
        }
      ]
    },
    {
      "cell_type": "markdown",
      "source": [
        "From the Above plot we can conclude that..\n",
        "0. Indicating the Gender Female\n",
        "1. Indicating the Gender Infant\n",
        "2. Indicating the Gender Male\n",
        "\n",
        "We can also notice that the Female has the max value for the ring size .."
      ],
      "metadata": {
        "id": "Fqq6V5UySCbw"
      }
    },
    {
      "cell_type": "markdown",
      "source": [
        "Scatter Plot"
      ],
      "metadata": {
        "id": "LRGNKYq70nX4"
      }
    },
    {
      "cell_type": "code",
      "source": [
        "sns.regplot(x=\"Length\",y=\"Rings\",data=df)"
      ],
      "metadata": {
        "colab": {
          "base_uri": "https://localhost:8080/",
          "height": 298
        },
        "id": "HnWnPV0F0n-o",
        "outputId": "556261d5-bf3c-4a2a-c235-34aa93b77463"
      },
      "execution_count": null,
      "outputs": [
        {
          "output_type": "execute_result",
          "data": {
            "text/plain": [
              "<matplotlib.axes._subplots.AxesSubplot at 0x7ff2ffc21510>"
            ]
          },
          "metadata": {},
          "execution_count": 60
        },
        {
          "output_type": "display_data",
          "data": {
            "text/plain": [
              "<Figure size 432x288 with 1 Axes>"
            ],
            "image/png": "[encoded data removed]"
          },
          "metadata": {
            "needs_background": "light"
          }
        }
      ]
    },
    {
      "cell_type": "code",
      "source": [
        "sns.lmplot(x=\"Diameter\",y=\"Rings\",data=df)"
      ],
      "metadata": {
        "colab": {
          "base_uri": "https://localhost:8080/",
          "height": 386
        },
        "id": "RqLG7olD0o0-",
        "outputId": "b29cc8c6-6a09-45b8-b7fc-e4f38cb02a47"
      },
      "execution_count": null,
      "outputs": [
        {
          "output_type": "execute_result",
          "data": {
            "text/plain": [
              "<seaborn.axisgrid.FacetGrid at 0x7ff2ffc9d710>"
            ]
          },
          "metadata": {},
          "execution_count": 61
        },
        {
          "output_type": "display_data",
          "data": {
            "text/plain": [
              "<Figure size 360x360 with 1 Axes>"
            ],
            "image/png": "[encoded data removed]"
          },
          "metadata": {
            "needs_background": "light"
          }
        }
      ]
    },
    {
      "cell_type": "code",
      "source": [
        "sns.scatterplot(x=\"Height\",y=\"Rings\",data=df)"
      ],
      "metadata": {
        "colab": {
          "base_uri": "https://localhost:8080/",
          "height": 298
        },
        "id": "oBPMGYAf0pbb",
        "outputId": "e6ecbf4a-fa47-48b9-8cbb-6e5444c73747"
      },
      "execution_count": null,
      "outputs": [
        {
          "output_type": "execute_result",
          "data": {
            "text/plain": [
              "<matplotlib.axes._subplots.AxesSubplot at 0x7f3acacea790>"
            ]
          },
          "metadata": {},
          "execution_count": 26
        },
        {
          "output_type": "display_data",
          "data": {
            "text/plain": [
              "<Figure size 432x288 with 1 Axes>"
            ],
            "image/png": "[encoded data removed]"
          },
          "metadata": {
            "needs_background": "light"
          }
        }
      ]
    },
    {
      "cell_type": "code",
      "source": [
        "sns.kdeplot(x=\"Whole weight\",y=\"Rings\",data=df)"
      ],
      "metadata": {
        "colab": {
          "base_uri": "https://localhost:8080/",
          "height": 296
        },
        "id": "9lrKJq8v0p58",
        "outputId": "85d410a6-e610-4564-8c59-35ee232b3251"
      },
      "execution_count": null,
      "outputs": [
        {
          "output_type": "execute_result",
          "data": {
            "text/plain": [
              "<matplotlib.axes._subplots.AxesSubplot at 0x7ff2ffa21dd0>"
            ]
          },
          "metadata": {},
          "execution_count": 64
        },
        {
          "output_type": "display_data",
          "data": {
            "text/plain": [
              "<Figure size 432x288 with 1 Axes>"
            ],
            "image/png": "[encoded data removed]"
          },
          "metadata": {
            "needs_background": "light"
          }
        }
      ]
    },
    {
      "cell_type": "code",
      "source": [
        "sns.scatterplot(x=\"Shucked weight\",y=\"Rings\",data=df)"
      ],
      "metadata": {
        "colab": {
          "base_uri": "https://localhost:8080/",
          "height": 298
        },
        "id": "LmCv574t0qnx",
        "outputId": "09ef1b1b-7c7c-4f81-d23a-685b81d65545"
      },
      "execution_count": null,
      "outputs": [
        {
          "output_type": "execute_result",
          "data": {
            "text/plain": [
              "<matplotlib.axes._subplots.AxesSubplot at 0x7f3acac57810>"
            ]
          },
          "metadata": {},
          "execution_count": 28
        },
        {
          "output_type": "display_data",
          "data": {
            "text/plain": [
              "<Figure size 432x288 with 1 Axes>"
            ],
            "image/png": "[encoded data removed]"
          },
          "metadata": {
            "needs_background": "light"
          }
        }
      ]
    },
    {
      "cell_type": "code",
      "source": [
        "sns.displot(x=\"Viscera weight\",y=\"Rings\",data=df)"
      ],
      "metadata": {
        "colab": {
          "base_uri": "https://localhost:8080/",
          "height": 386
        },
        "id": "cr4s-niS0rI1",
        "outputId": "e94eb0c3-d12d-44c6-ff9c-e944d2d84f7a"
      },
      "execution_count": null,
      "outputs": [
        {
          "output_type": "execute_result",
          "data": {
            "text/plain": [
              "<seaborn.axisgrid.FacetGrid at 0x7ff2ffc21ed0>"
            ]
          },
          "metadata": {},
          "execution_count": 63
        },
        {
          "output_type": "display_data",
          "data": {
            "text/plain": [
              "<Figure size 360x360 with 1 Axes>"
            ],
            "image/png": "[encoded data removed]"
          },
          "metadata": {
            "needs_background": "light"
          }
        }
      ]
    },
    {
      "cell_type": "code",
      "source": [
        "sns.histplot(x=\"Shell weight\",y=\"Rings\",data=df)"
      ],
      "metadata": {
        "colab": {
          "base_uri": "https://localhost:8080/",
          "height": 298
        },
        "id": "b4i2sM8B0rm0",
        "outputId": "b8b50fc5-edee-4f8c-992a-720320055ca4"
      },
      "execution_count": null,
      "outputs": [
        {
          "output_type": "execute_result",
          "data": {
            "text/plain": [
              "<matplotlib.axes._subplots.AxesSubplot at 0x7ff2ffc0bf50>"
            ]
          },
          "metadata": {},
          "execution_count": 62
        },
        {
          "output_type": "display_data",
          "data": {
            "text/plain": [
              "<Figure size 432x288 with 1 Axes>"
            ],
            "image/png": "[encoded data removed]"
          },
          "metadata": {
            "needs_background": "light"
          }
        }
      ]
    },
    {
      "cell_type": "code",
      "source": [
        "df.hist(figsize=(20,10), grid=False, layout=(3, 3), bins = 30)"
      ],
      "metadata": {
        "colab": {
          "base_uri": "https://localhost:8080/",
          "height": 781
        },
        "id": "tJT6mS366Y1E",
        "outputId": "e66e0b2a-2f79-4d4e-d29d-abcc80e959ba"
      },
      "execution_count": null,
      "outputs": [
        {
          "output_type": "execute_result",
          "data": {
            "text/plain": [
              "array([[<matplotlib.axes._subplots.AxesSubplot object at 0x7f3ac45bc210>,\n",
              "        <matplotlib.axes._subplots.AxesSubplot object at 0x7f3ac450cb50>,\n",
              "        <matplotlib.axes._subplots.AxesSubplot object at 0x7f3ac453ef50>],\n",
              "       [<matplotlib.axes._subplots.AxesSubplot object at 0x7f3ac4481490>,\n",
              "        <matplotlib.axes._subplots.AxesSubplot object at 0x7f3ac44b5990>,\n",
              "        <matplotlib.axes._subplots.AxesSubplot object at 0x7f3ac446ce90>],\n",
              "       [<matplotlib.axes._subplots.AxesSubplot object at 0x7f3ac442e450>,\n",
              "        <matplotlib.axes._subplots.AxesSubplot object at 0x7f3ac43e3890>,\n",
              "        <matplotlib.axes._subplots.AxesSubplot object at 0x7f3ac43e38d0>]],\n",
              "      dtype=object)"
            ]
          },
          "metadata": {},
          "execution_count": 36
        },
        {
          "output_type": "display_data",
          "data": {
            "text/plain": [
              "<Figure size 1440x720 with 9 Axes>"
            ],
            "image/png": "[encoded data removed]"
          },
          "metadata": {
            "needs_background": "light"
          }
        }
      ]
    },
    {
      "cell_type": "markdown",
      "source": [
        "# Coorelation"
      ],
      "metadata": {
        "id": "ZV17xKpeVgNh"
      }
    },
    {
      "cell_type": "code",
      "source": [
        "df.corr()"
      ],
      "metadata": {
        "colab": {
          "base_uri": "https://localhost:8080/",
          "height": 331
        },
        "id": "zoMCDDIp227U",
        "outputId": "861c12f1-696a-46dc-fec9-6134d7db8c40"
      },
      "execution_count": null,
      "outputs": [
        {
          "output_type": "execute_result",
          "data": {
            "text/plain": [
              "                     Sex    Length  Diameter    Height  Whole weight  \\\n",
              "Sex             1.000000 -0.036066 -0.038874 -0.042077     -0.021391   \n",
              "Length         -0.036066  1.000000  0.986812  0.827554      0.925261   \n",
              "Diameter       -0.038874  0.986812  1.000000  0.833684      0.925452   \n",
              "Height         -0.042077  0.827554  0.833684  1.000000      0.819221   \n",
              "Whole weight   -0.021391  0.925261  0.925452  0.819221      1.000000   \n",
              "Shucked weight -0.001373  0.897914  0.893162  0.774972      0.969405   \n",
              "Viscera weight -0.032067  0.903018  0.899724  0.798319      0.966375   \n",
              "Shell weight   -0.034854  0.897706  0.905330  0.817338      0.955355   \n",
              "Rings          -0.034627  0.556720  0.574660  0.557467      0.540390   \n",
              "\n",
              "                Shucked weight  Viscera weight  Shell weight     Rings  \n",
              "Sex                  -0.001373       -0.032067     -0.034854 -0.034627  \n",
              "Length                0.897914        0.903018      0.897706  0.556720  \n",
              "Diameter              0.893162        0.899724      0.905330  0.574660  \n",
              "Height                0.774972        0.798319      0.817338  0.557467  \n",
              "Whole weight          0.969405        0.966375      0.955355  0.540390  \n",
              "Shucked weight        1.000000        0.931961      0.882617  0.420884  \n",
              "Viscera weight        0.931961        1.000000      0.907656  0.503819  \n",
              "Shell weight          0.882617        0.907656      1.000000  0.627574  \n",
              "Rings                 0.420884        0.503819      0.627574  1.000000  "
            ],
            "text/html": [
              "\n",
              "  <div id=\"df-cff06476-029e-4500-831a-f22c6cefae49\">\n",
              "    <div class=\"colab-df-container\">\n",
              "      <div>\n",
              "<style scoped>\n",
              "    .dataframe tbody tr th:only-of-type {\n",
              "        vertical-align: middle;\n",
              "    }\n",
              "\n",
              "    .dataframe tbody tr th {\n",
              "        vertical-align: top;\n",
              "    }\n",
              "\n",
              "    .dataframe thead th {\n",
              "        text-align: right;\n",
              "    }\n",
              "</style>\n",
              "<table border=\"1\" class=\"dataframe\">\n",
              "  <thead>\n",
              "    <tr style=\"text-align: right;\">\n",
              "      <th></th>\n",
              "      <th>Sex</th>\n",
              "      <th>Length</th>\n",
              "      <th>Diameter</th>\n",
              "      <th>Height</th>\n",
              "      <th>Whole weight</th>\n",
              "      <th>Shucked weight</th>\n",
              "      <th>Viscera weight</th>\n",
              "      <th>Shell weight</th>\n",
              "      <th>Rings</th>\n",
              "    </tr>\n",
              "  </thead>\n",
              "  <tbody>\n",
              "    <tr>\n",
              "      <th>Sex</th>\n",
              "      <td>1.000000</td>\n",
              "      <td>-0.036066</td>\n",
              "      <td>-0.038874</td>\n",
              "      <td>-0.042077</td>\n",
              "      <td>-0.021391</td>\n",
              "      <td>-0.001373</td>\n",
              "      <td>-0.032067</td>\n",
              "      <td>-0.034854</td>\n",
              "      <td>-0.034627</td>\n",
              "    </tr>\n",
              "    <tr>\n",
              "      <th>Length</th>\n",
              "      <td>-0.036066</td>\n",
              "      <td>1.000000</td>\n",
              "      <td>0.986812</td>\n",
              "      <td>0.827554</td>\n",
              "      <td>0.925261</td>\n",
              "      <td>0.897914</td>\n",
              "      <td>0.903018</td>\n",
              "      <td>0.897706</td>\n",
              "      <td>0.556720</td>\n",
              "    </tr>\n",
              "    <tr>\n",
              "      <th>Diameter</th>\n",
              "      <td>-0.038874</td>\n",
              "      <td>0.986812</td>\n",
              "      <td>1.000000</td>\n",
              "      <td>0.833684</td>\n",
              "      <td>0.925452</td>\n",
              "      <td>0.893162</td>\n",
              "      <td>0.899724</td>\n",
              "      <td>0.905330</td>\n",
              "      <td>0.574660</td>\n",
              "    </tr>\n",
              "    <tr>\n",
              "      <th>Height</th>\n",
              "      <td>-0.042077</td>\n",
              "      <td>0.827554</td>\n",
              "      <td>0.833684</td>\n",
              "      <td>1.000000</td>\n",
              "      <td>0.819221</td>\n",
              "      <td>0.774972</td>\n",
              "      <td>0.798319</td>\n",
              "      <td>0.817338</td>\n",
              "      <td>0.557467</td>\n",
              "    </tr>\n",
              "    <tr>\n",
              "      <th>Whole weight</th>\n",
              "      <td>-0.021391</td>\n",
              "      <td>0.925261</td>\n",
              "      <td>0.925452</td>\n",
              "      <td>0.819221</td>\n",
              "      <td>1.000000</td>\n",
              "      <td>0.969405</td>\n",
              "      <td>0.966375</td>\n",
              "      <td>0.955355</td>\n",
              "      <td>0.540390</td>\n",
              "    </tr>\n",
              "    <tr>\n",
              "      <th>Shucked weight</th>\n",
              "      <td>-0.001373</td>\n",
              "      <td>0.897914</td>\n",
              "      <td>0.893162</td>\n",
              "      <td>0.774972</td>\n",
              "      <td>0.969405</td>\n",
              "      <td>1.000000</td>\n",
              "      <td>0.931961</td>\n",
              "      <td>0.882617</td>\n",
              "      <td>0.420884</td>\n",
              "    </tr>\n",
              "    <tr>\n",
              "      <th>Viscera weight</th>\n",
              "      <td>-0.032067</td>\n",
              "      <td>0.903018</td>\n",
              "      <td>0.899724</td>\n",
              "      <td>0.798319</td>\n",
              "      <td>0.966375</td>\n",
              "      <td>0.931961</td>\n",
              "      <td>1.000000</td>\n",
              "      <td>0.907656</td>\n",
              "      <td>0.503819</td>\n",
              "    </tr>\n",
              "    <tr>\n",
              "      <th>Shell weight</th>\n",
              "      <td>-0.034854</td>\n",
              "      <td>0.897706</td>\n",
              "      <td>0.905330</td>\n",
              "      <td>0.817338</td>\n",
              "      <td>0.955355</td>\n",
              "      <td>0.882617</td>\n",
              "      <td>0.907656</td>\n",
              "      <td>1.000000</td>\n",
              "      <td>0.627574</td>\n",
              "    </tr>\n",
              "    <tr>\n",
              "      <th>Rings</th>\n",
              "      <td>-0.034627</td>\n",
              "      <td>0.556720</td>\n",
              "      <td>0.574660</td>\n",
              "      <td>0.557467</td>\n",
              "      <td>0.540390</td>\n",
              "      <td>0.420884</td>\n",
              "      <td>0.503819</td>\n",
              "      <td>0.627574</td>\n",
              "      <td>1.000000</td>\n",
              "    </tr>\n",
              "  </tbody>\n",
              "</table>\n",
              "</div>\n",
              "      <button class=\"colab-df-convert\" onclick=\"convertToInteractive('df-cff06476-029e-4500-831a-f22c6cefae49')\"\n",
              "              title=\"Convert this dataframe to an interactive table.\"\n",
              "              style=\"display:none;\">\n",
              "        \n",
              "  <svg xmlns=\"http://www.w3.org/2000/svg\" height=\"24px\"viewBox=\"0 0 24 24\"\n",
              "       width=\"24px\">\n",
              "    <path d=\"M0 0h24v24H0V0z\" fill=\"none\"/>\n",
              "    <path d=\"M18.56 5.44l.94 2.06.94-2.06 2.06-.94-2.06-.94-.94-2.06-.94 2.06-2.06.94zm-11 1L8.5 8.5l.94-2.06 2.06-.94-2.06-.94L8.5 2.5l-.94 2.06-2.06.94zm10 10l.94 2.06.94-2.06 2.06-.94-2.06-.94-.94-2.06-.94 2.06-2.06.94z\"/><path d=\"M17.41 7.96l-1.37-1.37c-.4-.4-.92-.59-1.43-.59-.52 0-1.04.2-1.43.59L10.3 9.45l-7.72 7.72c-.78.78-.78 2.05 0 2.83L4 21.41c.39.39.9.59 1.41.59.51 0 1.02-.2 1.41-.59l7.78-7.78 2.81-2.81c.8-.78.8-2.07 0-2.86zM5.41 20L4 18.59l7.72-7.72 1.47 1.35L5.41 20z\"/>\n",
              "  </svg>\n",
              "      </button>\n",
              "      \n",
              "  <style>\n",
              "    .colab-df-container {\n",
              "      display:flex;\n",
              "      flex-wrap:wrap;\n",
              "      gap: 12px;\n",
              "    }\n",
              "\n",
              "    .colab-df-convert {\n",
              "      background-color: #E8F0FE;\n",
              "      border: none;\n",
              "      border-radius: 50%;\n",
              "      cursor: pointer;\n",
              "      display: none;\n",
              "      fill: #1967D2;\n",
              "      height: 32px;\n",
              "      padding: 0 0 0 0;\n",
              "      width: 32px;\n",
              "    }\n",
              "\n",
              "    .colab-df-convert:hover {\n",
              "      background-color: #E2EBFA;\n",
              "      box-shadow: 0px 1px 2px rgba(60, 64, 67, 0.3), 0px 1px 3px 1px rgba(60, 64, 67, 0.15);\n",
              "      fill: #174EA6;\n",
              "    }\n",
              "\n",
              "    [theme=dark] .colab-df-convert {\n",
              "      background-color: #3B4455;\n",
              "      fill: #D2E3FC;\n",
              "    }\n",
              "\n",
              "    [theme=dark] .colab-df-convert:hover {\n",
              "      background-color: #434B5C;\n",
              "      box-shadow: 0px 1px 3px 1px rgba(0, 0, 0, 0.15);\n",
              "      filter: drop-shadow(0px 1px 2px rgba(0, 0, 0, 0.3));\n",
              "      fill: #FFFFFF;\n",
              "    }\n",
              "  </style>\n",
              "\n",
              "      <script>\n",
              "        const buttonEl =\n",
              "          document.querySelector('#df-cff06476-029e-4500-831a-f22c6cefae49 button.colab-df-convert');\n",
              "        buttonEl.style.display =\n",
              "          google.colab.kernel.accessAllowed ? 'block' : 'none';\n",
              "\n",
              "        async function convertToInteractive(key) {\n",
              "          const element = document.querySelector('#df-cff06476-029e-4500-831a-f22c6cefae49');\n",
              "          const dataTable =\n",
              "            await google.colab.kernel.invokeFunction('convertToInteractive',\n",
              "                                                     [key], {});\n",
              "          if (!dataTable) return;\n",
              "\n",
              "          const docLinkHtml = 'Like what you see? Visit the ' +\n",
              "            '<a target=\"_blank\" href=https://colab.research.google.com/notebooks/data_table.ipynb>data table notebook</a>'\n",
              "            + ' to learn more about interactive tables.';\n",
              "          element.innerHTML = '';\n",
              "          dataTable['output_type'] = 'display_data';\n",
              "          await google.colab.output.renderOutput(dataTable, element);\n",
              "          const docLink = document.createElement('div');\n",
              "          docLink.innerHTML = docLinkHtml;\n",
              "          element.appendChild(docLink);\n",
              "        }\n",
              "      </script>\n",
              "    </div>\n",
              "  </div>\n",
              "  "
            ]
          },
          "metadata": {},
          "execution_count": 13
        }
      ]
    },
    {
      "cell_type": "code",
      "source": [
        "df.corr()['Rings'].sort_values()"
      ],
      "metadata": {
        "colab": {
          "base_uri": "https://localhost:8080/"
        },
        "id": "w8QdbOSyVnJf",
        "outputId": "b62141ef-690e-4a0b-d526-8f88a555e1bd"
      },
      "execution_count": null,
      "outputs": [
        {
          "output_type": "execute_result",
          "data": {
            "text/plain": [
              "Sex              -0.034627\n",
              "Shucked weight    0.420884\n",
              "Viscera weight    0.503819\n",
              "Whole weight      0.540390\n",
              "Length            0.556720\n",
              "Height            0.557467\n",
              "Diameter          0.574660\n",
              "Shell weight      0.627574\n",
              "Rings             1.000000\n",
              "Name: Rings, dtype: float64"
            ]
          },
          "metadata": {},
          "execution_count": 14
        }
      ]
    },
    {
      "cell_type": "code",
      "source": [
        "import matplotlib.pyplot as plt\n",
        "plt.figure(figsize=(15,7))\n",
        "sns.heatmap(df.corr(), annot=True, linewidths=0.5,linecolor=\"black\", fmt='.2f')"
      ],
      "metadata": {
        "colab": {
          "base_uri": "https://localhost:8080/",
          "height": 519
        },
        "id": "KacYYYoIXMHN",
        "outputId": "8a99e76d-b5f2-47b1-b561-adb015b6f9d9"
      },
      "execution_count": null,
      "outputs": [
        {
          "output_type": "execute_result",
          "data": {
            "text/plain": [
              "<matplotlib.axes._subplots.AxesSubplot at 0x7ff306dd7a90>"
            ]
          },
          "metadata": {},
          "execution_count": 16
        },
        {
          "output_type": "display_data",
          "data": {
            "text/plain": [
              "<Figure size 1080x504 with 2 Axes>"
            ],
            "image/png": "[encoded data removed]"
          },
          "metadata": {
            "needs_background": "light"
          }
        }
      ]
    },
    {
      "cell_type": "markdown",
      "source": [
        "# Outcome of Coorelation"
      ],
      "metadata": {
        "id": "r4FwI-sJXkIo"
      }
    },
    {
      "cell_type": "markdown",
      "source": [
        "All the Columns are Positively Coorelated with the Salary\n",
        "\n",
        "1. Length has a Correlation of 56 percent with Rings which can be considered as a Strong Bond..\n",
        "\n",
        "2. Diamater has a Correlation of 57 percent with Rings which can be considered as a Good Bond..\n",
        "\n",
        "3. Hieght has a Correlation of 56 percent with Rings which can be considered as a strong bond..\n",
        "\n",
        "4. Whole Wieght has a Correlation of 54 percent with Rings which can be considered as a strong Bond..\n",
        "\n",
        "5. Shucked Wieght has a Correlation of 42 percent with Rings which can be considered as a Strong Bond..\n",
        "\n",
        "6. Viscera weight has a Correlation of 50 percent with Rings which can be considered as a Strong Bond..\n",
        "\n",
        "7. Shell Wieght has a Correlation of 63 percent with Rings which can be considered as a Strong Bond..\n",
        "\n",
        "\n",
        "* Max Correlation - Shell Wieght\n",
        "* Min Coorelation - Sex"
      ],
      "metadata": {
        "id": "gFnVbG0yX-rk"
      }
    },
    {
      "cell_type": "markdown",
      "source": [
        "# Checking the data Distribution among all the columns"
      ],
      "metadata": {
        "id": "6-uBaZO-eMXO"
      }
    },
    {
      "cell_type": "code",
      "source": [
        "df.plot(kind='density', subplots=True, layout=(3,3), sharex=False, legend=False, fontsize=1, figsize=(18,12))"
      ],
      "metadata": {
        "colab": {
          "base_uri": "https://localhost:8080/",
          "height": 865
        },
        "id": "qfgXHE6VeO5X",
        "outputId": "d51a1da3-4d12-4cbb-d5c9-8370b6bd71ba"
      },
      "execution_count": null,
      "outputs": [
        {
          "output_type": "execute_result",
          "data": {
            "text/plain": [
              "array([[<matplotlib.axes._subplots.AxesSubplot object at 0x7ff303362dd0>,\n",
              "        <matplotlib.axes._subplots.AxesSubplot object at 0x7ff30332f550>,\n",
              "        <matplotlib.axes._subplots.AxesSubplot object at 0x7ff3032f1610>],\n",
              "       [<matplotlib.axes._subplots.AxesSubplot object at 0x7ff3032a9190>,\n",
              "        <matplotlib.axes._subplots.AxesSubplot object at 0x7ff303269250>,\n",
              "        <matplotlib.axes._subplots.AxesSubplot object at 0x7ff303220850>],\n",
              "       [<matplotlib.axes._subplots.AxesSubplot object at 0x7ff30325b3d0>,\n",
              "        <matplotlib.axes._subplots.AxesSubplot object at 0x7ff30321b490>,\n",
              "        <matplotlib.axes._subplots.AxesSubplot object at 0x7ff3031d1050>]],\n",
              "      dtype=object)"
            ]
          },
          "metadata": {},
          "execution_count": 22
        },
        {
          "output_type": "display_data",
          "data": {
            "text/plain": [
              "<Figure size 1296x864 with 9 Axes>"
            ],
            "image/png": "[encoded data removed]"
          },
          "metadata": {
            "needs_background": "light"
          }
        }
      ]
    },
    {
      "cell_type": "markdown",
      "source": [
        "# Descriptive Statistics"
      ],
      "metadata": {
        "id": "J5p8gHzAZeq7"
      }
    },
    {
      "cell_type": "markdown",
      "source": [
        "Describing Datasets"
      ],
      "metadata": {
        "id": "4d7UMjCOZn7H"
      }
    },
    {
      "cell_type": "code",
      "source": [
        "df.describe()"
      ],
      "metadata": {
        "colab": {
          "base_uri": "https://localhost:8080/",
          "height": 300
        },
        "id": "cZppMtX5ZUBU",
        "outputId": "0893b0af-53bc-45a0-b740-90afc4ae686d"
      },
      "execution_count": null,
      "outputs": [
        {
          "output_type": "execute_result",
          "data": {
            "text/plain": [
              "               Sex       Length     Diameter       Height  Whole weight  \\\n",
              "count  4177.000000  4177.000000  4177.000000  4177.000000   4177.000000   \n",
              "mean      1.052909     0.523992     0.407881     0.139516      0.828742   \n",
              "std       0.822240     0.120093     0.099240     0.041827      0.490389   \n",
              "min       0.000000     0.075000     0.055000     0.000000      0.002000   \n",
              "25%       0.000000     0.450000     0.350000     0.115000      0.441500   \n",
              "50%       1.000000     0.545000     0.425000     0.140000      0.799500   \n",
              "75%       2.000000     0.615000     0.480000     0.165000      1.153000   \n",
              "max       2.000000     0.815000     0.650000     1.130000      2.825500   \n",
              "\n",
              "       Shucked weight  Viscera weight  Shell weight        Rings  \n",
              "count     4177.000000     4177.000000   4177.000000  4177.000000  \n",
              "mean         0.359367        0.180594      0.238831     9.933684  \n",
              "std          0.221963        0.109614      0.139203     3.224169  \n",
              "min          0.001000        0.000500      0.001500     1.000000  \n",
              "25%          0.186000        0.093500      0.130000     8.000000  \n",
              "50%          0.336000        0.171000      0.234000     9.000000  \n",
              "75%          0.502000        0.253000      0.329000    11.000000  \n",
              "max          1.488000        0.760000      1.005000    29.000000  "
            ],
            "text/html": [
              "\n",
              "  <div id=\"df-589d7db8-7be8-46c6-93b2-77e4fc0b46a3\">\n",
              "    <div class=\"colab-df-container\">\n",
              "      <div>\n",
              "<style scoped>\n",
              "    .dataframe tbody tr th:only-of-type {\n",
              "        vertical-align: middle;\n",
              "    }\n",
              "\n",
              "    .dataframe tbody tr th {\n",
              "        vertical-align: top;\n",
              "    }\n",
              "\n",
              "    .dataframe thead th {\n",
              "        text-align: right;\n",
              "    }\n",
              "</style>\n",
              "<table border=\"1\" class=\"dataframe\">\n",
              "  <thead>\n",
              "    <tr style=\"text-align: right;\">\n",
              "      <th></th>\n",
              "      <th>Sex</th>\n",
              "      <th>Length</th>\n",
              "      <th>Diameter</th>\n",
              "      <th>Height</th>\n",
              "      <th>Whole weight</th>\n",
              "      <th>Shucked weight</th>\n",
              "      <th>Viscera weight</th>\n",
              "      <th>Shell weight</th>\n",
              "      <th>Rings</th>\n",
              "    </tr>\n",
              "  </thead>\n",
              "  <tbody>\n",
              "    <tr>\n",
              "      <th>count</th>\n",
              "      <td>4177.000000</td>\n",
              "      <td>4177.000000</td>\n",
              "      <td>4177.000000</td>\n",
              "      <td>4177.000000</td>\n",
              "      <td>4177.000000</td>\n",
              "      <td>4177.000000</td>\n",
              "      <td>4177.000000</td>\n",
              "      <td>4177.000000</td>\n",
              "      <td>4177.000000</td>\n",
              "    </tr>\n",
              "    <tr>\n",
              "      <th>mean</th>\n",
              "      <td>1.052909</td>\n",
              "      <td>0.523992</td>\n",
              "      <td>0.407881</td>\n",
              "      <td>0.139516</td>\n",
              "      <td>0.828742</td>\n",
              "      <td>0.359367</td>\n",
              "      <td>0.180594</td>\n",
              "      <td>0.238831</td>\n",
              "      <td>9.933684</td>\n",
              "    </tr>\n",
              "    <tr>\n",
              "      <th>std</th>\n",
              "      <td>0.822240</td>\n",
              "      <td>0.120093</td>\n",
              "      <td>0.099240</td>\n",
              "      <td>0.041827</td>\n",
              "      <td>0.490389</td>\n",
              "      <td>0.221963</td>\n",
              "      <td>0.109614</td>\n",
              "      <td>0.139203</td>\n",
              "      <td>3.224169</td>\n",
              "    </tr>\n",
              "    <tr>\n",
              "      <th>min</th>\n",
              "      <td>0.000000</td>\n",
              "      <td>0.075000</td>\n",
              "      <td>0.055000</td>\n",
              "      <td>0.000000</td>\n",
              "      <td>0.002000</td>\n",
              "      <td>0.001000</td>\n",
              "      <td>0.000500</td>\n",
              "      <td>0.001500</td>\n",
              "      <td>1.000000</td>\n",
              "    </tr>\n",
              "    <tr>\n",
              "      <th>25%</th>\n",
              "      <td>0.000000</td>\n",
              "      <td>0.450000</td>\n",
              "      <td>0.350000</td>\n",
              "      <td>0.115000</td>\n",
              "      <td>0.441500</td>\n",
              "      <td>0.186000</td>\n",
              "      <td>0.093500</td>\n",
              "      <td>0.130000</td>\n",
              "      <td>8.000000</td>\n",
              "    </tr>\n",
              "    <tr>\n",
              "      <th>50%</th>\n",
              "      <td>1.000000</td>\n",
              "      <td>0.545000</td>\n",
              "      <td>0.425000</td>\n",
              "      <td>0.140000</td>\n",
              "      <td>0.799500</td>\n",
              "      <td>0.336000</td>\n",
              "      <td>0.171000</td>\n",
              "      <td>0.234000</td>\n",
              "      <td>9.000000</td>\n",
              "    </tr>\n",
              "    <tr>\n",
              "      <th>75%</th>\n",
              "      <td>2.000000</td>\n",
              "      <td>0.615000</td>\n",
              "      <td>0.480000</td>\n",
              "      <td>0.165000</td>\n",
              "      <td>1.153000</td>\n",
              "      <td>0.502000</td>\n",
              "      <td>0.253000</td>\n",
              "      <td>0.329000</td>\n",
              "      <td>11.000000</td>\n",
              "    </tr>\n",
              "    <tr>\n",
              "      <th>max</th>\n",
              "      <td>2.000000</td>\n",
              "      <td>0.815000</td>\n",
              "      <td>0.650000</td>\n",
              "      <td>1.130000</td>\n",
              "      <td>2.825500</td>\n",
              "      <td>1.488000</td>\n",
              "      <td>0.760000</td>\n",
              "      <td>1.005000</td>\n",
              "      <td>29.000000</td>\n",
              "    </tr>\n",
              "  </tbody>\n",
              "</table>\n",
              "</div>\n",
              "      <button class=\"colab-df-convert\" onclick=\"convertToInteractive('df-589d7db8-7be8-46c6-93b2-77e4fc0b46a3')\"\n",
              "              title=\"Convert this dataframe to an interactive table.\"\n",
              "              style=\"display:none;\">\n",
              "        \n",
              "  <svg xmlns=\"http://www.w3.org/2000/svg\" height=\"24px\"viewBox=\"0 0 24 24\"\n",
              "       width=\"24px\">\n",
              "    <path d=\"M0 0h24v24H0V0z\" fill=\"none\"/>\n",
              "    <path d=\"M18.56 5.44l.94 2.06.94-2.06 2.06-.94-2.06-.94-.94-2.06-.94 2.06-2.06.94zm-11 1L8.5 8.5l.94-2.06 2.06-.94-2.06-.94L8.5 2.5l-.94 2.06-2.06.94zm10 10l.94 2.06.94-2.06 2.06-.94-2.06-.94-.94-2.06-.94 2.06-2.06.94z\"/><path d=\"M17.41 7.96l-1.37-1.37c-.4-.4-.92-.59-1.43-.59-.52 0-1.04.2-1.43.59L10.3 9.45l-7.72 7.72c-.78.78-.78 2.05 0 2.83L4 21.41c.39.39.9.59 1.41.59.51 0 1.02-.2 1.41-.59l7.78-7.78 2.81-2.81c.8-.78.8-2.07 0-2.86zM5.41 20L4 18.59l7.72-7.72 1.47 1.35L5.41 20z\"/>\n",
              "  </svg>\n",
              "      </button>\n",
              "      \n",
              "  <style>\n",
              "    .colab-df-container {\n",
              "      display:flex;\n",
              "      flex-wrap:wrap;\n",
              "      gap: 12px;\n",
              "    }\n",
              "\n",
              "    .colab-df-convert {\n",
              "      background-color: #E8F0FE;\n",
              "      border: none;\n",
              "      border-radius: 50%;\n",
              "      cursor: pointer;\n",
              "      display: none;\n",
              "      fill: #1967D2;\n",
              "      height: 32px;\n",
              "      padding: 0 0 0 0;\n",
              "      width: 32px;\n",
              "    }\n",
              "\n",
              "    .colab-df-convert:hover {\n",
              "      background-color: #E2EBFA;\n",
              "      box-shadow: 0px 1px 2px rgba(60, 64, 67, 0.3), 0px 1px 3px 1px rgba(60, 64, 67, 0.15);\n",
              "      fill: #174EA6;\n",
              "    }\n",
              "\n",
              "    [theme=dark] .colab-df-convert {\n",
              "      background-color: #3B4455;\n",
              "      fill: #D2E3FC;\n",
              "    }\n",
              "\n",
              "    [theme=dark] .colab-df-convert:hover {\n",
              "      background-color: #434B5C;\n",
              "      box-shadow: 0px 1px 3px 1px rgba(0, 0, 0, 0.15);\n",
              "      filter: drop-shadow(0px 1px 2px rgba(0, 0, 0, 0.3));\n",
              "      fill: #FFFFFF;\n",
              "    }\n",
              "  </style>\n",
              "\n",
              "      <script>\n",
              "        const buttonEl =\n",
              "          document.querySelector('#df-589d7db8-7be8-46c6-93b2-77e4fc0b46a3 button.colab-df-convert');\n",
              "        buttonEl.style.display =\n",
              "          google.colab.kernel.accessAllowed ? 'block' : 'none';\n",
              "\n",
              "        async function convertToInteractive(key) {\n",
              "          const element = document.querySelector('#df-589d7db8-7be8-46c6-93b2-77e4fc0b46a3');\n",
              "          const dataTable =\n",
              "            await google.colab.kernel.invokeFunction('convertToInteractive',\n",
              "                                                     [key], {});\n",
              "          if (!dataTable) return;\n",
              "\n",
              "          const docLinkHtml = 'Like what you see? Visit the ' +\n",
              "            '<a target=\"_blank\" href=https://colab.research.google.com/notebooks/data_table.ipynb>data table notebook</a>'\n",
              "            + ' to learn more about interactive tables.';\n",
              "          element.innerHTML = '';\n",
              "          dataTable['output_type'] = 'display_data';\n",
              "          await google.colab.output.renderOutput(dataTable, element);\n",
              "          const docLink = document.createElement('div');\n",
              "          docLink.innerHTML = docLinkHtml;\n",
              "          element.appendChild(docLink);\n",
              "        }\n",
              "      </script>\n",
              "    </div>\n",
              "  </div>\n",
              "  "
            ]
          },
          "metadata": {},
          "execution_count": 17
        }
      ]
    },
    {
      "cell_type": "code",
      "source": [
        "plt.figure(figsize=(15,7))\n",
        "sns.heatmap(round(df.describe()[1:].transpose(),2), annot=True, linewidths=0.5,linecolor=\"black\", fmt='f')"
      ],
      "metadata": {
        "colab": {
          "base_uri": "https://localhost:8080/",
          "height": 446
        },
        "id": "UmAk6vLfZtza",
        "outputId": "93640c0e-97e6-422b-c901-c93daa485722"
      },
      "execution_count": null,
      "outputs": [
        {
          "output_type": "execute_result",
          "data": {
            "text/plain": [
              "<matplotlib.axes._subplots.AxesSubplot at 0x7ff306dd7690>"
            ]
          },
          "metadata": {},
          "execution_count": 19
        },
        {
          "output_type": "display_data",
          "data": {
            "text/plain": [
              "<Figure size 1080x504 with 2 Axes>"
            ],
            "image/png": "[encoded data removed]"
          },
          "metadata": {
            "needs_background": "light"
          }
        }
      ]
    },
    {
      "cell_type": "code",
      "source": [
        "df.info()"
      ],
      "metadata": {
        "colab": {
          "base_uri": "https://localhost:8080/"
        },
        "id": "ZG0ZDh6PZuay",
        "outputId": "c250ce9e-1ee7-43da-c4df-fc9a2dac18f4"
      },
      "execution_count": null,
      "outputs": [
        {
          "output_type": "stream",
          "name": "stdout",
          "text": [
            "<class 'pandas.core.frame.DataFrame'>\n",
            "RangeIndex: 4177 entries, 0 to 4176\n",
            "Data columns (total 9 columns):\n",
            " #   Column          Non-Null Count  Dtype  \n",
            "---  ------          --------------  -----  \n",
            " 0   Sex             4177 non-null   float64\n",
            " 1   Length          4177 non-null   float64\n",
            " 2   Diameter        4177 non-null   float64\n",
            " 3   Height          4177 non-null   float64\n",
            " 4   Whole weight    4177 non-null   float64\n",
            " 5   Shucked weight  4177 non-null   float64\n",
            " 6   Viscera weight  4177 non-null   float64\n",
            " 7   Shell weight    4177 non-null   float64\n",
            " 8   Rings           4177 non-null   int64  \n",
            "dtypes: float64(8), int64(1)\n",
            "memory usage: 293.8 KB\n"
          ]
        }
      ]
    },
    {
      "cell_type": "markdown",
      "source": [
        "# Outcome of Descriptive Statistics"
      ],
      "metadata": {
        "id": "K4gmTcaQenk0"
      }
    },
    {
      "cell_type": "markdown",
      "source": [
        "From the above plotting we are determining mean Standard Deviation , minimum and maximum value of each column. It Helps further in data cleaning ..\n",
        "\n",
        "* Total Numbers of rows in the Datasets are : -\n",
        "   * 4176 Rows\n",
        "   * 9 Columns\n",
        "\n",
        "* Sex : -\n",
        "   * Mean_Value - 1.052909\n",
        "   * Max_Value - 2.00000\n",
        "   * Min_Value - 0.00000\n",
        "   * Std - 0.822240\n",
        "\n",
        "* Length : -\n",
        "   * Mean_Value - 0.523992 \n",
        "   * Max_Value - 0.815000\n",
        "   * Min_Value - 0.075000\n",
        "   * Std - 0.120093\n",
        "\n",
        "* Diameter : -\n",
        "\n",
        "   * Mean_Value - 0.407881\n",
        "   * Max_Value - 0.650000\n",
        "   * Min_Value - 0.055000\n",
        "   * Std - 0.099240\n",
        "\n",
        "* Hieght : -\n",
        "   * Mean_Value - 0.139516\n",
        "   * Max_Value - 1.130000\n",
        "   * Min_Value - 0.00000\n",
        "   * Std   - 0.042187\n",
        "\n",
        "* Whole Wieght : -   \n",
        "   * Mean_Value -  0.82878\n",
        "   * Max_Value - 2.825550\n",
        "   * Min_Value - 0.00020\n",
        "   * Std - 0.490389\n",
        "\n",
        "* Shucked Wieght : -   \n",
        "   * Mean_Value -  0.359367\n",
        "   * Max_Value - 1.488000\n",
        "   * Min_Value - 0.00100\n",
        "   * Std - 0.221963\n",
        "\n",
        "* Viscera Wieght : -   \n",
        "   * Mean_Value -  0.180594\n",
        "   * Max_Value - 0.760000\n",
        "   * Min_Value - 0.00500\n",
        "   * Std -  0.109614\n",
        "\n",
        "* Shell Wieght : -   \n",
        "   * Mean_Value -  0.238831\n",
        "   * Max_Value - 1.005000\n",
        "   * Min_Value - 0.001500\n",
        "   * Std -      0.132903\n",
        "\n",
        "* Ring : -   \n",
        "   * Mean_Value -  9.933684\n",
        "   * Max_Value - 29.00000\n",
        "   * Min_Value - 1.00000\n",
        "   * Std - 3.224169\n"
      ],
      "metadata": {
        "id": "n7ara1T8eujj"
      }
    },
    {
      "cell_type": "markdown",
      "source": [
        "# Checking Data To Remove Skewness"
      ],
      "metadata": {
        "id": "V4E6D5H7lztV"
      }
    },
    {
      "cell_type": "markdown",
      "source": [
        "Removing the Target Column"
      ],
      "metadata": {
        "id": "Fu29YUJtSFiV"
      }
    },
    {
      "cell_type": "code",
      "source": [
        "df.iloc[:,:-1]"
      ],
      "metadata": {
        "colab": {
          "base_uri": "https://localhost:8080/",
          "height": 423
        },
        "id": "Fjg00dFomDQ-",
        "outputId": "f52546d5-5ad2-48d5-c60c-7371ee18feb7"
      },
      "execution_count": null,
      "outputs": [
        {
          "output_type": "execute_result",
          "data": {
            "text/plain": [
              "      Sex  Length  Diameter  Height  Whole weight  Shucked weight  \\\n",
              "0     2.0   0.455     0.365   0.095        0.5140          0.2245   \n",
              "1     2.0   0.350     0.265   0.090        0.2255          0.0995   \n",
              "2     0.0   0.530     0.420   0.135        0.6770          0.2565   \n",
              "3     2.0   0.440     0.365   0.125        0.5160          0.2155   \n",
              "4     1.0   0.330     0.255   0.080        0.2050          0.0895   \n",
              "...   ...     ...       ...     ...           ...             ...   \n",
              "4172  0.0   0.565     0.450   0.165        0.8870          0.3700   \n",
              "4173  2.0   0.590     0.440   0.135        0.9660          0.4390   \n",
              "4174  2.0   0.600     0.475   0.205        1.1760          0.5255   \n",
              "4175  0.0   0.625     0.485   0.150        1.0945          0.5310   \n",
              "4176  2.0   0.710     0.555   0.195        1.9485          0.9455   \n",
              "\n",
              "      Viscera weight  Shell weight  \n",
              "0             0.1010        0.1500  \n",
              "1             0.0485        0.0700  \n",
              "2             0.1415        0.2100  \n",
              "3             0.1140        0.1550  \n",
              "4             0.0395        0.0550  \n",
              "...              ...           ...  \n",
              "4172          0.2390        0.2490  \n",
              "4173          0.2145        0.2605  \n",
              "4174          0.2875        0.3080  \n",
              "4175          0.2610        0.2960  \n",
              "4176          0.3765        0.4950  \n",
              "\n",
              "[4177 rows x 8 columns]"
            ],
            "text/html": [
              "\n",
              "  <div id=\"df-5c02a815-ec42-448e-90e4-f09ed57423d2\">\n",
              "    <div class=\"colab-df-container\">\n",
              "      <div>\n",
              "<style scoped>\n",
              "    .dataframe tbody tr th:only-of-type {\n",
              "        vertical-align: middle;\n",
              "    }\n",
              "\n",
              "    .dataframe tbody tr th {\n",
              "        vertical-align: top;\n",
              "    }\n",
              "\n",
              "    .dataframe thead th {\n",
              "        text-align: right;\n",
              "    }\n",
              "</style>\n",
              "<table border=\"1\" class=\"dataframe\">\n",
              "  <thead>\n",
              "    <tr style=\"text-align: right;\">\n",
              "      <th></th>\n",
              "      <th>Sex</th>\n",
              "      <th>Length</th>\n",
              "      <th>Diameter</th>\n",
              "      <th>Height</th>\n",
              "      <th>Whole weight</th>\n",
              "      <th>Shucked weight</th>\n",
              "      <th>Viscera weight</th>\n",
              "      <th>Shell weight</th>\n",
              "    </tr>\n",
              "  </thead>\n",
              "  <tbody>\n",
              "    <tr>\n",
              "      <th>0</th>\n",
              "      <td>2.0</td>\n",
              "      <td>0.455</td>\n",
              "      <td>0.365</td>\n",
              "      <td>0.095</td>\n",
              "      <td>0.5140</td>\n",
              "      <td>0.2245</td>\n",
              "      <td>0.1010</td>\n",
              "      <td>0.1500</td>\n",
              "    </tr>\n",
              "    <tr>\n",
              "      <th>1</th>\n",
              "      <td>2.0</td>\n",
              "      <td>0.350</td>\n",
              "      <td>0.265</td>\n",
              "      <td>0.090</td>\n",
              "      <td>0.2255</td>\n",
              "      <td>0.0995</td>\n",
              "      <td>0.0485</td>\n",
              "      <td>0.0700</td>\n",
              "    </tr>\n",
              "    <tr>\n",
              "      <th>2</th>\n",
              "      <td>0.0</td>\n",
              "      <td>0.530</td>\n",
              "      <td>0.420</td>\n",
              "      <td>0.135</td>\n",
              "      <td>0.6770</td>\n",
              "      <td>0.2565</td>\n",
              "      <td>0.1415</td>\n",
              "      <td>0.2100</td>\n",
              "    </tr>\n",
              "    <tr>\n",
              "      <th>3</th>\n",
              "      <td>2.0</td>\n",
              "      <td>0.440</td>\n",
              "      <td>0.365</td>\n",
              "      <td>0.125</td>\n",
              "      <td>0.5160</td>\n",
              "      <td>0.2155</td>\n",
              "      <td>0.1140</td>\n",
              "      <td>0.1550</td>\n",
              "    </tr>\n",
              "    <tr>\n",
              "      <th>4</th>\n",
              "      <td>1.0</td>\n",
              "      <td>0.330</td>\n",
              "      <td>0.255</td>\n",
              "      <td>0.080</td>\n",
              "      <td>0.2050</td>\n",
              "      <td>0.0895</td>\n",
              "      <td>0.0395</td>\n",
              "      <td>0.0550</td>\n",
              "    </tr>\n",
              "    <tr>\n",
              "      <th>...</th>\n",
              "      <td>...</td>\n",
              "      <td>...</td>\n",
              "      <td>...</td>\n",
              "      <td>...</td>\n",
              "      <td>...</td>\n",
              "      <td>...</td>\n",
              "      <td>...</td>\n",
              "      <td>...</td>\n",
              "    </tr>\n",
              "    <tr>\n",
              "      <th>4172</th>\n",
              "      <td>0.0</td>\n",
              "      <td>0.565</td>\n",
              "      <td>0.450</td>\n",
              "      <td>0.165</td>\n",
              "      <td>0.8870</td>\n",
              "      <td>0.3700</td>\n",
              "      <td>0.2390</td>\n",
              "      <td>0.2490</td>\n",
              "    </tr>\n",
              "    <tr>\n",
              "      <th>4173</th>\n",
              "      <td>2.0</td>\n",
              "      <td>0.590</td>\n",
              "      <td>0.440</td>\n",
              "      <td>0.135</td>\n",
              "      <td>0.9660</td>\n",
              "      <td>0.4390</td>\n",
              "      <td>0.2145</td>\n",
              "      <td>0.2605</td>\n",
              "    </tr>\n",
              "    <tr>\n",
              "      <th>4174</th>\n",
              "      <td>2.0</td>\n",
              "      <td>0.600</td>\n",
              "      <td>0.475</td>\n",
              "      <td>0.205</td>\n",
              "      <td>1.1760</td>\n",
              "      <td>0.5255</td>\n",
              "      <td>0.2875</td>\n",
              "      <td>0.3080</td>\n",
              "    </tr>\n",
              "    <tr>\n",
              "      <th>4175</th>\n",
              "      <td>0.0</td>\n",
              "      <td>0.625</td>\n",
              "      <td>0.485</td>\n",
              "      <td>0.150</td>\n",
              "      <td>1.0945</td>\n",
              "      <td>0.5310</td>\n",
              "      <td>0.2610</td>\n",
              "      <td>0.2960</td>\n",
              "    </tr>\n",
              "    <tr>\n",
              "      <th>4176</th>\n",
              "      <td>2.0</td>\n",
              "      <td>0.710</td>\n",
              "      <td>0.555</td>\n",
              "      <td>0.195</td>\n",
              "      <td>1.9485</td>\n",
              "      <td>0.9455</td>\n",
              "      <td>0.3765</td>\n",
              "      <td>0.4950</td>\n",
              "    </tr>\n",
              "  </tbody>\n",
              "</table>\n",
              "<p>4177 rows × 8 columns</p>\n",
              "</div>\n",
              "      <button class=\"colab-df-convert\" onclick=\"convertToInteractive('df-5c02a815-ec42-448e-90e4-f09ed57423d2')\"\n",
              "              title=\"Convert this dataframe to an interactive table.\"\n",
              "              style=\"display:none;\">\n",
              "        \n",
              "  <svg xmlns=\"http://www.w3.org/2000/svg\" height=\"24px\"viewBox=\"0 0 24 24\"\n",
              "       width=\"24px\">\n",
              "    <path d=\"M0 0h24v24H0V0z\" fill=\"none\"/>\n",
              "    <path d=\"M18.56 5.44l.94 2.06.94-2.06 2.06-.94-2.06-.94-.94-2.06-.94 2.06-2.06.94zm-11 1L8.5 8.5l.94-2.06 2.06-.94-2.06-.94L8.5 2.5l-.94 2.06-2.06.94zm10 10l.94 2.06.94-2.06 2.06-.94-2.06-.94-.94-2.06-.94 2.06-2.06.94z\"/><path d=\"M17.41 7.96l-1.37-1.37c-.4-.4-.92-.59-1.43-.59-.52 0-1.04.2-1.43.59L10.3 9.45l-7.72 7.72c-.78.78-.78 2.05 0 2.83L4 21.41c.39.39.9.59 1.41.59.51 0 1.02-.2 1.41-.59l7.78-7.78 2.81-2.81c.8-.78.8-2.07 0-2.86zM5.41 20L4 18.59l7.72-7.72 1.47 1.35L5.41 20z\"/>\n",
              "  </svg>\n",
              "      </button>\n",
              "      \n",
              "  <style>\n",
              "    .colab-df-container {\n",
              "      display:flex;\n",
              "      flex-wrap:wrap;\n",
              "      gap: 12px;\n",
              "    }\n",
              "\n",
              "    .colab-df-convert {\n",
              "      background-color: #E8F0FE;\n",
              "      border: none;\n",
              "      border-radius: 50%;\n",
              "      cursor: pointer;\n",
              "      display: none;\n",
              "      fill: #1967D2;\n",
              "      height: 32px;\n",
              "      padding: 0 0 0 0;\n",
              "      width: 32px;\n",
              "    }\n",
              "\n",
              "    .colab-df-convert:hover {\n",
              "      background-color: #E2EBFA;\n",
              "      box-shadow: 0px 1px 2px rgba(60, 64, 67, 0.3), 0px 1px 3px 1px rgba(60, 64, 67, 0.15);\n",
              "      fill: #174EA6;\n",
              "    }\n",
              "\n",
              "    [theme=dark] .colab-df-convert {\n",
              "      background-color: #3B4455;\n",
              "      fill: #D2E3FC;\n",
              "    }\n",
              "\n",
              "    [theme=dark] .colab-df-convert:hover {\n",
              "      background-color: #434B5C;\n",
              "      box-shadow: 0px 1px 3px 1px rgba(0, 0, 0, 0.15);\n",
              "      filter: drop-shadow(0px 1px 2px rgba(0, 0, 0, 0.3));\n",
              "      fill: #FFFFFF;\n",
              "    }\n",
              "  </style>\n",
              "\n",
              "      <script>\n",
              "        const buttonEl =\n",
              "          document.querySelector('#df-5c02a815-ec42-448e-90e4-f09ed57423d2 button.colab-df-convert');\n",
              "        buttonEl.style.display =\n",
              "          google.colab.kernel.accessAllowed ? 'block' : 'none';\n",
              "\n",
              "        async function convertToInteractive(key) {\n",
              "          const element = document.querySelector('#df-5c02a815-ec42-448e-90e4-f09ed57423d2');\n",
              "          const dataTable =\n",
              "            await google.colab.kernel.invokeFunction('convertToInteractive',\n",
              "                                                     [key], {});\n",
              "          if (!dataTable) return;\n",
              "\n",
              "          const docLinkHtml = 'Like what you see? Visit the ' +\n",
              "            '<a target=\"_blank\" href=https://colab.research.google.com/notebooks/data_table.ipynb>data table notebook</a>'\n",
              "            + ' to learn more about interactive tables.';\n",
              "          element.innerHTML = '';\n",
              "          dataTable['output_type'] = 'display_data';\n",
              "          await google.colab.output.renderOutput(dataTable, element);\n",
              "          const docLink = document.createElement('div');\n",
              "          docLink.innerHTML = docLinkHtml;\n",
              "          element.appendChild(docLink);\n",
              "        }\n",
              "      </script>\n",
              "    </div>\n",
              "  </div>\n",
              "  "
            ]
          },
          "metadata": {},
          "execution_count": 302
        }
      ]
    },
    {
      "cell_type": "code",
      "source": [
        "df.iloc[:,:-1].skew()"
      ],
      "metadata": {
        "colab": {
          "base_uri": "https://localhost:8080/"
        },
        "id": "CsxdKyOvSECX",
        "outputId": "d9b3be04-832b-4cdc-9895-488bf248dfc5"
      },
      "execution_count": null,
      "outputs": [
        {
          "output_type": "execute_result",
          "data": {
            "text/plain": [
              "Sex              -0.098155\n",
              "Length           -0.639873\n",
              "Diameter         -0.609198\n",
              "Height            3.128817\n",
              "Whole weight      0.530959\n",
              "Shucked weight    0.719098\n",
              "Viscera weight    0.591852\n",
              "Shell weight      0.620927\n",
              "dtype: float64"
            ]
          },
          "metadata": {},
          "execution_count": 303
        }
      ]
    },
    {
      "cell_type": "markdown",
      "source": [
        "Setting the skewness value of the dataset to +/- 0.5 as standard skewness"
      ],
      "metadata": {
        "id": "rXbiqCkq2Rr2"
      }
    },
    {
      "cell_type": "code",
      "source": [
        "from sklearn.preprocessing import power_transform\n",
        "x_new=power_transform(df.iloc[:,:-1],method='yeo-johnson')\n",
        "\n",
        "df.iloc[:,:-1]=pd.DataFrame(x_new,columns=df.iloc[:,:-1].columns)"
      ],
      "metadata": {
        "id": "x5lzHdG2mR44"
      },
      "execution_count": null,
      "outputs": []
    },
    {
      "cell_type": "code",
      "source": [
        "df.iloc[:,:-1].skew()"
      ],
      "metadata": {
        "colab": {
          "base_uri": "https://localhost:8080/"
        },
        "id": "e34Y4UJQmSEr",
        "outputId": "0d42990e-55aa-45e4-9e35-e199fa3fe8d9"
      },
      "execution_count": null,
      "outputs": [
        {
          "output_type": "execute_result",
          "data": {
            "text/plain": [
              "Sex              -0.176442\n",
              "Length           -0.066669\n",
              "Diameter         -0.065977\n",
              "Height           -0.115483\n",
              "Whole weight     -0.003980\n",
              "Shucked weight    0.027351\n",
              "Viscera weight    0.039780\n",
              "Shell weight      0.023390\n",
              "dtype: float64"
            ]
          },
          "metadata": {},
          "execution_count": 305
        }
      ]
    },
    {
      "cell_type": "markdown",
      "source": [
        "# Outliers Checking"
      ],
      "metadata": {
        "id": "R6CVKAeni_6A"
      }
    },
    {
      "cell_type": "code",
      "source": [
        "import warnings\n",
        "warnings.filterwarnings('ignore')\n",
        "df.plot(kind='box',subplots=True, layout=(3,3), figsize=[20,8])"
      ],
      "metadata": {
        "colab": {
          "base_uri": "https://localhost:8080/",
          "height": 657
        },
        "id": "dQegT9xZjC7B",
        "outputId": "a68d6d35-6423-4463-ce24-317ed1b39f21"
      },
      "execution_count": null,
      "outputs": [
        {
          "output_type": "execute_result",
          "data": {
            "text/plain": [
              "Sex                  AxesSubplot(0.125,0.657941;0.227941x0.222059)\n",
              "Length            AxesSubplot(0.398529,0.657941;0.227941x0.222059)\n",
              "Diameter          AxesSubplot(0.672059,0.657941;0.227941x0.222059)\n",
              "Height               AxesSubplot(0.125,0.391471;0.227941x0.222059)\n",
              "Whole weight      AxesSubplot(0.398529,0.391471;0.227941x0.222059)\n",
              "Shucked weight    AxesSubplot(0.672059,0.391471;0.227941x0.222059)\n",
              "Viscera weight          AxesSubplot(0.125,0.125;0.227941x0.222059)\n",
              "Shell weight         AxesSubplot(0.398529,0.125;0.227941x0.222059)\n",
              "Rings                AxesSubplot(0.672059,0.125;0.227941x0.222059)\n",
              "dtype: object"
            ]
          },
          "metadata": {},
          "execution_count": 306
        },
        {
          "output_type": "display_data",
          "data": {
            "text/plain": [
              "<Figure size 1440x576 with 9 Axes>"
            ],
            "image/png": "[encoded data removed]"
          },
          "metadata": {
            "needs_background": "light"
          }
        }
      ]
    },
    {
      "cell_type": "markdown",
      "source": [
        "# IQR Proximity Rule\n",
        "\n",
        "Z - Score Technique"
      ],
      "metadata": {
        "id": "1OWNjyQAlptT"
      }
    },
    {
      "cell_type": "code",
      "source": [
        "from scipy.stats import zscore\n",
        "import numpy as np\n",
        "z=np.abs(zscore(df))\n",
        "z.shape"
      ],
      "metadata": {
        "colab": {
          "base_uri": "https://localhost:8080/"
        },
        "id": "ZvNbnL4GltA3",
        "outputId": "8b088532-c688-4c99-ccff-c96e77639c0d"
      },
      "execution_count": null,
      "outputs": [
        {
          "output_type": "execute_result",
          "data": {
            "text/plain": [
              "(4177, 9)"
            ]
          },
          "metadata": {},
          "execution_count": 307
        }
      ]
    },
    {
      "cell_type": "code",
      "source": [
        "threshold=3\n",
        "print(np.where(z>3))"
      ],
      "metadata": {
        "colab": {
          "base_uri": "https://localhost:8080/"
        },
        "id": "UaHe7isfnaOY",
        "outputId": "d8feb3c4-0a99-4fd0-e656-0700d465a8a8"
      },
      "execution_count": null,
      "outputs": [
        {
          "output_type": "stream",
          "name": "stdout",
          "text": [
            "(array([   6,   72,   83,  163,  166,  166,  167,  181,  232,  236,  237,\n",
            "        238,  270,  275,  278,  294,  306,  310,  313,  314,  351,  355,\n",
            "        362,  375,  416,  417,  428,  431,  433,  469,  478,  480,  501,\n",
            "        530,  572,  628,  673,  674,  675,  678,  694,  719,  720,  744,\n",
            "        754,  756,  811,  891, 1174, 1209, 1257, 1417, 1428, 1428, 1763,\n",
            "       1987, 2051, 2108, 2108, 2161, 2169, 2171, 2172, 2176, 2180, 2199,\n",
            "       2201, 2209, 2275, 2305, 2334, 2334, 2335, 2344, 2358, 2381, 2436,\n",
            "       2459, 2471, 2711, 3140, 3149, 3151, 3190, 3193, 3280, 3359, 3902,\n",
            "       3924, 3930, 3944, 3996]), array([8, 8, 8, 7, 7, 8, 8, 8, 8, 3, 3, 3, 8, 8, 8, 8, 3, 8, 8, 8, 8, 8,\n",
            "       8, 8, 8, 8, 8, 8, 8, 8, 8, 8, 8, 8, 8, 8, 8, 8, 8, 8, 3, 3, 3, 8,\n",
            "       8, 8, 8, 7, 3, 5, 3, 3, 1, 2, 6, 3, 3, 7, 8, 7, 3, 3, 3, 8, 8, 8,\n",
            "       8, 8, 8, 8, 1, 8, 8, 8, 8, 3, 8, 8, 8, 3, 8, 8, 8, 3, 8, 8, 8, 3,\n",
            "       8, 8, 8, 3]))\n"
          ]
        }
      ]
    },
    {
      "cell_type": "code",
      "source": [
        "len(np.where(z>3)[0])"
      ],
      "metadata": {
        "colab": {
          "base_uri": "https://localhost:8080/"
        },
        "id": "tsk9IwqWnd5Y",
        "outputId": "08c008a7-ae43-4bbc-a8b2-22720a563777"
      },
      "execution_count": null,
      "outputs": [
        {
          "output_type": "execute_result",
          "data": {
            "text/plain": [
              "92"
            ]
          },
          "metadata": {},
          "execution_count": 309
        }
      ]
    },
    {
      "cell_type": "code",
      "source": [
        "df.drop([ 6,   72,   83,  163,  166,  166,  167,  181,  232,  236,  237,\n",
        "        238,  270,  275,  278,  294,  306,  310,  313,  314,  351,  355,\n",
        "        362,  375,  416,  417,  428,  431,  433,  469,  478,  480,  501,\n",
        "        530,  572,  628,  673,  674,  675,  678,  694,  719,  720,  744,\n",
        "        754,  756,  811,  891, 1174, 1209, 1257, 1417, 1428, 1428, 1763,\n",
        "       1987, 2051, 2108, 2108, 2161, 2169, 2171, 2172, 2176, 2180, 2199,\n",
        "       2201, 2209, 2275, 2305, 2334, 2334, 2335, 2344, 2358, 2381, 2436,\n",
        "       2459, 2471, 2711, 3140, 3149, 3151, 3190, 3193, 3280, 3359, 3902,\n",
        "       3924, 3930, 3944, 3996],axis=0)"
      ],
      "metadata": {
        "colab": {
          "base_uri": "https://localhost:8080/",
          "height": 423
        },
        "id": "v3K9rUQsnjr4",
        "outputId": "80a58633-f0d5-4e32-d7a0-43ddfcab4d8c"
      },
      "execution_count": null,
      "outputs": [
        {
          "output_type": "execute_result",
          "data": {
            "text/plain": [
              "           Sex    Length  Diameter    Height  Whole weight  Shucked weight  \\\n",
              "0     1.127072 -0.685502 -0.549860 -1.124512     -0.576766       -0.540989   \n",
              "1     1.127072 -1.396344 -1.387333 -1.264396     -1.351761       -1.311662   \n",
              "2    -1.307935 -0.070774  0.008537 -0.064823     -0.198099       -0.366116   \n",
              "3     1.127072 -0.797286 -0.549860 -0.320227     -0.571893       -0.591672   \n",
              "4    -0.009459 -1.513796 -1.459659 -1.549424     -1.413146       -1.380201   \n",
              "...        ...       ...       ...       ...           ...             ...   \n",
              "4172 -1.307935  0.249836  0.345636  0.666117      0.241948        0.194158   \n",
              "4173  1.127072  0.492813  0.230611 -0.064823      0.395706        0.495450   \n",
              "4174  1.127072  0.593366  0.645191  1.565082      0.777944        0.838137   \n",
              "4175 -1.307935  0.853375  0.769928  0.307083      0.633874        0.858739   \n",
              "4176  1.127072  1.834478  1.726289  1.347943      1.937323        2.103648   \n",
              "\n",
              "      Viscera weight  Shell weight  Rings  \n",
              "0          -0.693283     -0.587809     15  \n",
              "1          -1.332953     -1.332420      7  \n",
              "2          -0.255135     -0.098262      9  \n",
              "3          -0.547782     -0.544931     10  \n",
              "4          -1.451759     -1.485528      7  \n",
              "...              ...           ...    ...  \n",
              "4172        0.639623      0.193008     11  \n",
              "4173        0.433568      0.275215     10  \n",
              "4174        1.015607      0.598398      9  \n",
              "4175        0.815184      0.519145     10  \n",
              "4176        1.611344      1.658488     12  \n",
              "\n",
              "[4089 rows x 9 columns]"
            ],
            "text/html": [
              "\n",
              "  <div id=\"df-1351ac3c-492f-4eea-9879-19364439ef25\">\n",
              "    <div class=\"colab-df-container\">\n",
              "      <div>\n",
              "<style scoped>\n",
              "    .dataframe tbody tr th:only-of-type {\n",
              "        vertical-align: middle;\n",
              "    }\n",
              "\n",
              "    .dataframe tbody tr th {\n",
              "        vertical-align: top;\n",
              "    }\n",
              "\n",
              "    .dataframe thead th {\n",
              "        text-align: right;\n",
              "    }\n",
              "</style>\n",
              "<table border=\"1\" class=\"dataframe\">\n",
              "  <thead>\n",
              "    <tr style=\"text-align: right;\">\n",
              "      <th></th>\n",
              "      <th>Sex</th>\n",
              "      <th>Length</th>\n",
              "      <th>Diameter</th>\n",
              "      <th>Height</th>\n",
              "      <th>Whole weight</th>\n",
              "      <th>Shucked weight</th>\n",
              "      <th>Viscera weight</th>\n",
              "      <th>Shell weight</th>\n",
              "      <th>Rings</th>\n",
              "    </tr>\n",
              "  </thead>\n",
              "  <tbody>\n",
              "    <tr>\n",
              "      <th>0</th>\n",
              "      <td>1.127072</td>\n",
              "      <td>-0.685502</td>\n",
              "      <td>-0.549860</td>\n",
              "      <td>-1.124512</td>\n",
              "      <td>-0.576766</td>\n",
              "      <td>-0.540989</td>\n",
              "      <td>-0.693283</td>\n",
              "      <td>-0.587809</td>\n",
              "      <td>15</td>\n",
              "    </tr>\n",
              "    <tr>\n",
              "      <th>1</th>\n",
              "      <td>1.127072</td>\n",
              "      <td>-1.396344</td>\n",
              "      <td>-1.387333</td>\n",
              "      <td>-1.264396</td>\n",
              "      <td>-1.351761</td>\n",
              "      <td>-1.311662</td>\n",
              "      <td>-1.332953</td>\n",
              "      <td>-1.332420</td>\n",
              "      <td>7</td>\n",
              "    </tr>\n",
              "    <tr>\n",
              "      <th>2</th>\n",
              "      <td>-1.307935</td>\n",
              "      <td>-0.070774</td>\n",
              "      <td>0.008537</td>\n",
              "      <td>-0.064823</td>\n",
              "      <td>-0.198099</td>\n",
              "      <td>-0.366116</td>\n",
              "      <td>-0.255135</td>\n",
              "      <td>-0.098262</td>\n",
              "      <td>9</td>\n",
              "    </tr>\n",
              "    <tr>\n",
              "      <th>3</th>\n",
              "      <td>1.127072</td>\n",
              "      <td>-0.797286</td>\n",
              "      <td>-0.549860</td>\n",
              "      <td>-0.320227</td>\n",
              "      <td>-0.571893</td>\n",
              "      <td>-0.591672</td>\n",
              "      <td>-0.547782</td>\n",
              "      <td>-0.544931</td>\n",
              "      <td>10</td>\n",
              "    </tr>\n",
              "    <tr>\n",
              "      <th>4</th>\n",
              "      <td>-0.009459</td>\n",
              "      <td>-1.513796</td>\n",
              "      <td>-1.459659</td>\n",
              "      <td>-1.549424</td>\n",
              "      <td>-1.413146</td>\n",
              "      <td>-1.380201</td>\n",
              "      <td>-1.451759</td>\n",
              "      <td>-1.485528</td>\n",
              "      <td>7</td>\n",
              "    </tr>\n",
              "    <tr>\n",
              "      <th>...</th>\n",
              "      <td>...</td>\n",
              "      <td>...</td>\n",
              "      <td>...</td>\n",
              "      <td>...</td>\n",
              "      <td>...</td>\n",
              "      <td>...</td>\n",
              "      <td>...</td>\n",
              "      <td>...</td>\n",
              "      <td>...</td>\n",
              "    </tr>\n",
              "    <tr>\n",
              "      <th>4172</th>\n",
              "      <td>-1.307935</td>\n",
              "      <td>0.249836</td>\n",
              "      <td>0.345636</td>\n",
              "      <td>0.666117</td>\n",
              "      <td>0.241948</td>\n",
              "      <td>0.194158</td>\n",
              "      <td>0.639623</td>\n",
              "      <td>0.193008</td>\n",
              "      <td>11</td>\n",
              "    </tr>\n",
              "    <tr>\n",
              "      <th>4173</th>\n",
              "      <td>1.127072</td>\n",
              "      <td>0.492813</td>\n",
              "      <td>0.230611</td>\n",
              "      <td>-0.064823</td>\n",
              "      <td>0.395706</td>\n",
              "      <td>0.495450</td>\n",
              "      <td>0.433568</td>\n",
              "      <td>0.275215</td>\n",
              "      <td>10</td>\n",
              "    </tr>\n",
              "    <tr>\n",
              "      <th>4174</th>\n",
              "      <td>1.127072</td>\n",
              "      <td>0.593366</td>\n",
              "      <td>0.645191</td>\n",
              "      <td>1.565082</td>\n",
              "      <td>0.777944</td>\n",
              "      <td>0.838137</td>\n",
              "      <td>1.015607</td>\n",
              "      <td>0.598398</td>\n",
              "      <td>9</td>\n",
              "    </tr>\n",
              "    <tr>\n",
              "      <th>4175</th>\n",
              "      <td>-1.307935</td>\n",
              "      <td>0.853375</td>\n",
              "      <td>0.769928</td>\n",
              "      <td>0.307083</td>\n",
              "      <td>0.633874</td>\n",
              "      <td>0.858739</td>\n",
              "      <td>0.815184</td>\n",
              "      <td>0.519145</td>\n",
              "      <td>10</td>\n",
              "    </tr>\n",
              "    <tr>\n",
              "      <th>4176</th>\n",
              "      <td>1.127072</td>\n",
              "      <td>1.834478</td>\n",
              "      <td>1.726289</td>\n",
              "      <td>1.347943</td>\n",
              "      <td>1.937323</td>\n",
              "      <td>2.103648</td>\n",
              "      <td>1.611344</td>\n",
              "      <td>1.658488</td>\n",
              "      <td>12</td>\n",
              "    </tr>\n",
              "  </tbody>\n",
              "</table>\n",
              "<p>4089 rows × 9 columns</p>\n",
              "</div>\n",
              "      <button class=\"colab-df-convert\" onclick=\"convertToInteractive('df-1351ac3c-492f-4eea-9879-19364439ef25')\"\n",
              "              title=\"Convert this dataframe to an interactive table.\"\n",
              "              style=\"display:none;\">\n",
              "        \n",
              "  <svg xmlns=\"http://www.w3.org/2000/svg\" height=\"24px\"viewBox=\"0 0 24 24\"\n",
              "       width=\"24px\">\n",
              "    <path d=\"M0 0h24v24H0V0z\" fill=\"none\"/>\n",
              "    <path d=\"M18.56 5.44l.94 2.06.94-2.06 2.06-.94-2.06-.94-.94-2.06-.94 2.06-2.06.94zm-11 1L8.5 8.5l.94-2.06 2.06-.94-2.06-.94L8.5 2.5l-.94 2.06-2.06.94zm10 10l.94 2.06.94-2.06 2.06-.94-2.06-.94-.94-2.06-.94 2.06-2.06.94z\"/><path d=\"M17.41 7.96l-1.37-1.37c-.4-.4-.92-.59-1.43-.59-.52 0-1.04.2-1.43.59L10.3 9.45l-7.72 7.72c-.78.78-.78 2.05 0 2.83L4 21.41c.39.39.9.59 1.41.59.51 0 1.02-.2 1.41-.59l7.78-7.78 2.81-2.81c.8-.78.8-2.07 0-2.86zM5.41 20L4 18.59l7.72-7.72 1.47 1.35L5.41 20z\"/>\n",
              "  </svg>\n",
              "      </button>\n",
              "      \n",
              "  <style>\n",
              "    .colab-df-container {\n",
              "      display:flex;\n",
              "      flex-wrap:wrap;\n",
              "      gap: 12px;\n",
              "    }\n",
              "\n",
              "    .colab-df-convert {\n",
              "      background-color: #E8F0FE;\n",
              "      border: none;\n",
              "      border-radius: 50%;\n",
              "      cursor: pointer;\n",
              "      display: none;\n",
              "      fill: #1967D2;\n",
              "      height: 32px;\n",
              "      padding: 0 0 0 0;\n",
              "      width: 32px;\n",
              "    }\n",
              "\n",
              "    .colab-df-convert:hover {\n",
              "      background-color: #E2EBFA;\n",
              "      box-shadow: 0px 1px 2px rgba(60, 64, 67, 0.3), 0px 1px 3px 1px rgba(60, 64, 67, 0.15);\n",
              "      fill: #174EA6;\n",
              "    }\n",
              "\n",
              "    [theme=dark] .colab-df-convert {\n",
              "      background-color: #3B4455;\n",
              "      fill: #D2E3FC;\n",
              "    }\n",
              "\n",
              "    [theme=dark] .colab-df-convert:hover {\n",
              "      background-color: #434B5C;\n",
              "      box-shadow: 0px 1px 3px 1px rgba(0, 0, 0, 0.15);\n",
              "      filter: drop-shadow(0px 1px 2px rgba(0, 0, 0, 0.3));\n",
              "      fill: #FFFFFF;\n",
              "    }\n",
              "  </style>\n",
              "\n",
              "      <script>\n",
              "        const buttonEl =\n",
              "          document.querySelector('#df-1351ac3c-492f-4eea-9879-19364439ef25 button.colab-df-convert');\n",
              "        buttonEl.style.display =\n",
              "          google.colab.kernel.accessAllowed ? 'block' : 'none';\n",
              "\n",
              "        async function convertToInteractive(key) {\n",
              "          const element = document.querySelector('#df-1351ac3c-492f-4eea-9879-19364439ef25');\n",
              "          const dataTable =\n",
              "            await google.colab.kernel.invokeFunction('convertToInteractive',\n",
              "                                                     [key], {});\n",
              "          if (!dataTable) return;\n",
              "\n",
              "          const docLinkHtml = 'Like what you see? Visit the ' +\n",
              "            '<a target=\"_blank\" href=https://colab.research.google.com/notebooks/data_table.ipynb>data table notebook</a>'\n",
              "            + ' to learn more about interactive tables.';\n",
              "          element.innerHTML = '';\n",
              "          dataTable['output_type'] = 'display_data';\n",
              "          await google.colab.output.renderOutput(dataTable, element);\n",
              "          const docLink = document.createElement('div');\n",
              "          docLink.innerHTML = docLinkHtml;\n",
              "          element.appendChild(docLink);\n",
              "        }\n",
              "      </script>\n",
              "    </div>\n",
              "  </div>\n",
              "  "
            ]
          },
          "metadata": {},
          "execution_count": 310
        }
      ]
    },
    {
      "cell_type": "code",
      "source": [
        "df=df[(z<3).all(axis=1)]"
      ],
      "metadata": {
        "id": "O-Aa1aj8ntJ5"
      },
      "execution_count": null,
      "outputs": []
    },
    {
      "cell_type": "code",
      "source": [
        "df"
      ],
      "metadata": {
        "colab": {
          "base_uri": "https://localhost:8080/",
          "height": 423
        },
        "id": "44a85IHAoC-Z",
        "outputId": "47012aa2-1524-4f5c-e975-e32f86a9c3f2"
      },
      "execution_count": null,
      "outputs": [
        {
          "output_type": "execute_result",
          "data": {
            "text/plain": [
              "           Sex    Length  Diameter    Height  Whole weight  Shucked weight  \\\n",
              "0     1.127072 -0.685502 -0.549860 -1.124512     -0.576766       -0.540989   \n",
              "1     1.127072 -1.396344 -1.387333 -1.264396     -1.351761       -1.311662   \n",
              "2    -1.307935 -0.070774  0.008537 -0.064823     -0.198099       -0.366116   \n",
              "3     1.127072 -0.797286 -0.549860 -0.320227     -0.571893       -0.591672   \n",
              "4    -0.009459 -1.513796 -1.459659 -1.549424     -1.413146       -1.380201   \n",
              "...        ...       ...       ...       ...           ...             ...   \n",
              "4172 -1.307935  0.249836  0.345636  0.666117      0.241948        0.194158   \n",
              "4173  1.127072  0.492813  0.230611 -0.064823      0.395706        0.495450   \n",
              "4174  1.127072  0.593366  0.645191  1.565082      0.777944        0.838137   \n",
              "4175 -1.307935  0.853375  0.769928  0.307083      0.633874        0.858739   \n",
              "4176  1.127072  1.834478  1.726289  1.347943      1.937323        2.103648   \n",
              "\n",
              "      Viscera weight  Shell weight  Rings  \n",
              "0          -0.693283     -0.587809     15  \n",
              "1          -1.332953     -1.332420      7  \n",
              "2          -0.255135     -0.098262      9  \n",
              "3          -0.547782     -0.544931     10  \n",
              "4          -1.451759     -1.485528      7  \n",
              "...              ...           ...    ...  \n",
              "4172        0.639623      0.193008     11  \n",
              "4173        0.433568      0.275215     10  \n",
              "4174        1.015607      0.598398      9  \n",
              "4175        0.815184      0.519145     10  \n",
              "4176        1.611344      1.658488     12  \n",
              "\n",
              "[4089 rows x 9 columns]"
            ],
            "text/html": [
              "\n",
              "  <div id=\"df-c0eac819-c9e0-4612-9e75-0d5265cd9498\">\n",
              "    <div class=\"colab-df-container\">\n",
              "      <div>\n",
              "<style scoped>\n",
              "    .dataframe tbody tr th:only-of-type {\n",
              "        vertical-align: middle;\n",
              "    }\n",
              "\n",
              "    .dataframe tbody tr th {\n",
              "        vertical-align: top;\n",
              "    }\n",
              "\n",
              "    .dataframe thead th {\n",
              "        text-align: right;\n",
              "    }\n",
              "</style>\n",
              "<table border=\"1\" class=\"dataframe\">\n",
              "  <thead>\n",
              "    <tr style=\"text-align: right;\">\n",
              "      <th></th>\n",
              "      <th>Sex</th>\n",
              "      <th>Length</th>\n",
              "      <th>Diameter</th>\n",
              "      <th>Height</th>\n",
              "      <th>Whole weight</th>\n",
              "      <th>Shucked weight</th>\n",
              "      <th>Viscera weight</th>\n",
              "      <th>Shell weight</th>\n",
              "      <th>Rings</th>\n",
              "    </tr>\n",
              "  </thead>\n",
              "  <tbody>\n",
              "    <tr>\n",
              "      <th>0</th>\n",
              "      <td>1.127072</td>\n",
              "      <td>-0.685502</td>\n",
              "      <td>-0.549860</td>\n",
              "      <td>-1.124512</td>\n",
              "      <td>-0.576766</td>\n",
              "      <td>-0.540989</td>\n",
              "      <td>-0.693283</td>\n",
              "      <td>-0.587809</td>\n",
              "      <td>15</td>\n",
              "    </tr>\n",
              "    <tr>\n",
              "      <th>1</th>\n",
              "      <td>1.127072</td>\n",
              "      <td>-1.396344</td>\n",
              "      <td>-1.387333</td>\n",
              "      <td>-1.264396</td>\n",
              "      <td>-1.351761</td>\n",
              "      <td>-1.311662</td>\n",
              "      <td>-1.332953</td>\n",
              "      <td>-1.332420</td>\n",
              "      <td>7</td>\n",
              "    </tr>\n",
              "    <tr>\n",
              "      <th>2</th>\n",
              "      <td>-1.307935</td>\n",
              "      <td>-0.070774</td>\n",
              "      <td>0.008537</td>\n",
              "      <td>-0.064823</td>\n",
              "      <td>-0.198099</td>\n",
              "      <td>-0.366116</td>\n",
              "      <td>-0.255135</td>\n",
              "      <td>-0.098262</td>\n",
              "      <td>9</td>\n",
              "    </tr>\n",
              "    <tr>\n",
              "      <th>3</th>\n",
              "      <td>1.127072</td>\n",
              "      <td>-0.797286</td>\n",
              "      <td>-0.549860</td>\n",
              "      <td>-0.320227</td>\n",
              "      <td>-0.571893</td>\n",
              "      <td>-0.591672</td>\n",
              "      <td>-0.547782</td>\n",
              "      <td>-0.544931</td>\n",
              "      <td>10</td>\n",
              "    </tr>\n",
              "    <tr>\n",
              "      <th>4</th>\n",
              "      <td>-0.009459</td>\n",
              "      <td>-1.513796</td>\n",
              "      <td>-1.459659</td>\n",
              "      <td>-1.549424</td>\n",
              "      <td>-1.413146</td>\n",
              "      <td>-1.380201</td>\n",
              "      <td>-1.451759</td>\n",
              "      <td>-1.485528</td>\n",
              "      <td>7</td>\n",
              "    </tr>\n",
              "    <tr>\n",
              "      <th>...</th>\n",
              "      <td>...</td>\n",
              "      <td>...</td>\n",
              "      <td>...</td>\n",
              "      <td>...</td>\n",
              "      <td>...</td>\n",
              "      <td>...</td>\n",
              "      <td>...</td>\n",
              "      <td>...</td>\n",
              "      <td>...</td>\n",
              "    </tr>\n",
              "    <tr>\n",
              "      <th>4172</th>\n",
              "      <td>-1.307935</td>\n",
              "      <td>0.249836</td>\n",
              "      <td>0.345636</td>\n",
              "      <td>0.666117</td>\n",
              "      <td>0.241948</td>\n",
              "      <td>0.194158</td>\n",
              "      <td>0.639623</td>\n",
              "      <td>0.193008</td>\n",
              "      <td>11</td>\n",
              "    </tr>\n",
              "    <tr>\n",
              "      <th>4173</th>\n",
              "      <td>1.127072</td>\n",
              "      <td>0.492813</td>\n",
              "      <td>0.230611</td>\n",
              "      <td>-0.064823</td>\n",
              "      <td>0.395706</td>\n",
              "      <td>0.495450</td>\n",
              "      <td>0.433568</td>\n",
              "      <td>0.275215</td>\n",
              "      <td>10</td>\n",
              "    </tr>\n",
              "    <tr>\n",
              "      <th>4174</th>\n",
              "      <td>1.127072</td>\n",
              "      <td>0.593366</td>\n",
              "      <td>0.645191</td>\n",
              "      <td>1.565082</td>\n",
              "      <td>0.777944</td>\n",
              "      <td>0.838137</td>\n",
              "      <td>1.015607</td>\n",
              "      <td>0.598398</td>\n",
              "      <td>9</td>\n",
              "    </tr>\n",
              "    <tr>\n",
              "      <th>4175</th>\n",
              "      <td>-1.307935</td>\n",
              "      <td>0.853375</td>\n",
              "      <td>0.769928</td>\n",
              "      <td>0.307083</td>\n",
              "      <td>0.633874</td>\n",
              "      <td>0.858739</td>\n",
              "      <td>0.815184</td>\n",
              "      <td>0.519145</td>\n",
              "      <td>10</td>\n",
              "    </tr>\n",
              "    <tr>\n",
              "      <th>4176</th>\n",
              "      <td>1.127072</td>\n",
              "      <td>1.834478</td>\n",
              "      <td>1.726289</td>\n",
              "      <td>1.347943</td>\n",
              "      <td>1.937323</td>\n",
              "      <td>2.103648</td>\n",
              "      <td>1.611344</td>\n",
              "      <td>1.658488</td>\n",
              "      <td>12</td>\n",
              "    </tr>\n",
              "  </tbody>\n",
              "</table>\n",
              "<p>4089 rows × 9 columns</p>\n",
              "</div>\n",
              "      <button class=\"colab-df-convert\" onclick=\"convertToInteractive('df-c0eac819-c9e0-4612-9e75-0d5265cd9498')\"\n",
              "              title=\"Convert this dataframe to an interactive table.\"\n",
              "              style=\"display:none;\">\n",
              "        \n",
              "  <svg xmlns=\"http://www.w3.org/2000/svg\" height=\"24px\"viewBox=\"0 0 24 24\"\n",
              "       width=\"24px\">\n",
              "    <path d=\"M0 0h24v24H0V0z\" fill=\"none\"/>\n",
              "    <path d=\"M18.56 5.44l.94 2.06.94-2.06 2.06-.94-2.06-.94-.94-2.06-.94 2.06-2.06.94zm-11 1L8.5 8.5l.94-2.06 2.06-.94-2.06-.94L8.5 2.5l-.94 2.06-2.06.94zm10 10l.94 2.06.94-2.06 2.06-.94-2.06-.94-.94-2.06-.94 2.06-2.06.94z\"/><path d=\"M17.41 7.96l-1.37-1.37c-.4-.4-.92-.59-1.43-.59-.52 0-1.04.2-1.43.59L10.3 9.45l-7.72 7.72c-.78.78-.78 2.05 0 2.83L4 21.41c.39.39.9.59 1.41.59.51 0 1.02-.2 1.41-.59l7.78-7.78 2.81-2.81c.8-.78.8-2.07 0-2.86zM5.41 20L4 18.59l7.72-7.72 1.47 1.35L5.41 20z\"/>\n",
              "  </svg>\n",
              "      </button>\n",
              "      \n",
              "  <style>\n",
              "    .colab-df-container {\n",
              "      display:flex;\n",
              "      flex-wrap:wrap;\n",
              "      gap: 12px;\n",
              "    }\n",
              "\n",
              "    .colab-df-convert {\n",
              "      background-color: #E8F0FE;\n",
              "      border: none;\n",
              "      border-radius: 50%;\n",
              "      cursor: pointer;\n",
              "      display: none;\n",
              "      fill: #1967D2;\n",
              "      height: 32px;\n",
              "      padding: 0 0 0 0;\n",
              "      width: 32px;\n",
              "    }\n",
              "\n",
              "    .colab-df-convert:hover {\n",
              "      background-color: #E2EBFA;\n",
              "      box-shadow: 0px 1px 2px rgba(60, 64, 67, 0.3), 0px 1px 3px 1px rgba(60, 64, 67, 0.15);\n",
              "      fill: #174EA6;\n",
              "    }\n",
              "\n",
              "    [theme=dark] .colab-df-convert {\n",
              "      background-color: #3B4455;\n",
              "      fill: #D2E3FC;\n",
              "    }\n",
              "\n",
              "    [theme=dark] .colab-df-convert:hover {\n",
              "      background-color: #434B5C;\n",
              "      box-shadow: 0px 1px 3px 1px rgba(0, 0, 0, 0.15);\n",
              "      filter: drop-shadow(0px 1px 2px rgba(0, 0, 0, 0.3));\n",
              "      fill: #FFFFFF;\n",
              "    }\n",
              "  </style>\n",
              "\n",
              "      <script>\n",
              "        const buttonEl =\n",
              "          document.querySelector('#df-c0eac819-c9e0-4612-9e75-0d5265cd9498 button.colab-df-convert');\n",
              "        buttonEl.style.display =\n",
              "          google.colab.kernel.accessAllowed ? 'block' : 'none';\n",
              "\n",
              "        async function convertToInteractive(key) {\n",
              "          const element = document.querySelector('#df-c0eac819-c9e0-4612-9e75-0d5265cd9498');\n",
              "          const dataTable =\n",
              "            await google.colab.kernel.invokeFunction('convertToInteractive',\n",
              "                                                     [key], {});\n",
              "          if (!dataTable) return;\n",
              "\n",
              "          const docLinkHtml = 'Like what you see? Visit the ' +\n",
              "            '<a target=\"_blank\" href=https://colab.research.google.com/notebooks/data_table.ipynb>data table notebook</a>'\n",
              "            + ' to learn more about interactive tables.';\n",
              "          element.innerHTML = '';\n",
              "          dataTable['output_type'] = 'display_data';\n",
              "          await google.colab.output.renderOutput(dataTable, element);\n",
              "          const docLink = document.createElement('div');\n",
              "          docLink.innerHTML = docLinkHtml;\n",
              "          element.appendChild(docLink);\n",
              "        }\n",
              "      </script>\n",
              "    </div>\n",
              "  </div>\n",
              "  "
            ]
          },
          "metadata": {},
          "execution_count": 312
        }
      ]
    },
    {
      "cell_type": "code",
      "source": [
        "df.shape"
      ],
      "metadata": {
        "colab": {
          "base_uri": "https://localhost:8080/"
        },
        "id": "2Vx03cO_oWBh",
        "outputId": "dcaa913a-a3a9-44ed-91c7-e29eba0e8490"
      },
      "execution_count": null,
      "outputs": [
        {
          "output_type": "execute_result",
          "data": {
            "text/plain": [
              "(4089, 9)"
            ]
          },
          "metadata": {},
          "execution_count": 278
        }
      ]
    },
    {
      "cell_type": "markdown",
      "source": [
        "# Feature Engineering ( Variantion Inflation Factor )"
      ],
      "metadata": {
        "id": "rtSzEH9l7I-W"
      }
    },
    {
      "cell_type": "code",
      "source": [
        "df.corr()"
      ],
      "metadata": {
        "colab": {
          "base_uri": "https://localhost:8080/",
          "height": 331
        },
        "id": "VJNwc8SNopBQ",
        "outputId": "5214f5f6-289e-4ff3-8558-ea17891c4d54"
      },
      "execution_count": null,
      "outputs": [
        {
          "output_type": "execute_result",
          "data": {
            "text/plain": [
              "                     Sex    Length  Diameter    Height  Whole weight  \\\n",
              "Sex             1.000000 -0.053809 -0.058973 -0.060771     -0.044714   \n",
              "Length         -0.053809  1.000000  0.982577  0.894482      0.972765   \n",
              "Diameter       -0.058973  0.982577  1.000000  0.901311      0.971055   \n",
              "Height         -0.060771  0.894482  0.901311  1.000000      0.914689   \n",
              "Whole weight   -0.044714  0.972765  0.971055  0.914689      1.000000   \n",
              "Shucked weight -0.029654  0.956553  0.949928  0.877426      0.978471   \n",
              "Viscera weight -0.054876  0.952819  0.947623  0.897916      0.975041   \n",
              "Shell weight   -0.053316  0.949480  0.956195  0.920351      0.970438   \n",
              "Rings          -0.044566  0.550328  0.571165  0.622877      0.576114   \n",
              "\n",
              "                Shucked weight  Viscera weight  Shell weight     Rings  \n",
              "Sex                  -0.029654       -0.054876     -0.053316 -0.044566  \n",
              "Length                0.956553        0.952819      0.949480  0.550328  \n",
              "Diameter              0.949928        0.947623      0.956195  0.571165  \n",
              "Height                0.877426        0.897916      0.920351  0.622877  \n",
              "Whole weight          0.978471        0.975041      0.970438  0.576114  \n",
              "Shucked weight        1.000000        0.947974      0.921706  0.482472  \n",
              "Viscera weight        0.947974        1.000000      0.938440  0.554953  \n",
              "Shell weight          0.921706        0.938440      1.000000  0.643446  \n",
              "Rings                 0.482472        0.554953      0.643446  1.000000  "
            ],
            "text/html": [
              "\n",
              "  <div id=\"df-8653ac81-7585-4178-8279-47c8c482d18f\">\n",
              "    <div class=\"colab-df-container\">\n",
              "      <div>\n",
              "<style scoped>\n",
              "    .dataframe tbody tr th:only-of-type {\n",
              "        vertical-align: middle;\n",
              "    }\n",
              "\n",
              "    .dataframe tbody tr th {\n",
              "        vertical-align: top;\n",
              "    }\n",
              "\n",
              "    .dataframe thead th {\n",
              "        text-align: right;\n",
              "    }\n",
              "</style>\n",
              "<table border=\"1\" class=\"dataframe\">\n",
              "  <thead>\n",
              "    <tr style=\"text-align: right;\">\n",
              "      <th></th>\n",
              "      <th>Sex</th>\n",
              "      <th>Length</th>\n",
              "      <th>Diameter</th>\n",
              "      <th>Height</th>\n",
              "      <th>Whole weight</th>\n",
              "      <th>Shucked weight</th>\n",
              "      <th>Viscera weight</th>\n",
              "      <th>Shell weight</th>\n",
              "      <th>Rings</th>\n",
              "    </tr>\n",
              "  </thead>\n",
              "  <tbody>\n",
              "    <tr>\n",
              "      <th>Sex</th>\n",
              "      <td>1.000000</td>\n",
              "      <td>-0.053809</td>\n",
              "      <td>-0.058973</td>\n",
              "      <td>-0.060771</td>\n",
              "      <td>-0.044714</td>\n",
              "      <td>-0.029654</td>\n",
              "      <td>-0.054876</td>\n",
              "      <td>-0.053316</td>\n",
              "      <td>-0.044566</td>\n",
              "    </tr>\n",
              "    <tr>\n",
              "      <th>Length</th>\n",
              "      <td>-0.053809</td>\n",
              "      <td>1.000000</td>\n",
              "      <td>0.982577</td>\n",
              "      <td>0.894482</td>\n",
              "      <td>0.972765</td>\n",
              "      <td>0.956553</td>\n",
              "      <td>0.952819</td>\n",
              "      <td>0.949480</td>\n",
              "      <td>0.550328</td>\n",
              "    </tr>\n",
              "    <tr>\n",
              "      <th>Diameter</th>\n",
              "      <td>-0.058973</td>\n",
              "      <td>0.982577</td>\n",
              "      <td>1.000000</td>\n",
              "      <td>0.901311</td>\n",
              "      <td>0.971055</td>\n",
              "      <td>0.949928</td>\n",
              "      <td>0.947623</td>\n",
              "      <td>0.956195</td>\n",
              "      <td>0.571165</td>\n",
              "    </tr>\n",
              "    <tr>\n",
              "      <th>Height</th>\n",
              "      <td>-0.060771</td>\n",
              "      <td>0.894482</td>\n",
              "      <td>0.901311</td>\n",
              "      <td>1.000000</td>\n",
              "      <td>0.914689</td>\n",
              "      <td>0.877426</td>\n",
              "      <td>0.897916</td>\n",
              "      <td>0.920351</td>\n",
              "      <td>0.622877</td>\n",
              "    </tr>\n",
              "    <tr>\n",
              "      <th>Whole weight</th>\n",
              "      <td>-0.044714</td>\n",
              "      <td>0.972765</td>\n",
              "      <td>0.971055</td>\n",
              "      <td>0.914689</td>\n",
              "      <td>1.000000</td>\n",
              "      <td>0.978471</td>\n",
              "      <td>0.975041</td>\n",
              "      <td>0.970438</td>\n",
              "      <td>0.576114</td>\n",
              "    </tr>\n",
              "    <tr>\n",
              "      <th>Shucked weight</th>\n",
              "      <td>-0.029654</td>\n",
              "      <td>0.956553</td>\n",
              "      <td>0.949928</td>\n",
              "      <td>0.877426</td>\n",
              "      <td>0.978471</td>\n",
              "      <td>1.000000</td>\n",
              "      <td>0.947974</td>\n",
              "      <td>0.921706</td>\n",
              "      <td>0.482472</td>\n",
              "    </tr>\n",
              "    <tr>\n",
              "      <th>Viscera weight</th>\n",
              "      <td>-0.054876</td>\n",
              "      <td>0.952819</td>\n",
              "      <td>0.947623</td>\n",
              "      <td>0.897916</td>\n",
              "      <td>0.975041</td>\n",
              "      <td>0.947974</td>\n",
              "      <td>1.000000</td>\n",
              "      <td>0.938440</td>\n",
              "      <td>0.554953</td>\n",
              "    </tr>\n",
              "    <tr>\n",
              "      <th>Shell weight</th>\n",
              "      <td>-0.053316</td>\n",
              "      <td>0.949480</td>\n",
              "      <td>0.956195</td>\n",
              "      <td>0.920351</td>\n",
              "      <td>0.970438</td>\n",
              "      <td>0.921706</td>\n",
              "      <td>0.938440</td>\n",
              "      <td>1.000000</td>\n",
              "      <td>0.643446</td>\n",
              "    </tr>\n",
              "    <tr>\n",
              "      <th>Rings</th>\n",
              "      <td>-0.044566</td>\n",
              "      <td>0.550328</td>\n",
              "      <td>0.571165</td>\n",
              "      <td>0.622877</td>\n",
              "      <td>0.576114</td>\n",
              "      <td>0.482472</td>\n",
              "      <td>0.554953</td>\n",
              "      <td>0.643446</td>\n",
              "      <td>1.000000</td>\n",
              "    </tr>\n",
              "  </tbody>\n",
              "</table>\n",
              "</div>\n",
              "      <button class=\"colab-df-convert\" onclick=\"convertToInteractive('df-8653ac81-7585-4178-8279-47c8c482d18f')\"\n",
              "              title=\"Convert this dataframe to an interactive table.\"\n",
              "              style=\"display:none;\">\n",
              "        \n",
              "  <svg xmlns=\"http://www.w3.org/2000/svg\" height=\"24px\"viewBox=\"0 0 24 24\"\n",
              "       width=\"24px\">\n",
              "    <path d=\"M0 0h24v24H0V0z\" fill=\"none\"/>\n",
              "    <path d=\"M18.56 5.44l.94 2.06.94-2.06 2.06-.94-2.06-.94-.94-2.06-.94 2.06-2.06.94zm-11 1L8.5 8.5l.94-2.06 2.06-.94-2.06-.94L8.5 2.5l-.94 2.06-2.06.94zm10 10l.94 2.06.94-2.06 2.06-.94-2.06-.94-.94-2.06-.94 2.06-2.06.94z\"/><path d=\"M17.41 7.96l-1.37-1.37c-.4-.4-.92-.59-1.43-.59-.52 0-1.04.2-1.43.59L10.3 9.45l-7.72 7.72c-.78.78-.78 2.05 0 2.83L4 21.41c.39.39.9.59 1.41.59.51 0 1.02-.2 1.41-.59l7.78-7.78 2.81-2.81c.8-.78.8-2.07 0-2.86zM5.41 20L4 18.59l7.72-7.72 1.47 1.35L5.41 20z\"/>\n",
              "  </svg>\n",
              "      </button>\n",
              "      \n",
              "  <style>\n",
              "    .colab-df-container {\n",
              "      display:flex;\n",
              "      flex-wrap:wrap;\n",
              "      gap: 12px;\n",
              "    }\n",
              "\n",
              "    .colab-df-convert {\n",
              "      background-color: #E8F0FE;\n",
              "      border: none;\n",
              "      border-radius: 50%;\n",
              "      cursor: pointer;\n",
              "      display: none;\n",
              "      fill: #1967D2;\n",
              "      height: 32px;\n",
              "      padding: 0 0 0 0;\n",
              "      width: 32px;\n",
              "    }\n",
              "\n",
              "    .colab-df-convert:hover {\n",
              "      background-color: #E2EBFA;\n",
              "      box-shadow: 0px 1px 2px rgba(60, 64, 67, 0.3), 0px 1px 3px 1px rgba(60, 64, 67, 0.15);\n",
              "      fill: #174EA6;\n",
              "    }\n",
              "\n",
              "    [theme=dark] .colab-df-convert {\n",
              "      background-color: #3B4455;\n",
              "      fill: #D2E3FC;\n",
              "    }\n",
              "\n",
              "    [theme=dark] .colab-df-convert:hover {\n",
              "      background-color: #434B5C;\n",
              "      box-shadow: 0px 1px 3px 1px rgba(0, 0, 0, 0.15);\n",
              "      filter: drop-shadow(0px 1px 2px rgba(0, 0, 0, 0.3));\n",
              "      fill: #FFFFFF;\n",
              "    }\n",
              "  </style>\n",
              "\n",
              "      <script>\n",
              "        const buttonEl =\n",
              "          document.querySelector('#df-8653ac81-7585-4178-8279-47c8c482d18f button.colab-df-convert');\n",
              "        buttonEl.style.display =\n",
              "          google.colab.kernel.accessAllowed ? 'block' : 'none';\n",
              "\n",
              "        async function convertToInteractive(key) {\n",
              "          const element = document.querySelector('#df-8653ac81-7585-4178-8279-47c8c482d18f');\n",
              "          const dataTable =\n",
              "            await google.colab.kernel.invokeFunction('convertToInteractive',\n",
              "                                                     [key], {});\n",
              "          if (!dataTable) return;\n",
              "\n",
              "          const docLinkHtml = 'Like what you see? Visit the ' +\n",
              "            '<a target=\"_blank\" href=https://colab.research.google.com/notebooks/data_table.ipynb>data table notebook</a>'\n",
              "            + ' to learn more about interactive tables.';\n",
              "          element.innerHTML = '';\n",
              "          dataTable['output_type'] = 'display_data';\n",
              "          await google.colab.output.renderOutput(dataTable, element);\n",
              "          const docLink = document.createElement('div');\n",
              "          docLink.innerHTML = docLinkHtml;\n",
              "          element.appendChild(docLink);\n",
              "        }\n",
              "      </script>\n",
              "    </div>\n",
              "  </div>\n",
              "  "
            ]
          },
          "metadata": {},
          "execution_count": 279
        }
      ]
    },
    {
      "cell_type": "code",
      "source": [
        "import seaborn as sns\n",
        "sns.heatmap(df.corr(),cmap=\"Blues\",annot=True)"
      ],
      "metadata": {
        "colab": {
          "base_uri": "https://localhost:8080/",
          "height": 356
        },
        "id": "aI1rXJKo7Y4m",
        "outputId": "7a09e2c5-d1d2-4fe3-8766-bd6c20eac4c9"
      },
      "execution_count": null,
      "outputs": [
        {
          "output_type": "execute_result",
          "data": {
            "text/plain": [
              "<matplotlib.axes._subplots.AxesSubplot at 0x7f939317e6d0>"
            ]
          },
          "metadata": {},
          "execution_count": 280
        },
        {
          "output_type": "display_data",
          "data": {
            "text/plain": [
              "<Figure size 432x288 with 2 Axes>"
            ],
            "image/png": "[encoded data removed]"
          },
          "metadata": {
            "needs_background": "light"
          }
        }
      ]
    },
    {
      "cell_type": "code",
      "source": [
        "from statsmodels.stats.outliers_influence import variance_inflation_factor"
      ],
      "metadata": {
        "id": "mgMPkLvK7riS"
      },
      "execution_count": null,
      "outputs": []
    },
    {
      "cell_type": "code",
      "source": [
        "# independent Column\n",
        "x=df.iloc[:,:-1]\n",
        "# target\n",
        "y=df.iloc[:,-1]"
      ],
      "metadata": {
        "id": "BYIYQmUa8oOB"
      },
      "execution_count": null,
      "outputs": []
    },
    {
      "cell_type": "code",
      "source": [
        "x"
      ],
      "metadata": {
        "colab": {
          "base_uri": "https://localhost:8080/",
          "height": 423
        },
        "id": "mxNXsxnZ8vby",
        "outputId": "6e4dfc7c-b204-47c8-f426-5d2dd5bc38c1"
      },
      "execution_count": null,
      "outputs": [
        {
          "output_type": "execute_result",
          "data": {
            "text/plain": [
              "           Sex    Length  Diameter    Height  Whole weight  Shucked weight  \\\n",
              "0     1.127072 -0.685502 -0.549860 -1.124512     -0.576766       -0.540989   \n",
              "1     1.127072 -1.396344 -1.387333 -1.264396     -1.351761       -1.311662   \n",
              "2    -1.307935 -0.070774  0.008537 -0.064823     -0.198099       -0.366116   \n",
              "3     1.127072 -0.797286 -0.549860 -0.320227     -0.571893       -0.591672   \n",
              "4    -0.009459 -1.513796 -1.459659 -1.549424     -1.413146       -1.380201   \n",
              "...        ...       ...       ...       ...           ...             ...   \n",
              "4172 -1.307935  0.249836  0.345636  0.666117      0.241948        0.194158   \n",
              "4173  1.127072  0.492813  0.230611 -0.064823      0.395706        0.495450   \n",
              "4174  1.127072  0.593366  0.645191  1.565082      0.777944        0.838137   \n",
              "4175 -1.307935  0.853375  0.769928  0.307083      0.633874        0.858739   \n",
              "4176  1.127072  1.834478  1.726289  1.347943      1.937323        2.103648   \n",
              "\n",
              "      Viscera weight  Shell weight  \n",
              "0          -0.693283     -0.587809  \n",
              "1          -1.332953     -1.332420  \n",
              "2          -0.255135     -0.098262  \n",
              "3          -0.547782     -0.544931  \n",
              "4          -1.451759     -1.485528  \n",
              "...              ...           ...  \n",
              "4172        0.639623      0.193008  \n",
              "4173        0.433568      0.275215  \n",
              "4174        1.015607      0.598398  \n",
              "4175        0.815184      0.519145  \n",
              "4176        1.611344      1.658488  \n",
              "\n",
              "[4089 rows x 8 columns]"
            ],
            "text/html": [
              "\n",
              "  <div id=\"df-282a8a86-dea9-4302-9815-bca914fc9b3e\">\n",
              "    <div class=\"colab-df-container\">\n",
              "      <div>\n",
              "<style scoped>\n",
              "    .dataframe tbody tr th:only-of-type {\n",
              "        vertical-align: middle;\n",
              "    }\n",
              "\n",
              "    .dataframe tbody tr th {\n",
              "        vertical-align: top;\n",
              "    }\n",
              "\n",
              "    .dataframe thead th {\n",
              "        text-align: right;\n",
              "    }\n",
              "</style>\n",
              "<table border=\"1\" class=\"dataframe\">\n",
              "  <thead>\n",
              "    <tr style=\"text-align: right;\">\n",
              "      <th></th>\n",
              "      <th>Sex</th>\n",
              "      <th>Length</th>\n",
              "      <th>Diameter</th>\n",
              "      <th>Height</th>\n",
              "      <th>Whole weight</th>\n",
              "      <th>Shucked weight</th>\n",
              "      <th>Viscera weight</th>\n",
              "      <th>Shell weight</th>\n",
              "    </tr>\n",
              "  </thead>\n",
              "  <tbody>\n",
              "    <tr>\n",
              "      <th>0</th>\n",
              "      <td>1.127072</td>\n",
              "      <td>-0.685502</td>\n",
              "      <td>-0.549860</td>\n",
              "      <td>-1.124512</td>\n",
              "      <td>-0.576766</td>\n",
              "      <td>-0.540989</td>\n",
              "      <td>-0.693283</td>\n",
              "      <td>-0.587809</td>\n",
              "    </tr>\n",
              "    <tr>\n",
              "      <th>1</th>\n",
              "      <td>1.127072</td>\n",
              "      <td>-1.396344</td>\n",
              "      <td>-1.387333</td>\n",
              "      <td>-1.264396</td>\n",
              "      <td>-1.351761</td>\n",
              "      <td>-1.311662</td>\n",
              "      <td>-1.332953</td>\n",
              "      <td>-1.332420</td>\n",
              "    </tr>\n",
              "    <tr>\n",
              "      <th>2</th>\n",
              "      <td>-1.307935</td>\n",
              "      <td>-0.070774</td>\n",
              "      <td>0.008537</td>\n",
              "      <td>-0.064823</td>\n",
              "      <td>-0.198099</td>\n",
              "      <td>-0.366116</td>\n",
              "      <td>-0.255135</td>\n",
              "      <td>-0.098262</td>\n",
              "    </tr>\n",
              "    <tr>\n",
              "      <th>3</th>\n",
              "      <td>1.127072</td>\n",
              "      <td>-0.797286</td>\n",
              "      <td>-0.549860</td>\n",
              "      <td>-0.320227</td>\n",
              "      <td>-0.571893</td>\n",
              "      <td>-0.591672</td>\n",
              "      <td>-0.547782</td>\n",
              "      <td>-0.544931</td>\n",
              "    </tr>\n",
              "    <tr>\n",
              "      <th>4</th>\n",
              "      <td>-0.009459</td>\n",
              "      <td>-1.513796</td>\n",
              "      <td>-1.459659</td>\n",
              "      <td>-1.549424</td>\n",
              "      <td>-1.413146</td>\n",
              "      <td>-1.380201</td>\n",
              "      <td>-1.451759</td>\n",
              "      <td>-1.485528</td>\n",
              "    </tr>\n",
              "    <tr>\n",
              "      <th>...</th>\n",
              "      <td>...</td>\n",
              "      <td>...</td>\n",
              "      <td>...</td>\n",
              "      <td>...</td>\n",
              "      <td>...</td>\n",
              "      <td>...</td>\n",
              "      <td>...</td>\n",
              "      <td>...</td>\n",
              "    </tr>\n",
              "    <tr>\n",
              "      <th>4172</th>\n",
              "      <td>-1.307935</td>\n",
              "      <td>0.249836</td>\n",
              "      <td>0.345636</td>\n",
              "      <td>0.666117</td>\n",
              "      <td>0.241948</td>\n",
              "      <td>0.194158</td>\n",
              "      <td>0.639623</td>\n",
              "      <td>0.193008</td>\n",
              "    </tr>\n",
              "    <tr>\n",
              "      <th>4173</th>\n",
              "      <td>1.127072</td>\n",
              "      <td>0.492813</td>\n",
              "      <td>0.230611</td>\n",
              "      <td>-0.064823</td>\n",
              "      <td>0.395706</td>\n",
              "      <td>0.495450</td>\n",
              "      <td>0.433568</td>\n",
              "      <td>0.275215</td>\n",
              "    </tr>\n",
              "    <tr>\n",
              "      <th>4174</th>\n",
              "      <td>1.127072</td>\n",
              "      <td>0.593366</td>\n",
              "      <td>0.645191</td>\n",
              "      <td>1.565082</td>\n",
              "      <td>0.777944</td>\n",
              "      <td>0.838137</td>\n",
              "      <td>1.015607</td>\n",
              "      <td>0.598398</td>\n",
              "    </tr>\n",
              "    <tr>\n",
              "      <th>4175</th>\n",
              "      <td>-1.307935</td>\n",
              "      <td>0.853375</td>\n",
              "      <td>0.769928</td>\n",
              "      <td>0.307083</td>\n",
              "      <td>0.633874</td>\n",
              "      <td>0.858739</td>\n",
              "      <td>0.815184</td>\n",
              "      <td>0.519145</td>\n",
              "    </tr>\n",
              "    <tr>\n",
              "      <th>4176</th>\n",
              "      <td>1.127072</td>\n",
              "      <td>1.834478</td>\n",
              "      <td>1.726289</td>\n",
              "      <td>1.347943</td>\n",
              "      <td>1.937323</td>\n",
              "      <td>2.103648</td>\n",
              "      <td>1.611344</td>\n",
              "      <td>1.658488</td>\n",
              "    </tr>\n",
              "  </tbody>\n",
              "</table>\n",
              "<p>4089 rows × 8 columns</p>\n",
              "</div>\n",
              "      <button class=\"colab-df-convert\" onclick=\"convertToInteractive('df-282a8a86-dea9-4302-9815-bca914fc9b3e')\"\n",
              "              title=\"Convert this dataframe to an interactive table.\"\n",
              "              style=\"display:none;\">\n",
              "        \n",
              "  <svg xmlns=\"http://www.w3.org/2000/svg\" height=\"24px\"viewBox=\"0 0 24 24\"\n",
              "       width=\"24px\">\n",
              "    <path d=\"M0 0h24v24H0V0z\" fill=\"none\"/>\n",
              "    <path d=\"M18.56 5.44l.94 2.06.94-2.06 2.06-.94-2.06-.94-.94-2.06-.94 2.06-2.06.94zm-11 1L8.5 8.5l.94-2.06 2.06-.94-2.06-.94L8.5 2.5l-.94 2.06-2.06.94zm10 10l.94 2.06.94-2.06 2.06-.94-2.06-.94-.94-2.06-.94 2.06-2.06.94z\"/><path d=\"M17.41 7.96l-1.37-1.37c-.4-.4-.92-.59-1.43-.59-.52 0-1.04.2-1.43.59L10.3 9.45l-7.72 7.72c-.78.78-.78 2.05 0 2.83L4 21.41c.39.39.9.59 1.41.59.51 0 1.02-.2 1.41-.59l7.78-7.78 2.81-2.81c.8-.78.8-2.07 0-2.86zM5.41 20L4 18.59l7.72-7.72 1.47 1.35L5.41 20z\"/>\n",
              "  </svg>\n",
              "      </button>\n",
              "      \n",
              "  <style>\n",
              "    .colab-df-container {\n",
              "      display:flex;\n",
              "      flex-wrap:wrap;\n",
              "      gap: 12px;\n",
              "    }\n",
              "\n",
              "    .colab-df-convert {\n",
              "      background-color: #E8F0FE;\n",
              "      border: none;\n",
              "      border-radius: 50%;\n",
              "      cursor: pointer;\n",
              "      display: none;\n",
              "      fill: #1967D2;\n",
              "      height: 32px;\n",
              "      padding: 0 0 0 0;\n",
              "      width: 32px;\n",
              "    }\n",
              "\n",
              "    .colab-df-convert:hover {\n",
              "      background-color: #E2EBFA;\n",
              "      box-shadow: 0px 1px 2px rgba(60, 64, 67, 0.3), 0px 1px 3px 1px rgba(60, 64, 67, 0.15);\n",
              "      fill: #174EA6;\n",
              "    }\n",
              "\n",
              "    [theme=dark] .colab-df-convert {\n",
              "      background-color: #3B4455;\n",
              "      fill: #D2E3FC;\n",
              "    }\n",
              "\n",
              "    [theme=dark] .colab-df-convert:hover {\n",
              "      background-color: #434B5C;\n",
              "      box-shadow: 0px 1px 3px 1px rgba(0, 0, 0, 0.15);\n",
              "      filter: drop-shadow(0px 1px 2px rgba(0, 0, 0, 0.3));\n",
              "      fill: #FFFFFF;\n",
              "    }\n",
              "  </style>\n",
              "\n",
              "      <script>\n",
              "        const buttonEl =\n",
              "          document.querySelector('#df-282a8a86-dea9-4302-9815-bca914fc9b3e button.colab-df-convert');\n",
              "        buttonEl.style.display =\n",
              "          google.colab.kernel.accessAllowed ? 'block' : 'none';\n",
              "\n",
              "        async function convertToInteractive(key) {\n",
              "          const element = document.querySelector('#df-282a8a86-dea9-4302-9815-bca914fc9b3e');\n",
              "          const dataTable =\n",
              "            await google.colab.kernel.invokeFunction('convertToInteractive',\n",
              "                                                     [key], {});\n",
              "          if (!dataTable) return;\n",
              "\n",
              "          const docLinkHtml = 'Like what you see? Visit the ' +\n",
              "            '<a target=\"_blank\" href=https://colab.research.google.com/notebooks/data_table.ipynb>data table notebook</a>'\n",
              "            + ' to learn more about interactive tables.';\n",
              "          element.innerHTML = '';\n",
              "          dataTable['output_type'] = 'display_data';\n",
              "          await google.colab.output.renderOutput(dataTable, element);\n",
              "          const docLink = document.createElement('div');\n",
              "          docLink.innerHTML = docLinkHtml;\n",
              "          element.appendChild(docLink);\n",
              "        }\n",
              "      </script>\n",
              "    </div>\n",
              "  </div>\n",
              "  "
            ]
          },
          "metadata": {},
          "execution_count": 283
        }
      ]
    },
    {
      "cell_type": "code",
      "source": [
        "y"
      ],
      "metadata": {
        "colab": {
          "base_uri": "https://localhost:8080/"
        },
        "id": "IFceuZq98wih",
        "outputId": "5bae2feb-189a-4358-e66c-5db934ef1d73"
      },
      "execution_count": null,
      "outputs": [
        {
          "output_type": "execute_result",
          "data": {
            "text/plain": [
              "0       15\n",
              "1        7\n",
              "2        9\n",
              "3       10\n",
              "4        7\n",
              "        ..\n",
              "4172    11\n",
              "4173    10\n",
              "4174     9\n",
              "4175    10\n",
              "4176    12\n",
              "Name: Rings, Length: 4089, dtype: int64"
            ]
          },
          "metadata": {},
          "execution_count": 284
        }
      ]
    },
    {
      "cell_type": "code",
      "source": [
        "def vif_calc():\n",
        "  vif=pd.DataFrame()\n",
        "  vif[\"VIF Factor\"]=[variance_inflation_factor(x.values,i) for i in range(x.shape[1])]\n",
        "  vif[\"features\"]=x.columns\n",
        "  print(vif)"
      ],
      "metadata": {
        "id": "0GY_zzD48xFR"
      },
      "execution_count": null,
      "outputs": []
    },
    {
      "cell_type": "code",
      "source": [
        "vif_calc()"
      ],
      "metadata": {
        "colab": {
          "base_uri": "https://localhost:8080/"
        },
        "id": "9y0ND9NN92eB",
        "outputId": "77caae72-4a2c-4567-cb0d-f5bdfe036428"
      },
      "execution_count": null,
      "outputs": [
        {
          "output_type": "stream",
          "name": "stdout",
          "text": [
            "   VIF Factor        features\n",
            "0    1.013544             Sex\n",
            "1   36.461065          Length\n",
            "2   35.404797        Diameter\n",
            "3    7.043978          Height\n",
            "4  145.752070    Whole weight\n",
            "5   38.665499  Shucked weight\n",
            "6   23.145142  Viscera weight\n",
            "7   31.796079    Shell weight\n"
          ]
        }
      ]
    },
    {
      "cell_type": "code",
      "source": [
        "import seaborn as sns\n",
        "sns.heatmap(df.corr(),cmap=\"Blues\",annot=True)"
      ],
      "metadata": {
        "colab": {
          "base_uri": "https://localhost:8080/",
          "height": 356
        },
        "id": "MsK1pVOE4a1O",
        "outputId": "2a4a4e1f-a6d6-45e3-c8bb-3f4009741e58"
      },
      "execution_count": null,
      "outputs": [
        {
          "output_type": "execute_result",
          "data": {
            "text/plain": [
              "<matplotlib.axes._subplots.AxesSubplot at 0x7f9392fe15d0>"
            ]
          },
          "metadata": {},
          "execution_count": 287
        },
        {
          "output_type": "display_data",
          "data": {
            "text/plain": [
              "<Figure size 432x288 with 2 Axes>"
            ],
            "image/png": "[encoded data removed]"
          },
          "metadata": {
            "needs_background": "light"
          }
        }
      ]
    },
    {
      "cell_type": "markdown",
      "source": [
        "dropping the least coorelated column with high variance inflation factor"
      ],
      "metadata": {
        "id": "7JHO4IVo4d4a"
      }
    },
    {
      "cell_type": "code",
      "source": [
        "x.drop(['Shucked weight'],axis=1,inplace=True)"
      ],
      "metadata": {
        "id": "ww2D6IvZ4cZq"
      },
      "execution_count": null,
      "outputs": []
    },
    {
      "cell_type": "code",
      "source": [
        "x"
      ],
      "metadata": {
        "colab": {
          "base_uri": "https://localhost:8080/",
          "height": 423
        },
        "id": "SKwC-m5r6gQ9",
        "outputId": "b95e413e-e945-440d-964c-7052b7b735a5"
      },
      "execution_count": null,
      "outputs": [
        {
          "output_type": "execute_result",
          "data": {
            "text/plain": [
              "           Sex    Length  Diameter    Height  Whole weight  Viscera weight  \\\n",
              "0     1.127072 -0.685502 -0.549860 -1.124512     -0.576766       -0.693283   \n",
              "1     1.127072 -1.396344 -1.387333 -1.264396     -1.351761       -1.332953   \n",
              "2    -1.307935 -0.070774  0.008537 -0.064823     -0.198099       -0.255135   \n",
              "3     1.127072 -0.797286 -0.549860 -0.320227     -0.571893       -0.547782   \n",
              "4    -0.009459 -1.513796 -1.459659 -1.549424     -1.413146       -1.451759   \n",
              "...        ...       ...       ...       ...           ...             ...   \n",
              "4172 -1.307935  0.249836  0.345636  0.666117      0.241948        0.639623   \n",
              "4173  1.127072  0.492813  0.230611 -0.064823      0.395706        0.433568   \n",
              "4174  1.127072  0.593366  0.645191  1.565082      0.777944        1.015607   \n",
              "4175 -1.307935  0.853375  0.769928  0.307083      0.633874        0.815184   \n",
              "4176  1.127072  1.834478  1.726289  1.347943      1.937323        1.611344   \n",
              "\n",
              "      Shell weight  \n",
              "0        -0.587809  \n",
              "1        -1.332420  \n",
              "2        -0.098262  \n",
              "3        -0.544931  \n",
              "4        -1.485528  \n",
              "...            ...  \n",
              "4172      0.193008  \n",
              "4173      0.275215  \n",
              "4174      0.598398  \n",
              "4175      0.519145  \n",
              "4176      1.658488  \n",
              "\n",
              "[4089 rows x 7 columns]"
            ],
            "text/html": [
              "\n",
              "  <div id=\"df-c98d59e5-4537-4ffb-ac8c-d0e27b30bc09\">\n",
              "    <div class=\"colab-df-container\">\n",
              "      <div>\n",
              "<style scoped>\n",
              "    .dataframe tbody tr th:only-of-type {\n",
              "        vertical-align: middle;\n",
              "    }\n",
              "\n",
              "    .dataframe tbody tr th {\n",
              "        vertical-align: top;\n",
              "    }\n",
              "\n",
              "    .dataframe thead th {\n",
              "        text-align: right;\n",
              "    }\n",
              "</style>\n",
              "<table border=\"1\" class=\"dataframe\">\n",
              "  <thead>\n",
              "    <tr style=\"text-align: right;\">\n",
              "      <th></th>\n",
              "      <th>Sex</th>\n",
              "      <th>Length</th>\n",
              "      <th>Diameter</th>\n",
              "      <th>Height</th>\n",
              "      <th>Whole weight</th>\n",
              "      <th>Viscera weight</th>\n",
              "      <th>Shell weight</th>\n",
              "    </tr>\n",
              "  </thead>\n",
              "  <tbody>\n",
              "    <tr>\n",
              "      <th>0</th>\n",
              "      <td>1.127072</td>\n",
              "      <td>-0.685502</td>\n",
              "      <td>-0.549860</td>\n",
              "      <td>-1.124512</td>\n",
              "      <td>-0.576766</td>\n",
              "      <td>-0.693283</td>\n",
              "      <td>-0.587809</td>\n",
              "    </tr>\n",
              "    <tr>\n",
              "      <th>1</th>\n",
              "      <td>1.127072</td>\n",
              "      <td>-1.396344</td>\n",
              "      <td>-1.387333</td>\n",
              "      <td>-1.264396</td>\n",
              "      <td>-1.351761</td>\n",
              "      <td>-1.332953</td>\n",
              "      <td>-1.332420</td>\n",
              "    </tr>\n",
              "    <tr>\n",
              "      <th>2</th>\n",
              "      <td>-1.307935</td>\n",
              "      <td>-0.070774</td>\n",
              "      <td>0.008537</td>\n",
              "      <td>-0.064823</td>\n",
              "      <td>-0.198099</td>\n",
              "      <td>-0.255135</td>\n",
              "      <td>-0.098262</td>\n",
              "    </tr>\n",
              "    <tr>\n",
              "      <th>3</th>\n",
              "      <td>1.127072</td>\n",
              "      <td>-0.797286</td>\n",
              "      <td>-0.549860</td>\n",
              "      <td>-0.320227</td>\n",
              "      <td>-0.571893</td>\n",
              "      <td>-0.547782</td>\n",
              "      <td>-0.544931</td>\n",
              "    </tr>\n",
              "    <tr>\n",
              "      <th>4</th>\n",
              "      <td>-0.009459</td>\n",
              "      <td>-1.513796</td>\n",
              "      <td>-1.459659</td>\n",
              "      <td>-1.549424</td>\n",
              "      <td>-1.413146</td>\n",
              "      <td>-1.451759</td>\n",
              "      <td>-1.485528</td>\n",
              "    </tr>\n",
              "    <tr>\n",
              "      <th>...</th>\n",
              "      <td>...</td>\n",
              "      <td>...</td>\n",
              "      <td>...</td>\n",
              "      <td>...</td>\n",
              "      <td>...</td>\n",
              "      <td>...</td>\n",
              "      <td>...</td>\n",
              "    </tr>\n",
              "    <tr>\n",
              "      <th>4172</th>\n",
              "      <td>-1.307935</td>\n",
              "      <td>0.249836</td>\n",
              "      <td>0.345636</td>\n",
              "      <td>0.666117</td>\n",
              "      <td>0.241948</td>\n",
              "      <td>0.639623</td>\n",
              "      <td>0.193008</td>\n",
              "    </tr>\n",
              "    <tr>\n",
              "      <th>4173</th>\n",
              "      <td>1.127072</td>\n",
              "      <td>0.492813</td>\n",
              "      <td>0.230611</td>\n",
              "      <td>-0.064823</td>\n",
              "      <td>0.395706</td>\n",
              "      <td>0.433568</td>\n",
              "      <td>0.275215</td>\n",
              "    </tr>\n",
              "    <tr>\n",
              "      <th>4174</th>\n",
              "      <td>1.127072</td>\n",
              "      <td>0.593366</td>\n",
              "      <td>0.645191</td>\n",
              "      <td>1.565082</td>\n",
              "      <td>0.777944</td>\n",
              "      <td>1.015607</td>\n",
              "      <td>0.598398</td>\n",
              "    </tr>\n",
              "    <tr>\n",
              "      <th>4175</th>\n",
              "      <td>-1.307935</td>\n",
              "      <td>0.853375</td>\n",
              "      <td>0.769928</td>\n",
              "      <td>0.307083</td>\n",
              "      <td>0.633874</td>\n",
              "      <td>0.815184</td>\n",
              "      <td>0.519145</td>\n",
              "    </tr>\n",
              "    <tr>\n",
              "      <th>4176</th>\n",
              "      <td>1.127072</td>\n",
              "      <td>1.834478</td>\n",
              "      <td>1.726289</td>\n",
              "      <td>1.347943</td>\n",
              "      <td>1.937323</td>\n",
              "      <td>1.611344</td>\n",
              "      <td>1.658488</td>\n",
              "    </tr>\n",
              "  </tbody>\n",
              "</table>\n",
              "<p>4089 rows × 7 columns</p>\n",
              "</div>\n",
              "      <button class=\"colab-df-convert\" onclick=\"convertToInteractive('df-c98d59e5-4537-4ffb-ac8c-d0e27b30bc09')\"\n",
              "              title=\"Convert this dataframe to an interactive table.\"\n",
              "              style=\"display:none;\">\n",
              "        \n",
              "  <svg xmlns=\"http://www.w3.org/2000/svg\" height=\"24px\"viewBox=\"0 0 24 24\"\n",
              "       width=\"24px\">\n",
              "    <path d=\"M0 0h24v24H0V0z\" fill=\"none\"/>\n",
              "    <path d=\"M18.56 5.44l.94 2.06.94-2.06 2.06-.94-2.06-.94-.94-2.06-.94 2.06-2.06.94zm-11 1L8.5 8.5l.94-2.06 2.06-.94-2.06-.94L8.5 2.5l-.94 2.06-2.06.94zm10 10l.94 2.06.94-2.06 2.06-.94-2.06-.94-.94-2.06-.94 2.06-2.06.94z\"/><path d=\"M17.41 7.96l-1.37-1.37c-.4-.4-.92-.59-1.43-.59-.52 0-1.04.2-1.43.59L10.3 9.45l-7.72 7.72c-.78.78-.78 2.05 0 2.83L4 21.41c.39.39.9.59 1.41.59.51 0 1.02-.2 1.41-.59l7.78-7.78 2.81-2.81c.8-.78.8-2.07 0-2.86zM5.41 20L4 18.59l7.72-7.72 1.47 1.35L5.41 20z\"/>\n",
              "  </svg>\n",
              "      </button>\n",
              "      \n",
              "  <style>\n",
              "    .colab-df-container {\n",
              "      display:flex;\n",
              "      flex-wrap:wrap;\n",
              "      gap: 12px;\n",
              "    }\n",
              "\n",
              "    .colab-df-convert {\n",
              "      background-color: #E8F0FE;\n",
              "      border: none;\n",
              "      border-radius: 50%;\n",
              "      cursor: pointer;\n",
              "      display: none;\n",
              "      fill: #1967D2;\n",
              "      height: 32px;\n",
              "      padding: 0 0 0 0;\n",
              "      width: 32px;\n",
              "    }\n",
              "\n",
              "    .colab-df-convert:hover {\n",
              "      background-color: #E2EBFA;\n",
              "      box-shadow: 0px 1px 2px rgba(60, 64, 67, 0.3), 0px 1px 3px 1px rgba(60, 64, 67, 0.15);\n",
              "      fill: #174EA6;\n",
              "    }\n",
              "\n",
              "    [theme=dark] .colab-df-convert {\n",
              "      background-color: #3B4455;\n",
              "      fill: #D2E3FC;\n",
              "    }\n",
              "\n",
              "    [theme=dark] .colab-df-convert:hover {\n",
              "      background-color: #434B5C;\n",
              "      box-shadow: 0px 1px 3px 1px rgba(0, 0, 0, 0.15);\n",
              "      filter: drop-shadow(0px 1px 2px rgba(0, 0, 0, 0.3));\n",
              "      fill: #FFFFFF;\n",
              "    }\n",
              "  </style>\n",
              "\n",
              "      <script>\n",
              "        const buttonEl =\n",
              "          document.querySelector('#df-c98d59e5-4537-4ffb-ac8c-d0e27b30bc09 button.colab-df-convert');\n",
              "        buttonEl.style.display =\n",
              "          google.colab.kernel.accessAllowed ? 'block' : 'none';\n",
              "\n",
              "        async function convertToInteractive(key) {\n",
              "          const element = document.querySelector('#df-c98d59e5-4537-4ffb-ac8c-d0e27b30bc09');\n",
              "          const dataTable =\n",
              "            await google.colab.kernel.invokeFunction('convertToInteractive',\n",
              "                                                     [key], {});\n",
              "          if (!dataTable) return;\n",
              "\n",
              "          const docLinkHtml = 'Like what you see? Visit the ' +\n",
              "            '<a target=\"_blank\" href=https://colab.research.google.com/notebooks/data_table.ipynb>data table notebook</a>'\n",
              "            + ' to learn more about interactive tables.';\n",
              "          element.innerHTML = '';\n",
              "          dataTable['output_type'] = 'display_data';\n",
              "          await google.colab.output.renderOutput(dataTable, element);\n",
              "          const docLink = document.createElement('div');\n",
              "          docLink.innerHTML = docLinkHtml;\n",
              "          element.appendChild(docLink);\n",
              "        }\n",
              "      </script>\n",
              "    </div>\n",
              "  </div>\n",
              "  "
            ]
          },
          "metadata": {},
          "execution_count": 318
        }
      ]
    },
    {
      "cell_type": "markdown",
      "source": [
        "Rechecking the Variance inflation factor"
      ],
      "metadata": {
        "id": "QFB9QWj85KV_"
      }
    },
    {
      "cell_type": "code",
      "source": [
        "vif_calc()"
      ],
      "metadata": {
        "colab": {
          "base_uri": "https://localhost:8080/"
        },
        "id": "SCgaym_g6HR_",
        "outputId": "b6f541a6-9fb7-496e-b511-05ffc00b7621"
      },
      "execution_count": null,
      "outputs": [
        {
          "output_type": "stream",
          "name": "stdout",
          "text": [
            "   VIF Factor        features\n",
            "0    1.010781             Sex\n",
            "1   35.796694          Length\n",
            "2   35.334900        Diameter\n",
            "3    7.043978          Height\n",
            "4   54.782562    Whole weight\n",
            "5   21.329939  Viscera weight\n",
            "6   21.005174    Shell weight\n"
          ]
        }
      ]
    },
    {
      "cell_type": "markdown",
      "source": [
        "# Scaling the data "
      ],
      "metadata": {
        "id": "VF9-CKJi_OkI"
      }
    },
    {
      "cell_type": "code",
      "source": [
        "from sklearn.preprocessing import StandardScaler\n",
        "sc=StandardScaler()\n",
        "x=sc.fit_transform(x)\n",
        "x"
      ],
      "metadata": {
        "colab": {
          "base_uri": "https://localhost:8080/"
        },
        "id": "Hqee9qF798Yy",
        "outputId": "24f37442-617e-4ca6-f32d-8a6f703f90df"
      },
      "execution_count": null,
      "outputs": [
        {
          "output_type": "execute_result",
          "data": {
            "text/plain": [
              "array([[ 1.12568281, -0.68811815, -0.55024621, ..., -0.57397171,\n",
              "        -0.69281235, -0.58353679],\n",
              "       [ 1.12568281, -1.40810904, -1.3998753 , ..., -1.35871435,\n",
              "        -1.33784534, -1.34377352],\n",
              "       [-1.31423388, -0.06547848,  0.01625674, ..., -0.19054249,\n",
              "        -0.25099101, -0.08371633],\n",
              "       ...,\n",
              "       [ 1.12568281,  0.60720993,  0.66215191, ...,  0.79777696,\n",
              "         1.03040595,  0.62756323],\n",
              "       [-1.31423388,  0.87056545,  0.78869954, ...,  0.65189498,\n",
              "         0.82830241,  0.54664764],\n",
              "       [ 1.12568281,  1.86429554,  1.75894272, ...,  1.97173892,\n",
              "         1.63113754,  1.70990015]])"
            ]
          },
          "metadata": {},
          "execution_count": 320
        }
      ]
    },
    {
      "cell_type": "code",
      "source": [
        "from sklearn.model_selection import train_test_split\n",
        "from sklearn.linear_model import ElasticNet\n",
        "\n",
        "enr=ElasticNet()\n",
        "enr.fit(x_train,y_train)\n",
        "enrpred=enr.predict(x_test)\n",
        "print(enr.score(x_train,y_train))\n",
        "enr.coef_"
      ],
      "metadata": {
        "colab": {
          "base_uri": "https://localhost:8080/"
        },
        "id": "_kcDZkNOcnY0",
        "outputId": "2d4bdf25-8625-4033-f955-26f4cedf5351"
      },
      "execution_count": null,
      "outputs": [
        {
          "output_type": "stream",
          "name": "stdout",
          "text": [
            "0.3290031194232328\n"
          ]
        },
        {
          "output_type": "execute_result",
          "data": {
            "text/plain": [
              "array([-0.        ,  0.12539737,  0.21661887,  0.38123382,  0.00809898,\n",
              "        0.        ,  0.        ,  0.40644617])"
            ]
          },
          "metadata": {},
          "execution_count": 292
        }
      ]
    },
    {
      "cell_type": "markdown",
      "source": [
        "# Linear Regression"
      ],
      "metadata": {
        "id": "0WrxJj8SGjKG"
      }
    },
    {
      "cell_type": "code",
      "source": [
        "from sklearn.linear_model import LinearRegression\n",
        "from sklearn.model_selection import train_test_split\n",
        "from sklearn.metrics import mean_absolute_error,mean_squared_error\n",
        "from sklearn.metrics import r2_score\n",
        "\n",
        "\n",
        "for i in range(1,100):\n",
        "  x_train,x_test,y_train,y_test=train_test_split(x,y,test_size=.20,random_state=i)\n",
        "  lr=LinearRegression()\n",
        "  lr.fit(x_train,y_train)\n",
        "  pred_train=lr.predict(x_train)\n",
        "  pred_test=lr.predict(x_test)\n",
        "  print(f\"At random state {i},the training accuracy is :- {r2_score(y_train,pred_train)}\")\n",
        "  print(f\"At random state {i},the testing accuracy is :- {r2_score(y_test,pred_test)}\")\n",
        "  print(\"\\n\")\n",
        " "
      ],
      "metadata": {
        "colab": {
          "base_uri": "https://localhost:8080/"
        },
        "id": "8UMtigcK_bDp",
        "outputId": "cd901a2b-9260-4a33-f65c-fd529afd5cac"
      },
      "execution_count": null,
      "outputs": [
        {
          "output_type": "stream",
          "name": "stdout",
          "text": [
            "At random state 1,the training accuracy is :- 0.47244473404210274\n",
            "At random state 1,the testing accuracy is :- 0.49518558011014013\n",
            "\n",
            "\n",
            "At random state 2,the training accuracy is :- 0.4759190638009151\n",
            "At random state 2,the testing accuracy is :- 0.4810044260938404\n",
            "\n",
            "\n",
            "At random state 3,the training accuracy is :- 0.4734302651127891\n",
            "At random state 3,the testing accuracy is :- 0.4912546768741035\n",
            "\n",
            "\n",
            "At random state 4,the training accuracy is :- 0.47415301978931435\n",
            "At random state 4,the testing accuracy is :- 0.48815331957805386\n",
            "\n",
            "\n",
            "At random state 5,the training accuracy is :- 0.4812959279419846\n",
            "At random state 5,the testing accuracy is :- 0.4604898697297166\n",
            "\n",
            "\n",
            "At random state 6,the training accuracy is :- 0.4726552270440417\n",
            "At random state 6,the testing accuracy is :- 0.4935531604463429\n",
            "\n",
            "\n",
            "At random state 7,the training accuracy is :- 0.47661838578539195\n",
            "At random state 7,the testing accuracy is :- 0.4777812847166466\n",
            "\n",
            "\n",
            "At random state 8,the training accuracy is :- 0.4791558224024314\n",
            "At random state 8,the testing accuracy is :- 0.46588298136006656\n",
            "\n",
            "\n",
            "At random state 9,the training accuracy is :- 0.46869861909946553\n",
            "At random state 9,the testing accuracy is :- 0.5122150789342461\n",
            "\n",
            "\n",
            "At random state 10,the training accuracy is :- 0.46856589961268513\n",
            "At random state 10,the testing accuracy is :- 0.5090511345681716\n",
            "\n",
            "\n",
            "At random state 11,the training accuracy is :- 0.48103083662025736\n",
            "At random state 11,the testing accuracy is :- 0.4577005909292782\n",
            "\n",
            "\n",
            "At random state 12,the training accuracy is :- 0.4757011995835826\n",
            "At random state 12,the testing accuracy is :- 0.48172429993168364\n",
            "\n",
            "\n",
            "At random state 13,the training accuracy is :- 0.4867406258422554\n",
            "At random state 13,the testing accuracy is :- 0.4367890308754848\n",
            "\n",
            "\n",
            "At random state 14,the training accuracy is :- 0.4886281916886651\n",
            "At random state 14,the testing accuracy is :- 0.4255681529194085\n",
            "\n",
            "\n",
            "At random state 15,the training accuracy is :- 0.47052340988263\n",
            "At random state 15,the testing accuracy is :- 0.49847794306491\n",
            "\n",
            "\n",
            "At random state 16,the training accuracy is :- 0.4751549717182566\n",
            "At random state 16,the testing accuracy is :- 0.4840196251505099\n",
            "\n",
            "\n",
            "At random state 17,the training accuracy is :- 0.4743487475297251\n",
            "At random state 17,the testing accuracy is :- 0.48634476457415476\n",
            "\n",
            "\n",
            "At random state 18,the training accuracy is :- 0.4735800940357556\n",
            "At random state 18,the testing accuracy is :- 0.4918234872475302\n",
            "\n",
            "\n",
            "At random state 19,the training accuracy is :- 0.47829734954076486\n",
            "At random state 19,the testing accuracy is :- 0.4722004277282289\n",
            "\n",
            "\n",
            "At random state 20,the training accuracy is :- 0.4731215123457535\n",
            "At random state 20,the testing accuracy is :- 0.4934893505742509\n",
            "\n",
            "\n",
            "At random state 21,the training accuracy is :- 0.48436483981786727\n",
            "At random state 21,the testing accuracy is :- 0.4453873840064687\n",
            "\n",
            "\n",
            "At random state 22,the training accuracy is :- 0.47651706237280433\n",
            "At random state 22,the testing accuracy is :- 0.47864947823470705\n",
            "\n",
            "\n",
            "At random state 23,the training accuracy is :- 0.4830093191763212\n",
            "At random state 23,the testing accuracy is :- 0.45439768777171763\n",
            "\n",
            "\n",
            "At random state 24,the training accuracy is :- 0.47468223235617224\n",
            "At random state 24,the testing accuracy is :- 0.4860645102069444\n",
            "\n",
            "\n",
            "At random state 25,the training accuracy is :- 0.48465733841456093\n",
            "At random state 25,the testing accuracy is :- 0.44540244137011054\n",
            "\n",
            "\n",
            "At random state 26,the training accuracy is :- 0.4720860510371351\n",
            "At random state 26,the testing accuracy is :- 0.49583501073632796\n",
            "\n",
            "\n",
            "At random state 27,the training accuracy is :- 0.47895011226888384\n",
            "At random state 27,the testing accuracy is :- 0.46786987802479496\n",
            "\n",
            "\n",
            "At random state 28,the training accuracy is :- 0.4755323145702318\n",
            "At random state 28,the testing accuracy is :- 0.4810723307845157\n",
            "\n",
            "\n",
            "At random state 29,the training accuracy is :- 0.48038263093141853\n",
            "At random state 29,the testing accuracy is :- 0.4631963652233959\n",
            "\n",
            "\n",
            "At random state 30,the training accuracy is :- 0.4804182687734143\n",
            "At random state 30,the testing accuracy is :- 0.45830951205780135\n",
            "\n",
            "\n",
            "At random state 31,the training accuracy is :- 0.4737033102179712\n",
            "At random state 31,the testing accuracy is :- 0.48946403233697366\n",
            "\n",
            "\n",
            "At random state 32,the training accuracy is :- 0.4648978270279748\n",
            "At random state 32,the testing accuracy is :- 0.5215735010546517\n",
            "\n",
            "\n",
            "At random state 33,the training accuracy is :- 0.4754981762447389\n",
            "At random state 33,the testing accuracy is :- 0.4812218609668577\n",
            "\n",
            "\n",
            "At random state 34,the training accuracy is :- 0.46673422811751364\n",
            "At random state 34,the testing accuracy is :- 0.5145877736506022\n",
            "\n",
            "\n",
            "At random state 35,the training accuracy is :- 0.47926764068353245\n",
            "At random state 35,the testing accuracy is :- 0.46751453338724525\n",
            "\n",
            "\n",
            "At random state 36,the training accuracy is :- 0.4710737580199482\n",
            "At random state 36,the testing accuracy is :- 0.49585704843296774\n",
            "\n",
            "\n",
            "At random state 37,the training accuracy is :- 0.4793214846664928\n",
            "At random state 37,the testing accuracy is :- 0.46817189854979113\n",
            "\n",
            "\n",
            "At random state 38,the training accuracy is :- 0.4754499875903516\n",
            "At random state 38,the testing accuracy is :- 0.48259219122150443\n",
            "\n",
            "\n",
            "At random state 39,the training accuracy is :- 0.4874745979944788\n",
            "At random state 39,the testing accuracy is :- 0.4367167838385593\n",
            "\n",
            "\n",
            "At random state 40,the training accuracy is :- 0.47399012188399847\n",
            "At random state 40,the testing accuracy is :- 0.4888067982625539\n",
            "\n",
            "\n",
            "At random state 41,the training accuracy is :- 0.48339787701254344\n",
            "At random state 41,the testing accuracy is :- 0.4501281968131525\n",
            "\n",
            "\n",
            "At random state 42,the training accuracy is :- 0.4794188502895729\n",
            "At random state 42,the testing accuracy is :- 0.46811604574105714\n",
            "\n",
            "\n",
            "At random state 43,the training accuracy is :- 0.4707179903940908\n",
            "At random state 43,the testing accuracy is :- 0.4995307144629929\n",
            "\n",
            "\n",
            "At random state 44,the training accuracy is :- 0.47418789504324077\n",
            "At random state 44,the testing accuracy is :- 0.4856483215997135\n",
            "\n",
            "\n",
            "At random state 45,the training accuracy is :- 0.48710908764490124\n",
            "At random state 45,the testing accuracy is :- 0.4382197494830138\n",
            "\n",
            "\n",
            "At random state 46,the training accuracy is :- 0.4743263906862982\n",
            "At random state 46,the testing accuracy is :- 0.48644320776632255\n",
            "\n",
            "\n",
            "At random state 47,the training accuracy is :- 0.4835241359383159\n",
            "At random state 47,the testing accuracy is :- 0.44719039969859864\n",
            "\n",
            "\n",
            "At random state 48,the training accuracy is :- 0.4823693773334271\n",
            "At random state 48,the testing accuracy is :- 0.4523595320817291\n",
            "\n",
            "\n",
            "At random state 49,the training accuracy is :- 0.48302456495541846\n",
            "At random state 49,the testing accuracy is :- 0.4509668603536283\n",
            "\n",
            "\n",
            "At random state 50,the training accuracy is :- 0.4753320652244468\n",
            "At random state 50,the testing accuracy is :- 0.48317700401393104\n",
            "\n",
            "\n",
            "At random state 51,the training accuracy is :- 0.4806933651957709\n",
            "At random state 51,the testing accuracy is :- 0.4627202409364347\n",
            "\n",
            "\n",
            "At random state 52,the training accuracy is :- 0.4792424146936727\n",
            "At random state 52,the testing accuracy is :- 0.4687519663773373\n",
            "\n",
            "\n",
            "At random state 53,the training accuracy is :- 0.480334506030465\n",
            "At random state 53,the testing accuracy is :- 0.4646801856256212\n",
            "\n",
            "\n",
            "At random state 54,the training accuracy is :- 0.477712114332427\n",
            "At random state 54,the testing accuracy is :- 0.47338827423447427\n",
            "\n",
            "\n",
            "At random state 55,the training accuracy is :- 0.47134034270387826\n",
            "At random state 55,the testing accuracy is :- 0.49946086881971863\n",
            "\n",
            "\n",
            "At random state 56,the training accuracy is :- 0.4709561460733096\n",
            "At random state 56,the testing accuracy is :- 0.5018005813717299\n",
            "\n",
            "\n",
            "At random state 57,the training accuracy is :- 0.47049396452615744\n",
            "At random state 57,the testing accuracy is :- 0.5017540841908974\n",
            "\n",
            "\n",
            "At random state 58,the training accuracy is :- 0.468575618672478\n",
            "At random state 58,the testing accuracy is :- 0.5092755505732169\n",
            "\n",
            "\n",
            "At random state 59,the training accuracy is :- 0.47031539313623383\n",
            "At random state 59,the testing accuracy is :- 0.5068097719579782\n",
            "\n",
            "\n",
            "At random state 60,the training accuracy is :- 0.4762705891549428\n",
            "At random state 60,the testing accuracy is :- 0.48082996291040614\n",
            "\n",
            "\n",
            "At random state 61,the training accuracy is :- 0.48378178106180436\n",
            "At random state 61,the testing accuracy is :- 0.44806191471403245\n",
            "\n",
            "\n",
            "At random state 62,the training accuracy is :- 0.47991456022140366\n",
            "At random state 62,the testing accuracy is :- 0.4657237184361196\n",
            "\n",
            "\n",
            "At random state 63,the training accuracy is :- 0.4692681097698478\n",
            "At random state 63,the testing accuracy is :- 0.5067279981411801\n",
            "\n",
            "\n",
            "At random state 64,the training accuracy is :- 0.4802235091735261\n",
            "At random state 64,the testing accuracy is :- 0.46338501477361127\n",
            "\n",
            "\n",
            "At random state 65,the training accuracy is :- 0.47544854771626877\n",
            "At random state 65,the testing accuracy is :- 0.4835344349049794\n",
            "\n",
            "\n",
            "At random state 66,the training accuracy is :- 0.4751276062744292\n",
            "At random state 66,the testing accuracy is :- 0.48351663388629174\n",
            "\n",
            "\n",
            "At random state 67,the training accuracy is :- 0.47200697995867436\n",
            "At random state 67,the testing accuracy is :- 0.49774994342444856\n",
            "\n",
            "\n",
            "At random state 68,the training accuracy is :- 0.4823696633918567\n",
            "At random state 68,the testing accuracy is :- 0.45323906134263214\n",
            "\n",
            "\n",
            "At random state 69,the training accuracy is :- 0.4861463714874663\n",
            "At random state 69,the testing accuracy is :- 0.43975594814183905\n",
            "\n",
            "\n",
            "At random state 70,the training accuracy is :- 0.47898954836180074\n",
            "At random state 70,the testing accuracy is :- 0.4688606733241879\n",
            "\n",
            "\n",
            "At random state 71,the training accuracy is :- 0.47358617406056225\n",
            "At random state 71,the testing accuracy is :- 0.4898055578489803\n",
            "\n",
            "\n",
            "At random state 72,the training accuracy is :- 0.47890845542885363\n",
            "At random state 72,the testing accuracy is :- 0.4699327017968429\n",
            "\n",
            "\n",
            "At random state 73,the training accuracy is :- 0.48719698235586495\n",
            "At random state 73,the testing accuracy is :- 0.4366722203973824\n",
            "\n",
            "\n",
            "At random state 74,the training accuracy is :- 0.47328346873704585\n",
            "At random state 74,the testing accuracy is :- 0.49151246723708786\n",
            "\n",
            "\n",
            "At random state 75,the training accuracy is :- 0.4705968252738766\n",
            "At random state 75,the testing accuracy is :- 0.49821773984003337\n",
            "\n",
            "\n",
            "At random state 76,the training accuracy is :- 0.48052500766573436\n",
            "At random state 76,the testing accuracy is :- 0.46046386575889764\n",
            "\n",
            "\n",
            "At random state 77,the training accuracy is :- 0.4782272009057752\n",
            "At random state 77,the testing accuracy is :- 0.4720361010188059\n",
            "\n",
            "\n",
            "At random state 78,the training accuracy is :- 0.4881348553778071\n",
            "At random state 78,the testing accuracy is :- 0.4330095449500633\n",
            "\n",
            "\n",
            "At random state 79,the training accuracy is :- 0.47758327052733396\n",
            "At random state 79,the testing accuracy is :- 0.47539312233997033\n",
            "\n",
            "\n",
            "At random state 80,the training accuracy is :- 0.48792580228094995\n",
            "At random state 80,the testing accuracy is :- 0.4263641812162853\n",
            "\n",
            "\n",
            "At random state 81,the training accuracy is :- 0.4757590000004793\n",
            "At random state 81,the testing accuracy is :- 0.48155805665036755\n",
            "\n",
            "\n",
            "At random state 82,the training accuracy is :- 0.4847464231216001\n",
            "At random state 82,the testing accuracy is :- 0.4448098276775101\n",
            "\n",
            "\n",
            "At random state 83,the training accuracy is :- 0.4654931259173911\n",
            "At random state 83,the testing accuracy is :- 0.5238213294728074\n",
            "\n",
            "\n",
            "At random state 84,the training accuracy is :- 0.47996083336034445\n",
            "At random state 84,the testing accuracy is :- 0.46487823546396645\n",
            "\n",
            "\n",
            "At random state 85,the training accuracy is :- 0.47546236453914226\n",
            "At random state 85,the testing accuracy is :- 0.48242499036807773\n",
            "\n",
            "\n",
            "At random state 86,the training accuracy is :- 0.47975376541583736\n",
            "At random state 86,the testing accuracy is :- 0.4658065542682286\n",
            "\n",
            "\n",
            "At random state 87,the training accuracy is :- 0.476352681073806\n",
            "At random state 87,the testing accuracy is :- 0.47751763875380404\n",
            "\n",
            "\n",
            "At random state 88,the training accuracy is :- 0.4808523310954006\n",
            "At random state 88,the testing accuracy is :- 0.4611152262867201\n",
            "\n",
            "\n",
            "At random state 89,the training accuracy is :- 0.4814653189374456\n",
            "At random state 89,the testing accuracy is :- 0.45819636224067106\n",
            "\n",
            "\n",
            "At random state 90,the training accuracy is :- 0.4732948959804564\n",
            "At random state 90,the testing accuracy is :- 0.4921267111411233\n",
            "\n",
            "\n",
            "At random state 91,the training accuracy is :- 0.47589056901422344\n",
            "At random state 91,the testing accuracy is :- 0.4797589310018713\n",
            "\n",
            "\n",
            "At random state 92,the training accuracy is :- 0.46586115557140007\n",
            "At random state 92,the testing accuracy is :- 0.5141128364248738\n",
            "\n",
            "\n",
            "At random state 93,the training accuracy is :- 0.4804235787375004\n",
            "At random state 93,the testing accuracy is :- 0.4611928205462842\n",
            "\n",
            "\n",
            "At random state 94,the training accuracy is :- 0.47343682687100397\n",
            "At random state 94,the testing accuracy is :- 0.4905690318989151\n",
            "\n",
            "\n",
            "At random state 95,the training accuracy is :- 0.477153900752476\n",
            "At random state 95,the testing accuracy is :- 0.47446554192032153\n",
            "\n",
            "\n",
            "At random state 96,the training accuracy is :- 0.46516325016470006\n",
            "At random state 96,the testing accuracy is :- 0.525093456498519\n",
            "\n",
            "\n",
            "At random state 97,the training accuracy is :- 0.4869291613045099\n",
            "At random state 97,the testing accuracy is :- 0.43317267195939113\n",
            "\n",
            "\n",
            "At random state 98,the training accuracy is :- 0.4751839625514449\n",
            "At random state 98,the testing accuracy is :- 0.48336465014742314\n",
            "\n",
            "\n",
            "At random state 99,the training accuracy is :- 0.47412591381250246\n",
            "At random state 99,the testing accuracy is :- 0.48532819410724426\n",
            "\n",
            "\n"
          ]
        }
      ]
    },
    {
      "cell_type": "code",
      "source": [
        "x_train,x_test,y_train,y_test=train_test_split(x,y,test_size=.20,random_state=60)"
      ],
      "metadata": {
        "id": "hwgOLsjxIrtz"
      },
      "execution_count": null,
      "outputs": []
    },
    {
      "cell_type": "code",
      "source": [
        "lr.fit(x_train,y_train)"
      ],
      "metadata": {
        "colab": {
          "base_uri": "https://localhost:8080/"
        },
        "id": "zK3Si8Z6BQ_e",
        "outputId": "9dd4a0a1-7377-4549-c863-fdb74f70114a"
      },
      "execution_count": null,
      "outputs": [
        {
          "output_type": "execute_result",
          "data": {
            "text/plain": [
              "LinearRegression()"
            ]
          },
          "metadata": {},
          "execution_count": 160
        }
      ]
    },
    {
      "cell_type": "code",
      "source": [
        "pred_test=lr.predict(x_test)"
      ],
      "metadata": {
        "id": "cBLaFkvGBwfb"
      },
      "execution_count": null,
      "outputs": []
    },
    {
      "cell_type": "code",
      "source": [
        "print(r2_score(y_test,pred_test)*100)"
      ],
      "metadata": {
        "colab": {
          "base_uri": "https://localhost:8080/"
        },
        "id": "5oVj6Y9HCEut",
        "outputId": "3d1f0fcc-b414-4ea0-a9d0-3fbf0502180e"
      },
      "execution_count": null,
      "outputs": [
        {
          "output_type": "stream",
          "name": "stdout",
          "text": [
            "53.96498824999982\n"
          ]
        }
      ]
    },
    {
      "cell_type": "code",
      "source": [
        "print(lr.intercept_)\n",
        "print(lr.coef_)"
      ],
      "metadata": {
        "colab": {
          "base_uri": "https://localhost:8080/"
        },
        "id": "vhxBTnMXJTTR",
        "outputId": "78cf1557-5498-4c20-8318-a7e56584ebdd"
      },
      "execution_count": null,
      "outputs": [
        {
          "output_type": "stream",
          "name": "stdout",
          "text": [
            "9.763484741574043\n",
            "[ 0.06420867 -0.21402678  1.15418899  0.87835006  3.38924251 -3.71751183\n",
            " -0.67696963  0.80736298]\n"
          ]
        }
      ]
    },
    {
      "cell_type": "code",
      "source": [
        "pred=lr.predict(x_test)\n",
        "print(\"predicted result \",pred)\n",
        "print('actual result',y_test)"
      ],
      "metadata": {
        "colab": {
          "base_uri": "https://localhost:8080/"
        },
        "id": "5XoU38FxJ9aO",
        "outputId": "f7c1de9a-1247-4b8a-f4f5-1a452079b2a0"
      },
      "execution_count": null,
      "outputs": [
        {
          "output_type": "stream",
          "name": "stdout",
          "text": [
            "predicted result  [ 7.47396086  8.19726387  6.25278782 10.72386578  7.14131253  9.52790998\n",
            " 12.36307635 10.94810824  6.71485351  9.85066843  9.51355933  7.2906354\n",
            " 10.64252032  9.88803867  7.73316682  6.20593323 12.40273172  9.20742818\n",
            "  8.66656446 10.49368659  9.02125824 11.6206931  10.87827574 10.62675638\n",
            "  8.05874528  7.57456354  8.18160012  7.78797116 11.91337664 10.14777363\n",
            "  6.5657665  10.22662509 11.92435866 10.91674401 10.02365877  7.28108063\n",
            "  8.79553111 10.54203208  6.59637323 10.80358272 11.60184219 12.87502067\n",
            " 10.59864576  8.20023726  5.78658404 10.53896616 12.93978899 12.03894808\n",
            "  8.66520718  9.81101658  9.18018713 11.35051333  8.08725143 10.05444975\n",
            " 10.0981505  10.60937622 11.09389282  9.55954551 10.09162135  9.3777177\n",
            " 10.73753575 10.09984644 10.22370475 13.50066628 11.16251487  7.97736753\n",
            "  4.83743253  7.73574211  7.51326977  8.66901031  9.01913898 10.3771209\n",
            "  9.97592192  9.37498788 12.19600935 11.27341173  9.40714168  8.82141883\n",
            "  9.60645066  8.51845458  8.72528065  8.01140543  8.72991515  7.23538281\n",
            "  9.0526796  10.15625977 11.62896493  8.65535508 10.60497717  8.91489762\n",
            "  8.63135275 12.1037571   9.37623151 11.51542715 10.15151408 10.08477542\n",
            "  8.87311314 10.76903851 10.30241589 11.56327179  9.32559213  9.31019261\n",
            "  5.89889512  9.31459745 12.59729154 11.71257216  9.25373426 11.42415572\n",
            " 11.05735346 10.36453892 10.9851947  12.09792983  8.37121084 10.01004672\n",
            "  9.54730613  9.771567   10.5633657   8.37292131 11.7421284   8.88591281\n",
            " 13.32591851 10.31555252  5.79068864  6.8286909   7.06004727  9.31820035\n",
            " 11.49838387  9.19514779 12.02363137  6.60343744 13.16764849 10.34897706\n",
            "  7.05888076  8.28954435  8.71925789 13.02829235  8.35355046  8.15951613\n",
            " 12.37635988 13.66810176  7.46370772  9.82000441 10.04156953 11.85280179\n",
            "  9.44746827 11.85295889  7.77000138 10.09832183 10.57675557 12.76842908\n",
            " 10.95064726  9.16099654 12.17045445  7.72234867  7.34834716 12.77815782\n",
            " 13.27371927 12.09918631  9.11686426 11.41080047 10.09135549  7.71856378\n",
            "  8.32968271 10.73229038 11.13395514 10.70846705  9.1994742   9.8000568\n",
            "  9.09886159  9.6262897  10.84912625  6.03853918  6.90853019  8.36358322\n",
            " 12.48245027 10.43488389  5.89708719  7.96014386  8.81107429  9.56762256\n",
            "  5.62533488  8.42438382  6.46307844 10.69950769  8.8871823   9.31522353\n",
            " 11.67683875 10.7301493   6.70286731  7.42815967 12.38592208 10.6136272\n",
            "  9.48848223 11.46504637  5.63323    12.57228622 14.12190456  9.11542219\n",
            " 11.75271866  7.39604449  7.7190418   9.50895698 10.80716692  8.06562897\n",
            "  7.11467485  7.77716143  7.21861339  8.5070885   7.04790711 10.57619457\n",
            "  8.78644174 14.06677519  8.59435881  8.2481507   8.87365023  7.82670727\n",
            " 10.39392736  8.07218015  8.91042637  8.12786206  8.21026523  9.51433177\n",
            "  8.78517471  9.56491987  9.18682976 12.59724332  7.89101164  5.80613215\n",
            " 12.29375395  9.21371241  7.54485181 12.19981413 14.27484853  9.76222723\n",
            " 12.07062315 13.71856224  9.19687491 10.67035614  8.71547566 13.67423912\n",
            "  7.54951616  9.29482521  8.38043263  6.59590628 10.36983659  9.08822601\n",
            " 10.04630084 12.05302955 11.67934055 10.03211243 11.36484089 11.09205542\n",
            "  7.71946494  8.09952008 11.46368274  9.69807534  9.16882652  8.53869127\n",
            "  8.51620305 11.34514811 11.98405692  6.39624835 13.20847742 11.65464607\n",
            " 12.06406671  9.98359824  9.11930297 12.52577194 14.78715354  9.05134251\n",
            " 10.29530388  7.46129492  8.60817507  9.32110468 11.86895647  8.9434127\n",
            " 11.12350284  9.99782843  9.92687016  9.2071302  13.37568754 10.54397254\n",
            " 11.03208509  8.04084679 11.06227603 11.54893531  8.50497157  9.41468086\n",
            "  9.94471084  8.99348996 11.11699339 10.14099046  8.60261277 10.14748325\n",
            "  9.68138906  9.93172455  6.69825364  7.59850597 14.31860263  7.10267397\n",
            "  9.39704056  7.95664004  8.50171573  6.79850512  6.69111802 11.22698358\n",
            "  7.10343756 11.13837097  9.761505   10.15821938  7.5287875  11.12987071\n",
            "  7.59796255  9.30567195  8.35721273  9.12952058  8.66878463  7.19246399\n",
            "  8.75938822  9.99918118 12.43429687  9.98310805  9.0580123   8.25952869\n",
            "  8.85455907  9.06965359 12.09556366  8.06635721  7.90866994  9.8680209\n",
            " 11.49254674 11.72406196 10.22788747 11.55560191  6.63115523  7.02627439\n",
            "  8.69235108 12.46566291 13.3792459  10.73052912 12.09831323 10.17884411\n",
            "  8.141759   11.18773958  8.78064941 14.20560185  8.60100068 10.44437965\n",
            " 10.74896339 10.88941446 11.43890902 11.91099698 11.09348223  8.44349176\n",
            " 11.82522819 15.40763192 11.12535075 13.5874617  14.00993151  6.3651652\n",
            " 10.34087179  7.41135339 14.27787042 10.92631344 12.04972831  7.08184136\n",
            "  9.51759271  8.97615304  6.28152271 12.69633173  5.4197912   9.88415536\n",
            "  7.26375195  8.93969006 10.15696303 12.77154338 10.03422281  9.48079656\n",
            " 14.04919064 10.29647579 11.37939128  6.51932911 10.03183625  9.34900326\n",
            "  7.15229082 12.50175836 10.3452242   8.06770475 10.52639105 11.05795873\n",
            "  6.50456451  8.27339004  9.81658198  9.65800866  3.0601726   9.21050104\n",
            " 11.68291903  7.8914925   8.29560478 10.25959462  8.22609776 13.44338113\n",
            " 10.39526584  5.87448318 10.95192439 10.3825342  10.98597162 10.16728016\n",
            "  7.02153316 10.79901134  9.74097866 14.10848833  7.86084579 10.57753564\n",
            " 11.38086116 13.79832369 10.62650284  9.46266273  9.22080853  6.9943906\n",
            "  8.22739532  6.58337439 10.99372708 12.20840234  8.55861359  9.05789916\n",
            "  9.63935293  7.3078206   9.13396868 12.30580173 10.90122791  7.33524437\n",
            "  7.66424778 11.81468518  9.15224371  7.03490798 10.52849373  8.36099215\n",
            "  8.66285517  8.89567228 14.50573429 11.73950433  7.3537481  11.60446826\n",
            " 11.79047378  9.18628578 10.85347265 10.73030883 10.41569899 11.88910967\n",
            "  7.32617488  9.65150171  9.13735858  9.46119818 11.34303367 14.23165204\n",
            " 10.00449292  7.60290851  6.4469375   5.87166629  6.7491035   9.96535742\n",
            "  8.71435344  9.22071477  9.37832371  9.75995261 10.65436557  6.50371827\n",
            "  9.83419656 11.23301532  7.76789147  7.93581737 11.4574416   9.7417415\n",
            "  7.55717299 12.75386256  7.1937023   8.01463357  8.30033168 11.88403182\n",
            "  9.36016309 15.20198208 10.8435561  11.2316618   7.53186325 10.69161547\n",
            " 10.58454252  9.40754782  5.93744323 10.94082044  9.61101914 11.85829188\n",
            " 11.34362063 11.02290443 12.13348281  9.74859252  8.97010862  9.41619597\n",
            " 10.86736625 10.23454503 11.99124991  9.33291795 11.6462355  12.68798626\n",
            "  8.28818093  9.43907795 10.88315251  9.9077897  10.51620379 13.54774343\n",
            "  9.98966877 11.04606922 10.48193896 12.57344648  9.0983197   9.45828703\n",
            " 11.80870245  7.34256657 10.43575556 10.44777183  9.37856251 11.94165613\n",
            "  9.52105962  9.20239757 11.29891882  5.34727023  9.7133657  14.85901435\n",
            "  8.83451349  7.86759997 10.82661971  9.05853359  8.9228782  10.19637015\n",
            "  6.3120557  10.30615079  8.09765109 10.93127228 12.98784814 10.7368009\n",
            " 10.03720347  8.96158686 11.13856185  9.41712145 10.57958276  7.17730815\n",
            "  9.77192115  9.36221792  8.51276239 10.61220794  9.64304455 10.82342105\n",
            "  9.06198624 10.05087963 10.49059289 11.39330235 12.08852627  8.66116966\n",
            "  7.9468347   7.3676701   8.47918062  7.796821    5.74040855 14.06545193\n",
            " 10.10883637 10.69607348 11.11777961  7.68740704 10.73921611  8.27660091\n",
            " 13.35193701  9.22863873  6.81229375  7.40141803  9.87996328 10.89073774\n",
            " 15.28027832 10.88729137 12.80731554  7.83142095 11.80985464  9.7395252\n",
            " 15.28794122  9.15890765  7.3544424   7.32072112  9.30031716  9.31978157\n",
            "  7.22065536 10.79719938 13.91254279 11.88906074 16.54495384  7.13082125\n",
            "  8.3705923  11.77997127  9.96044267  9.85331716 11.25487405  6.5961521\n",
            "  9.4962472  12.22495192 11.30399565 10.66649791  9.75808875  7.24662947\n",
            "  9.94213564  8.76562289  8.81177145 12.62422532  9.48418806 14.24803112\n",
            "  9.3129946   7.99590016  9.59040758 10.10058631  6.78947367  9.79176664\n",
            " 10.64584396  6.56319391  9.69561614  9.47229051  9.43382611  6.85650069\n",
            " 11.43564958  7.92602073 10.367748    8.83188717 11.88831953  8.17941989\n",
            " 11.37610439  8.51593115 12.11564689 12.40023717 10.59499131 10.60382214\n",
            " 11.26328285 11.21002574 10.62392249  8.07659278  7.23648835 12.92954517\n",
            "  9.25747323  4.98969681  7.42085832  9.88701737  8.45117889  8.01574603\n",
            " 12.0234958  10.62375278  7.06217257 13.79635362 10.70486913  5.82806158\n",
            " 11.82128372  9.39835043 13.1959841   9.83144431 10.92546834  9.03252761\n",
            "  8.89164665  7.67715586 10.17904381  6.50528145 10.8752518  13.25519877\n",
            "  9.03082976 11.69774866  8.56538733  5.28830113  8.81488994  8.98437089\n",
            " 12.32057909 10.42331027 10.52246809  6.01855669  8.13488737  6.67994477\n",
            "  9.25023926  8.69187553  9.09422304  9.63763707 10.8425701  10.71149479\n",
            "  8.04863736  7.96374764  9.63303002 10.12810856  8.86281357  5.62381012\n",
            "  5.13181553 10.43825598  8.69368634 10.05992322  9.4346287  10.71776664\n",
            " 10.31016123  9.49477057  8.16780714 10.60446563 11.96596903 11.50225361\n",
            "  7.51579316 11.00482083 10.78016964  9.23252757 11.0458803   8.30251269\n",
            "  6.92943334  8.05435573  7.54131644 10.63562059  7.99214911 11.44432793\n",
            "  9.22739437  6.78851283  9.0782815   8.38765169 11.55063198 10.37823856\n",
            " 10.39193767  8.3288042  11.60369743 13.0814261   7.58933612 10.20980007\n",
            "  8.38337594  8.10460452 12.23256862 10.41489399  8.10517758  7.55196294\n",
            "  9.59960851  8.13703696 11.77613949  6.9167206   9.56953179  9.05624497\n",
            "  8.43541647  6.156381   11.87209742  7.85190473 10.03270384  6.36945923\n",
            "  6.2315319   8.74771829 12.36141086  8.40158625  9.46860035 10.96785415\n",
            " 11.92325065  9.18357235  9.3296145   8.36447998 10.84111847  9.58439911\n",
            "  8.85850469  9.43154663  9.67108856  8.8311773   9.58402827  8.58471095\n",
            "  8.95812215  8.60523123 10.51295387  9.71951753 11.36745391  5.87981667\n",
            "  9.32769774 10.51304056  7.21584708  9.45745746 11.33884658  9.07008772\n",
            "  9.54671301 10.64838804  9.5192309   5.99058458  5.83212242  9.34809567\n",
            "  7.81625394  9.78927823  8.46012376  8.73238622 13.14921574  8.29971628\n",
            " 10.04292991  7.45856956  9.78118037  9.26094852  9.90747578  8.92785867\n",
            "  8.36867781  8.30342602  8.3976378   9.47232242 10.70328643 10.34944565\n",
            " 11.34585751  7.85754208 10.59079652  8.99887607 11.66798737 13.5237346\n",
            " 14.15031955 14.13615173]\n",
            "actual result 2507     7\n",
            "1837     6\n",
            "1992     5\n",
            "3982     6\n",
            "124      6\n",
            "        ..\n",
            "3375    10\n",
            "346      9\n",
            "2128    12\n",
            "2537    11\n",
            "1038    10\n",
            "Name: Rings, Length: 806, dtype: int64\n"
          ]
        }
      ]
    },
    {
      "cell_type": "code",
      "source": [
        "print('Error:')\n",
        "print('Mean Absolute Error :',mean_absolute_error(y_test,pred))\n",
        "print('Mean Squared Error :',mean_squared_error(y_test,pred))\n",
        "print('Root mean Squared Error',np.sqrt(mean_squared_error(y_test,pred)))\n",
        "print('r2 score :',r2_score(y_test,pred)*100)"
      ],
      "metadata": {
        "colab": {
          "base_uri": "https://localhost:8080/"
        },
        "id": "BsxWOAT9I9jj",
        "outputId": "9618ac08-9524-4008-e029-2c05b1029f80"
      },
      "execution_count": null,
      "outputs": [
        {
          "output_type": "stream",
          "name": "stdout",
          "text": [
            "Error:\n",
            "Mean Absolute Error : 1.4634079423672501\n",
            "Mean Squared Error : 3.5984607700668008\n",
            "Root mean Squared Error 1.896960930031718\n",
            "r2 score : 53.96498824999982\n"
          ]
        }
      ]
    },
    {
      "cell_type": "code",
      "source": [
        ""
      ],
      "metadata": {
        "id": "YL1DgAXOI9p1"
      },
      "execution_count": null,
      "outputs": []
    },
    {
      "cell_type": "markdown",
      "source": [
        "# Decission Tree Regressor"
      ],
      "metadata": {
        "id": "Buw95eOMDIsD"
      }
    },
    {
      "cell_type": "code",
      "source": [
        "from sklearn.tree import DecisionTreeRegressor\n",
        "dtr=DecisionTreeRegressor()\n",
        "dtr.fit(x_train,y_train)"
      ],
      "metadata": {
        "colab": {
          "base_uri": "https://localhost:8080/"
        },
        "id": "rb4bzxylZwzO",
        "outputId": "d03b9291-7f71-49d1-d803-398ddcdb12d1"
      },
      "execution_count": null,
      "outputs": [
        {
          "output_type": "execute_result",
          "data": {
            "text/plain": [
              "DecisionTreeRegressor()"
            ]
          },
          "metadata": {},
          "execution_count": 166
        }
      ]
    },
    {
      "cell_type": "code",
      "source": [
        "pred=dtr.predict(x_test)\n",
        "print(\"predicted result \",pred)\n",
        "print('actual result',y_test)"
      ],
      "metadata": {
        "colab": {
          "base_uri": "https://localhost:8080/"
        },
        "id": "kcd3AJuPKKH2",
        "outputId": "d07fd9a0-4a8c-4866-dfc1-450cd494283e"
      },
      "execution_count": null,
      "outputs": [
        {
          "output_type": "stream",
          "name": "stdout",
          "text": [
            "predicted result  [ 7.  8.  5. 11.  7.  6.  7. 13.  8.  8. 12.  8. 10. 10.  9.  7. 13. 11.\n",
            "  9. 10. 11. 12.  9. 10.  9.  7. 10.  7. 11.  8.  6. 11. 11. 11. 12.  7.\n",
            "  8. 11.  5. 14. 10. 14. 14.  9.  8. 11. 10.  8. 10. 10. 10. 13. 11.  9.\n",
            "  9. 17.  9. 11.  8. 11. 13.  8. 10. 14. 11. 10.  6.  8.  7.  8.  9. 11.\n",
            " 16.  8. 13. 14.  9. 11.  8. 10.  7.  9.  7.  6. 11.  9. 12. 11. 12.  8.\n",
            "  9. 17. 10. 10.  8. 12. 10. 13.  9. 10.  9.  8.  6.  8. 13. 11.  7. 11.\n",
            " 10.  8.  9.  9.  6.  9.  8.  8. 11. 11. 15.  8. 14.  9.  7.  5. 13. 10.\n",
            " 10. 12.  9.  6. 18.  7.  5.  7.  8. 14.  6.  7. 13. 10.  7.  9. 12.  9.\n",
            "  9. 11.  8. 10. 11. 12.  9.  8. 10. 11.  7. 17. 19. 12.  8.  9.  9.  8.\n",
            "  6. 11. 10. 10.  9.  9.  9. 15. 12.  7.  6.  7. 10. 10.  5.  6.  8.  9.\n",
            "  5.  8.  6. 12.  9.  8.  9. 11.  6.  8.  8.  9.  9. 11.  6. 11. 10. 13.\n",
            " 13.  8.  6. 11. 16.  6.  7.  7.  8.  8.  8. 10.  9.  9.  9.  8.  8.  7.\n",
            " 16.  8.  8.  9. 10.  9.  8. 10.  9. 11.  9.  5.  8. 11.  6. 14. 14. 13.\n",
            " 13. 13. 11. 11.  8. 13. 12.  9.  7.  7. 14.  8. 12. 10.  8. 10. 11. 10.\n",
            "  7.  8. 15. 11. 12.  8.  9. 10. 16.  7. 11. 19.  8.  8.  8. 11. 12. 17.\n",
            "  8.  7.  9.  8.  9. 13. 11.  9.  9.  8. 10. 10. 11.  8. 13. 12.  8.  6.\n",
            "  9.  8. 11.  9.  8.  9.  9. 10.  5.  8. 11.  9.  8.  6. 13.  7.  7. 14.\n",
            "  6.  9. 11.  8. 10. 10.  8.  9. 12.  9.  8.  5.  7.  9. 16.  9.  9.  8.\n",
            "  8.  9. 13. 14. 10. 10. 11.  9.  8.  9.  4.  7.  9. 10. 11. 11.  9.  8.\n",
            "  6. 13.  7. 16.  8. 10. 11. 11. 11. 10.  9.  7. 12. 19. 10.  8. 15.  5.\n",
            " 19.  6. 10. 16. 15.  7. 10.  7.  6. 12.  6.  8.  6.  9.  9. 13. 11. 10.\n",
            " 10. 14. 13.  6. 12.  7.  8. 12. 10.  6.  9. 13.  5.  8.  9. 12.  6.  8.\n",
            "  9.  7.  8.  9.  6. 15. 11.  5. 12. 10. 11.  8. 10. 17.  9. 14.  8. 12.\n",
            " 10. 18. 15.  8. 10.  6.  8.  8. 11. 13.  7.  8. 10.  5.  7. 10.  9.  7.\n",
            "  7. 12.  8.  7. 12. 11.  7. 10. 10.  9.  7. 13.  9.  8. 12. 14. 10. 11.\n",
            "  7.  8.  6.  9. 16. 12. 10.  9.  6.  4.  6.  9.  7. 10.  8. 11. 13.  7.\n",
            " 12. 10.  7. 10. 10.  8. 10. 13.  8.  7.  7. 14.  9. 13.  9. 13.  7. 14.\n",
            " 11. 14.  8. 10.  9.  9.  8. 12.  7.  8.  9.  7. 10.  9. 10.  9. 13. 10.\n",
            "  9. 17. 13. 12.  9. 15.  9.  8. 11.  9. 11.  9. 13.  8. 10. 12. 11. 10.\n",
            "  9.  9.  9.  4.  9. 14. 12.  7. 13. 16.  8. 10.  5.  9.  7. 11. 10. 10.\n",
            " 10. 11. 13. 11. 13.  8. 12. 10. 12.  9. 10.  9. 11.  8.  9. 11. 10.  9.\n",
            "  9.  5.  9.  7.  5. 18. 10. 13. 15.  6. 11.  8. 11.  8.  5.  6. 10. 12.\n",
            " 13. 11. 12.  7.  7.  9. 10. 14.  7.  5.  8. 10.  9.  8. 18. 13. 11. 10.\n",
            " 12. 10.  9. 17. 11.  6. 12. 17. 11. 10.  9. 10. 11. 11. 13.  9. 10. 10.\n",
            "  8.  8. 12. 12.  6.  8. 10.  6.  8. 10. 11.  5. 18. 11. 11.  9. 10.  9.\n",
            " 10.  6. 18. 13. 17. 11. 10.  9. 11.  8.  7. 15.  8.  5.  9. 10.  9.  6.\n",
            " 12.  8.  6. 13. 10.  8.  9. 14.  8.  9. 10.  7.  7.  6.  9.  7. 10. 12.\n",
            "  8. 11.  6.  5.  7.  9. 17.  8. 10.  4.  7.  7.  9.  9.  8.  9. 13. 10.\n",
            "  8.  9.  7. 12.  7.  5.  3. 15.  8. 10.  9. 10. 11. 15.  8.  9. 16. 12.\n",
            "  7.  8.  9.  8. 11.  9.  4.  8. 11. 14.  7. 10.  9.  7.  9.  9.  9.  9.\n",
            " 10.  7. 11. 14.  7. 11.  7. 10. 11. 10.  7.  7. 11. 11. 11.  6. 11.  9.\n",
            "  8.  6. 19.  8.  9.  7.  6.  9. 15.  8. 10.  9. 17.  7.  9.  7.  9.  8.\n",
            " 15. 11.  8.  9. 16.  8.  9.  8.  8.  9.  8.  7.  8.  9. 11.  9. 15. 10.\n",
            " 10. 10.  9.  6.  4.  7.  7.  9. 10.  8. 13.  8.  8.  4. 15.  8.  9.  7.\n",
            "  9.  9.  7.  9. 10. 14. 15.  9. 11. 16.  8. 11. 18. 18.]\n",
            "actual result 2507     7\n",
            "1837     6\n",
            "1992     5\n",
            "3982     6\n",
            "124      6\n",
            "        ..\n",
            "3375    10\n",
            "346      9\n",
            "2128    12\n",
            "2537    11\n",
            "1038    10\n",
            "Name: Rings, Length: 806, dtype: int64\n"
          ]
        }
      ]
    },
    {
      "cell_type": "code",
      "source": [
        "print('Error:')\n",
        "print('Mean Absolute Error :',mean_absolute_error(y_test,pred))\n",
        "print('Mean Squared Error :',mean_squared_error(y_test,pred))\n",
        "print('Root mean Squared Error',np.sqrt(mean_squared_error(y_test,pred)))\n",
        "print('r2 score :',r2_score(y_test,pred)*100)"
      ],
      "metadata": {
        "colab": {
          "base_uri": "https://localhost:8080/"
        },
        "id": "UxHjkSfwKKM-",
        "outputId": "763ec1bb-9445-40e2-b8f3-7afcd7b2b980"
      },
      "execution_count": null,
      "outputs": [
        {
          "output_type": "stream",
          "name": "stdout",
          "text": [
            "Error:\n",
            "Mean Absolute Error : 1.8672456575682381\n",
            "Mean Squared Error : 6.877171215880893\n",
            "Root mean Squared Error 2.6224361223642596\n",
            "r2 score : 12.020533789517229\n"
          ]
        }
      ]
    },
    {
      "cell_type": "markdown",
      "source": [
        "# KNeighborsRegressor"
      ],
      "metadata": {
        "id": "XONqdlfqGqYJ"
      }
    },
    {
      "cell_type": "code",
      "source": [
        "from sklearn.neighbors import KNeighborsRegressor\n",
        "knr=KNeighborsRegressor(n_neighbors=5)\n",
        "knr.fit(x_train,y_train)"
      ],
      "metadata": {
        "colab": {
          "base_uri": "https://localhost:8080/"
        },
        "id": "iCI4NLWDZhhq",
        "outputId": "80e7ae08-9423-44fe-9415-fbc9af423f59"
      },
      "execution_count": null,
      "outputs": [
        {
          "output_type": "execute_result",
          "data": {
            "text/plain": [
              "KNeighborsRegressor()"
            ]
          },
          "metadata": {},
          "execution_count": 169
        }
      ]
    },
    {
      "cell_type": "code",
      "source": [
        "pred=knr.predict(x_test)\n",
        "print(\"predicted result \",pred)\n",
        "print('actual result',y_test)"
      ],
      "metadata": {
        "colab": {
          "base_uri": "https://localhost:8080/"
        },
        "id": "W3Nz-6LSL4hX",
        "outputId": "d644275a-976a-41ed-f379-7919be81d908"
      },
      "execution_count": null,
      "outputs": [
        {
          "output_type": "stream",
          "name": "stdout",
          "text": [
            "predicted result  [ 6.8  8.   6.   9.8  7.4  9.8 12.2 12.6  8.8 10.4  9.   7.   9.4 10.6\n",
            "  9.4  6.2 10.8  8.4  8.6 11.   9.4 12.2 10.8  9.6  8.   6.2  8.   8.6\n",
            " 10.6 10.   6.  11.  10.2 10.   9.6  8.6  7.8 10.2  5.4 10.2 10.4 11.4\n",
            " 10.6  7.4  5.2 10.8 11.4 10.6 10.2 10.2  8.4 11.   8.4  9.2  9.4  9.6\n",
            " 10.6 10.8 11.4  9.6 12.6 10.4 11.6 13.2 10.4  9.4  4.6  8.   8.4  7.8\n",
            " 10.8  9.4 12.2  8.  10.4 10.6  9.8  8.4 10.8  8.4  7.6  8.6  9.   6.6\n",
            "  9.  10.8 10.6  7.6 10.2  8.8  9.  11.2 10.  10.  12.2 11.   9.8 11.8\n",
            "  9.  11.6  7.8  9.4  5.   9.2 13.2 13.6  9.2 12.8 10.2 10.4  9.8 10.8\n",
            "  9.2  9.  10.2 10.2  9.8  8.8 11.   7.  12.8 10.8  5.4  7.2  6.6 10.\n",
            "  9.4  9.  11.   5.6 15.2 10.6  6.8  7.4  9.2 11.6  7.   7.6 10.  15.2\n",
            "  7.4 10.8 10.2 10.2  8.2 10.8  9.   9.6 11.6 12.8 12.6  9.4 10.   7.8\n",
            "  6.2 14.2 13.4 11.4  8.8 12.2  9.4  6.6  7.8 12.4 11.8 10.4  9.4  7.8\n",
            "  9.4 10.8 11.   5.8  7.6  7.6 11.   9.6  4.8  8.6  6.8  9.2  5.4  7.6\n",
            "  6.4 11.4  9.   8.4 12.4 10.4  6.4  8.4 11.4 10.   9.4  9.8  5.  11.6\n",
            " 12.8 10.4 12.2  7.8  7.2 10.2 10.8  6.8  6.6  8.6  6.6  8.   7.2 10.2\n",
            "  8.6 10.8  7.4  8.   8.6  6.8  9.   7.8  8.2 10.4  8.4  9.2  7.8  9.2\n",
            "  9.8 11.   9.6  5.4 12.4 12.6  7.2 11.8 11.6 12.8 11.4 15.8  9.8 10.\n",
            "  8.6 13.6  8.2  8.8  7.   6.2 10.8 10.6  9.6 10.8 12.   9.4 11.8 10.6\n",
            "  6.8  7.2 11.2  9.8  9.   8.8  8.  10.2 10.8  7.  10.8 11.  10.   9.2\n",
            "  9.8 13.8 12.8  8.4  9.   6.6 10.6  9.4 12.8  8.4 10.   9.6 10.4  9.4\n",
            " 11.6 11.4  9.8  8.4  9.8 10.2  7.4  7.2  9.8  8.4 10.4 10.6  9.  10.6\n",
            "  9.   9.   7.   6.8 12.   6.2  8.4  7.4 10.2  7.4  5.4 13.2  6.2 10.2\n",
            " 10.   9.4  8.8 10.4  7.6  8.2  8.2  9.   8.8  7.6  8.2 10.6 13.2  9.2\n",
            "  8.8  6.6  8.  10.  10.6  9.4  9.4  9.6 12.2 10.  10.4 11.8  6.   7.2\n",
            "  9.4 12.6 13.8 10.  11.   9.6  8.   9.6  7.8 16.   7.8 11.  10.2 11.2\n",
            " 13.6 10.   9.2  7.  11.6 14.4 10.8 13.6 12.4  6.  11.8  6.4 12.2 11.4\n",
            " 13.   6.8 10.2  9.8  5.6 12.8  5.4  9.2  7.2 10.6 10.8 11.4  9.2 10.6\n",
            " 12.  13.4 12.8  5.4  9.8  8.4  8.2 10.8 10.8  7.  11.  11.2  5.8  7.8\n",
            " 10.2  8.8  6.6  8.  14.   7.8  6.8  9.2  9.4 11.2 12.8  4.8 12.6 10.\n",
            " 10.2 10.4  7.2 13.6  8.6 13.8  8.2 11.8  9.2 14.2 10.4  8.4 12.4  6.8\n",
            "  9.6  5.8 11.6 14.4  7.4 10.  10.4  6.6  9.  10.  11.4  6.4  6.2 11.6\n",
            "  9.   6.6 10.2  8.8  7.4 11.  13.8 12.   6.8 10.  10.8  9.2 12.2 13.4\n",
            " 10.  11.   8.   8.6  8.4  8.2 11.4 14.  10.6  8.   5.4  5.   7.   8.8\n",
            "  8.4  8.4  9.4 10.6 10.   6.4 10.4 12.   7.2  9.  10.4  9.8  7.8 12.\n",
            "  7.2  7.6  8.  10.4 10.6 15.6  9.4 13.6  7.8 10.2 12.2 10.2  6.4 10.6\n",
            "  9.6 11.2 10.4 11.  12.2  8.2  9.2  9.6 10.  11.  10.2  8.8 10.6 11.2\n",
            " 10.2 11.4 12.  12.2 11.2 12.8  9.2 10.4 11.2 10.2 10.4 10.8 13.6  8.\n",
            " 10.8 10.6 10.  10.6  9.4 10.2  9.8  4.6 10.4 12.   9.2  9.  11.6 10.4\n",
            " 10.4 10.4  6.6  9.4  7.   9.2 11.8  9.4 10.8  9.2 12.2 10.6 13.   6.4\n",
            " 10.8  8.  11.6  9.6 10.   8.8  9.6  8.6 10.4 11.  12.8  8.2  9.2  7.\n",
            "  8.6  7.8  4.8 11.8 10.8 12.6  9.4  7.2 10.   6.8 11.   8.8  6.8  6.4\n",
            " 11.  10.  13.4 11.8 11.6  6.6 12.4 10.6 12.6 10.4  5.8  6.6  8.4 12.2\n",
            "  8.   9.4 12.6 11.2 12.4  9.   7.2 13.2  9.4 13.6 10.   6.  11.  11.2\n",
            " 10.8 10.4  9.2  6.8 10.8  9.8 10.4 13.6  7.8 14.2 10.  11.2  8.8 10.8\n",
            "  7.   9.6 10.8  6.8  9.4  9.6 10.2  6.4 12.6 10.2 10.4  8.2 11.2 11.2\n",
            " 13.   7.2 12.4 11.4 12.8 11.8  9.6  9.6 12.6  7.4  7.2 11.2 11.   4.2\n",
            "  6.4 10.2  8.8  8.  10.   9.4  6.8 13.6 10.6  5.2 11.   8.  14.8  9.6\n",
            " 10.6  8.2  9.   7.4 10.   7.6 11.  12.   9.4 12.4  7.4  4.2  8.   8.8\n",
            " 10.   9.2 11.   5.   7.2  6.  10.   9.6  8.8  9.8 10.6 11.   6.4  8.\n",
            " 11.8  9.8  8.6  5.2  3.6 11.2  8.2  9.4  8.2 10.6 12.2 10.6  7.4  9.\n",
            " 12.8 11.4  7.4 10.8 10.6 13.2 11.2  8.2  6.   8.4  8.2 11.2  7.8 10.6\n",
            " 10.   6.4  8.6  9.6 10.4  9.4 11.2  8.  10.2 11.6  7.   9.6  7.4 11.4\n",
            " 11.6  8.8  7.   7.4  9.4  8.4 12.2  6.8  8.8  9.   8.2  6.  10.   7.2\n",
            " 12.6  7.   5.2  8.6 12.6  8.4  9.8 12.6 14.4  8.4  8.6  7.6 10.4 11.\n",
            "  8.4  9.8  9.6  7.6 11.   7.4  9.2  8.4 12.8  9.6 11.8  5.4  8.8  8.6\n",
            "  7.2  9.2 12.6  8.8 12.2 10.2 10.2  5.6  4.8  8.4  6.8  8.8  9.   9.\n",
            " 13.2  7.4  9.   6.4 10.2  8.2  9.4  7.4  8.4  8.4  7.6  9.2 10.  12.\n",
            "  9.8  7.8 10.6 11.2 13.6 12.  13.  12.4]\n",
            "actual result 2507     7\n",
            "1837     6\n",
            "1992     5\n",
            "3982     6\n",
            "124      6\n",
            "        ..\n",
            "3375    10\n",
            "346      9\n",
            "2128    12\n",
            "2537    11\n",
            "1038    10\n",
            "Name: Rings, Length: 806, dtype: int64\n"
          ]
        }
      ]
    },
    {
      "cell_type": "code",
      "source": [
        "print('Error:')\n",
        "print('Mean Absolute Error :',mean_absolute_error(y_test,pred))\n",
        "print('Mean Squared Error :',mean_squared_error(y_test,pred))\n",
        "print('Root mean Squared Error',np.sqrt(mean_squared_error(y_test,pred)))\n",
        "print('r2 score :',r2_score(y_test,pred)*100)"
      ],
      "metadata": {
        "colab": {
          "base_uri": "https://localhost:8080/"
        },
        "id": "3AXKbHm7MDYU",
        "outputId": "4dd098d2-5807-4fa4-ba34-b5c5ccbbedf7"
      },
      "execution_count": null,
      "outputs": [
        {
          "output_type": "stream",
          "name": "stdout",
          "text": [
            "Error:\n",
            "Mean Absolute Error : 1.4808933002481388\n",
            "Mean Squared Error : 3.8637220843672453\n",
            "Root mean Squared Error 1.9656352877294518\n",
            "r2 score : 50.571507397792345\n"
          ]
        }
      ]
    },
    {
      "cell_type": "markdown",
      "source": [
        "# Support Vector Regressor( Kernel = rbf )"
      ],
      "metadata": {
        "id": "h-A6OYwPICQ6"
      }
    },
    {
      "cell_type": "code",
      "source": [
        "from sklearn.svm import SVR\n",
        "svr=SVR(kernel='rbf')\n",
        "svr.fit(x_train,y_train)"
      ],
      "metadata": {
        "colab": {
          "base_uri": "https://localhost:8080/"
        },
        "id": "tJcMU04sZSi-",
        "outputId": "48c88cd9-91e8-4583-c947-aef496c8c90d"
      },
      "execution_count": null,
      "outputs": [
        {
          "output_type": "execute_result",
          "data": {
            "text/plain": [
              "SVR()"
            ]
          },
          "metadata": {},
          "execution_count": 173
        }
      ]
    },
    {
      "cell_type": "code",
      "source": [
        "pred=svr.predict(x_test)\n",
        "print(\"predicted result \",pred)\n",
        "print('actual result',y_test)"
      ],
      "metadata": {
        "colab": {
          "base_uri": "https://localhost:8080/"
        },
        "id": "cExw9v49Ma1o",
        "outputId": "3a6d8429-2185-4fd2-c5d7-2418df904d05"
      },
      "execution_count": null,
      "outputs": [
        {
          "output_type": "stream",
          "name": "stdout",
          "text": [
            "predicted result  [ 6.94406923  7.5075137   5.51482399 10.2974267   6.84549249  9.26963162\n",
            " 10.95472308 11.47166372  7.14045465  9.60164472 10.13453875  6.71387114\n",
            "  9.51408132  9.52196213  7.23352164  5.59686164 11.93171491  8.51629369\n",
            "  9.49244624 10.11484799  9.89959183 11.07421568 10.31581469  9.93587394\n",
            "  8.48998137  6.94124025  8.53920149  8.27168536 11.28234016 10.60180245\n",
            "  6.04652546 11.008438   11.00663973  9.91790942  9.61397001  8.10481615\n",
            "  9.02695969 10.19339338  5.92846523 10.36507304 10.61307319 11.96423277\n",
            " 11.03553261  7.65864203  5.01898156 10.13459261 12.1396619  10.64640001\n",
            "  9.43544883  9.92055493  9.01017735 10.96248891  7.23832393  9.48513722\n",
            "  9.57269685 10.29987706 10.40942157 10.7477805   9.62121368  9.8433523\n",
            "  9.99963697 10.01467367  9.63683833 11.78853526 10.73068867  8.24172148\n",
            "  5.01026028  6.93594229  7.9806022   7.7187519   9.7144654  10.19187105\n",
            " 10.39998622  8.70462564 11.41300557 11.10667205  9.04886049  8.88335079\n",
            "  9.81159062  8.80781217  7.94319257  8.63828705  8.6316764   6.71006444\n",
            "  9.1243961  10.13804801 10.95403818  8.57874174 10.0387165   8.15679777\n",
            "  9.09251405 11.18840623  9.8465986  11.20743458 10.79322291  9.71571519\n",
            " 10.24523086 11.60525905  9.57193728 10.70202186  8.85264949  9.00601881\n",
            "  5.38556994 10.26345181 13.13713599 12.56278279  8.93234091 10.81352588\n",
            " 10.05694897 10.17037341 10.68405523 11.17029629  8.9482162   8.75647974\n",
            "  9.78439424  9.9239783  10.30625926  9.0482458  11.49044195  7.94198773\n",
            " 12.17701924 10.12522637  5.80084313  6.14803341  7.54690916  9.93671168\n",
            " 11.05614257  9.40031483 10.93556577  5.87155174 14.22831341 10.13882144\n",
            "  6.41637222  7.51336252  8.60441251 12.23556483  7.5280937   7.33199118\n",
            " 11.87790873 12.78002465  6.86670887  9.67717553  9.92204313 11.19555202\n",
            "  9.11657334 11.55065409  8.37117062 10.07084838 10.69039347 11.3125445\n",
            " 10.61293936  9.61238723 11.66518916  6.96738729  6.62768723 12.52099362\n",
            " 13.13394461 11.84664587  8.82645344 11.04406027  9.63169109  6.92675668\n",
            "  7.55962933 10.96904198 10.29904025 10.77351381  9.38599565  9.38625854\n",
            "  9.03686336  9.58535841 10.15511733  5.37603191  7.35443408  7.58889588\n",
            " 11.41735399  9.98750254  5.06659436  7.36149283  7.99201499  9.27035628\n",
            "  4.92641002  8.49319118  6.03490708 10.79393996  9.8529731   8.63314705\n",
            " 11.30846587 10.25945053  6.16061536  8.64564537 11.03831137 10.47018712\n",
            "  8.8947602  10.59482049  4.91055464 11.23983998 11.86011114  9.72899767\n",
            " 12.3642218   7.75612752  6.84890673  9.80745565 11.48478108  7.22388275\n",
            "  6.584215    8.30075061  6.56757634  7.74835567  6.63134661 10.27053583\n",
            "  8.98682752 12.48968977  9.25626411  8.89122005  9.00047784  7.17373139\n",
            " 10.25320233  7.51017024  8.02979302  8.66953691  8.37126976  8.96139408\n",
            "  7.91323671  9.78700348  9.1731551  11.60589508  8.3625466   5.08132188\n",
            " 12.98224073  9.49889093  6.94611815 11.36770278 12.32198038  9.78112388\n",
            " 11.07060176 14.00784383  9.85176134 10.45692017  7.80168752 12.39984371\n",
            "  8.56633718  9.50156081  7.5703296   5.92194738  9.98684639 10.6904801\n",
            "  9.64987928 11.27639572 10.75115114  9.53415127 11.44784005 11.18292809\n",
            "  7.09879068  7.27800669 11.41306064  9.74379947  9.4741809   8.5702525\n",
            "  8.81405537 10.8821621  11.36293997  6.72958848 11.62999019 11.60795221\n",
            " 11.08884294  9.47137496  8.76542824 11.87943053 11.7623941  10.08116278\n",
            "  9.78181955  6.78903057  9.65412351  9.26152838 11.27381978  9.20493893\n",
            " 10.48463873  9.28654106  9.70855995  9.15651329 12.30495463  9.81810074\n",
            " 10.57449307  8.04497017 11.01532158 10.45480208  7.77251096  9.09454101\n",
            "  9.50098461  8.05177243 10.34831196 10.41238889  8.91209966  9.52979199\n",
            "  9.33281144  9.67569656  6.08154736  6.87568023 14.01924762  6.25681444\n",
            "  9.58567007  7.10110222  9.0679172   6.18598658  5.95355065 11.66734251\n",
            "  6.26512982 10.90084564  9.95158307  9.37923628  7.97998102 11.2827463\n",
            "  6.70251253  8.49789141  8.93873363  8.92525231  7.93420927  6.50046863\n",
            "  7.93614317 10.052671   12.97005522  9.91178937  7.83405009  7.34586242\n",
            "  8.66520161 10.70453875 11.17044377  8.84836888  8.38246798  9.61088994\n",
            " 11.86451458 10.8589753  10.37468061 11.18384711  6.04929059  7.76104854\n",
            "  9.42785249 11.50204134 12.03915575 10.75833492 11.19734418  9.70391387\n",
            "  7.41859079 10.67320085  8.57925417 13.59649168  7.8537754  10.91271492\n",
            " 10.84734574 10.2490704  12.43297494 11.08917772 10.39991583  7.55771613\n",
            " 11.20709716 12.90875777 11.32902468 12.04180528 12.28031977  5.49503694\n",
            " 10.73873683  6.78089676 11.34712931 11.24915716 11.32962504  7.48523144\n",
            "  9.43617833  8.95817543  5.77212691 11.48413098  4.70367176  9.77207349\n",
            "  6.69789432  9.22015372  9.69523399 12.95312217  9.33541067 10.72843694\n",
            " 11.8258077  10.42027996 11.32271236  5.90155341  9.87118176  9.66027849\n",
            "  7.82390763 11.50049273 10.49744952  7.35252373 10.25335681 10.96407491\n",
            "  5.75718142  7.55401694 10.5459196   9.78995704  5.14432715  8.28329217\n",
            " 11.93322477  7.04519219  7.4541912   9.66369137  8.72024917 12.19149151\n",
            " 11.26958237  4.98262266 11.01893158  9.79692666 10.26114455 10.82871667\n",
            "  6.6209971  11.59440294  9.71995254 12.67197365  8.46304864 10.63132579\n",
            " 10.65560485 12.47906379 10.05963131  8.72100791 10.08007083  6.61010619\n",
            "  8.35610374  5.82000118 10.68955616 11.6676861   8.43633668  8.97568025\n",
            "  9.68253892  6.73781633  9.172588   10.97694937 10.89587428  6.75471913\n",
            "  6.85609654 11.39340854 10.40365849  6.51040384  9.7337177   8.3334348\n",
            "  8.00547348  9.42824593 12.64698079 10.7082487   6.71031315 10.8654777\n",
            " 10.97707549  8.38145258 11.26229955 11.39962739 10.04860503 10.69898698\n",
            "  7.8120916   9.40331487  8.37954595  9.37793981 11.53115288 13.48016511\n",
            "  9.8911558   7.51409833  5.60241846  4.9399564   6.0581197   9.57641442\n",
            "  7.465887    8.62548559  9.32385892 10.84688151 10.14263985  5.94850801\n",
            "  9.54914741 11.04166568  7.10818514  8.65363003 10.38801524  9.18967678\n",
            "  7.13566196 11.52615882  6.69089486  7.29987685  8.34450105 11.23423669\n",
            "  9.41428261 13.37575369 10.58910416 11.92270965  6.85614041 10.40776222\n",
            " 10.3016393   9.4975916   5.96290639 10.81325097  9.3901998  11.06355583\n",
            " 10.38405909 10.71861182 11.33939665  9.36728542  9.41618979  9.00752363\n",
            " 10.54252078  9.70681398 10.89232206  9.45449894 11.23565632 11.56498686\n",
            "  9.1246318  10.40201868 12.00862031 10.43275659  9.89561066 12.11233479\n",
            "  9.55761259 10.64804342 11.34475979 11.51971557  9.72662246  9.71306298\n",
            " 12.73444617  6.57978841 10.16338139 10.20477025  9.61451242 11.38737659\n",
            "  8.98413211  9.79989826 10.52267729  4.60049752  9.93004215 11.97813866\n",
            "  9.5830318   8.39756112 10.45056521  9.93717094  8.91545765  9.63411155\n",
            "  6.60427771  9.91083272  7.41209283 10.63308682 11.4005139  10.23636127\n",
            " 10.04742056  8.96048996 11.48196982 10.13160308 11.11474166  6.61775703\n",
            " 10.1453703   9.21479306  8.95950931 10.18669362  9.48188305 10.11096606\n",
            "  9.16069613  9.42733177 11.28499292 10.93137615 11.55640763  7.87600123\n",
            "  8.48966302  7.03724473  8.35720809  8.29718148  4.89294077 12.24628165\n",
            "  9.89100523 11.17265953 10.72025418  6.96119446 10.37724041  7.4946371\n",
            " 12.44652127  9.5268219   6.43728932  6.72046498  9.77052227 10.3462888\n",
            " 11.90678559 10.86636219 11.76603533  7.00487689 10.93714836 10.01556224\n",
            " 11.93542217  9.48949082  6.76929771  6.44287919  8.8070606   9.09037904\n",
            "  6.4325235  10.55665307 12.27915575 12.20441997 13.38614187  7.78943123\n",
            "  7.71378588 11.71787815  9.51170689 10.67350851 10.97522832  6.06236362\n",
            "  9.97695246 11.57455502 11.09026721 10.11534851  9.00501212  6.76595039\n",
            "  9.63949873  9.15962599  9.52994142 11.92706086  9.06090334 12.19370504\n",
            "  8.85552756  9.15894962  9.4111328   9.82842464  6.41509134  9.36265497\n",
            " 10.45236861  5.84597152  9.24121304  9.27704474 10.37693292  6.27833603\n",
            " 10.94920408  8.86241084  9.87677747  8.71703915 11.09556677 10.45039929\n",
            " 12.04768383  7.59929994 12.37157879 10.93792806 10.80503645 11.06867439\n",
            " 10.5592329  10.66328428 11.11134453  7.25766233  6.56282173 11.70959065\n",
            "  9.75156264  4.50206807  6.67463925  9.71088261  7.5870447   7.17110483\n",
            " 10.8927054   9.8858152   6.39415159 13.44820364 10.65337306  5.0618272\n",
            " 10.6005964   8.41808778 12.99836112 10.60926563 10.73947222  9.07710599\n",
            "  8.35089733  6.80990842  9.67157502  7.11479058 10.95107017 11.6746168\n",
            "  9.96501583 10.85919886  8.34411914  5.15133568  7.99651707  8.12158466\n",
            " 10.63373216  9.74075368 10.56241102  5.23951269  8.20839295  6.01424766\n",
            "  9.46873114  9.4152391   8.21899485 10.15398506 10.006952   10.41702911\n",
            "  7.20256663  7.24624577 10.30004916  9.96694631  8.70438589  4.9668243\n",
            "  4.60359482 11.0667993   8.35393556  9.46434191  9.13128284 10.48270983\n",
            " 10.69614053  9.89185089  7.35672253  9.94282832 12.79299614 10.80098557\n",
            "  6.81789225 10.32831411 10.29223308  9.99762645 10.70337047  8.2541117\n",
            "  6.07368892  7.46088776  7.80368881 11.1688072   7.22371572 10.52150262\n",
            "  9.14538024  6.38441003  8.60059767  8.76578196 10.3659306  10.39878721\n",
            " 10.10599891  8.27781734 10.79517792 13.20277555  6.90210447  9.37346876\n",
            "  7.60026799  8.70885784 11.36905083  9.92305986  7.46071091  6.88179821\n",
            "  8.8713239   8.14315504 11.79393742  6.7912554   9.04281     8.95565813\n",
            "  7.54231483  5.71264275 12.45094681  7.01160706 10.09870168  5.76158834\n",
            "  5.28783871  8.07740338 12.61361259  7.61587485  9.1314688  10.78284786\n",
            " 12.71675523  8.50910387  8.57692657  8.04154877 10.52014201 10.08285821\n",
            "  8.00596517 10.00610175  9.01040371  9.19329139  9.71678567  7.7258723\n",
            "  9.11537541  7.80532206  9.81149178  9.63607765 10.58699029  5.38811707\n",
            "  9.16434638 10.14692348  7.69987655  8.82136146 11.35791728  9.18745672\n",
            "  9.85183942 10.08589211  9.42901412  5.28470907  4.88348261  8.72036159\n",
            "  6.99471116  9.40086274  8.89818464  8.06421623 13.39980722  7.51116154\n",
            "  9.36964915  6.80344841 10.02744188  8.28068495  9.1142824   9.59098853\n",
            "  9.04396687  8.9279588   7.40141499  9.07992836 10.39661776  9.90410304\n",
            " 10.95611344  8.49974668 10.31975826  9.97401518 12.13110111 12.64896884\n",
            " 12.20444912 12.61271764]\n",
            "actual result 2507     7\n",
            "1837     6\n",
            "1992     5\n",
            "3982     6\n",
            "124      6\n",
            "        ..\n",
            "3375    10\n",
            "346      9\n",
            "2128    12\n",
            "2537    11\n",
            "1038    10\n",
            "Name: Rings, Length: 806, dtype: int64\n"
          ]
        }
      ]
    },
    {
      "cell_type": "code",
      "source": [
        "print('Error:')\n",
        "print('Mean Absolute Error :',mean_absolute_error(y_test,pred))\n",
        "print('Mean Squared Error :',mean_squared_error(y_test,pred))\n",
        "print('Root mean Squared Error',np.sqrt(mean_squared_error(y_test,pred)))\n",
        "print('r2 score :',r2_score(y_test,pred)*100)"
      ],
      "metadata": {
        "colab": {
          "base_uri": "https://localhost:8080/"
        },
        "id": "X_OPoTp-MdG-",
        "outputId": "c89506cb-a3c9-4069-d062-8f33080e2738"
      },
      "execution_count": null,
      "outputs": [
        {
          "output_type": "stream",
          "name": "stdout",
          "text": [
            "Error:\n",
            "Mean Absolute Error : 1.34650053833701\n",
            "Mean Squared Error : 3.4273351748655205\n",
            "Root mean Squared Error 1.8513063427929806\n",
            "r2 score : 56.15419338219041\n"
          ]
        }
      ]
    },
    {
      "cell_type": "markdown",
      "source": [
        "# Support Vector Regressor( Kernel = poly )"
      ],
      "metadata": {
        "id": "Pzo9lkYoIPDv"
      }
    },
    {
      "cell_type": "code",
      "source": [
        "svp=SVR(kernel='poly')\n",
        "svp.fit(x_train,y_train)"
      ],
      "metadata": {
        "colab": {
          "base_uri": "https://localhost:8080/"
        },
        "id": "YMGhbD1fZEwD",
        "outputId": "97490fe0-5782-4e32-c3b2-02d8a58f2095"
      },
      "execution_count": null,
      "outputs": [
        {
          "output_type": "execute_result",
          "data": {
            "text/plain": [
              "SVR(kernel='poly')"
            ]
          },
          "metadata": {},
          "execution_count": 176
        }
      ]
    },
    {
      "cell_type": "code",
      "source": [
        "pred=svp.predict(x_test)\n",
        "print(\"predicted result \",pred)\n",
        "print('actual result',y_test)"
      ],
      "metadata": {
        "colab": {
          "base_uri": "https://localhost:8080/"
        },
        "id": "odGOvvCQMuxp",
        "outputId": "19154d88-5826-4f7b-cac5-a9b3e0982dc5"
      },
      "execution_count": null,
      "outputs": [
        {
          "output_type": "stream",
          "name": "stdout",
          "text": [
            "predicted result  [ 8.73201552  8.53490683  5.67876666  9.24300319  7.75185301  8.98966557\n",
            " 10.95645683 10.07844396  8.82600411  9.23889166  9.15974612  7.95051227\n",
            "  9.25605704  9.32899623  9.12267929  5.91327772 10.31058254  9.17463451\n",
            "  8.88019173  9.63536603  9.1963317  10.53100793  9.21013411  9.57463705\n",
            "  8.11970825  8.25235086  8.60679908  8.11747945 11.10035456  9.68014481\n",
            "  6.465399   11.76179214 10.40561502  9.95088749  9.12463813  8.07393372\n",
            "  8.96951443  9.85366395  6.35216163  9.13781515 10.20843156 11.90647351\n",
            "  9.42628536  8.66120418  5.27152933  9.60704651 10.91328105 10.01391085\n",
            "  8.96367263  9.37133804  9.17306571 11.19398548  8.16794383  9.25426997\n",
            "  9.24468379  9.7581479   9.90611308 10.0152808   9.28484411  9.41933988\n",
            "  9.659572    9.34061215  9.42082101 11.96095244  9.46430235  8.38294399\n",
            "  4.54625522  9.0854773   8.46484444  8.76594446  9.20390253  9.74099821\n",
            "  9.17338528  9.23995316 11.3745775   9.69106014  9.2437691   8.83627469\n",
            "  9.47908075  8.94096725  9.01250346  8.25454837  8.93337838  7.45749227\n",
            "  9.21644129  9.3312636  10.3690813   8.65531408  9.73677784  9.21043454\n",
            "  8.58813092 10.83411926  9.44306414  9.92921736  9.86908627  9.37742192\n",
            "  9.45434336 10.04339964  9.22692794 10.41540623  9.23058535  9.07509766\n",
            "  5.57190058  9.33890823 10.5549512   9.87545187  9.05898359 14.94687488\n",
            "  9.73601354  9.43129429  9.50212592 10.55656797  8.50686746  9.20209776\n",
            "  9.35957814  9.14298138  9.33342178  8.51068767 12.53646235  9.18204755\n",
            " 11.54605717  9.73677809  5.76610036  6.6322146   7.06001828  9.29548997\n",
            "  9.65333992  9.1079014  10.54354686  6.41477045 10.26855727  9.05677884\n",
            "  7.1298656   8.5402524   8.88271091 12.21420878  8.83399741  8.64874504\n",
            " 10.55640691 12.06423838  8.02942752  9.2345514   9.48431064 10.6137986\n",
            "  9.08865293 11.55090733  7.9918127   9.44588854  9.50127548 10.75454251\n",
            "  9.93643068  9.11726592 12.03397227  8.08204415  7.55844029 10.56545164\n",
            " 11.19968421  9.6901533   8.8909865  10.32344696  9.42967236  8.73006861\n",
            "  8.5018161   9.58049675  9.44501723  9.55541535  9.04840322  9.06423857\n",
            "  8.94125247  9.37632643 10.1045594   5.82881066  5.87112894  8.94958486\n",
            " 11.35235916  9.32421819  4.96143592  8.76220635  9.00174901  9.23887594\n",
            "  4.79113556  8.72374534  6.75194161 13.10708503  8.88862611  9.15488554\n",
            "  9.70107679 10.08766579  7.03759887  8.68750554 14.15650291  9.76479114\n",
            "  9.01819733 10.23966115  5.03176367 10.13356912 13.70190555  8.83435544\n",
            " 10.37103479  6.69476151  7.22036136  9.44947651 10.10249529  8.96870548\n",
            "  8.37652227  7.78511305  8.24901468  9.22620222  7.5828102   9.50150328\n",
            "  8.66206111 13.62605726  8.97332544  8.65729612  8.92208975  8.38070443\n",
            "  8.90668016  8.67761091  9.13827831  8.73086604  8.65791867  9.23670012\n",
            "  9.17532237  9.38508631  8.95475797 11.43573514  8.32903336  5.61328377\n",
            " 10.18016155  9.0024299   8.14540045 10.91260521 13.9078001   9.24077381\n",
            " 10.30650919 11.23314007  9.23160583  9.21183645  9.24356365 11.92044243\n",
            "  8.08877293  9.03449118  8.43301501  6.55683067  9.32665373 10.66279404\n",
            "  9.21235117 10.3159558  10.31274687  9.26932688  9.73472816  9.26496762\n",
            "  7.8326671   8.5322049   9.92310376  9.71761657  8.93515168  8.84594082\n",
            "  8.71292463  9.9485962   9.15526545  6.16223126 10.98120278  9.52787518\n",
            " 10.72429272  9.23562141  8.98476181 10.64289264 14.73989972  9.00907691\n",
            "  9.22752585  8.37972994  8.57970261  9.10504479 10.36282379  9.14492393\n",
            "  9.31042039  9.24574327  9.29463748  9.08121594 11.54285188  9.65972937\n",
            "  9.55344103  8.54905047  9.27094275 10.67010269  9.03061401  9.04770303\n",
            "  9.06360079  9.06888775  9.99532921  9.326304    8.85282083  9.34130884\n",
            "  9.08255332  9.41771151  7.33054737  8.46818307 10.43273378  6.67610073\n",
            "  9.20729447  8.67208043  8.8531155   6.80530818  6.66444741  9.90925594\n",
            "  6.87267726 10.36699879  9.33841255  9.21942874  7.51853957  9.28593822\n",
            "  7.35415041  9.17126336  8.51466818  8.98313446  8.93175591  7.37782461\n",
            "  9.17952961  9.1622017   9.83841559  9.19290991  9.27663114  8.89936386\n",
            "  8.92795183 11.06690251 12.42942518  8.42769014  7.98394901  9.07619401\n",
            "  9.13653767 10.91601299  9.94045359 10.43981617  6.58279635  6.16408797\n",
            "  8.68443885 11.76247974 11.6397296   9.84163506 10.78344296  9.23823253\n",
            "  8.46234302  9.87927333  8.77667344 12.00508824  9.0466372   9.7989187\n",
            "  9.50116891  9.78233426  9.69166515 11.22015512  9.95339293  8.97698785\n",
            " 10.15824089 16.79376237  9.46461191 11.10916116 13.92168676  5.94365958\n",
            "  9.42069637  8.09951635 19.62092834  9.55013976 11.17753364  7.10235282\n",
            "  9.09771444  8.99504006  6.7930425  10.85613403  4.45767917  9.48169493\n",
            "  7.80344187  8.88574484  9.36676594  9.71419363  9.26844691 11.16938077\n",
            " 15.08090642  9.31038665 10.00022807  6.28550966  9.3500621   8.85547317\n",
            "  6.76279845 11.32430689  9.41347175  8.72628197  9.59435423 11.15117766\n",
            "  6.24401243  8.87517134 10.19469483  9.27788442  5.83658598  9.21694589\n",
            "  9.92829816  7.82118254  8.8093614   9.23284584  8.33222491 12.20628449\n",
            "  9.47311358  4.92449666  9.69626937  9.4691202  10.3044637   9.05905517\n",
            "  7.41389922 10.05394227  9.13023651 13.5112746   8.53763951  9.49266758\n",
            "  9.2388968  13.32575367  9.6850536   9.24790742  8.81534177  7.6740971\n",
            "  8.54553923  6.29143881 10.72074325 10.5537274   8.8426873   9.0210671\n",
            "  9.26792465  7.95038679  8.99190361 10.51611318 10.98077279  7.72586951\n",
            "  8.7284543  10.38471939  8.81172435  7.81567853  9.53904929  8.65761122\n",
            "  8.7658644   8.86774484 13.87153985 10.48411604  7.48024492 10.4673853\n",
            " 10.42337148  9.16993051 10.04385307  9.97849407  9.71968009 10.40197481\n",
            "  6.7033549   9.3133462   9.04854136  9.1323333   9.72055534 13.5948614\n",
            "  9.56151174  8.31267351  6.16984161  4.97422373  6.62527057  9.22817108\n",
            "  9.26825981  9.22739453  8.96549392 10.00493277  9.48691362  6.65772109\n",
            "  9.37085844  9.98740171  8.8528632   8.21973809 10.08354532  9.24255295\n",
            "  8.96761564 10.03211614  7.75002449  7.98457459  8.70600961 11.15974377\n",
            "  9.04079615 14.230656    9.28424548  9.7731505   8.61117594 10.14969721\n",
            " 10.53109974  9.06122409  5.09442311  9.65896934  9.353833    9.64539865\n",
            "  9.88941258  9.67489806 11.58453532  9.15822262  9.0209738   9.27836402\n",
            "  9.43072131  9.39538112 10.15988371  9.21301625 10.21972842 12.3852261\n",
            "  8.37438037  9.11380043  9.98850025 10.22307147  9.5855671  12.07713896\n",
            "  9.2948663   9.63923807  9.73991401 12.08007334  9.18540503  9.08459096\n",
            "  9.7914834   8.71378074  9.8000246   9.37540819  9.29289582 10.73120428\n",
            "  8.97934448  9.38228059 10.03270404  4.02003085  9.49992095 16.00646442\n",
            "  8.83799514  7.6941692   9.57883629  8.53230858  8.90544635  9.35437222\n",
            "  5.87182005  9.28886906  8.79705224  9.72626634 12.07207244  9.66147893\n",
            " 10.02198417  8.66702582  9.22313899  9.41682991  9.87846737  7.63299607\n",
            " 10.09087598  9.23755181  8.33240384  9.71379607  9.04475032  9.52747747\n",
            "  8.91937019  9.35764173 10.15073299 10.71308272 12.22958182  9.17551349\n",
            "  8.16909582  7.70759986  8.75483401  7.87282701  4.67037136 13.21698764\n",
            "  9.17093406  9.86441268  9.26118263  8.5854388   9.86468597  9.00010272\n",
            " 11.54457723  8.92473793  7.40647825  7.62270427  9.36682805  9.91697202\n",
            " 17.20201598 10.83207713 11.36415329  7.88685351 10.52266019  9.39618378\n",
            " 18.2046075   9.18253536  7.716436    7.37628445  8.95702581  9.24586418\n",
            "  7.3552754   9.23465312 13.22838064 10.22707539 19.37019458  7.18381189\n",
            "  8.52693822  9.77491272  9.2377554   9.14750308  9.23384879  6.64172102\n",
            "  9.47571979 11.05051003  9.33270078  9.45145253  9.22711153  7.70134198\n",
            "  9.42937264  8.73061779  8.89838115 11.12188895  9.23085139 12.5147153\n",
            "  9.19267281  8.22179302  9.17668538  9.31797633  7.19132933  9.2447459\n",
            "  9.94626575  6.29717173  9.23271214  9.07846012 10.08832737  6.93269526\n",
            "  9.71746329  8.44587959  9.54888198  8.86240207 10.40405742 10.04837583\n",
            "  9.85236698  8.42271394  9.59847662 11.3343516   9.73487841  9.93702017\n",
            " 10.00438048 10.24026491  9.57078844  8.71268538  7.75190275 11.46884683\n",
            "  9.05533703  4.01109235  7.47713243  9.05291557  9.13069329  8.53894567\n",
            " 11.66172974  9.07127977  7.73553158  9.84988685  9.48390699  5.15838414\n",
            " 10.14336552  9.08242246 10.63025586 11.59262369 10.42957234  9.00050996\n",
            "  9.20750858  8.57138423  9.29862354  5.75783631 10.64177189 15.34849967\n",
            "  9.4285733  12.75947783  8.81692794  4.2215793   8.99262854  9.25210388\n",
            " 10.92230362  9.45757976 11.67299091  5.64063289  9.0093855   6.64359179\n",
            "  9.11910616  9.00398829  9.25474963  9.17656792 10.05441501  9.85552836\n",
            "  8.81862525  8.87993128  9.6349686   9.61432578  8.96606431  4.79272975\n",
            "  3.95412066  9.80937578  8.83844531  9.25113695  9.05884902  9.50310875\n",
            "  9.53788438  9.39794206  8.7617834   9.57134095  9.72725069 11.51409161\n",
            "  7.97759278  9.5437995   9.7432169   9.02164947  9.8407537   8.7027089\n",
            "  6.48272962  8.6880613   7.22801963  9.73676149  8.60457641 10.34353134\n",
            "  9.03083765  6.89209893  9.24048911  8.71649999  9.9441707   9.36064996\n",
            " 10.38385756  8.78267446 10.24581564 10.37193743  8.54876876  9.18467436\n",
            "  9.0175439   8.16090107 12.10753483  9.25337582  8.72810041  8.76422636\n",
            "  9.18157543  8.67981822 10.55374385  7.648807    9.14721699  8.93863068\n",
            "  9.124832    6.17010093 10.04829926  8.77154857  9.06770825  5.25139772\n",
            "  5.51747611  9.09961335 10.91010503  8.61313472  9.13686644  9.33032814\n",
            " 10.07589243  9.18404679  9.23680027  8.72497242 10.77212249  9.66175741\n",
            "  9.12667095  9.50170154  9.23628737  9.06243362  9.01354744  8.76790645\n",
            "  9.01962618  9.12207637  9.51492044  9.1668799  10.08104822  5.35924924\n",
            "  8.9708945   9.54143088  7.1247538   9.24727615 10.06934088  9.0300525\n",
            "  9.83968281  9.73394747  9.26476061  5.46428894  4.80011496  9.22357766\n",
            "  8.36286059  9.29669786  8.85146025  8.72053598  9.69281548  8.8596588\n",
            "  9.16400349  7.76699283  9.42542869  9.10144138  9.21801603  8.98515405\n",
            "  8.53646024  8.8022519   9.11485426  9.05012213 10.0755603   9.46332082\n",
            "  9.24908896  8.4276725   9.90013991  8.89507787 10.39308308 11.73879994\n",
            " 12.45029349 12.39037024]\n",
            "actual result 2507     7\n",
            "1837     6\n",
            "1992     5\n",
            "3982     6\n",
            "124      6\n",
            "        ..\n",
            "3375    10\n",
            "346      9\n",
            "2128    12\n",
            "2537    11\n",
            "1038    10\n",
            "Name: Rings, Length: 806, dtype: int64\n"
          ]
        }
      ]
    },
    {
      "cell_type": "code",
      "source": [
        "print('Error:')\n",
        "print('Mean Absolute Error :',mean_absolute_error(y_test,pred))\n",
        "print('Mean Squared Error :',mean_squared_error(y_test,pred))\n",
        "print('Root mean Squared Error',np.sqrt(mean_squared_error(y_test,pred)))\n",
        "print('r2 score :',r2_score(y_test,pred)*100)"
      ],
      "metadata": {
        "colab": {
          "base_uri": "https://localhost:8080/"
        },
        "id": "ki5tQCSuMvI9",
        "outputId": "07419939-226f-4b2c-ca66-f06cc5f94fdf"
      },
      "execution_count": null,
      "outputs": [
        {
          "output_type": "stream",
          "name": "stdout",
          "text": [
            "Error:\n",
            "Mean Absolute Error : 1.5649352882062328\n",
            "Mean Squared Error : 4.746092975131726\n",
            "Root mean Squared Error 2.178552954401551\n",
            "r2 score : 39.28336034833961\n"
          ]
        }
      ]
    },
    {
      "cell_type": "markdown",
      "source": [
        "# Support Vector Regressor( Kernel = linear )"
      ],
      "metadata": {
        "id": "TSic--McIXcM"
      }
    },
    {
      "cell_type": "code",
      "source": [
        "svl=SVR(kernel='linear')\n",
        "svl.fit(x_train,y_train)"
      ],
      "metadata": {
        "colab": {
          "base_uri": "https://localhost:8080/"
        },
        "id": "9xvCTSr7YPsi",
        "outputId": "b1a0d56c-abe1-419e-a1e6-b376e7f507d1"
      },
      "execution_count": null,
      "outputs": [
        {
          "output_type": "execute_result",
          "data": {
            "text/plain": [
              "SVR(kernel='linear')"
            ]
          },
          "metadata": {},
          "execution_count": 179
        }
      ]
    },
    {
      "cell_type": "code",
      "source": [
        "pred=svl.predict(x_test)\n",
        "print(\"predicted result \",pred)\n",
        "print('actual result',y_test)"
      ],
      "metadata": {
        "colab": {
          "base_uri": "https://localhost:8080/"
        },
        "id": "WVPgx_3VGxz7",
        "outputId": "16486add-c0b8-4c03-a80e-9d499bd95f6e"
      },
      "execution_count": null,
      "outputs": [
        {
          "output_type": "stream",
          "name": "stdout",
          "text": [
            "predicted result  [ 7.16978093  7.73004636  5.89210616 10.28179991  6.7240906   9.25863726\n",
            " 11.93810635 10.29122926  6.66308408  9.68055313  9.07027704  6.93300901\n",
            " 10.24708149  9.53780027  7.55231316  5.92178084 11.70959166  8.7703111\n",
            "  8.11746449 10.10571005  8.41390507 11.27798748 10.23023773 10.23681059\n",
            "  7.6220583   7.21730573  7.86567275  7.47285748 11.52941289  9.60136749\n",
            "  6.18995154 10.33350291 11.42048932 10.6822348   9.70933096  7.13017208\n",
            "  8.48732166 10.37900802  6.2174924  10.46500168 11.19898873 12.39105533\n",
            " 10.19453455  7.76441542  5.44195113 10.22146254 12.40417683 11.49608003\n",
            "  8.69322984  9.7053563   8.88287901 11.22009082  7.55854222  9.64075046\n",
            "  9.76148153 10.12484336 10.76432005  9.55327828  9.7596415   8.67702114\n",
            " 10.37216816  9.60520515  9.79676323 12.85676162 10.69654656  7.64739931\n",
            "  4.61074457  7.51604449  7.32329471  8.14134081  8.44245132 10.07114502\n",
            "  9.57228297  8.8988951  11.87337874 10.70105825  9.08267656  8.50762865\n",
            "  9.09251033  8.21571652  8.23932727  7.59095573  8.38657046  6.79939439\n",
            "  8.6841927   9.82517713 11.22837792  8.47859664 10.41210826  8.49923055\n",
            "  8.59616353 11.67556323  9.40957753 11.11117712  9.5132432   9.74445825\n",
            "  9.01282697 10.0246062   9.7768433  11.39233132  8.91349017  8.93484468\n",
            "  5.5791677   8.95153856 11.97979619 11.0279892   8.97881377 11.4537043\n",
            " 10.714207    9.79418975 10.5667126  11.7334436   7.81065836  9.44152746\n",
            "  9.01325046  9.34298325 10.26151645  7.89993017 11.73814265  8.40446497\n",
            " 12.50373362 10.06914613  5.52378743  6.41202142  6.68887799  8.8381758\n",
            " 10.96252684  9.24097738 11.59237164  6.19649327 12.47666801 10.17535392\n",
            "  6.66095075  7.78717637  8.66559418 12.6584825   7.89453333  7.70964583\n",
            " 11.9642192  13.0222344   7.07021166  9.6591263   9.96301391 11.35429242\n",
            "  9.1154408  11.66399383  7.40446899  9.67051925 10.05660626 12.38771756\n",
            " 10.76546322  8.78636216 12.00415492  7.23840609  6.92508788 11.99283078\n",
            " 12.73318339 11.55558298  8.98532752 10.78374375  9.65486499  7.3816697\n",
            "  7.82482303 10.2335754  10.69228118 10.39044435  8.82833277  9.43267128\n",
            "  8.80013418  9.2737596  10.6033106   5.6722829   6.46878046  7.97446846\n",
            " 11.95798816 10.12696834  5.54173231  7.55814775  8.30077164  9.25337851\n",
            "  5.28734802  8.24931491  6.13357905 10.92222767  8.75510198  8.89789103\n",
            " 11.21786672 10.65285504  6.35679295  7.6803009  11.95955668 10.39816496\n",
            "  9.26584878 11.11721477  5.28688401 12.12865187 13.44197803  9.08630992\n",
            " 10.97583758  6.86068152  7.20139854  8.96918611  9.98757896  7.72180299\n",
            "  6.86448836  7.33648444  6.91613382  8.17467341  6.68520029 10.21119883\n",
            "  8.73937398 13.70378729  8.09355893  7.87022121  8.70585466  7.41807623\n",
            "  9.73315032  7.6878755   8.53120994  8.23655399  7.85390967  9.1675402\n",
            "  8.41539349  9.11387754  9.05215226 12.09421124  7.57409209  5.45485525\n",
            " 11.59439203  8.67393829  7.13712857 11.89783955 13.68150659  9.3369457\n",
            " 11.51669549 13.00491449  8.53151906 10.05980548  8.41317064 12.93377954\n",
            "  7.57533775  8.99610807  7.86819705  6.23769453 10.15886198  9.0864919\n",
            "  9.52810263 11.56796044 11.14348117  9.78108061 10.7811909  10.53683927\n",
            "  7.28346516  7.60712223 10.86344459  9.68532011  8.94727669  8.27556207\n",
            "  8.35433407 10.9702717  11.11688569  6.07974857 12.57904401 11.19212316\n",
            " 11.56391303  9.57203443  8.93838754 12.06058853 14.22708842  8.47600046\n",
            "  9.87520077  7.12243047  8.51119009  8.91917813 11.43611312  8.43157045\n",
            " 10.66905713  9.47472377  9.64513656  9.19394453 13.01172601 10.02080062\n",
            " 10.5892898   7.9504247  10.55575084 11.26066448  8.07979052  9.01830899\n",
            "  9.35790664  8.52021728 10.69242817  9.8324292   8.17902932  9.79529648\n",
            "  9.41657659  9.57578613  6.39137479  7.19953152 13.48912966  6.63349285\n",
            "  8.96259374  7.57150921  8.13591144  6.39701736  6.29131936 10.56322331\n",
            "  6.64174642 10.80642489  9.65509405  9.70694124  7.10642959 10.60884962\n",
            "  7.10073847  8.771617    8.19102468  8.88693853  8.17810604  6.76662345\n",
            "  8.34131703  9.69776245 11.68369238  9.69730093  8.69325708  7.82639429\n",
            "  8.53846571  9.43586262 11.99022459  7.70411967  7.44587667  9.69982627\n",
            " 11.23135336 11.56636296 10.22444158 10.93378411  6.23819757  6.56437645\n",
            "  8.09825529 12.0095316  12.65269491 10.09271948 11.60885419  9.66849248\n",
            "  7.66238847 10.844634    8.60770558 13.22952654  8.20357059 10.62993218\n",
            " 10.41988754 10.63057968 10.8703543  11.58123594 10.50633335  7.99469762\n",
            " 11.42836478 14.43819078 10.83870507 12.93045191 13.50540916  5.97037568\n",
            "  9.90927605  7.03574492 14.10756606 10.24735805 11.68462075  6.6849305\n",
            "  9.28087449  8.59504418  5.91227372 12.10572971  5.1029978   9.43261504\n",
            "  6.85469096  8.91256187  9.81118365 12.15169955  9.4509316   9.85203068\n",
            " 13.70003605  9.63400526 10.76938839  6.13827931  9.61050887  9.26119948\n",
            "  6.70801334 12.16850033  9.76653304  7.65659741 10.09935505 10.98075893\n",
            "  6.09139791  7.87499839  9.99690008  9.12346908  3.24985385  8.75182688\n",
            " 11.14299994  7.39242325  7.85964088  9.79944584  7.64260859 12.67594495\n",
            "  9.89732392  5.51452514 10.38411724 10.08460068 10.75226831  9.57325422\n",
            "  6.65740122 10.09878505  9.3900429  13.23178029  7.58709722 10.03336012\n",
            " 10.73247998 13.24824502 10.42744257  9.06121891  8.99968479  6.65497001\n",
            "  7.96586695  6.16199271 10.78844702 11.55976665  8.28158057  9.02756293\n",
            "  9.41861033  6.89738635  8.94324419 11.88362435 10.4336096   6.98971913\n",
            "  7.33974683 11.56285072  9.02795625  6.67279513 10.0868199   8.09256956\n",
            "  8.15169367  8.88547527 13.95002682 11.31919257  6.94068147 11.09258595\n",
            " 11.23038319  8.7045921  10.16865684 10.05472698 10.30671753 11.43441652\n",
            "  6.81583488  9.30150214  8.60156813  9.18068414 10.79397407 13.44485099\n",
            "  9.73878827  7.48555121  6.0506004   5.49394475  6.35490765  9.44878022\n",
            "  8.36746554  8.8094129   9.16930619 10.01179497 10.31429035  6.12962803\n",
            "  9.45990962 10.56147809  7.46967643  7.52139908 11.05602336  9.30587046\n",
            "  7.24121398 12.05543574  6.82349959  7.52556713  8.10349714 11.49837873\n",
            "  9.31938721 14.34114068 10.30509183 10.62174364  7.19918859 10.33755064\n",
            " 10.48716739  9.12837148  5.65260967 10.59069876  9.3625322  11.43990685\n",
            " 10.81044013 10.72702901 11.89103083  9.53642082  8.54255585  9.14245401\n",
            " 10.31843265  9.88801483 11.40626581  9.03889974 11.26947921 12.44109646\n",
            "  7.94607369  8.87303908 10.16682391  9.96808631 10.15745429 12.96132876\n",
            "  9.68001902 10.58838615  9.74757968 12.13832185  8.54358824  9.27848404\n",
            " 11.15313636  7.08377905 10.33178117 10.09484568  8.8889695  11.60572702\n",
            "  9.33858399  8.69654068 10.77711706  5.02988773  9.17890145 14.23046267\n",
            "  8.24966608  7.32992141 10.44754361  8.41889935  8.65177106  9.96760479\n",
            "  5.98984665  9.93957399  7.69727526 10.60824827 12.534924   10.45325094\n",
            "  9.97775176  8.73778397 10.51762594  8.83635436  9.8775867   6.78362572\n",
            "  9.82196686  8.9359339   7.95803706 10.24331532  9.40799225 10.44776103\n",
            "  8.93413748  9.58176853  9.80148387 11.26353802 12.03721798  8.27750637\n",
            "  7.55700888  6.91115063  8.28207971  7.35166625  5.3927719  13.62207576\n",
            "  9.70127318 10.21062438 10.5598919   7.32178189 10.24391396  7.82297804\n",
            " 12.77622726  9.13880269  6.48124978  6.95789735  9.78867318 10.59372067\n",
            " 14.71617375 10.66211696 12.12670085  7.35509606 11.41027924  9.63187201\n",
            " 14.78347694  8.71675009  6.94560883  6.86126355  9.00331648  9.05832099\n",
            "  6.76276196 10.22271417 13.27663197 11.45445415 15.63029916  6.76564685\n",
            "  7.88637632 11.22067177  9.5198821   9.62097223 10.59210825  6.23999962\n",
            "  8.92587256 11.81747225 10.75555819 10.51124618  9.35212062  6.85244352\n",
            "  9.58767162  8.28325825  8.23859443 12.09449883  9.02560796 13.65178967\n",
            "  8.84171385  8.09807873  9.24342722  9.85908091  6.5028521   9.45339716\n",
            " 10.11003829  6.15820135  9.37373919  9.30938112  9.41460515  6.46796041\n",
            " 10.88671915  7.44441864 10.09970191  8.57151875 11.31765101  8.60486303\n",
            " 10.84923263  7.98813013 11.64432233 12.04247727 10.07603267  9.97684852\n",
            " 10.75689133 10.8106916  10.09606694  7.6647587   6.84958714 12.52439141\n",
            "  9.16021178  4.69370469  6.97423922  9.54297337  8.1601184   7.56774823\n",
            " 11.71720021 10.1888773   6.7193623  13.11651387 10.47211829  5.47993527\n",
            " 11.35988009  8.83188982 12.58821874 10.02265184 10.7132978   8.71158914\n",
            "  8.57800563  7.31520249  9.87866716  6.21977223 10.69737628 13.18918382\n",
            "  8.95247456 11.50294079  8.31655635  5.03240362  8.32713564  8.59491519\n",
            " 11.90073089 10.01146306 10.56262251  5.62652941  7.83217638  6.28550755\n",
            "  9.2734612   8.16860596  8.68355446  9.13954365 10.62960671 10.45016335\n",
            "  7.64988199  7.61778577  9.08167475  9.94035341  8.54949847  5.31230478\n",
            "  4.83933311  9.89251145  8.4878293   9.85302326  9.13488936 10.3186692\n",
            "  9.96582061  9.07950227  7.73149211 10.33002177 11.35060502 11.13417667\n",
            "  7.09565512 10.58105155 10.20025016  8.71429758 10.45704022  8.05704341\n",
            "  6.4798172   7.71477715  7.08323711 10.01137609  7.60303146 11.14536163\n",
            "  9.04389859  6.42415635  8.74600858  7.96903195 11.03293336  9.99775213\n",
            " 10.30778915  8.11927388 11.11811856 12.32623249  7.23376035  9.81401409\n",
            "  8.00853788  7.56532965 12.03432107 10.11050264  7.72381337  7.29717169\n",
            "  9.04623945  7.95124921 11.02273755  6.53259259  9.00938376  8.82440917\n",
            "  8.07247728  5.8777513  11.40715052  7.50332319  9.4298138   6.03167971\n",
            "  5.82193016  8.32048749 11.58423159  7.91254121  9.18591775 10.41070335\n",
            " 11.32171973  8.75722768  8.99594559  8.14255836 10.75774782  9.04818533\n",
            "  8.43683111  8.8373494   9.14615725  8.38360286  9.41141176  8.05639289\n",
            "  8.53023393  8.18477748 10.08482529  9.56826879 10.79213145  5.54076981\n",
            "  9.23503348 10.28792505  6.83939156  9.05780897 10.72759752  8.65890728\n",
            "  9.07222915 10.20829618  9.30386668  5.65223573  5.46765094  8.94399036\n",
            "  7.38452517  9.4111736   8.19720652  8.24875439 12.37859669  7.87493532\n",
            "  9.38392717  7.01480335  9.30756566  8.70473244  9.55267488  8.39122285\n",
            "  7.89665099  7.83394476  8.00786363  9.1989797  10.57734716 10.04236295\n",
            " 10.74708262  7.53066058 10.33235719  8.44812938 10.92056565 12.90631728\n",
            " 13.63587819 13.66443105]\n",
            "actual result 2507     7\n",
            "1837     6\n",
            "1992     5\n",
            "3982     6\n",
            "124      6\n",
            "        ..\n",
            "3375    10\n",
            "346      9\n",
            "2128    12\n",
            "2537    11\n",
            "1038    10\n",
            "Name: Rings, Length: 806, dtype: int64\n"
          ]
        }
      ]
    },
    {
      "cell_type": "code",
      "source": [
        "print('Error:')\n",
        "print('Mean Absolute Error :',mean_absolute_error(y_test,pred))\n",
        "print('Mean Squared Error :',mean_squared_error(y_test,pred))\n",
        "print('Root mean Squared Error',np.sqrt(mean_squared_error(y_test,pred)))\n",
        "print('r2 score :',r2_score(y_test,pred)*100)"
      ],
      "metadata": {
        "colab": {
          "base_uri": "https://localhost:8080/"
        },
        "id": "5sJ4sRmiNI56",
        "outputId": "ebfdaf4a-fb5a-4e86-c6ca-fa8c9652824f"
      },
      "execution_count": null,
      "outputs": [
        {
          "output_type": "stream",
          "name": "stdout",
          "text": [
            "Error:\n",
            "Mean Absolute Error : 1.4091156511700105\n",
            "Mean Squared Error : 3.7107610092632553\n",
            "Root mean Squared Error 1.9263335664581187\n",
            "r2 score : 52.52833431342221\n"
          ]
        }
      ]
    },
    {
      "cell_type": "markdown",
      "source": [
        "# RandomForest Regression"
      ],
      "metadata": {
        "id": "-CCfJ7KLR6em"
      }
    },
    {
      "cell_type": "code",
      "source": [
        "from sklearn.ensemble import RandomForestRegressor\n",
        "Rrf=RandomForestRegressor()\n",
        "Rrf.fit(x_train,y_train)"
      ],
      "metadata": {
        "colab": {
          "base_uri": "https://localhost:8080/"
        },
        "id": "ioU8IydxYJ0X",
        "outputId": "d7f4f803-4498-4506-89a4-d090c204dcf6"
      },
      "execution_count": null,
      "outputs": [
        {
          "output_type": "execute_result",
          "data": {
            "text/plain": [
              "RandomForestRegressor()"
            ]
          },
          "metadata": {},
          "execution_count": 128
        }
      ]
    },
    {
      "cell_type": "code",
      "source": [
        "pred=Rrf.predict(x_test)\n",
        "print(\"predicted result \",pred)\n",
        "print('actual result',y_test)"
      ],
      "metadata": {
        "colab": {
          "base_uri": "https://localhost:8080/"
        },
        "id": "Uhzhn8sYS-pb",
        "outputId": "e9521a4e-207b-42e3-c11e-5839b458a24c"
      },
      "execution_count": null,
      "outputs": [
        {
          "output_type": "stream",
          "name": "stdout",
          "text": [
            "predicted result  [ 7.59  8.11  5.8  10.76  8.    9.22 14.13 11.89  8.09 11.07 10.5   6.8\n",
            "  9.69  9.98  9.13  6.27 13.11  8.53 12.07 10.77  9.06 12.6  10.54  9.74\n",
            "  8.44  8.24  8.81  6.84 10.71 10.86  5.42 10.99 11.64 12.37 10.55  8.62\n",
            "  9.09 10.6   6.11  8.91 10.7  12.02 14.25  8.13  5.53 10.47 11.54 10.1\n",
            "  9.94 10.4   9.2  10.51  7.58  9.98  9.99 10.93  9.5  10.46  9.83 11.26\n",
            " 10.99  9.4   9.67 12.45 10.14  8.19  4.48  7.99  9.17  7.61  9.   10.09\n",
            "  9.26  8.9  12.92 10.25  9.63  8.32 10.3   9.91  7.86  8.75  8.83  7.36\n",
            "  9.67  9.95 10.97  9.82 11.06  8.24  9.5  13.83 11.78 11.39 11.02 11.57\n",
            " 10.5  11.92  9.08 10.15  8.63  8.85  5.34  9.88 12.8  12.51  8.85 11.38\n",
            " 10.53  9.39  9.49 12.83  8.43  8.02  9.74  9.13  9.91 10.51 12.36  8.06\n",
            " 11.44 11.26  5.98  5.5   9.01 13.68 10.05 10.1  11.    6.62 15.21  8.98\n",
            "  6.68  7.37  8.89 12.48  7.66  7.33 11.74 13.93  6.95 10.96 11.09 11.61\n",
            "  9.74 13.62  8.92 10.83 11.26 12.42 10.75  8.94 11.48  7.2   7.21 13.12\n",
            " 14.58 12.23  9.13 11.12  8.76  6.87  7.21 11.05 12.23 10.72  8.87  9.28\n",
            "  9.47 11.53 11.07  5.83  6.94  7.83 10.76  9.33  4.74  8.37  7.67  9.89\n",
            "  5.29  8.21  6.27 11.76  9.85  8.82 12.91 11.97  6.42  9.51 11.44 10.43\n",
            "  8.75 10.27  4.95 10.64 12.08 10.66 11.43  8.87  7.68  9.41 12.12  7.62\n",
            "  6.31  8.17  6.88  8.27  6.72 10.05  9.04 14.92 10.21  8.69  9.07  7.14\n",
            " 11.59  8.16  8.97  8.92  8.25  8.88  8.83  9.87 10.02 12.59  8.89  5.37\n",
            " 11.81 10.7   7.01 11.71 10.98  9.86 11.38 14.18 10.71 11.19  8.57 14.3\n",
            "  9.51 10.33  7.38  5.95 10.53 10.11 10.49 11.52 11.58  9.98 11.02 11.85\n",
            "  7.51  6.9  10.98 11.96 10.51  8.42  9.95 10.37 11.67  6.72 10.96 11.99\n",
            " 12.45  9.2   9.02 10.32 12.29 12.93  9.8   6.8  11.6   9.44 10.62  8.64\n",
            " 12.57  8.45 10.14  9.4  12.35 11.08 11.11  8.93 10.44 10.41  8.21  7.41\n",
            "  9.64  9.88 10.61 11.55  9.1   9.29  8.7  11.14  6.13  7.13 14.24  7.\n",
            "  8.74  7.21  9.75  6.46  6.71 11.92  6.04 11.14  9.92  9.47  9.15 12.78\n",
            "  7.35  9.29  9.23  9.83  8.31  6.44  8.08 11.73 11.75  9.96  8.23  7.26\n",
            "  8.37 10.76 11.42  9.35  7.29  9.39 11.61 10.41 11.26 12.66  5.94  8.93\n",
            "  9.72 11.39 11.49  9.64 12.11 11.16  7.34 11.27  9.74 13.78  8.63 11.35\n",
            " 11.02 10.34 13.29 10.3   9.97  7.77 10.72 14.09 11.51 10.88 12.87  5.75\n",
            " 11.2   6.97 11.96 10.61 10.85  8.43  9.18 10.93  5.65 14.66  4.86  9.11\n",
            "  6.77  9.32 10.64 14.17  9.95 10.53 11.96 11.76 14.77  6.36 10.37 10.31\n",
            "  8.87 11.12  9.62  6.6  10.88 12.34  5.83  7.14 10.74 10.27  6.49  9.14\n",
            " 13.81  6.66  7.35  9.14  9.07 13.04 12.24  4.79 11.1  11.68 10.47 12.02\n",
            "  7.19 12.74  9.28 13.76  8.49 11.38 11.35 13.54 10.48  8.95 10.67  6.15\n",
            "  7.83  5.6  12.04 13.66  8.09  9.24 10.41  6.68  9.17 10.24 11.2   6.18\n",
            "  6.92 11.78  9.72  6.55 12.18  9.42  8.37 10.18 14.97 11.61  6.7  11.06\n",
            " 11.24  8.61 11.74 12.82 10.78 11.74  7.47 10.38  8.72  9.07 12.3  14.96\n",
            " 11.66  8.18  5.7   4.96  5.97  9.79  8.35  8.98  9.22 11.62  9.98  6.13\n",
            "  9.65 10.84  7.58  9.5  10.86 10.41  7.85 10.72  7.33  9.05  8.26 12.5\n",
            "  9.32 13.68 10.52 12.59  7.37 10.68 12.64 11.88  5.86 10.8   9.57 11.62\n",
            " 10.72 10.88 12.27  9.89  8.95  9.5  10.39  9.66 11.8  11.39 10.94 11.39\n",
            "  9.46 12.79 12.35 13.18 10.72 11.35  9.82 10.32 11.07 11.91  9.86 11.68\n",
            " 15.36  6.59 10.27  9.86  9.84 11.13  9.29 10.42 11.24  4.13 10.44 12.27\n",
            "  9.86  7.93 10.81 10.5   9.38 10.43  5.82  9.64  7.67 11.07 11.49 10.18\n",
            " 10.35  9.14 12.24 10.03 11.86  6.43 10.76 10.1  10.04 10.04  9.25  9.94\n",
            " 10.19  9.13 11.34 11.69 11.93  8.53  9.26  5.97  8.74  6.88  5.   12.69\n",
            " 10.12 15.03 10.63  6.36 11.23  7.28 11.82  9.99  6.47  6.98 10.55 10.38\n",
            " 12.97 10.88 11.6   7.12 11.3  10.38 13.57 10.36  6.75  5.85  8.69 11.02\n",
            "  7.04 10.65 14.1  12.74 13.38  9.45  8.   11.3  11.86 15.48 10.76  7.95\n",
            "  9.79 12.35 12.22 10.32  9.25  7.2  10.03 10.73  8.06 11.46  9.67 13.\n",
            "  9.36  9.23  9.04 10.09  6.75  9.27 10.69  5.99  9.49  9.4  11.25  5.6\n",
            " 14.3   7.99 10.27  8.74 10.76 11.55 12.87  7.29 11.91 10.42 12.87 11.43\n",
            " 10.65 10.84 12.71  8.03  6.72 11.5  13.33  4.59  6.36  8.86  8.3   7.74\n",
            " 10.95 10.08  6.83 10.73 12.64  5.47 11.52  8.7  14.45 10.61 12.01  8.73\n",
            "  8.28  7.11 10.54  6.59 11.01 11.58 10.54 12.16  7.55  4.23  7.76  8.2\n",
            " 12.21 10.14 11.38  4.76  9.65  6.31 10.73  9.4   8.6  10.4  11.38 10.27\n",
            "  6.97  8.1  11.81 10.52  8.05  4.88  3.83 12.24  8.59  9.44  9.37 10.9\n",
            " 11.47 12.49  7.77 10.18 12.63 12.16  7.4  10.38  9.64 12.07 10.67  8.92\n",
            "  6.03  8.47  8.84 12.49  7.35 10.74 10.31  6.62  9.04  8.97 11.49 10.03\n",
            " 11.03  8.16 10.83 13.68  6.81 10.33  7.83 10.56 11.89  9.66  7.77  8.16\n",
            "  8.88  9.69 11.72  7.19  9.48  9.89  7.93  6.12 13.39  6.53 11.8   5.46\n",
            "  5.44  8.45 13.44  8.41 10.91 11.68 13.94  9.39  8.7   7.82 11.21 10.91\n",
            "  7.77  9.48  9.52  9.35 11.84  7.54  8.5   8.46 10.4   9.69 10.61  6.2\n",
            "  8.7   9.78  8.61  8.89 14.83  8.68 11.33 10.04  9.63  5.91  4.94  8.93\n",
            "  7.09 10.19  9.25  8.42 12.04  7.29  9.91  6.29  9.37  7.8   9.75  8.32\n",
            "  9.04  9.42  7.53  9.11 10.75 11.18  9.95  8.75  9.93 10.09 11.09 12.75\n",
            " 12.27 12.36]\n",
            "actual result 2507     7\n",
            "1837     6\n",
            "1992     5\n",
            "3982     6\n",
            "124      6\n",
            "        ..\n",
            "3375    10\n",
            "346      9\n",
            "2128    12\n",
            "2537    11\n",
            "1038    10\n",
            "Name: Rings, Length: 806, dtype: int64\n"
          ]
        }
      ]
    },
    {
      "cell_type": "code",
      "source": [
        "print('Error:')\n",
        "print('Mean Absolute Error :',mean_absolute_error(y_test,pred))\n",
        "print('Mean Squared Error :',mean_squared_error(y_test,pred))\n",
        "print('Root mean Squared Error',np.sqrt(mean_squared_error(y_test,pred)))\n",
        "print('r2 score :',r2_score(y_test,pred)*100)"
      ],
      "metadata": {
        "colab": {
          "base_uri": "https://localhost:8080/"
        },
        "id": "KXnwG2qeTG82",
        "outputId": "1a9e3f68-72a9-4368-e31c-df99e68f505b"
      },
      "execution_count": null,
      "outputs": [
        {
          "output_type": "stream",
          "name": "stdout",
          "text": [
            "Error:\n",
            "Mean Absolute Error : 1.4767741935483871\n",
            "Mean Squared Error : 3.88599652605459\n",
            "Root mean Squared Error 1.9712931101321767\n",
            "r2 score : 50.28655106498159\n"
          ]
        }
      ]
    },
    {
      "cell_type": "markdown",
      "source": [
        "# Cross Validation"
      ],
      "metadata": {
        "id": "kBLv7dXiNUDJ"
      }
    },
    {
      "cell_type": "code",
      "source": [
        "from sklearn.model_selection import cross_val_score\n",
        "\n",
        "scr=cross_val_score(lr,x,y,cv=5)\n",
        "print(\"Cross Score of Linear Regression Model :\",scr.mean()*100)"
      ],
      "metadata": {
        "colab": {
          "base_uri": "https://localhost:8080/"
        },
        "id": "DlMcmouuNag1",
        "outputId": "5f593d00-3c02-4d53-8fa3-ee8f03beb9f0"
      },
      "execution_count": null,
      "outputs": [
        {
          "output_type": "stream",
          "name": "stdout",
          "text": [
            "Cross Score of Linear Regression Model : 41.48020401486131\n"
          ]
        }
      ]
    },
    {
      "cell_type": "code",
      "source": [
        "scr=cross_val_score(dtr,x,y,cv=5)\n",
        "print(\"Cross Score of Decission Tree Regression Model :\",scr.mean()*100)"
      ],
      "metadata": {
        "colab": {
          "base_uri": "https://localhost:8080/"
        },
        "id": "YWTosQmDPFgm",
        "outputId": "e90a237e-8450-4228-cff4-3bc799981903"
      },
      "execution_count": null,
      "outputs": [
        {
          "output_type": "stream",
          "name": "stdout",
          "text": [
            "Cross Score of Decission Tree Regression Model : -5.803035002505128\n"
          ]
        }
      ]
    },
    {
      "cell_type": "code",
      "source": [
        "scr=cross_val_score(knr,x,y,cv=5)\n",
        "print(\"Cross Score of KNieghbour Regression Model :\",scr.mean()*100)"
      ],
      "metadata": {
        "colab": {
          "base_uri": "https://localhost:8080/"
        },
        "id": "NyXOnkbRPkl5",
        "outputId": "a38167f2-8984-48cd-b918-7e2028add394"
      },
      "execution_count": null,
      "outputs": [
        {
          "output_type": "stream",
          "name": "stdout",
          "text": [
            "Cross Score of KNieghbour Regression Model : 40.530572721736064\n"
          ]
        }
      ]
    },
    {
      "cell_type": "code",
      "source": [
        "scr=cross_val_score(svr,x,y,cv=5)\n",
        "print(\"Cross Score of Support Vector Regression Model ( kernel = rbf) :\",scr.mean()*100)"
      ],
      "metadata": {
        "colab": {
          "base_uri": "https://localhost:8080/"
        },
        "id": "HEcYqyDfP4cc",
        "outputId": "011b1d72-bcc5-46ab-8138-59c852fbc8d5"
      },
      "execution_count": null,
      "outputs": [
        {
          "output_type": "stream",
          "name": "stdout",
          "text": [
            "Cross Score of Support Vector Regression Model ( kernel = rbf) : 49.126822044756864\n"
          ]
        }
      ]
    },
    {
      "cell_type": "code",
      "source": [
        "scr=cross_val_score(svp,x,y,cv=5)\n",
        "print(\"Cross Score of Support Vector Regression Model ( kernel = poly) :\",scr.mean()*100)"
      ],
      "metadata": {
        "colab": {
          "base_uri": "https://localhost:8080/"
        },
        "id": "jk4lhT-fPk8a",
        "outputId": "31cf0e02-ed71-4980-b94a-23ff076bf419"
      },
      "execution_count": null,
      "outputs": [
        {
          "output_type": "stream",
          "name": "stdout",
          "text": [
            "Cross Score of Support Vector Regression Model ( kernel = poly) : 28.032309202414385\n"
          ]
        }
      ]
    },
    {
      "cell_type": "code",
      "source": [
        "scr=cross_val_score(svl,x,y,cv=5)\n",
        "print(\"Cross Score of Support Vector Regression Model ( kernel = linear) :\",scr.mean()*100)"
      ],
      "metadata": {
        "colab": {
          "base_uri": "https://localhost:8080/"
        },
        "id": "XQQvPhaeQTBV",
        "outputId": "1eb6dd44-a779-4f3e-93c0-fc5ca045765b"
      },
      "execution_count": null,
      "outputs": [
        {
          "output_type": "stream",
          "name": "stdout",
          "text": [
            "Cross Score of Support Vector Regression Model ( kernel = linear) : 41.75642185433891\n"
          ]
        }
      ]
    },
    {
      "cell_type": "code",
      "source": [
        "scr=cross_val_score(Rrf,x,y,cv=5)\n",
        "print(\"Cross Score of Random Forest Regression Model ( kernel = linear) :\",scr.mean()*100)"
      ],
      "metadata": {
        "colab": {
          "base_uri": "https://localhost:8080/"
        },
        "id": "pRnnisTaRF9E",
        "outputId": "cdc2dba0-17dc-43fb-d016-28943f5c316d"
      },
      "execution_count": null,
      "outputs": [
        {
          "output_type": "stream",
          "name": "stdout",
          "text": [
            "Cross Score of Random Forest Regression Model ( kernel = linear) : 45.67543287155906\n"
          ]
        }
      ]
    },
    {
      "cell_type": "markdown",
      "source": [
        "# Regularization"
      ],
      "metadata": {
        "id": "jpzzHvHODUu8"
      }
    },
    {
      "cell_type": "code",
      "source": [
        "from sklearn.linear_model import Lasso\n",
        "from sklearn.model_selection import GridSearchCV\n",
        "\n",
        "parameters = {'alpha':[.0001,.001,.01,.1,1,10],'random_state':list(range(0,10))}\n",
        "ls=Lasso()\n",
        "clf=GridSearchCV(ls,parameters)\n",
        "clf.fit(x_train,y_train)\n",
        "\n",
        "print(clf.best_params_)"
      ],
      "metadata": {
        "colab": {
          "base_uri": "https://localhost:8080/"
        },
        "id": "vqR--kqrDYIs",
        "outputId": "935093d6-b457-4bec-de34-1a7d1ea37bf2"
      },
      "execution_count": null,
      "outputs": [
        {
          "output_type": "stream",
          "name": "stdout",
          "text": [
            "{'alpha': 0.001, 'random_state': 0}\n"
          ]
        }
      ]
    },
    {
      "cell_type": "code",
      "source": [
        "ls=Lasso(alpha=0.0001,random_state=0)\n",
        "ls.fit(x_train,y_train)\n",
        "ls_score_training=ls.score(x_train,y_train)\n",
        "pred_ls = ls.predict(x_test)\n",
        "ls_score_training*100"
      ],
      "metadata": {
        "colab": {
          "base_uri": "https://localhost:8080/"
        },
        "id": "ZqYNsVJXGhQX",
        "outputId": "54928ece-d2fa-4690-8eec-226bcc2788f5"
      },
      "execution_count": null,
      "outputs": [
        {
          "output_type": "execute_result",
          "data": {
            "text/plain": [
              "47.41255704533586"
            ]
          },
          "metadata": {},
          "execution_count": 323
        }
      ]
    },
    {
      "cell_type": "code",
      "source": [
        "lss=r2_score(y_test,pred_ls)\n",
        "lss*100"
      ],
      "metadata": {
        "colab": {
          "base_uri": "https://localhost:8080/"
        },
        "id": "JTnDWXHvHk_-",
        "outputId": "9222dd56-5dcc-4303-b04a-48bf3a222aef"
      },
      "execution_count": null,
      "outputs": [
        {
          "output_type": "execute_result",
          "data": {
            "text/plain": [
              "48.52859759491307"
            ]
          },
          "metadata": {},
          "execution_count": 324
        }
      ]
    },
    {
      "cell_type": "markdown",
      "source": [
        "# Ensemble Technique"
      ],
      "metadata": {
        "id": "tbKybHM9Iirw"
      }
    },
    {
      "cell_type": "code",
      "source": [
        "parameters = {'criterion':['mse','mae'],'max_features':[\"auto\",\"sqrt\",\"log2\"]}\n",
        "clf = GridSearchCV(Rrf,parameters)\n",
        "clf.fit(x_train,y_train)\n",
        "\n",
        "print(clf.best_params_)"
      ],
      "metadata": {
        "colab": {
          "base_uri": "https://localhost:8080/"
        },
        "id": "J_oLx_aIIhso",
        "outputId": "6c206040-39d9-48b5-ac41-b949e0cda1b6"
      },
      "execution_count": null,
      "outputs": [
        {
          "output_type": "stream",
          "name": "stdout",
          "text": [
            "{'criterion': 'mse', 'max_features': 'log2'}\n"
          ]
        }
      ]
    },
    {
      "cell_type": "code",
      "source": [
        "Rrf= RandomForestRegressor(criterion=\"mse\",max_features=\"log2\")\n",
        "Rrf.fit(x_train,y_train)\n",
        "Rrf.score(x_train,y_train)\n",
        "pred_decession = Rrf.predict(x_test)\n",
        "\n",
        "rfs = r2_score(y_test,pred_decession)\n",
        "print('R2 Score :',rfs*100)\n",
        "\n",
        "rfscore = cross_val_score(Rrf,x,y,cv=5)\n",
        "rfc=rfscore.mean()\n",
        "print('cross Val Score :',rfc*100)"
      ],
      "metadata": {
        "colab": {
          "base_uri": "https://localhost:8080/"
        },
        "id": "f9i9j0diH5ZP",
        "outputId": "08ef1444-94a1-41a3-c6ea-f14ce6f183c6"
      },
      "execution_count": null,
      "outputs": [
        {
          "output_type": "stream",
          "name": "stdout",
          "text": [
            "R2 Score : 56.127173399967575\n",
            "cross Val Score : 39.378012635370766\n"
          ]
        }
      ]
    },
    {
      "cell_type": "markdown",
      "source": [
        "# Conclusion"
      ],
      "metadata": {
        "id": "RAExIBpEPffL"
      }
    },
    {
      "cell_type": "code",
      "source": [
        "import pickle\n",
        "filename = 'Abalone.pkl'\n",
        "pickle.dump(Rrf,open(filename,'wb'))"
      ],
      "metadata": {
        "id": "aBj2pvlFMPM1"
      },
      "execution_count": null,
      "outputs": []
    },
    {
      "cell_type": "code",
      "source": [
        ""
      ],
      "metadata": {
        "id": "ULHFtT5wbnVZ"
      },
      "execution_count": null,
      "outputs": []
    }
  ]
}
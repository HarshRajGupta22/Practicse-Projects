{
  "nbformat": 4,
  "nbformat_minor": 0,
  "metadata": {
    "colab": {
      "name": "Advertising Sales Channel Prediction.ipynb",
      "provenance": [],
      "authorship_tag": "ABX9TyNssWmNL/tTf1t4eIDP3pGx",
      "include_colab_link": true
    },
    "kernelspec": {
      "name": "python3",
      "display_name": "Python 3"
    },
    "language_info": {
      "name": "python"
    }
  },
  "cells": [
    {
      "cell_type": "markdown",
      "metadata": {
        "id": "view-in-github",
        "colab_type": "text"
      },
      "source": [
        "<a href=\"https://colab.research.google.com/github/HarshRajGupta22/Practicse-Projects/blob/main/Advertising_Sales_Channel_Prediction.ipynb\" target=\"_parent\"><img src=\"https://colab.research.google.com/assets/colab-badge.svg\" alt=\"Open In Colab\"/></a>"
      ]
    },
    {
      "cell_type": "code",
      "execution_count": null,
      "metadata": {
        "id": "Qp8C4pl2mIwE"
      },
      "outputs": [],
      "source": [
        ""
      ]
    },
    {
      "cell_type": "code",
      "source": [
        ""
      ],
      "metadata": {
        "id": "xct_6VD7mjih"
      },
      "execution_count": null,
      "outputs": []
    },
    {
      "cell_type": "markdown",
      "source": [
        "# ADVERTISING"
      ],
      "metadata": {
        "id": "yFTnUHUKmj-_"
      }
    },
    {
      "cell_type": "markdown",
      "source": [
        "Advertising is a marketing communication that employs an openly sponsored, non-personal message to promote or sell a product, service or idea.[1]: 465  Sponsors of advertising are typically businesses wishing to promote their products or services. Advertising is differentiated from public relations in that an advertiser pays for and has control over the message. It differs from personal selling in that the message is non-personal, i.e., not directed to a particular individual. Advertising is communicated through various mass media,[2] including traditional media such as newspapers, magazines, television, radio, outdoor advertising or direct mail; and new media such as search results, blogs, social media, websites or text messages. The actual presentation of the message in a medium is referred to as an advertisement"
      ],
      "metadata": {
        "id": "fS8DfwgqmwLd"
      }
    },
    {
      "cell_type": "markdown",
      "source": [
        "# Data Description"
      ],
      "metadata": {
        "id": "icY04AoWnLXc"
      }
    },
    {
      "cell_type": "markdown",
      "source": [
        "When a company enters a market, the distribution strategy and channel it uses are keys to its success in the market, as well as market know-how and customer knowledge and understanding. Because an effective distribution strategy under efficient supply-chain management opens doors for attaining competitive advantage and strong brand equity in the market, it is a component of the marketing mix that cannot be ignored . \n",
        "\n",
        "The distribution strategy and the channel design have to be right the first time. The case study of Sales channel includes the detailed study of TV, radio and newspaper channel. The predict the total sales generated from all the sales channel.  "
      ],
      "metadata": {
        "id": "_DnawXIOnQOs"
      }
    },
    {
      "cell_type": "markdown",
      "source": [
        "# Loading Dataset"
      ],
      "metadata": {
        "id": "CIoX7qNmnVry"
      }
    },
    {
      "cell_type": "code",
      "source": [
        "import pandas as pd\n",
        "import numpy as np\n",
        "path ='https://raw.githubusercontent.com/dsrscientist/DSData/master/Advertising.csv'\n",
        "df = pd.read_csv(path)"
      ],
      "metadata": {
        "id": "mC2-bUGQmu3a"
      },
      "execution_count": 1,
      "outputs": []
    },
    {
      "cell_type": "code",
      "source": [
        "df"
      ],
      "metadata": {
        "colab": {
          "base_uri": "https://localhost:8080/",
          "height": 423
        },
        "id": "5qI-MO3jnn3J",
        "outputId": "68f93f23-c1a3-4c63-f0df-70a998dea295"
      },
      "execution_count": 2,
      "outputs": [
        {
          "output_type": "execute_result",
          "data": {
            "text/plain": [
              "     Unnamed: 0     TV  radio  newspaper  sales\n",
              "0             1  230.1   37.8       69.2   22.1\n",
              "1             2   44.5   39.3       45.1   10.4\n",
              "2             3   17.2   45.9       69.3    9.3\n",
              "3             4  151.5   41.3       58.5   18.5\n",
              "4             5  180.8   10.8       58.4   12.9\n",
              "..          ...    ...    ...        ...    ...\n",
              "195         196   38.2    3.7       13.8    7.6\n",
              "196         197   94.2    4.9        8.1    9.7\n",
              "197         198  177.0    9.3        6.4   12.8\n",
              "198         199  283.6   42.0       66.2   25.5\n",
              "199         200  232.1    8.6        8.7   13.4\n",
              "\n",
              "[200 rows x 5 columns]"
            ],
            "text/html": [
              "\n",
              "  <div id=\"df-23601e17-778a-4fcf-bda5-6a0fce544f82\">\n",
              "    <div class=\"colab-df-container\">\n",
              "      <div>\n",
              "<style scoped>\n",
              "    .dataframe tbody tr th:only-of-type {\n",
              "        vertical-align: middle;\n",
              "    }\n",
              "\n",
              "    .dataframe tbody tr th {\n",
              "        vertical-align: top;\n",
              "    }\n",
              "\n",
              "    .dataframe thead th {\n",
              "        text-align: right;\n",
              "    }\n",
              "</style>\n",
              "<table border=\"1\" class=\"dataframe\">\n",
              "  <thead>\n",
              "    <tr style=\"text-align: right;\">\n",
              "      <th></th>\n",
              "      <th>Unnamed: 0</th>\n",
              "      <th>TV</th>\n",
              "      <th>radio</th>\n",
              "      <th>newspaper</th>\n",
              "      <th>sales</th>\n",
              "    </tr>\n",
              "  </thead>\n",
              "  <tbody>\n",
              "    <tr>\n",
              "      <th>0</th>\n",
              "      <td>1</td>\n",
              "      <td>230.1</td>\n",
              "      <td>37.8</td>\n",
              "      <td>69.2</td>\n",
              "      <td>22.1</td>\n",
              "    </tr>\n",
              "    <tr>\n",
              "      <th>1</th>\n",
              "      <td>2</td>\n",
              "      <td>44.5</td>\n",
              "      <td>39.3</td>\n",
              "      <td>45.1</td>\n",
              "      <td>10.4</td>\n",
              "    </tr>\n",
              "    <tr>\n",
              "      <th>2</th>\n",
              "      <td>3</td>\n",
              "      <td>17.2</td>\n",
              "      <td>45.9</td>\n",
              "      <td>69.3</td>\n",
              "      <td>9.3</td>\n",
              "    </tr>\n",
              "    <tr>\n",
              "      <th>3</th>\n",
              "      <td>4</td>\n",
              "      <td>151.5</td>\n",
              "      <td>41.3</td>\n",
              "      <td>58.5</td>\n",
              "      <td>18.5</td>\n",
              "    </tr>\n",
              "    <tr>\n",
              "      <th>4</th>\n",
              "      <td>5</td>\n",
              "      <td>180.8</td>\n",
              "      <td>10.8</td>\n",
              "      <td>58.4</td>\n",
              "      <td>12.9</td>\n",
              "    </tr>\n",
              "    <tr>\n",
              "      <th>...</th>\n",
              "      <td>...</td>\n",
              "      <td>...</td>\n",
              "      <td>...</td>\n",
              "      <td>...</td>\n",
              "      <td>...</td>\n",
              "    </tr>\n",
              "    <tr>\n",
              "      <th>195</th>\n",
              "      <td>196</td>\n",
              "      <td>38.2</td>\n",
              "      <td>3.7</td>\n",
              "      <td>13.8</td>\n",
              "      <td>7.6</td>\n",
              "    </tr>\n",
              "    <tr>\n",
              "      <th>196</th>\n",
              "      <td>197</td>\n",
              "      <td>94.2</td>\n",
              "      <td>4.9</td>\n",
              "      <td>8.1</td>\n",
              "      <td>9.7</td>\n",
              "    </tr>\n",
              "    <tr>\n",
              "      <th>197</th>\n",
              "      <td>198</td>\n",
              "      <td>177.0</td>\n",
              "      <td>9.3</td>\n",
              "      <td>6.4</td>\n",
              "      <td>12.8</td>\n",
              "    </tr>\n",
              "    <tr>\n",
              "      <th>198</th>\n",
              "      <td>199</td>\n",
              "      <td>283.6</td>\n",
              "      <td>42.0</td>\n",
              "      <td>66.2</td>\n",
              "      <td>25.5</td>\n",
              "    </tr>\n",
              "    <tr>\n",
              "      <th>199</th>\n",
              "      <td>200</td>\n",
              "      <td>232.1</td>\n",
              "      <td>8.6</td>\n",
              "      <td>8.7</td>\n",
              "      <td>13.4</td>\n",
              "    </tr>\n",
              "  </tbody>\n",
              "</table>\n",
              "<p>200 rows × 5 columns</p>\n",
              "</div>\n",
              "      <button class=\"colab-df-convert\" onclick=\"convertToInteractive('df-23601e17-778a-4fcf-bda5-6a0fce544f82')\"\n",
              "              title=\"Convert this dataframe to an interactive table.\"\n",
              "              style=\"display:none;\">\n",
              "        \n",
              "  <svg xmlns=\"http://www.w3.org/2000/svg\" height=\"24px\"viewBox=\"0 0 24 24\"\n",
              "       width=\"24px\">\n",
              "    <path d=\"M0 0h24v24H0V0z\" fill=\"none\"/>\n",
              "    <path d=\"M18.56 5.44l.94 2.06.94-2.06 2.06-.94-2.06-.94-.94-2.06-.94 2.06-2.06.94zm-11 1L8.5 8.5l.94-2.06 2.06-.94-2.06-.94L8.5 2.5l-.94 2.06-2.06.94zm10 10l.94 2.06.94-2.06 2.06-.94-2.06-.94-.94-2.06-.94 2.06-2.06.94z\"/><path d=\"M17.41 7.96l-1.37-1.37c-.4-.4-.92-.59-1.43-.59-.52 0-1.04.2-1.43.59L10.3 9.45l-7.72 7.72c-.78.78-.78 2.05 0 2.83L4 21.41c.39.39.9.59 1.41.59.51 0 1.02-.2 1.41-.59l7.78-7.78 2.81-2.81c.8-.78.8-2.07 0-2.86zM5.41 20L4 18.59l7.72-7.72 1.47 1.35L5.41 20z\"/>\n",
              "  </svg>\n",
              "      </button>\n",
              "      \n",
              "  <style>\n",
              "    .colab-df-container {\n",
              "      display:flex;\n",
              "      flex-wrap:wrap;\n",
              "      gap: 12px;\n",
              "    }\n",
              "\n",
              "    .colab-df-convert {\n",
              "      background-color: #E8F0FE;\n",
              "      border: none;\n",
              "      border-radius: 50%;\n",
              "      cursor: pointer;\n",
              "      display: none;\n",
              "      fill: #1967D2;\n",
              "      height: 32px;\n",
              "      padding: 0 0 0 0;\n",
              "      width: 32px;\n",
              "    }\n",
              "\n",
              "    .colab-df-convert:hover {\n",
              "      background-color: #E2EBFA;\n",
              "      box-shadow: 0px 1px 2px rgba(60, 64, 67, 0.3), 0px 1px 3px 1px rgba(60, 64, 67, 0.15);\n",
              "      fill: #174EA6;\n",
              "    }\n",
              "\n",
              "    [theme=dark] .colab-df-convert {\n",
              "      background-color: #3B4455;\n",
              "      fill: #D2E3FC;\n",
              "    }\n",
              "\n",
              "    [theme=dark] .colab-df-convert:hover {\n",
              "      background-color: #434B5C;\n",
              "      box-shadow: 0px 1px 3px 1px rgba(0, 0, 0, 0.15);\n",
              "      filter: drop-shadow(0px 1px 2px rgba(0, 0, 0, 0.3));\n",
              "      fill: #FFFFFF;\n",
              "    }\n",
              "  </style>\n",
              "\n",
              "      <script>\n",
              "        const buttonEl =\n",
              "          document.querySelector('#df-23601e17-778a-4fcf-bda5-6a0fce544f82 button.colab-df-convert');\n",
              "        buttonEl.style.display =\n",
              "          google.colab.kernel.accessAllowed ? 'block' : 'none';\n",
              "\n",
              "        async function convertToInteractive(key) {\n",
              "          const element = document.querySelector('#df-23601e17-778a-4fcf-bda5-6a0fce544f82');\n",
              "          const dataTable =\n",
              "            await google.colab.kernel.invokeFunction('convertToInteractive',\n",
              "                                                     [key], {});\n",
              "          if (!dataTable) return;\n",
              "\n",
              "          const docLinkHtml = 'Like what you see? Visit the ' +\n",
              "            '<a target=\"_blank\" href=https://colab.research.google.com/notebooks/data_table.ipynb>data table notebook</a>'\n",
              "            + ' to learn more about interactive tables.';\n",
              "          element.innerHTML = '';\n",
              "          dataTable['output_type'] = 'display_data';\n",
              "          await google.colab.output.renderOutput(dataTable, element);\n",
              "          const docLink = document.createElement('div');\n",
              "          docLink.innerHTML = docLinkHtml;\n",
              "          element.appendChild(docLink);\n",
              "        }\n",
              "      </script>\n",
              "    </div>\n",
              "  </div>\n",
              "  "
            ]
          },
          "metadata": {},
          "execution_count": 2
        }
      ]
    },
    {
      "cell_type": "code",
      "source": [
        "df.head()"
      ],
      "metadata": {
        "colab": {
          "base_uri": "https://localhost:8080/",
          "height": 206
        },
        "id": "X9X7ZBsInrgK",
        "outputId": "560bf4fb-8494-427a-ba42-4cd6371144b3"
      },
      "execution_count": 3,
      "outputs": [
        {
          "output_type": "execute_result",
          "data": {
            "text/plain": [
              "   Unnamed: 0     TV  radio  newspaper  sales\n",
              "0           1  230.1   37.8       69.2   22.1\n",
              "1           2   44.5   39.3       45.1   10.4\n",
              "2           3   17.2   45.9       69.3    9.3\n",
              "3           4  151.5   41.3       58.5   18.5\n",
              "4           5  180.8   10.8       58.4   12.9"
            ],
            "text/html": [
              "\n",
              "  <div id=\"df-34b6fbcc-5cd2-47a6-a28b-c7627f9296dd\">\n",
              "    <div class=\"colab-df-container\">\n",
              "      <div>\n",
              "<style scoped>\n",
              "    .dataframe tbody tr th:only-of-type {\n",
              "        vertical-align: middle;\n",
              "    }\n",
              "\n",
              "    .dataframe tbody tr th {\n",
              "        vertical-align: top;\n",
              "    }\n",
              "\n",
              "    .dataframe thead th {\n",
              "        text-align: right;\n",
              "    }\n",
              "</style>\n",
              "<table border=\"1\" class=\"dataframe\">\n",
              "  <thead>\n",
              "    <tr style=\"text-align: right;\">\n",
              "      <th></th>\n",
              "      <th>Unnamed: 0</th>\n",
              "      <th>TV</th>\n",
              "      <th>radio</th>\n",
              "      <th>newspaper</th>\n",
              "      <th>sales</th>\n",
              "    </tr>\n",
              "  </thead>\n",
              "  <tbody>\n",
              "    <tr>\n",
              "      <th>0</th>\n",
              "      <td>1</td>\n",
              "      <td>230.1</td>\n",
              "      <td>37.8</td>\n",
              "      <td>69.2</td>\n",
              "      <td>22.1</td>\n",
              "    </tr>\n",
              "    <tr>\n",
              "      <th>1</th>\n",
              "      <td>2</td>\n",
              "      <td>44.5</td>\n",
              "      <td>39.3</td>\n",
              "      <td>45.1</td>\n",
              "      <td>10.4</td>\n",
              "    </tr>\n",
              "    <tr>\n",
              "      <th>2</th>\n",
              "      <td>3</td>\n",
              "      <td>17.2</td>\n",
              "      <td>45.9</td>\n",
              "      <td>69.3</td>\n",
              "      <td>9.3</td>\n",
              "    </tr>\n",
              "    <tr>\n",
              "      <th>3</th>\n",
              "      <td>4</td>\n",
              "      <td>151.5</td>\n",
              "      <td>41.3</td>\n",
              "      <td>58.5</td>\n",
              "      <td>18.5</td>\n",
              "    </tr>\n",
              "    <tr>\n",
              "      <th>4</th>\n",
              "      <td>5</td>\n",
              "      <td>180.8</td>\n",
              "      <td>10.8</td>\n",
              "      <td>58.4</td>\n",
              "      <td>12.9</td>\n",
              "    </tr>\n",
              "  </tbody>\n",
              "</table>\n",
              "</div>\n",
              "      <button class=\"colab-df-convert\" onclick=\"convertToInteractive('df-34b6fbcc-5cd2-47a6-a28b-c7627f9296dd')\"\n",
              "              title=\"Convert this dataframe to an interactive table.\"\n",
              "              style=\"display:none;\">\n",
              "        \n",
              "  <svg xmlns=\"http://www.w3.org/2000/svg\" height=\"24px\"viewBox=\"0 0 24 24\"\n",
              "       width=\"24px\">\n",
              "    <path d=\"M0 0h24v24H0V0z\" fill=\"none\"/>\n",
              "    <path d=\"M18.56 5.44l.94 2.06.94-2.06 2.06-.94-2.06-.94-.94-2.06-.94 2.06-2.06.94zm-11 1L8.5 8.5l.94-2.06 2.06-.94-2.06-.94L8.5 2.5l-.94 2.06-2.06.94zm10 10l.94 2.06.94-2.06 2.06-.94-2.06-.94-.94-2.06-.94 2.06-2.06.94z\"/><path d=\"M17.41 7.96l-1.37-1.37c-.4-.4-.92-.59-1.43-.59-.52 0-1.04.2-1.43.59L10.3 9.45l-7.72 7.72c-.78.78-.78 2.05 0 2.83L4 21.41c.39.39.9.59 1.41.59.51 0 1.02-.2 1.41-.59l7.78-7.78 2.81-2.81c.8-.78.8-2.07 0-2.86zM5.41 20L4 18.59l7.72-7.72 1.47 1.35L5.41 20z\"/>\n",
              "  </svg>\n",
              "      </button>\n",
              "      \n",
              "  <style>\n",
              "    .colab-df-container {\n",
              "      display:flex;\n",
              "      flex-wrap:wrap;\n",
              "      gap: 12px;\n",
              "    }\n",
              "\n",
              "    .colab-df-convert {\n",
              "      background-color: #E8F0FE;\n",
              "      border: none;\n",
              "      border-radius: 50%;\n",
              "      cursor: pointer;\n",
              "      display: none;\n",
              "      fill: #1967D2;\n",
              "      height: 32px;\n",
              "      padding: 0 0 0 0;\n",
              "      width: 32px;\n",
              "    }\n",
              "\n",
              "    .colab-df-convert:hover {\n",
              "      background-color: #E2EBFA;\n",
              "      box-shadow: 0px 1px 2px rgba(60, 64, 67, 0.3), 0px 1px 3px 1px rgba(60, 64, 67, 0.15);\n",
              "      fill: #174EA6;\n",
              "    }\n",
              "\n",
              "    [theme=dark] .colab-df-convert {\n",
              "      background-color: #3B4455;\n",
              "      fill: #D2E3FC;\n",
              "    }\n",
              "\n",
              "    [theme=dark] .colab-df-convert:hover {\n",
              "      background-color: #434B5C;\n",
              "      box-shadow: 0px 1px 3px 1px rgba(0, 0, 0, 0.15);\n",
              "      filter: drop-shadow(0px 1px 2px rgba(0, 0, 0, 0.3));\n",
              "      fill: #FFFFFF;\n",
              "    }\n",
              "  </style>\n",
              "\n",
              "      <script>\n",
              "        const buttonEl =\n",
              "          document.querySelector('#df-34b6fbcc-5cd2-47a6-a28b-c7627f9296dd button.colab-df-convert');\n",
              "        buttonEl.style.display =\n",
              "          google.colab.kernel.accessAllowed ? 'block' : 'none';\n",
              "\n",
              "        async function convertToInteractive(key) {\n",
              "          const element = document.querySelector('#df-34b6fbcc-5cd2-47a6-a28b-c7627f9296dd');\n",
              "          const dataTable =\n",
              "            await google.colab.kernel.invokeFunction('convertToInteractive',\n",
              "                                                     [key], {});\n",
              "          if (!dataTable) return;\n",
              "\n",
              "          const docLinkHtml = 'Like what you see? Visit the ' +\n",
              "            '<a target=\"_blank\" href=https://colab.research.google.com/notebooks/data_table.ipynb>data table notebook</a>'\n",
              "            + ' to learn more about interactive tables.';\n",
              "          element.innerHTML = '';\n",
              "          dataTable['output_type'] = 'display_data';\n",
              "          await google.colab.output.renderOutput(dataTable, element);\n",
              "          const docLink = document.createElement('div');\n",
              "          docLink.innerHTML = docLinkHtml;\n",
              "          element.appendChild(docLink);\n",
              "        }\n",
              "      </script>\n",
              "    </div>\n",
              "  </div>\n",
              "  "
            ]
          },
          "metadata": {},
          "execution_count": 3
        }
      ]
    },
    {
      "cell_type": "code",
      "source": [
        "df.tail()"
      ],
      "metadata": {
        "colab": {
          "base_uri": "https://localhost:8080/",
          "height": 206
        },
        "id": "-18LOY4nn0IJ",
        "outputId": "2aae2786-fb58-4bb7-9835-3d76b4888e94"
      },
      "execution_count": 5,
      "outputs": [
        {
          "output_type": "execute_result",
          "data": {
            "text/plain": [
              "     Unnamed: 0     TV  radio  newspaper  sales\n",
              "195         196   38.2    3.7       13.8    7.6\n",
              "196         197   94.2    4.9        8.1    9.7\n",
              "197         198  177.0    9.3        6.4   12.8\n",
              "198         199  283.6   42.0       66.2   25.5\n",
              "199         200  232.1    8.6        8.7   13.4"
            ],
            "text/html": [
              "\n",
              "  <div id=\"df-f4f8b26a-75a2-497d-902b-0d0309f34bf2\">\n",
              "    <div class=\"colab-df-container\">\n",
              "      <div>\n",
              "<style scoped>\n",
              "    .dataframe tbody tr th:only-of-type {\n",
              "        vertical-align: middle;\n",
              "    }\n",
              "\n",
              "    .dataframe tbody tr th {\n",
              "        vertical-align: top;\n",
              "    }\n",
              "\n",
              "    .dataframe thead th {\n",
              "        text-align: right;\n",
              "    }\n",
              "</style>\n",
              "<table border=\"1\" class=\"dataframe\">\n",
              "  <thead>\n",
              "    <tr style=\"text-align: right;\">\n",
              "      <th></th>\n",
              "      <th>Unnamed: 0</th>\n",
              "      <th>TV</th>\n",
              "      <th>radio</th>\n",
              "      <th>newspaper</th>\n",
              "      <th>sales</th>\n",
              "    </tr>\n",
              "  </thead>\n",
              "  <tbody>\n",
              "    <tr>\n",
              "      <th>195</th>\n",
              "      <td>196</td>\n",
              "      <td>38.2</td>\n",
              "      <td>3.7</td>\n",
              "      <td>13.8</td>\n",
              "      <td>7.6</td>\n",
              "    </tr>\n",
              "    <tr>\n",
              "      <th>196</th>\n",
              "      <td>197</td>\n",
              "      <td>94.2</td>\n",
              "      <td>4.9</td>\n",
              "      <td>8.1</td>\n",
              "      <td>9.7</td>\n",
              "    </tr>\n",
              "    <tr>\n",
              "      <th>197</th>\n",
              "      <td>198</td>\n",
              "      <td>177.0</td>\n",
              "      <td>9.3</td>\n",
              "      <td>6.4</td>\n",
              "      <td>12.8</td>\n",
              "    </tr>\n",
              "    <tr>\n",
              "      <th>198</th>\n",
              "      <td>199</td>\n",
              "      <td>283.6</td>\n",
              "      <td>42.0</td>\n",
              "      <td>66.2</td>\n",
              "      <td>25.5</td>\n",
              "    </tr>\n",
              "    <tr>\n",
              "      <th>199</th>\n",
              "      <td>200</td>\n",
              "      <td>232.1</td>\n",
              "      <td>8.6</td>\n",
              "      <td>8.7</td>\n",
              "      <td>13.4</td>\n",
              "    </tr>\n",
              "  </tbody>\n",
              "</table>\n",
              "</div>\n",
              "      <button class=\"colab-df-convert\" onclick=\"convertToInteractive('df-f4f8b26a-75a2-497d-902b-0d0309f34bf2')\"\n",
              "              title=\"Convert this dataframe to an interactive table.\"\n",
              "              style=\"display:none;\">\n",
              "        \n",
              "  <svg xmlns=\"http://www.w3.org/2000/svg\" height=\"24px\"viewBox=\"0 0 24 24\"\n",
              "       width=\"24px\">\n",
              "    <path d=\"M0 0h24v24H0V0z\" fill=\"none\"/>\n",
              "    <path d=\"M18.56 5.44l.94 2.06.94-2.06 2.06-.94-2.06-.94-.94-2.06-.94 2.06-2.06.94zm-11 1L8.5 8.5l.94-2.06 2.06-.94-2.06-.94L8.5 2.5l-.94 2.06-2.06.94zm10 10l.94 2.06.94-2.06 2.06-.94-2.06-.94-.94-2.06-.94 2.06-2.06.94z\"/><path d=\"M17.41 7.96l-1.37-1.37c-.4-.4-.92-.59-1.43-.59-.52 0-1.04.2-1.43.59L10.3 9.45l-7.72 7.72c-.78.78-.78 2.05 0 2.83L4 21.41c.39.39.9.59 1.41.59.51 0 1.02-.2 1.41-.59l7.78-7.78 2.81-2.81c.8-.78.8-2.07 0-2.86zM5.41 20L4 18.59l7.72-7.72 1.47 1.35L5.41 20z\"/>\n",
              "  </svg>\n",
              "      </button>\n",
              "      \n",
              "  <style>\n",
              "    .colab-df-container {\n",
              "      display:flex;\n",
              "      flex-wrap:wrap;\n",
              "      gap: 12px;\n",
              "    }\n",
              "\n",
              "    .colab-df-convert {\n",
              "      background-color: #E8F0FE;\n",
              "      border: none;\n",
              "      border-radius: 50%;\n",
              "      cursor: pointer;\n",
              "      display: none;\n",
              "      fill: #1967D2;\n",
              "      height: 32px;\n",
              "      padding: 0 0 0 0;\n",
              "      width: 32px;\n",
              "    }\n",
              "\n",
              "    .colab-df-convert:hover {\n",
              "      background-color: #E2EBFA;\n",
              "      box-shadow: 0px 1px 2px rgba(60, 64, 67, 0.3), 0px 1px 3px 1px rgba(60, 64, 67, 0.15);\n",
              "      fill: #174EA6;\n",
              "    }\n",
              "\n",
              "    [theme=dark] .colab-df-convert {\n",
              "      background-color: #3B4455;\n",
              "      fill: #D2E3FC;\n",
              "    }\n",
              "\n",
              "    [theme=dark] .colab-df-convert:hover {\n",
              "      background-color: #434B5C;\n",
              "      box-shadow: 0px 1px 3px 1px rgba(0, 0, 0, 0.15);\n",
              "      filter: drop-shadow(0px 1px 2px rgba(0, 0, 0, 0.3));\n",
              "      fill: #FFFFFF;\n",
              "    }\n",
              "  </style>\n",
              "\n",
              "      <script>\n",
              "        const buttonEl =\n",
              "          document.querySelector('#df-f4f8b26a-75a2-497d-902b-0d0309f34bf2 button.colab-df-convert');\n",
              "        buttonEl.style.display =\n",
              "          google.colab.kernel.accessAllowed ? 'block' : 'none';\n",
              "\n",
              "        async function convertToInteractive(key) {\n",
              "          const element = document.querySelector('#df-f4f8b26a-75a2-497d-902b-0d0309f34bf2');\n",
              "          const dataTable =\n",
              "            await google.colab.kernel.invokeFunction('convertToInteractive',\n",
              "                                                     [key], {});\n",
              "          if (!dataTable) return;\n",
              "\n",
              "          const docLinkHtml = 'Like what you see? Visit the ' +\n",
              "            '<a target=\"_blank\" href=https://colab.research.google.com/notebooks/data_table.ipynb>data table notebook</a>'\n",
              "            + ' to learn more about interactive tables.';\n",
              "          element.innerHTML = '';\n",
              "          dataTable['output_type'] = 'display_data';\n",
              "          await google.colab.output.renderOutput(dataTable, element);\n",
              "          const docLink = document.createElement('div');\n",
              "          docLink.innerHTML = docLinkHtml;\n",
              "          element.appendChild(docLink);\n",
              "        }\n",
              "      </script>\n",
              "    </div>\n",
              "  </div>\n",
              "  "
            ]
          },
          "metadata": {},
          "execution_count": 5
        }
      ]
    },
    {
      "cell_type": "code",
      "source": [
        "df.columns"
      ],
      "metadata": {
        "colab": {
          "base_uri": "https://localhost:8080/"
        },
        "id": "O69e9UJOn3C0",
        "outputId": "898cd1ca-952f-4e6b-ce6a-1dd6c6b06b7f"
      },
      "execution_count": 6,
      "outputs": [
        {
          "output_type": "execute_result",
          "data": {
            "text/plain": [
              "Index(['Unnamed: 0', 'TV', 'radio', 'newspaper', 'sales'], dtype='object')"
            ]
          },
          "metadata": {},
          "execution_count": 6
        }
      ]
    },
    {
      "cell_type": "markdown",
      "source": [
        "# Details About the Columns"
      ],
      "metadata": {
        "id": "EyohEl9boKjN"
      }
    },
    {
      "cell_type": "markdown",
      "source": [
        "1. Tv\n",
        "\n",
        "This column contains the details about the Adevirtement through Television\n",
        "\n",
        "2. Radio\n",
        "\n",
        "This column contains the details about the Adevirtement through Radio\n",
        "\n",
        "3. NewsPaper\n",
        "\n",
        "This column contains the details about the Adevirtement through Newspaper\n",
        "\n",
        "4. Sales\n",
        "\n",
        "This column contains the details about the Total Sales through all the media"
      ],
      "metadata": {
        "id": "RYcj_uujoUfq"
      }
    },
    {
      "cell_type": "markdown",
      "source": [
        "# Checking for the Columns containing Null , Blank Or Empty Values"
      ],
      "metadata": {
        "id": "h7qEdxDioSJz"
      }
    },
    {
      "cell_type": "code",
      "source": [
        "df.isnull().sum()"
      ],
      "metadata": {
        "colab": {
          "base_uri": "https://localhost:8080/"
        },
        "id": "dQn89OCHn8oS",
        "outputId": "579c2cf1-fee4-412a-d6ed-305485309fd8"
      },
      "execution_count": 7,
      "outputs": [
        {
          "output_type": "execute_result",
          "data": {
            "text/plain": [
              "Unnamed: 0    0\n",
              "TV            0\n",
              "radio         0\n",
              "newspaper     0\n",
              "sales         0\n",
              "dtype: int64"
            ]
          },
          "metadata": {},
          "execution_count": 7
        }
      ]
    },
    {
      "cell_type": "markdown",
      "source": [
        "Checking the presence of NULL BLANK or EMPTY VALUES through HeatMap"
      ],
      "metadata": {
        "id": "hQJsidCvpi7i"
      }
    },
    {
      "cell_type": "code",
      "source": [
        "import seaborn as sns\n",
        "import matplotlib.pyplot as plt\n",
        "\n",
        "sns.heatmap(df.isnull())\n",
        "plt.title(\"Null Values\")\n",
        "plt.show()"
      ],
      "metadata": {
        "colab": {
          "base_uri": "https://localhost:8080/",
          "height": 281
        },
        "id": "0usdfQy7pbOx",
        "outputId": "ad17c3da-5335-4020-9be7-127d20b39a36"
      },
      "execution_count": 8,
      "outputs": [
        {
          "output_type": "display_data",
          "data": {
            "text/plain": [
              "<Figure size 432x288 with 2 Axes>"
            ],
            "image/png": "[encoded data removed]"
          },
          "metadata": {
            "needs_background": "light"
          }
        }
      ]
    },
    {
      "cell_type": "markdown",
      "source": [
        "We Can see that the from following that no Null Values are present in the dataset "
      ],
      "metadata": {
        "id": "BHJALJQ3pl9z"
      }
    },
    {
      "cell_type": "markdown",
      "source": [
        "# Checking and Transforming the Data types of the Columns To Same DataTypes for Better Analysis"
      ],
      "metadata": {
        "id": "eUbW-fuZpz8l"
      }
    },
    {
      "cell_type": "code",
      "source": [
        "df.info()"
      ],
      "metadata": {
        "colab": {
          "base_uri": "https://localhost:8080/"
        },
        "id": "AsPWiYZvpfaR",
        "outputId": "7467408e-bbc2-4dcf-fd3f-448f7dbcd7f2"
      },
      "execution_count": 9,
      "outputs": [
        {
          "output_type": "stream",
          "name": "stdout",
          "text": [
            "<class 'pandas.core.frame.DataFrame'>\n",
            "RangeIndex: 200 entries, 0 to 199\n",
            "Data columns (total 5 columns):\n",
            " #   Column      Non-Null Count  Dtype  \n",
            "---  ------      --------------  -----  \n",
            " 0   Unnamed: 0  200 non-null    int64  \n",
            " 1   TV          200 non-null    float64\n",
            " 2   radio       200 non-null    float64\n",
            " 3   newspaper   200 non-null    float64\n",
            " 4   sales       200 non-null    float64\n",
            "dtypes: float64(4), int64(1)\n",
            "memory usage: 7.9 KB\n"
          ]
        }
      ]
    },
    {
      "cell_type": "markdown",
      "source": [
        "We can see that all the datas are in float format which is good"
      ],
      "metadata": {
        "id": "Z7WaZb7Vp7WF"
      }
    },
    {
      "cell_type": "markdown",
      "source": [
        "# EDA"
      ],
      "metadata": {
        "id": "mCTS5DJMqedf"
      }
    },
    {
      "cell_type": "code",
      "source": [
        "sns.displot(df['TV'])"
      ],
      "metadata": {
        "colab": {
          "base_uri": "https://localhost:8080/",
          "height": 386
        },
        "id": "-fiXegn9qU4p",
        "outputId": "3dba9a95-4802-4206-af0c-571d49b00cbb"
      },
      "execution_count": 13,
      "outputs": [
        {
          "output_type": "execute_result",
          "data": {
            "text/plain": [
              "<seaborn.axisgrid.FacetGrid at 0x7f5809febc50>"
            ]
          },
          "metadata": {},
          "execution_count": 13
        },
        {
          "output_type": "display_data",
          "data": {
            "text/plain": [
              "<Figure size 360x360 with 1 Axes>"
            ],
            "image/png": "[encoded data removed]"
          },
          "metadata": {
            "needs_background": "light"
          }
        }
      ]
    },
    {
      "cell_type": "code",
      "source": [
        "sns.displot(df['radio'],kind='hist')"
      ],
      "metadata": {
        "colab": {
          "base_uri": "https://localhost:8080/",
          "height": 386
        },
        "id": "6Lqjm1SpqolB",
        "outputId": "6196514c-91ef-47e5-c435-bce91f21a353"
      },
      "execution_count": 16,
      "outputs": [
        {
          "output_type": "execute_result",
          "data": {
            "text/plain": [
              "<seaborn.axisgrid.FacetGrid at 0x7f58099cbe50>"
            ]
          },
          "metadata": {},
          "execution_count": 16
        },
        {
          "output_type": "display_data",
          "data": {
            "text/plain": [
              "<Figure size 360x360 with 1 Axes>"
            ],
            "image/png": "[encoded data removed]"
          },
          "metadata": {
            "needs_background": "light"
          }
        }
      ]
    },
    {
      "cell_type": "code",
      "source": [
        "sns.displot(df['newspaper'],kind='hist')"
      ],
      "metadata": {
        "colab": {
          "base_uri": "https://localhost:8080/",
          "height": 386
        },
        "id": "YigmfrUsq1pR",
        "outputId": "0d4bc06d-21f8-4750-98a8-33f081c4b555"
      },
      "execution_count": 17,
      "outputs": [
        {
          "output_type": "execute_result",
          "data": {
            "text/plain": [
              "<seaborn.axisgrid.FacetGrid at 0x7f5809ac3f50>"
            ]
          },
          "metadata": {},
          "execution_count": 17
        },
        {
          "output_type": "display_data",
          "data": {
            "text/plain": [
              "<Figure size 360x360 with 1 Axes>"
            ],
            "image/png": "[encoded data removed]"
          },
          "metadata": {
            "needs_background": "light"
          }
        }
      ]
    },
    {
      "cell_type": "code",
      "source": [
        "sns.displot(df['sales'],kind='hist')"
      ],
      "metadata": {
        "colab": {
          "base_uri": "https://localhost:8080/",
          "height": 386
        },
        "id": "dxBQejkArRMg",
        "outputId": "3b80f504-720c-491b-8d53-3229f4feaa3b"
      },
      "execution_count": 19,
      "outputs": [
        {
          "output_type": "execute_result",
          "data": {
            "text/plain": [
              "<seaborn.axisgrid.FacetGrid at 0x7f58098abf50>"
            ]
          },
          "metadata": {},
          "execution_count": 19
        },
        {
          "output_type": "display_data",
          "data": {
            "text/plain": [
              "<Figure size 360x360 with 1 Axes>"
            ],
            "image/png": "[encoded data removed]"
          },
          "metadata": {
            "needs_background": "light"
          }
        }
      ]
    },
    {
      "cell_type": "code",
      "source": [
        "df.hist(figsize=(20,10), grid=False, layout=(3,2), bins = 30)"
      ],
      "metadata": {
        "colab": {
          "base_uri": "https://localhost:8080/",
          "height": 729
        },
        "id": "xbiJW0MFrZcw",
        "outputId": "26123d41-306f-41be-9e5d-d127dbcbf766"
      },
      "execution_count": 21,
      "outputs": [
        {
          "output_type": "execute_result",
          "data": {
            "text/plain": [
              "array([[<matplotlib.axes._subplots.AxesSubplot object at 0x7f580a545dd0>,\n",
              "        <matplotlib.axes._subplots.AxesSubplot object at 0x7f580cd9b2d0>],\n",
              "       [<matplotlib.axes._subplots.AxesSubplot object at 0x7f580cddcf90>,\n",
              "        <matplotlib.axes._subplots.AxesSubplot object at 0x7f58097d7450>],\n",
              "       [<matplotlib.axes._subplots.AxesSubplot object at 0x7f580978ba50>,\n",
              "        <matplotlib.axes._subplots.AxesSubplot object at 0x7f58097ae910>]],\n",
              "      dtype=object)"
            ]
          },
          "metadata": {},
          "execution_count": 21
        },
        {
          "output_type": "display_data",
          "data": {
            "text/plain": [
              "<Figure size 1440x720 with 6 Axes>"
            ],
            "image/png": "[encoded data removed]"
          },
          "metadata": {
            "needs_background": "light"
          }
        }
      ]
    },
    {
      "cell_type": "code",
      "source": [
        "sns.pairplot(df)"
      ],
      "metadata": {
        "colab": {
          "base_uri": "https://localhost:8080/",
          "height": 920
        },
        "id": "ylyeoPslrjoz",
        "outputId": "8a2d21eb-20a8-4b6d-9e0f-9dd4f4923cc5"
      },
      "execution_count": 22,
      "outputs": [
        {
          "output_type": "execute_result",
          "data": {
            "text/plain": [
              "<seaborn.axisgrid.PairGrid at 0x7f580a499090>"
            ]
          },
          "metadata": {},
          "execution_count": 22
        },
        {
          "output_type": "display_data",
          "data": {
            "text/plain": [
              "<Figure size 900x900 with 30 Axes>"
            ],
            "image/png": "[encoded data removed]"
          },
          "metadata": {
            "needs_background": "light"
          }
        }
      ]
    },
    {
      "cell_type": "markdown",
      "source": [
        "# Coorelation"
      ],
      "metadata": {
        "id": "57zevb9_r_EI"
      }
    },
    {
      "cell_type": "code",
      "source": [
        "df.corr()"
      ],
      "metadata": {
        "colab": {
          "base_uri": "https://localhost:8080/",
          "height": 206
        },
        "id": "HrZzeq30rt8q",
        "outputId": "753b3189-7dd3-48f6-a93b-f486c5b6a759"
      },
      "execution_count": 23,
      "outputs": [
        {
          "output_type": "execute_result",
          "data": {
            "text/plain": [
              "            Unnamed: 0        TV     radio  newspaper     sales\n",
              "Unnamed: 0    1.000000  0.017715 -0.110680  -0.154944 -0.051616\n",
              "TV            0.017715  1.000000  0.054809   0.056648  0.782224\n",
              "radio        -0.110680  0.054809  1.000000   0.354104  0.576223\n",
              "newspaper    -0.154944  0.056648  0.354104   1.000000  0.228299\n",
              "sales        -0.051616  0.782224  0.576223   0.228299  1.000000"
            ],
            "text/html": [
              "\n",
              "  <div id=\"df-a3f3af93-ada2-46f9-9737-7db41406cc40\">\n",
              "    <div class=\"colab-df-container\">\n",
              "      <div>\n",
              "<style scoped>\n",
              "    .dataframe tbody tr th:only-of-type {\n",
              "        vertical-align: middle;\n",
              "    }\n",
              "\n",
              "    .dataframe tbody tr th {\n",
              "        vertical-align: top;\n",
              "    }\n",
              "\n",
              "    .dataframe thead th {\n",
              "        text-align: right;\n",
              "    }\n",
              "</style>\n",
              "<table border=\"1\" class=\"dataframe\">\n",
              "  <thead>\n",
              "    <tr style=\"text-align: right;\">\n",
              "      <th></th>\n",
              "      <th>Unnamed: 0</th>\n",
              "      <th>TV</th>\n",
              "      <th>radio</th>\n",
              "      <th>newspaper</th>\n",
              "      <th>sales</th>\n",
              "    </tr>\n",
              "  </thead>\n",
              "  <tbody>\n",
              "    <tr>\n",
              "      <th>Unnamed: 0</th>\n",
              "      <td>1.000000</td>\n",
              "      <td>0.017715</td>\n",
              "      <td>-0.110680</td>\n",
              "      <td>-0.154944</td>\n",
              "      <td>-0.051616</td>\n",
              "    </tr>\n",
              "    <tr>\n",
              "      <th>TV</th>\n",
              "      <td>0.017715</td>\n",
              "      <td>1.000000</td>\n",
              "      <td>0.054809</td>\n",
              "      <td>0.056648</td>\n",
              "      <td>0.782224</td>\n",
              "    </tr>\n",
              "    <tr>\n",
              "      <th>radio</th>\n",
              "      <td>-0.110680</td>\n",
              "      <td>0.054809</td>\n",
              "      <td>1.000000</td>\n",
              "      <td>0.354104</td>\n",
              "      <td>0.576223</td>\n",
              "    </tr>\n",
              "    <tr>\n",
              "      <th>newspaper</th>\n",
              "      <td>-0.154944</td>\n",
              "      <td>0.056648</td>\n",
              "      <td>0.354104</td>\n",
              "      <td>1.000000</td>\n",
              "      <td>0.228299</td>\n",
              "    </tr>\n",
              "    <tr>\n",
              "      <th>sales</th>\n",
              "      <td>-0.051616</td>\n",
              "      <td>0.782224</td>\n",
              "      <td>0.576223</td>\n",
              "      <td>0.228299</td>\n",
              "      <td>1.000000</td>\n",
              "    </tr>\n",
              "  </tbody>\n",
              "</table>\n",
              "</div>\n",
              "      <button class=\"colab-df-convert\" onclick=\"convertToInteractive('df-a3f3af93-ada2-46f9-9737-7db41406cc40')\"\n",
              "              title=\"Convert this dataframe to an interactive table.\"\n",
              "              style=\"display:none;\">\n",
              "        \n",
              "  <svg xmlns=\"http://www.w3.org/2000/svg\" height=\"24px\"viewBox=\"0 0 24 24\"\n",
              "       width=\"24px\">\n",
              "    <path d=\"M0 0h24v24H0V0z\" fill=\"none\"/>\n",
              "    <path d=\"M18.56 5.44l.94 2.06.94-2.06 2.06-.94-2.06-.94-.94-2.06-.94 2.06-2.06.94zm-11 1L8.5 8.5l.94-2.06 2.06-.94-2.06-.94L8.5 2.5l-.94 2.06-2.06.94zm10 10l.94 2.06.94-2.06 2.06-.94-2.06-.94-.94-2.06-.94 2.06-2.06.94z\"/><path d=\"M17.41 7.96l-1.37-1.37c-.4-.4-.92-.59-1.43-.59-.52 0-1.04.2-1.43.59L10.3 9.45l-7.72 7.72c-.78.78-.78 2.05 0 2.83L4 21.41c.39.39.9.59 1.41.59.51 0 1.02-.2 1.41-.59l7.78-7.78 2.81-2.81c.8-.78.8-2.07 0-2.86zM5.41 20L4 18.59l7.72-7.72 1.47 1.35L5.41 20z\"/>\n",
              "  </svg>\n",
              "      </button>\n",
              "      \n",
              "  <style>\n",
              "    .colab-df-container {\n",
              "      display:flex;\n",
              "      flex-wrap:wrap;\n",
              "      gap: 12px;\n",
              "    }\n",
              "\n",
              "    .colab-df-convert {\n",
              "      background-color: #E8F0FE;\n",
              "      border: none;\n",
              "      border-radius: 50%;\n",
              "      cursor: pointer;\n",
              "      display: none;\n",
              "      fill: #1967D2;\n",
              "      height: 32px;\n",
              "      padding: 0 0 0 0;\n",
              "      width: 32px;\n",
              "    }\n",
              "\n",
              "    .colab-df-convert:hover {\n",
              "      background-color: #E2EBFA;\n",
              "      box-shadow: 0px 1px 2px rgba(60, 64, 67, 0.3), 0px 1px 3px 1px rgba(60, 64, 67, 0.15);\n",
              "      fill: #174EA6;\n",
              "    }\n",
              "\n",
              "    [theme=dark] .colab-df-convert {\n",
              "      background-color: #3B4455;\n",
              "      fill: #D2E3FC;\n",
              "    }\n",
              "\n",
              "    [theme=dark] .colab-df-convert:hover {\n",
              "      background-color: #434B5C;\n",
              "      box-shadow: 0px 1px 3px 1px rgba(0, 0, 0, 0.15);\n",
              "      filter: drop-shadow(0px 1px 2px rgba(0, 0, 0, 0.3));\n",
              "      fill: #FFFFFF;\n",
              "    }\n",
              "  </style>\n",
              "\n",
              "      <script>\n",
              "        const buttonEl =\n",
              "          document.querySelector('#df-a3f3af93-ada2-46f9-9737-7db41406cc40 button.colab-df-convert');\n",
              "        buttonEl.style.display =\n",
              "          google.colab.kernel.accessAllowed ? 'block' : 'none';\n",
              "\n",
              "        async function convertToInteractive(key) {\n",
              "          const element = document.querySelector('#df-a3f3af93-ada2-46f9-9737-7db41406cc40');\n",
              "          const dataTable =\n",
              "            await google.colab.kernel.invokeFunction('convertToInteractive',\n",
              "                                                     [key], {});\n",
              "          if (!dataTable) return;\n",
              "\n",
              "          const docLinkHtml = 'Like what you see? Visit the ' +\n",
              "            '<a target=\"_blank\" href=https://colab.research.google.com/notebooks/data_table.ipynb>data table notebook</a>'\n",
              "            + ' to learn more about interactive tables.';\n",
              "          element.innerHTML = '';\n",
              "          dataTable['output_type'] = 'display_data';\n",
              "          await google.colab.output.renderOutput(dataTable, element);\n",
              "          const docLink = document.createElement('div');\n",
              "          docLink.innerHTML = docLinkHtml;\n",
              "          element.appendChild(docLink);\n",
              "        }\n",
              "      </script>\n",
              "    </div>\n",
              "  </div>\n",
              "  "
            ]
          },
          "metadata": {},
          "execution_count": 23
        }
      ]
    },
    {
      "cell_type": "code",
      "source": [
        "df.corr()['sales'].sort_values()"
      ],
      "metadata": {
        "colab": {
          "base_uri": "https://localhost:8080/"
        },
        "id": "7TJU00kNsCU4",
        "outputId": "1721663e-7065-483f-a173-1f3fd7560e35"
      },
      "execution_count": 24,
      "outputs": [
        {
          "output_type": "execute_result",
          "data": {
            "text/plain": [
              "Unnamed: 0   -0.051616\n",
              "newspaper     0.228299\n",
              "radio         0.576223\n",
              "TV            0.782224\n",
              "sales         1.000000\n",
              "Name: sales, dtype: float64"
            ]
          },
          "metadata": {},
          "execution_count": 24
        }
      ]
    },
    {
      "cell_type": "code",
      "source": [
        "import matplotlib.pyplot as plt\n",
        "import seaborn as sns\n",
        "plt.figure(figsize=(15,7))\n",
        "sns.heatmap(df.corr(), annot=True, linewidths=0.5,linecolor=\"black\", fmt='.2f')"
      ],
      "metadata": {
        "colab": {
          "base_uri": "https://localhost:8080/",
          "height": 450
        },
        "id": "kOBfM808sJbI",
        "outputId": "50061d19-dbea-4792-9e16-0d56103d21f1"
      },
      "execution_count": 25,
      "outputs": [
        {
          "output_type": "execute_result",
          "data": {
            "text/plain": [
              "<matplotlib.axes._subplots.AxesSubplot at 0x7f5808de69d0>"
            ]
          },
          "metadata": {},
          "execution_count": 25
        },
        {
          "output_type": "display_data",
          "data": {
            "text/plain": [
              "<Figure size 1080x504 with 2 Axes>"
            ],
            "image/png": "[encoded data removed]"
          },
          "metadata": {
            "needs_background": "light"
          }
        }
      ]
    },
    {
      "cell_type": "markdown",
      "source": [
        "Removing Columns that are not related to the dataset"
      ],
      "metadata": {
        "id": "ujdXbzCesVJw"
      }
    },
    {
      "cell_type": "code",
      "source": [
        "df.drop(['Unnamed: 0'],axis=1,inplace=True)"
      ],
      "metadata": {
        "id": "ZKGi0wFgsQSJ"
      },
      "execution_count": 27,
      "outputs": []
    },
    {
      "cell_type": "markdown",
      "source": [
        "# Descriptive Statistics"
      ],
      "metadata": {
        "id": "AslGNQ_zsush"
      }
    },
    {
      "cell_type": "code",
      "source": [
        "df.describe()"
      ],
      "metadata": {
        "colab": {
          "base_uri": "https://localhost:8080/",
          "height": 300
        },
        "id": "i0nofJ_usnT5",
        "outputId": "8bf44ed9-bf00-403e-bb53-20ef78612e76"
      },
      "execution_count": 28,
      "outputs": [
        {
          "output_type": "execute_result",
          "data": {
            "text/plain": [
              "               TV       radio   newspaper       sales\n",
              "count  200.000000  200.000000  200.000000  200.000000\n",
              "mean   147.042500   23.264000   30.554000   14.022500\n",
              "std     85.854236   14.846809   21.778621    5.217457\n",
              "min      0.700000    0.000000    0.300000    1.600000\n",
              "25%     74.375000    9.975000   12.750000   10.375000\n",
              "50%    149.750000   22.900000   25.750000   12.900000\n",
              "75%    218.825000   36.525000   45.100000   17.400000\n",
              "max    296.400000   49.600000  114.000000   27.000000"
            ],
            "text/html": [
              "\n",
              "  <div id=\"df-364a2c6f-0567-49af-97db-f6bd6cc5d3ff\">\n",
              "    <div class=\"colab-df-container\">\n",
              "      <div>\n",
              "<style scoped>\n",
              "    .dataframe tbody tr th:only-of-type {\n",
              "        vertical-align: middle;\n",
              "    }\n",
              "\n",
              "    .dataframe tbody tr th {\n",
              "        vertical-align: top;\n",
              "    }\n",
              "\n",
              "    .dataframe thead th {\n",
              "        text-align: right;\n",
              "    }\n",
              "</style>\n",
              "<table border=\"1\" class=\"dataframe\">\n",
              "  <thead>\n",
              "    <tr style=\"text-align: right;\">\n",
              "      <th></th>\n",
              "      <th>TV</th>\n",
              "      <th>radio</th>\n",
              "      <th>newspaper</th>\n",
              "      <th>sales</th>\n",
              "    </tr>\n",
              "  </thead>\n",
              "  <tbody>\n",
              "    <tr>\n",
              "      <th>count</th>\n",
              "      <td>200.000000</td>\n",
              "      <td>200.000000</td>\n",
              "      <td>200.000000</td>\n",
              "      <td>200.000000</td>\n",
              "    </tr>\n",
              "    <tr>\n",
              "      <th>mean</th>\n",
              "      <td>147.042500</td>\n",
              "      <td>23.264000</td>\n",
              "      <td>30.554000</td>\n",
              "      <td>14.022500</td>\n",
              "    </tr>\n",
              "    <tr>\n",
              "      <th>std</th>\n",
              "      <td>85.854236</td>\n",
              "      <td>14.846809</td>\n",
              "      <td>21.778621</td>\n",
              "      <td>5.217457</td>\n",
              "    </tr>\n",
              "    <tr>\n",
              "      <th>min</th>\n",
              "      <td>0.700000</td>\n",
              "      <td>0.000000</td>\n",
              "      <td>0.300000</td>\n",
              "      <td>1.600000</td>\n",
              "    </tr>\n",
              "    <tr>\n",
              "      <th>25%</th>\n",
              "      <td>74.375000</td>\n",
              "      <td>9.975000</td>\n",
              "      <td>12.750000</td>\n",
              "      <td>10.375000</td>\n",
              "    </tr>\n",
              "    <tr>\n",
              "      <th>50%</th>\n",
              "      <td>149.750000</td>\n",
              "      <td>22.900000</td>\n",
              "      <td>25.750000</td>\n",
              "      <td>12.900000</td>\n",
              "    </tr>\n",
              "    <tr>\n",
              "      <th>75%</th>\n",
              "      <td>218.825000</td>\n",
              "      <td>36.525000</td>\n",
              "      <td>45.100000</td>\n",
              "      <td>17.400000</td>\n",
              "    </tr>\n",
              "    <tr>\n",
              "      <th>max</th>\n",
              "      <td>296.400000</td>\n",
              "      <td>49.600000</td>\n",
              "      <td>114.000000</td>\n",
              "      <td>27.000000</td>\n",
              "    </tr>\n",
              "  </tbody>\n",
              "</table>\n",
              "</div>\n",
              "      <button class=\"colab-df-convert\" onclick=\"convertToInteractive('df-364a2c6f-0567-49af-97db-f6bd6cc5d3ff')\"\n",
              "              title=\"Convert this dataframe to an interactive table.\"\n",
              "              style=\"display:none;\">\n",
              "        \n",
              "  <svg xmlns=\"http://www.w3.org/2000/svg\" height=\"24px\"viewBox=\"0 0 24 24\"\n",
              "       width=\"24px\">\n",
              "    <path d=\"M0 0h24v24H0V0z\" fill=\"none\"/>\n",
              "    <path d=\"M18.56 5.44l.94 2.06.94-2.06 2.06-.94-2.06-.94-.94-2.06-.94 2.06-2.06.94zm-11 1L8.5 8.5l.94-2.06 2.06-.94-2.06-.94L8.5 2.5l-.94 2.06-2.06.94zm10 10l.94 2.06.94-2.06 2.06-.94-2.06-.94-.94-2.06-.94 2.06-2.06.94z\"/><path d=\"M17.41 7.96l-1.37-1.37c-.4-.4-.92-.59-1.43-.59-.52 0-1.04.2-1.43.59L10.3 9.45l-7.72 7.72c-.78.78-.78 2.05 0 2.83L4 21.41c.39.39.9.59 1.41.59.51 0 1.02-.2 1.41-.59l7.78-7.78 2.81-2.81c.8-.78.8-2.07 0-2.86zM5.41 20L4 18.59l7.72-7.72 1.47 1.35L5.41 20z\"/>\n",
              "  </svg>\n",
              "      </button>\n",
              "      \n",
              "  <style>\n",
              "    .colab-df-container {\n",
              "      display:flex;\n",
              "      flex-wrap:wrap;\n",
              "      gap: 12px;\n",
              "    }\n",
              "\n",
              "    .colab-df-convert {\n",
              "      background-color: #E8F0FE;\n",
              "      border: none;\n",
              "      border-radius: 50%;\n",
              "      cursor: pointer;\n",
              "      display: none;\n",
              "      fill: #1967D2;\n",
              "      height: 32px;\n",
              "      padding: 0 0 0 0;\n",
              "      width: 32px;\n",
              "    }\n",
              "\n",
              "    .colab-df-convert:hover {\n",
              "      background-color: #E2EBFA;\n",
              "      box-shadow: 0px 1px 2px rgba(60, 64, 67, 0.3), 0px 1px 3px 1px rgba(60, 64, 67, 0.15);\n",
              "      fill: #174EA6;\n",
              "    }\n",
              "\n",
              "    [theme=dark] .colab-df-convert {\n",
              "      background-color: #3B4455;\n",
              "      fill: #D2E3FC;\n",
              "    }\n",
              "\n",
              "    [theme=dark] .colab-df-convert:hover {\n",
              "      background-color: #434B5C;\n",
              "      box-shadow: 0px 1px 3px 1px rgba(0, 0, 0, 0.15);\n",
              "      filter: drop-shadow(0px 1px 2px rgba(0, 0, 0, 0.3));\n",
              "      fill: #FFFFFF;\n",
              "    }\n",
              "  </style>\n",
              "\n",
              "      <script>\n",
              "        const buttonEl =\n",
              "          document.querySelector('#df-364a2c6f-0567-49af-97db-f6bd6cc5d3ff button.colab-df-convert');\n",
              "        buttonEl.style.display =\n",
              "          google.colab.kernel.accessAllowed ? 'block' : 'none';\n",
              "\n",
              "        async function convertToInteractive(key) {\n",
              "          const element = document.querySelector('#df-364a2c6f-0567-49af-97db-f6bd6cc5d3ff');\n",
              "          const dataTable =\n",
              "            await google.colab.kernel.invokeFunction('convertToInteractive',\n",
              "                                                     [key], {});\n",
              "          if (!dataTable) return;\n",
              "\n",
              "          const docLinkHtml = 'Like what you see? Visit the ' +\n",
              "            '<a target=\"_blank\" href=https://colab.research.google.com/notebooks/data_table.ipynb>data table notebook</a>'\n",
              "            + ' to learn more about interactive tables.';\n",
              "          element.innerHTML = '';\n",
              "          dataTable['output_type'] = 'display_data';\n",
              "          await google.colab.output.renderOutput(dataTable, element);\n",
              "          const docLink = document.createElement('div');\n",
              "          docLink.innerHTML = docLinkHtml;\n",
              "          element.appendChild(docLink);\n",
              "        }\n",
              "      </script>\n",
              "    </div>\n",
              "  </div>\n",
              "  "
            ]
          },
          "metadata": {},
          "execution_count": 28
        }
      ]
    },
    {
      "cell_type": "code",
      "source": [
        "plt.figure(figsize=(15,7))\n",
        "sns.heatmap(round(df.describe()[1:].transpose(),2), annot=True, linewidths=0.5,linecolor=\"black\", fmt='f')"
      ],
      "metadata": {
        "colab": {
          "base_uri": "https://localhost:8080/",
          "height": 446
        },
        "id": "Nhl0_AT9s3JQ",
        "outputId": "4f0d7c69-6a86-4b9f-d519-74ade6328a0d"
      },
      "execution_count": 29,
      "outputs": [
        {
          "output_type": "execute_result",
          "data": {
            "text/plain": [
              "<matplotlib.axes._subplots.AxesSubplot at 0x7f5809a2de10>"
            ]
          },
          "metadata": {},
          "execution_count": 29
        },
        {
          "output_type": "display_data",
          "data": {
            "text/plain": [
              "<Figure size 1080x504 with 2 Axes>"
            ],
            "image/png": "[encoded data removed]"
          },
          "metadata": {
            "needs_background": "light"
          }
        }
      ]
    },
    {
      "cell_type": "markdown",
      "source": [
        "OUTCOME OF DESCRIPTIVE STATISTICS..\n",
        "\n",
        "1. "
      ],
      "metadata": {
        "id": "JLUgZsXatITS"
      }
    },
    {
      "cell_type": "markdown",
      "source": [
        "# Checking Data To Remove Skewness"
      ],
      "metadata": {
        "id": "Tnv1_E65tX8Q"
      }
    },
    {
      "cell_type": "code",
      "source": [
        "df.iloc[:,:-1]"
      ],
      "metadata": {
        "colab": {
          "base_uri": "https://localhost:8080/",
          "height": 423
        },
        "id": "-jZKVST5s9B4",
        "outputId": "c597be21-534e-4ecb-e855-eacd6b19d2bd"
      },
      "execution_count": 30,
      "outputs": [
        {
          "output_type": "execute_result",
          "data": {
            "text/plain": [
              "        TV  radio  newspaper\n",
              "0    230.1   37.8       69.2\n",
              "1     44.5   39.3       45.1\n",
              "2     17.2   45.9       69.3\n",
              "3    151.5   41.3       58.5\n",
              "4    180.8   10.8       58.4\n",
              "..     ...    ...        ...\n",
              "195   38.2    3.7       13.8\n",
              "196   94.2    4.9        8.1\n",
              "197  177.0    9.3        6.4\n",
              "198  283.6   42.0       66.2\n",
              "199  232.1    8.6        8.7\n",
              "\n",
              "[200 rows x 3 columns]"
            ],
            "text/html": [
              "\n",
              "  <div id=\"df-75f471bd-8b49-4ebc-92db-720cd7afb264\">\n",
              "    <div class=\"colab-df-container\">\n",
              "      <div>\n",
              "<style scoped>\n",
              "    .dataframe tbody tr th:only-of-type {\n",
              "        vertical-align: middle;\n",
              "    }\n",
              "\n",
              "    .dataframe tbody tr th {\n",
              "        vertical-align: top;\n",
              "    }\n",
              "\n",
              "    .dataframe thead th {\n",
              "        text-align: right;\n",
              "    }\n",
              "</style>\n",
              "<table border=\"1\" class=\"dataframe\">\n",
              "  <thead>\n",
              "    <tr style=\"text-align: right;\">\n",
              "      <th></th>\n",
              "      <th>TV</th>\n",
              "      <th>radio</th>\n",
              "      <th>newspaper</th>\n",
              "    </tr>\n",
              "  </thead>\n",
              "  <tbody>\n",
              "    <tr>\n",
              "      <th>0</th>\n",
              "      <td>230.1</td>\n",
              "      <td>37.8</td>\n",
              "      <td>69.2</td>\n",
              "    </tr>\n",
              "    <tr>\n",
              "      <th>1</th>\n",
              "      <td>44.5</td>\n",
              "      <td>39.3</td>\n",
              "      <td>45.1</td>\n",
              "    </tr>\n",
              "    <tr>\n",
              "      <th>2</th>\n",
              "      <td>17.2</td>\n",
              "      <td>45.9</td>\n",
              "      <td>69.3</td>\n",
              "    </tr>\n",
              "    <tr>\n",
              "      <th>3</th>\n",
              "      <td>151.5</td>\n",
              "      <td>41.3</td>\n",
              "      <td>58.5</td>\n",
              "    </tr>\n",
              "    <tr>\n",
              "      <th>4</th>\n",
              "      <td>180.8</td>\n",
              "      <td>10.8</td>\n",
              "      <td>58.4</td>\n",
              "    </tr>\n",
              "    <tr>\n",
              "      <th>...</th>\n",
              "      <td>...</td>\n",
              "      <td>...</td>\n",
              "      <td>...</td>\n",
              "    </tr>\n",
              "    <tr>\n",
              "      <th>195</th>\n",
              "      <td>38.2</td>\n",
              "      <td>3.7</td>\n",
              "      <td>13.8</td>\n",
              "    </tr>\n",
              "    <tr>\n",
              "      <th>196</th>\n",
              "      <td>94.2</td>\n",
              "      <td>4.9</td>\n",
              "      <td>8.1</td>\n",
              "    </tr>\n",
              "    <tr>\n",
              "      <th>197</th>\n",
              "      <td>177.0</td>\n",
              "      <td>9.3</td>\n",
              "      <td>6.4</td>\n",
              "    </tr>\n",
              "    <tr>\n",
              "      <th>198</th>\n",
              "      <td>283.6</td>\n",
              "      <td>42.0</td>\n",
              "      <td>66.2</td>\n",
              "    </tr>\n",
              "    <tr>\n",
              "      <th>199</th>\n",
              "      <td>232.1</td>\n",
              "      <td>8.6</td>\n",
              "      <td>8.7</td>\n",
              "    </tr>\n",
              "  </tbody>\n",
              "</table>\n",
              "<p>200 rows × 3 columns</p>\n",
              "</div>\n",
              "      <button class=\"colab-df-convert\" onclick=\"convertToInteractive('df-75f471bd-8b49-4ebc-92db-720cd7afb264')\"\n",
              "              title=\"Convert this dataframe to an interactive table.\"\n",
              "              style=\"display:none;\">\n",
              "        \n",
              "  <svg xmlns=\"http://www.w3.org/2000/svg\" height=\"24px\"viewBox=\"0 0 24 24\"\n",
              "       width=\"24px\">\n",
              "    <path d=\"M0 0h24v24H0V0z\" fill=\"none\"/>\n",
              "    <path d=\"M18.56 5.44l.94 2.06.94-2.06 2.06-.94-2.06-.94-.94-2.06-.94 2.06-2.06.94zm-11 1L8.5 8.5l.94-2.06 2.06-.94-2.06-.94L8.5 2.5l-.94 2.06-2.06.94zm10 10l.94 2.06.94-2.06 2.06-.94-2.06-.94-.94-2.06-.94 2.06-2.06.94z\"/><path d=\"M17.41 7.96l-1.37-1.37c-.4-.4-.92-.59-1.43-.59-.52 0-1.04.2-1.43.59L10.3 9.45l-7.72 7.72c-.78.78-.78 2.05 0 2.83L4 21.41c.39.39.9.59 1.41.59.51 0 1.02-.2 1.41-.59l7.78-7.78 2.81-2.81c.8-.78.8-2.07 0-2.86zM5.41 20L4 18.59l7.72-7.72 1.47 1.35L5.41 20z\"/>\n",
              "  </svg>\n",
              "      </button>\n",
              "      \n",
              "  <style>\n",
              "    .colab-df-container {\n",
              "      display:flex;\n",
              "      flex-wrap:wrap;\n",
              "      gap: 12px;\n",
              "    }\n",
              "\n",
              "    .colab-df-convert {\n",
              "      background-color: #E8F0FE;\n",
              "      border: none;\n",
              "      border-radius: 50%;\n",
              "      cursor: pointer;\n",
              "      display: none;\n",
              "      fill: #1967D2;\n",
              "      height: 32px;\n",
              "      padding: 0 0 0 0;\n",
              "      width: 32px;\n",
              "    }\n",
              "\n",
              "    .colab-df-convert:hover {\n",
              "      background-color: #E2EBFA;\n",
              "      box-shadow: 0px 1px 2px rgba(60, 64, 67, 0.3), 0px 1px 3px 1px rgba(60, 64, 67, 0.15);\n",
              "      fill: #174EA6;\n",
              "    }\n",
              "\n",
              "    [theme=dark] .colab-df-convert {\n",
              "      background-color: #3B4455;\n",
              "      fill: #D2E3FC;\n",
              "    }\n",
              "\n",
              "    [theme=dark] .colab-df-convert:hover {\n",
              "      background-color: #434B5C;\n",
              "      box-shadow: 0px 1px 3px 1px rgba(0, 0, 0, 0.15);\n",
              "      filter: drop-shadow(0px 1px 2px rgba(0, 0, 0, 0.3));\n",
              "      fill: #FFFFFF;\n",
              "    }\n",
              "  </style>\n",
              "\n",
              "      <script>\n",
              "        const buttonEl =\n",
              "          document.querySelector('#df-75f471bd-8b49-4ebc-92db-720cd7afb264 button.colab-df-convert');\n",
              "        buttonEl.style.display =\n",
              "          google.colab.kernel.accessAllowed ? 'block' : 'none';\n",
              "\n",
              "        async function convertToInteractive(key) {\n",
              "          const element = document.querySelector('#df-75f471bd-8b49-4ebc-92db-720cd7afb264');\n",
              "          const dataTable =\n",
              "            await google.colab.kernel.invokeFunction('convertToInteractive',\n",
              "                                                     [key], {});\n",
              "          if (!dataTable) return;\n",
              "\n",
              "          const docLinkHtml = 'Like what you see? Visit the ' +\n",
              "            '<a target=\"_blank\" href=https://colab.research.google.com/notebooks/data_table.ipynb>data table notebook</a>'\n",
              "            + ' to learn more about interactive tables.';\n",
              "          element.innerHTML = '';\n",
              "          dataTable['output_type'] = 'display_data';\n",
              "          await google.colab.output.renderOutput(dataTable, element);\n",
              "          const docLink = document.createElement('div');\n",
              "          docLink.innerHTML = docLinkHtml;\n",
              "          element.appendChild(docLink);\n",
              "        }\n",
              "      </script>\n",
              "    </div>\n",
              "  </div>\n",
              "  "
            ]
          },
          "metadata": {},
          "execution_count": 30
        }
      ]
    },
    {
      "cell_type": "code",
      "source": [
        "df.iloc[:,:-1].skew()"
      ],
      "metadata": {
        "colab": {
          "base_uri": "https://localhost:8080/"
        },
        "id": "XoNcmC1ftc6l",
        "outputId": "c07028aa-aacf-480d-94b4-6adb06bd39a9"
      },
      "execution_count": 31,
      "outputs": [
        {
          "output_type": "execute_result",
          "data": {
            "text/plain": [
              "TV          -0.069853\n",
              "radio        0.094175\n",
              "newspaper    0.894720\n",
              "dtype: float64"
            ]
          },
          "metadata": {},
          "execution_count": 31
        }
      ]
    },
    {
      "cell_type": "markdown",
      "source": [
        "Removing Skewness Using Power Transform"
      ],
      "metadata": {
        "id": "227PoIGit0JI"
      }
    },
    {
      "cell_type": "code",
      "source": [
        "from sklearn.preprocessing import power_transform\n",
        "x_new=power_transform(df.iloc[:,:-1],method='yeo-johnson')\n",
        "\n",
        "df.iloc[:,:-1]=pd.DataFrame(x_new,columns=df.iloc[:,:-1].columns)"
      ],
      "metadata": {
        "id": "YOC83gQ1thE3"
      },
      "execution_count": 32,
      "outputs": []
    },
    {
      "cell_type": "code",
      "source": [
        "df.iloc[:,:-1].skew()"
      ],
      "metadata": {
        "colab": {
          "base_uri": "https://localhost:8080/"
        },
        "id": "u-cMrqMLtvao",
        "outputId": "6bfceb5d-6da3-4b80-e7df-8b5c22dd2496"
      },
      "execution_count": 33,
      "outputs": [
        {
          "output_type": "execute_result",
          "data": {
            "text/plain": [
              "TV          -0.315199\n",
              "radio       -0.242968\n",
              "newspaper   -0.077942\n",
              "dtype: float64"
            ]
          },
          "metadata": {},
          "execution_count": 33
        }
      ]
    },
    {
      "cell_type": "markdown",
      "source": [
        "# OUTLIERS CHECKING"
      ],
      "metadata": {
        "id": "3ulGNa4zt7J4"
      }
    },
    {
      "cell_type": "code",
      "source": [
        "import warnings\n",
        "warnings.filterwarnings('ignore')\n",
        "df.plot(kind='box',subplots=True, layout=(3,2), figsize=[20,8])"
      ],
      "metadata": {
        "colab": {
          "base_uri": "https://localhost:8080/",
          "height": 416
        },
        "id": "aCwcH2Rdt4eJ",
        "outputId": "9dbcf5bb-07e9-471d-d218-1f9df9f08155"
      },
      "execution_count": 34,
      "outputs": [
        {
          "output_type": "execute_result",
          "data": {
            "text/plain": [
              "TV              AxesSubplot(0.125,0.657941;0.352273x0.222059)\n",
              "radio        AxesSubplot(0.547727,0.657941;0.352273x0.222059)\n",
              "newspaper       AxesSubplot(0.125,0.391471;0.352273x0.222059)\n",
              "sales        AxesSubplot(0.547727,0.391471;0.352273x0.222059)\n",
              "dtype: object"
            ]
          },
          "metadata": {},
          "execution_count": 34
        },
        {
          "output_type": "display_data",
          "data": {
            "text/plain": [
              "<Figure size 1440x576 with 6 Axes>"
            ],
            "image/png": "[encoded data removed]"
          },
          "metadata": {
            "needs_background": "light"
          }
        }
      ]
    },
    {
      "cell_type": "markdown",
      "source": [
        "We can see that there are no outliers present in the dataset"
      ],
      "metadata": {
        "id": "phpQrpBOuK2t"
      }
    },
    {
      "cell_type": "markdown",
      "source": [
        "# Feature Engineering ( Variantion Inflation Factor )"
      ],
      "metadata": {
        "id": "-bFUZrPqubHf"
      }
    },
    {
      "cell_type": "code",
      "source": [
        "from statsmodels.stats.outliers_influence import variance_inflation_factor"
      ],
      "metadata": {
        "id": "AmHnShaeuHYo"
      },
      "execution_count": 35,
      "outputs": []
    },
    {
      "cell_type": "code",
      "source": [
        "df.corr()"
      ],
      "metadata": {
        "colab": {
          "base_uri": "https://localhost:8080/",
          "height": 174
        },
        "id": "WIHl4LC6uifw",
        "outputId": "a8bc1a2e-c2ba-41ca-ecaa-6ab9644f47e4"
      },
      "execution_count": 36,
      "outputs": [
        {
          "output_type": "execute_result",
          "data": {
            "text/plain": [
              "                 TV     radio  newspaper     sales\n",
              "TV         1.000000  0.047479   0.041693  0.788695\n",
              "radio      0.047479  1.000000   0.291462  0.570964\n",
              "newspaper  0.041693  0.291462   1.000000  0.198977\n",
              "sales      0.788695  0.570964   0.198977  1.000000"
            ],
            "text/html": [
              "\n",
              "  <div id=\"df-d311d9a1-1230-4111-8430-1bea004022a3\">\n",
              "    <div class=\"colab-df-container\">\n",
              "      <div>\n",
              "<style scoped>\n",
              "    .dataframe tbody tr th:only-of-type {\n",
              "        vertical-align: middle;\n",
              "    }\n",
              "\n",
              "    .dataframe tbody tr th {\n",
              "        vertical-align: top;\n",
              "    }\n",
              "\n",
              "    .dataframe thead th {\n",
              "        text-align: right;\n",
              "    }\n",
              "</style>\n",
              "<table border=\"1\" class=\"dataframe\">\n",
              "  <thead>\n",
              "    <tr style=\"text-align: right;\">\n",
              "      <th></th>\n",
              "      <th>TV</th>\n",
              "      <th>radio</th>\n",
              "      <th>newspaper</th>\n",
              "      <th>sales</th>\n",
              "    </tr>\n",
              "  </thead>\n",
              "  <tbody>\n",
              "    <tr>\n",
              "      <th>TV</th>\n",
              "      <td>1.000000</td>\n",
              "      <td>0.047479</td>\n",
              "      <td>0.041693</td>\n",
              "      <td>0.788695</td>\n",
              "    </tr>\n",
              "    <tr>\n",
              "      <th>radio</th>\n",
              "      <td>0.047479</td>\n",
              "      <td>1.000000</td>\n",
              "      <td>0.291462</td>\n",
              "      <td>0.570964</td>\n",
              "    </tr>\n",
              "    <tr>\n",
              "      <th>newspaper</th>\n",
              "      <td>0.041693</td>\n",
              "      <td>0.291462</td>\n",
              "      <td>1.000000</td>\n",
              "      <td>0.198977</td>\n",
              "    </tr>\n",
              "    <tr>\n",
              "      <th>sales</th>\n",
              "      <td>0.788695</td>\n",
              "      <td>0.570964</td>\n",
              "      <td>0.198977</td>\n",
              "      <td>1.000000</td>\n",
              "    </tr>\n",
              "  </tbody>\n",
              "</table>\n",
              "</div>\n",
              "      <button class=\"colab-df-convert\" onclick=\"convertToInteractive('df-d311d9a1-1230-4111-8430-1bea004022a3')\"\n",
              "              title=\"Convert this dataframe to an interactive table.\"\n",
              "              style=\"display:none;\">\n",
              "        \n",
              "  <svg xmlns=\"http://www.w3.org/2000/svg\" height=\"24px\"viewBox=\"0 0 24 24\"\n",
              "       width=\"24px\">\n",
              "    <path d=\"M0 0h24v24H0V0z\" fill=\"none\"/>\n",
              "    <path d=\"M18.56 5.44l.94 2.06.94-2.06 2.06-.94-2.06-.94-.94-2.06-.94 2.06-2.06.94zm-11 1L8.5 8.5l.94-2.06 2.06-.94-2.06-.94L8.5 2.5l-.94 2.06-2.06.94zm10 10l.94 2.06.94-2.06 2.06-.94-2.06-.94-.94-2.06-.94 2.06-2.06.94z\"/><path d=\"M17.41 7.96l-1.37-1.37c-.4-.4-.92-.59-1.43-.59-.52 0-1.04.2-1.43.59L10.3 9.45l-7.72 7.72c-.78.78-.78 2.05 0 2.83L4 21.41c.39.39.9.59 1.41.59.51 0 1.02-.2 1.41-.59l7.78-7.78 2.81-2.81c.8-.78.8-2.07 0-2.86zM5.41 20L4 18.59l7.72-7.72 1.47 1.35L5.41 20z\"/>\n",
              "  </svg>\n",
              "      </button>\n",
              "      \n",
              "  <style>\n",
              "    .colab-df-container {\n",
              "      display:flex;\n",
              "      flex-wrap:wrap;\n",
              "      gap: 12px;\n",
              "    }\n",
              "\n",
              "    .colab-df-convert {\n",
              "      background-color: #E8F0FE;\n",
              "      border: none;\n",
              "      border-radius: 50%;\n",
              "      cursor: pointer;\n",
              "      display: none;\n",
              "      fill: #1967D2;\n",
              "      height: 32px;\n",
              "      padding: 0 0 0 0;\n",
              "      width: 32px;\n",
              "    }\n",
              "\n",
              "    .colab-df-convert:hover {\n",
              "      background-color: #E2EBFA;\n",
              "      box-shadow: 0px 1px 2px rgba(60, 64, 67, 0.3), 0px 1px 3px 1px rgba(60, 64, 67, 0.15);\n",
              "      fill: #174EA6;\n",
              "    }\n",
              "\n",
              "    [theme=dark] .colab-df-convert {\n",
              "      background-color: #3B4455;\n",
              "      fill: #D2E3FC;\n",
              "    }\n",
              "\n",
              "    [theme=dark] .colab-df-convert:hover {\n",
              "      background-color: #434B5C;\n",
              "      box-shadow: 0px 1px 3px 1px rgba(0, 0, 0, 0.15);\n",
              "      filter: drop-shadow(0px 1px 2px rgba(0, 0, 0, 0.3));\n",
              "      fill: #FFFFFF;\n",
              "    }\n",
              "  </style>\n",
              "\n",
              "      <script>\n",
              "        const buttonEl =\n",
              "          document.querySelector('#df-d311d9a1-1230-4111-8430-1bea004022a3 button.colab-df-convert');\n",
              "        buttonEl.style.display =\n",
              "          google.colab.kernel.accessAllowed ? 'block' : 'none';\n",
              "\n",
              "        async function convertToInteractive(key) {\n",
              "          const element = document.querySelector('#df-d311d9a1-1230-4111-8430-1bea004022a3');\n",
              "          const dataTable =\n",
              "            await google.colab.kernel.invokeFunction('convertToInteractive',\n",
              "                                                     [key], {});\n",
              "          if (!dataTable) return;\n",
              "\n",
              "          const docLinkHtml = 'Like what you see? Visit the ' +\n",
              "            '<a target=\"_blank\" href=https://colab.research.google.com/notebooks/data_table.ipynb>data table notebook</a>'\n",
              "            + ' to learn more about interactive tables.';\n",
              "          element.innerHTML = '';\n",
              "          dataTable['output_type'] = 'display_data';\n",
              "          await google.colab.output.renderOutput(dataTable, element);\n",
              "          const docLink = document.createElement('div');\n",
              "          docLink.innerHTML = docLinkHtml;\n",
              "          element.appendChild(docLink);\n",
              "        }\n",
              "      </script>\n",
              "    </div>\n",
              "  </div>\n",
              "  "
            ]
          },
          "metadata": {},
          "execution_count": 36
        }
      ]
    },
    {
      "cell_type": "code",
      "source": [
        "import seaborn as sns\n",
        "plt.figure(figsize=(15,7))\n",
        "sns.heatmap(df.corr(),cmap=\"Blues\",annot=True)"
      ],
      "metadata": {
        "colab": {
          "base_uri": "https://localhost:8080/",
          "height": 450
        },
        "id": "xy6DR2G8uk3I",
        "outputId": "7684c594-ef93-4e2a-9186-58f1a6934a93"
      },
      "execution_count": 37,
      "outputs": [
        {
          "output_type": "execute_result",
          "data": {
            "text/plain": [
              "<matplotlib.axes._subplots.AxesSubplot at 0x7f580656b8d0>"
            ]
          },
          "metadata": {},
          "execution_count": 37
        },
        {
          "output_type": "display_data",
          "data": {
            "text/plain": [
              "<Figure size 1080x504 with 2 Axes>"
            ],
            "image/png": "[encoded data removed]"
          },
          "metadata": {
            "needs_background": "light"
          }
        }
      ]
    },
    {
      "cell_type": "code",
      "source": [
        "# independent Column\n",
        "x=df.iloc[:,:-1]\n",
        "# target\n",
        "y=df.iloc[:,-1]"
      ],
      "metadata": {
        "id": "68PoHOI5u7ow"
      },
      "execution_count": 39,
      "outputs": []
    },
    {
      "cell_type": "code",
      "source": [
        "x"
      ],
      "metadata": {
        "colab": {
          "base_uri": "https://localhost:8080/",
          "height": 423
        },
        "id": "-EhvPzeAvApA",
        "outputId": "83d2b0e1-03c9-4a3c-b1f4-9fbeace2fe2d"
      },
      "execution_count": 40,
      "outputs": [
        {
          "output_type": "execute_result",
          "data": {
            "text/plain": [
              "           TV     radio  newspaper\n",
              "0    0.948674  0.962247   1.514335\n",
              "1   -1.191314  1.040179   0.787683\n",
              "2   -1.647757  1.370710   1.516998\n",
              "3    0.141020  1.142387   1.214656\n",
              "4    0.452715 -0.748651   1.211704\n",
              "..        ...       ...        ...\n",
              "195 -1.287908 -1.431436  -0.682576\n",
              "196 -0.520949 -1.297017  -1.142011\n",
              "197  0.413091 -0.875492  -1.313050\n",
              "198  1.455843  1.177722   1.433350\n",
              "199  0.968161 -0.937083  -1.086425\n",
              "\n",
              "[200 rows x 3 columns]"
            ],
            "text/html": [
              "\n",
              "  <div id=\"df-092815bb-4fbd-4aa4-bf17-eb476a091a77\">\n",
              "    <div class=\"colab-df-container\">\n",
              "      <div>\n",
              "<style scoped>\n",
              "    .dataframe tbody tr th:only-of-type {\n",
              "        vertical-align: middle;\n",
              "    }\n",
              "\n",
              "    .dataframe tbody tr th {\n",
              "        vertical-align: top;\n",
              "    }\n",
              "\n",
              "    .dataframe thead th {\n",
              "        text-align: right;\n",
              "    }\n",
              "</style>\n",
              "<table border=\"1\" class=\"dataframe\">\n",
              "  <thead>\n",
              "    <tr style=\"text-align: right;\">\n",
              "      <th></th>\n",
              "      <th>TV</th>\n",
              "      <th>radio</th>\n",
              "      <th>newspaper</th>\n",
              "    </tr>\n",
              "  </thead>\n",
              "  <tbody>\n",
              "    <tr>\n",
              "      <th>0</th>\n",
              "      <td>0.948674</td>\n",
              "      <td>0.962247</td>\n",
              "      <td>1.514335</td>\n",
              "    </tr>\n",
              "    <tr>\n",
              "      <th>1</th>\n",
              "      <td>-1.191314</td>\n",
              "      <td>1.040179</td>\n",
              "      <td>0.787683</td>\n",
              "    </tr>\n",
              "    <tr>\n",
              "      <th>2</th>\n",
              "      <td>-1.647757</td>\n",
              "      <td>1.370710</td>\n",
              "      <td>1.516998</td>\n",
              "    </tr>\n",
              "    <tr>\n",
              "      <th>3</th>\n",
              "      <td>0.141020</td>\n",
              "      <td>1.142387</td>\n",
              "      <td>1.214656</td>\n",
              "    </tr>\n",
              "    <tr>\n",
              "      <th>4</th>\n",
              "      <td>0.452715</td>\n",
              "      <td>-0.748651</td>\n",
              "      <td>1.211704</td>\n",
              "    </tr>\n",
              "    <tr>\n",
              "      <th>...</th>\n",
              "      <td>...</td>\n",
              "      <td>...</td>\n",
              "      <td>...</td>\n",
              "    </tr>\n",
              "    <tr>\n",
              "      <th>195</th>\n",
              "      <td>-1.287908</td>\n",
              "      <td>-1.431436</td>\n",
              "      <td>-0.682576</td>\n",
              "    </tr>\n",
              "    <tr>\n",
              "      <th>196</th>\n",
              "      <td>-0.520949</td>\n",
              "      <td>-1.297017</td>\n",
              "      <td>-1.142011</td>\n",
              "    </tr>\n",
              "    <tr>\n",
              "      <th>197</th>\n",
              "      <td>0.413091</td>\n",
              "      <td>-0.875492</td>\n",
              "      <td>-1.313050</td>\n",
              "    </tr>\n",
              "    <tr>\n",
              "      <th>198</th>\n",
              "      <td>1.455843</td>\n",
              "      <td>1.177722</td>\n",
              "      <td>1.433350</td>\n",
              "    </tr>\n",
              "    <tr>\n",
              "      <th>199</th>\n",
              "      <td>0.968161</td>\n",
              "      <td>-0.937083</td>\n",
              "      <td>-1.086425</td>\n",
              "    </tr>\n",
              "  </tbody>\n",
              "</table>\n",
              "<p>200 rows × 3 columns</p>\n",
              "</div>\n",
              "      <button class=\"colab-df-convert\" onclick=\"convertToInteractive('df-092815bb-4fbd-4aa4-bf17-eb476a091a77')\"\n",
              "              title=\"Convert this dataframe to an interactive table.\"\n",
              "              style=\"display:none;\">\n",
              "        \n",
              "  <svg xmlns=\"http://www.w3.org/2000/svg\" height=\"24px\"viewBox=\"0 0 24 24\"\n",
              "       width=\"24px\">\n",
              "    <path d=\"M0 0h24v24H0V0z\" fill=\"none\"/>\n",
              "    <path d=\"M18.56 5.44l.94 2.06.94-2.06 2.06-.94-2.06-.94-.94-2.06-.94 2.06-2.06.94zm-11 1L8.5 8.5l.94-2.06 2.06-.94-2.06-.94L8.5 2.5l-.94 2.06-2.06.94zm10 10l.94 2.06.94-2.06 2.06-.94-2.06-.94-.94-2.06-.94 2.06-2.06.94z\"/><path d=\"M17.41 7.96l-1.37-1.37c-.4-.4-.92-.59-1.43-.59-.52 0-1.04.2-1.43.59L10.3 9.45l-7.72 7.72c-.78.78-.78 2.05 0 2.83L4 21.41c.39.39.9.59 1.41.59.51 0 1.02-.2 1.41-.59l7.78-7.78 2.81-2.81c.8-.78.8-2.07 0-2.86zM5.41 20L4 18.59l7.72-7.72 1.47 1.35L5.41 20z\"/>\n",
              "  </svg>\n",
              "      </button>\n",
              "      \n",
              "  <style>\n",
              "    .colab-df-container {\n",
              "      display:flex;\n",
              "      flex-wrap:wrap;\n",
              "      gap: 12px;\n",
              "    }\n",
              "\n",
              "    .colab-df-convert {\n",
              "      background-color: #E8F0FE;\n",
              "      border: none;\n",
              "      border-radius: 50%;\n",
              "      cursor: pointer;\n",
              "      display: none;\n",
              "      fill: #1967D2;\n",
              "      height: 32px;\n",
              "      padding: 0 0 0 0;\n",
              "      width: 32px;\n",
              "    }\n",
              "\n",
              "    .colab-df-convert:hover {\n",
              "      background-color: #E2EBFA;\n",
              "      box-shadow: 0px 1px 2px rgba(60, 64, 67, 0.3), 0px 1px 3px 1px rgba(60, 64, 67, 0.15);\n",
              "      fill: #174EA6;\n",
              "    }\n",
              "\n",
              "    [theme=dark] .colab-df-convert {\n",
              "      background-color: #3B4455;\n",
              "      fill: #D2E3FC;\n",
              "    }\n",
              "\n",
              "    [theme=dark] .colab-df-convert:hover {\n",
              "      background-color: #434B5C;\n",
              "      box-shadow: 0px 1px 3px 1px rgba(0, 0, 0, 0.15);\n",
              "      filter: drop-shadow(0px 1px 2px rgba(0, 0, 0, 0.3));\n",
              "      fill: #FFFFFF;\n",
              "    }\n",
              "  </style>\n",
              "\n",
              "      <script>\n",
              "        const buttonEl =\n",
              "          document.querySelector('#df-092815bb-4fbd-4aa4-bf17-eb476a091a77 button.colab-df-convert');\n",
              "        buttonEl.style.display =\n",
              "          google.colab.kernel.accessAllowed ? 'block' : 'none';\n",
              "\n",
              "        async function convertToInteractive(key) {\n",
              "          const element = document.querySelector('#df-092815bb-4fbd-4aa4-bf17-eb476a091a77');\n",
              "          const dataTable =\n",
              "            await google.colab.kernel.invokeFunction('convertToInteractive',\n",
              "                                                     [key], {});\n",
              "          if (!dataTable) return;\n",
              "\n",
              "          const docLinkHtml = 'Like what you see? Visit the ' +\n",
              "            '<a target=\"_blank\" href=https://colab.research.google.com/notebooks/data_table.ipynb>data table notebook</a>'\n",
              "            + ' to learn more about interactive tables.';\n",
              "          element.innerHTML = '';\n",
              "          dataTable['output_type'] = 'display_data';\n",
              "          await google.colab.output.renderOutput(dataTable, element);\n",
              "          const docLink = document.createElement('div');\n",
              "          docLink.innerHTML = docLinkHtml;\n",
              "          element.appendChild(docLink);\n",
              "        }\n",
              "      </script>\n",
              "    </div>\n",
              "  </div>\n",
              "  "
            ]
          },
          "metadata": {},
          "execution_count": 40
        }
      ]
    },
    {
      "cell_type": "code",
      "source": [
        "y"
      ],
      "metadata": {
        "colab": {
          "base_uri": "https://localhost:8080/"
        },
        "id": "ZI6Qrh2kvKD_",
        "outputId": "525baf69-85a6-4b43-e36c-e62bf00fbf44"
      },
      "execution_count": 41,
      "outputs": [
        {
          "output_type": "execute_result",
          "data": {
            "text/plain": [
              "0      22.1\n",
              "1      10.4\n",
              "2       9.3\n",
              "3      18.5\n",
              "4      12.9\n",
              "       ... \n",
              "195     7.6\n",
              "196     9.7\n",
              "197    12.8\n",
              "198    25.5\n",
              "199    13.4\n",
              "Name: sales, Length: 200, dtype: float64"
            ]
          },
          "metadata": {},
          "execution_count": 41
        }
      ]
    },
    {
      "cell_type": "code",
      "source": [
        "def vif_calc():\n",
        "  vif=pd.DataFrame()\n",
        "  vif[\"VIF Factor\"]=[variance_inflation_factor(x.values,i) for i in range(x.shape[1])]\n",
        "  vif[\"features\"]=x.columns\n",
        "  print(vif)"
      ],
      "metadata": {
        "id": "OkITfLTEvKsv"
      },
      "execution_count": 42,
      "outputs": []
    },
    {
      "cell_type": "code",
      "source": [
        "vif_calc()"
      ],
      "metadata": {
        "colab": {
          "base_uri": "https://localhost:8080/"
        },
        "id": "c2FbgmzLvNmg",
        "outputId": "8ee5bfe9-8a34-424a-da8a-e7f08a3f9637"
      },
      "execution_count": 43,
      "outputs": [
        {
          "output_type": "stream",
          "name": "stdout",
          "text": [
            "   VIF Factor   features\n",
            "0    1.003112         TV\n",
            "1    1.094332      radio\n",
            "2    1.093766  newspaper\n"
          ]
        }
      ]
    },
    {
      "cell_type": "markdown",
      "source": [
        "We can see taht there in no variance inflation in the Dataset"
      ],
      "metadata": {
        "id": "MhrrPK5yvUSI"
      }
    },
    {
      "cell_type": "markdown",
      "source": [
        "# Scaling the Data"
      ],
      "metadata": {
        "id": "P4pah0HXvcDc"
      }
    },
    {
      "cell_type": "code",
      "source": [
        "from sklearn.preprocessing import StandardScaler\n",
        "sc=StandardScaler()\n",
        "x=sc.fit_transform(x)\n",
        "x"
      ],
      "metadata": {
        "colab": {
          "base_uri": "https://localhost:8080/"
        },
        "id": "MavT_dAXvP8Y",
        "outputId": "0e789f13-12e9-446d-9e30-30262aa11364"
      },
      "execution_count": 44,
      "outputs": [
        {
          "output_type": "execute_result",
          "data": {
            "text/plain": [
              "array([[ 0.94867429,  0.96224689,  1.51433531],\n",
              "       [-1.19131426,  1.0401788 ,  0.78768252],\n",
              "       [-1.6477566 ,  1.37070964,  1.51699753],\n",
              "       [ 0.14102023,  1.14238689,  1.21465643],\n",
              "       [ 0.45271493, -0.74865064,  1.21170398],\n",
              "       [-1.82382233,  1.51501853,  1.66502354],\n",
              "       [-1.00249116,  0.69372704, -0.1077535 ],\n",
              "       [-0.210275  , -0.10158544, -0.84409341],\n",
              "       [-1.82609501, -1.63345378, -2.13259669],\n",
              "       [ 0.64764492, -1.56676988, -0.22900395],\n",
              "       [-0.88377378, -1.20298758, -0.07226156],\n",
              "       [ 0.79708355,  0.18072579, -1.60261898],\n",
              "       [-1.52641627,  0.81900563,  1.42512925],\n",
              "       [-0.48036844, -1.02813642, -1.22982506],\n",
              "       [ 0.69106577,  0.6992403 ,  0.81860579],\n",
              "       [ 0.60295713,  1.45770359,  1.04432344],\n",
              "       [-0.86079972,  0.89906999,  2.52943514],\n",
              "       [ 1.4355201 ,  1.05563142,  1.13383286],\n",
              "       [-0.84199328, -0.04209908, -0.39356015],\n",
              "       [ 0.09508551,  0.17453165, -0.34671544],\n",
              "       [ 0.8337607 ,  0.40367061,  1.05996548],\n",
              "       [ 1.01958629, -1.27567304, -0.1077535 ],\n",
              "       [-1.72701642, -0.35739289,  0.93875739],\n",
              "       [ 0.93109798, -0.28631129,  0.02589311],\n",
              "       [-0.93569772, -0.60431061, -0.39356015],\n",
              "       [ 1.26290943, -1.4550585 , -0.3237259 ],\n",
              "       [ 0.04659013,  0.49664406, -0.76867281],\n",
              "       [ 1.0456669 , -0.30040383, -0.1386789 ],\n",
              "       [ 1.12918152,  0.3682981 , -0.1386789 ],\n",
              "       [-0.82328646, -0.35021379,  0.63452018],\n",
              "       [ 1.54129731,  0.43876195,  0.72114861],\n",
              "       [-0.29553337, -0.25134036,  0.55235877],\n",
              "       [-0.48404243, -1.71918898,  0.20071936],\n",
              "       [ 1.28829734, -0.07502706, -2.32472495],\n",
              "       [-0.50245749, -1.7342107 , -1.20981332],\n",
              "       [ 1.52114819, -1.3853128 , -1.10471076],\n",
              "       [ 1.3004967 ,  1.2675887 , -1.47330873],\n",
              "       [-0.76905257,  1.53874417,  0.80833914],\n",
              "       [-1.21245403,  0.34455612,  0.4155984 ],\n",
              "       [ 0.92816503,  0.95701091,  0.28742321],\n",
              "       [ 0.67493776,  0.07409584,  0.27034854],\n",
              "       [ 0.41309098,  0.72671408,  0.55615392],\n",
              "       [ 1.54769995,  0.40367061, -1.95904851],\n",
              "       [ 0.71920943, -0.95499286,  0.03545918],\n",
              "       [-1.50359538,  0.28462118,  0.72469411],\n",
              "       [ 0.39319467,  0.08679116,  0.26605961],\n",
              "       [-0.57689562, -0.82396106,  0.43960934],\n",
              "       [ 1.04373768,  1.15250515, -0.3817378 ],\n",
              "       [ 0.92033882, -0.36458821,  0.94852755],\n",
              "       [-0.87294338, -0.67550361,  0.48300508],\n",
              "       [ 0.64764492, -1.50354208,  0.3953996 ],\n",
              "       [-0.44500506, -0.84958728, -1.65883577],\n",
              "       [ 0.81395585,  1.16260524,  0.59004665],\n",
              "       [ 0.47140703,  1.38529598,  1.22055211],\n",
              "       [ 1.2610261 ,  0.46779569, -0.54176985],\n",
              "       [ 0.63852563,  1.53874417,  1.25857888],\n",
              "       [-1.85624738,  0.42709558,  0.65646046],\n",
              "       [-0.02802214, -0.12834141, -0.49726342],\n",
              "       [ 0.75824197,  1.54820925,  0.51793191],\n",
              "       [ 0.75724354,  0.50813245, -1.03293213],\n",
              "       [-1.05927427, -1.64727037, -0.21815975],\n",
              "       [ 1.24783212,  1.21283741,  1.10022212],\n",
              "       [ 1.03794746, -0.38627294,  0.07797929],\n",
              "       [-0.41714955,  0.51386586, -1.11394312],\n",
              "       [-0.08546826,  1.21783637,  0.15154706],\n",
              "       [-0.84467375, -0.87549189, -2.1571572 ],\n",
              "       [-1.39531449,  0.21769395, -1.88378271],\n",
              "       [ 0.0066178 , -0.45966823, -0.95619942],\n",
              "       [ 1.01958629,  0.39191142, -0.8911416 ],\n",
              "       [ 0.81792069,  1.2725405 ,  0.07329661],\n",
              "       [ 0.64055308,  0.5708121 ,  0.55615392],\n",
              "       [-0.3321763 , -0.4745618 ,  0.27462933],\n",
              "       [-1.47420382,  0.70474737, -0.33518557],\n",
              "       [-0.10474749, -1.21318999,  0.25745713],\n",
              "       [ 0.7841573 ,  0.21769395, -0.73224866],\n",
              "       [-1.65352738,  1.26263268,  2.01064695],\n",
              "       [-1.46224158, -1.70439494, -0.25638211],\n",
              "       [-0.20680098,  0.45039797, -0.65484297],\n",
              "       [-1.90271957,  0.53102334, -1.02420602],\n",
              "       [-0.25915513, -1.01885558, -0.1283175 ],\n",
              "       [-0.74679627,  0.34455612, -0.17008941],\n",
              "       [ 1.04277291, -1.3853128 ,  0.48691113],\n",
              "       [-0.76118235, -0.05523482,  0.30858709],\n",
              "       [-0.85272745,  1.30216339,  0.43562451],\n",
              "       [ 0.78515237,  1.22782124,  0.36271243],\n",
              "       [ 0.58051341, -0.1824681 ,  1.41963599],\n",
              "       [-0.74810183,  0.39191142, -0.53534269],\n",
              "       [-0.32151022,  1.10682827,  1.35009138],\n",
              "       [-0.59445094,  0.27253204,  1.62418784],\n",
              "       [-0.3321763 ,  1.46250027,  0.99685054],\n",
              "       [-0.04935604, -1.29701657, -1.03293213],\n",
              "       [-1.44360046, -1.71918898,  0.32955606],\n",
              "       [ 0.8268345 ,  0.7321905 ,  1.22937273],\n",
              "       [ 1.14922339,  0.89377076,  1.59579653],\n",
              "       [-0.36073275, -0.49704225, -0.89912378],\n",
              "       [ 0.26831445,  0.62707446,  1.04432344],\n",
              "       [ 0.62533398, -1.4550585 , -1.3679351 ],\n",
              "       [ 0.49522053, -0.00946213, -0.18598289],\n",
              "       [ 1.51197614,  1.19279775,  0.99045745],\n",
              "       [-0.03924063,  1.16260524,  0.8151881 ],\n",
              "       [ 0.87322688, -1.36277082,  0.94527481],\n",
              "       [ 1.57327016,  0.88315609,  2.2628248 ],\n",
              "       [ 1.42441703, -0.80702634, -0.21815975],\n",
              "       [ 0.52616407, -0.26528466, -0.41743473],\n",
              "       [ 1.02732204,  0.77578583, -1.4371576 ],\n",
              "       [-0.00900053,  1.39500055,  1.22937273],\n",
              "       [-1.50533991, -0.73221674,  0.18741746],\n",
              "       [-0.56814506, -1.91962741, -0.12315678],\n",
              "       [-1.72906885, -1.90076688, -0.00306944],\n",
              "       [ 1.19202117,  0.35644335, -1.41364623],\n",
              "       [ 0.90662534, -0.97304835,  1.15501188],\n",
              "       [ 1.06108536,  0.97270342, -0.12315678],\n",
              "       [ 0.39948386, -0.39353456, -1.84832983],\n",
              "       [ 0.74625251, -0.0355487 , -0.91521378],\n",
              "       [-0.72337219,  1.41436293,  0.39133878],\n",
              "       [-0.76380392,  0.81362329,  1.03804144],\n",
              "       [ 0.00550359, -0.4745618 , -0.00306944],\n",
              "       [-0.74679627, -1.82997283, -0.6140794 ],\n",
              "       [-0.1469415 ,  0.91493549,  1.76974284],\n",
              "       [-1.60617806, -0.35021379, -0.17008941],\n",
              "       [ 0.02885793,  0.35050382,  0.82542768],\n",
              "       [-1.61739376,  0.0357579 ,  0.96473213],\n",
              "       [ 0.88896054, -1.59299019, -0.56119394],\n",
              "       [-0.17678774,  0.79203663, -0.78347482],\n",
              "       [ 0.94281959,  0.66606674,  1.64467302],\n",
              "       [-0.60829585, -0.66750027,  0.01146189],\n",
              "       [-1.84451116,  1.01950683,  0.9711866 ],\n",
              "       [-0.69751107, -1.9798635 , -1.04171092],\n",
              "       [ 0.85253082,  1.51977089, -1.71817136],\n",
              "       [-0.9730961 , -0.65156482,  0.71759813],\n",
              "       [-2.04026249,  1.05563142, -1.08642518],\n",
              "       [ 1.2845405 , -1.52845902,  0.71404265],\n",
              "       [-1.83065941,  0.37421339, -1.90202575],\n",
              "       [ 0.84759549,  0.7321905 ,  0.78768252],\n",
              "       [-1.30833884,  1.0039509 ,  1.41688552],\n",
              "       [-1.1347862 ,  1.42402092, -1.10471076],\n",
              "       [-1.49489926,  1.02468221, -1.03293213],\n",
              "       [ 1.36405418,  0.47358005,  1.2498484 ],\n",
              "       [-1.2139708 ,  0.2966758 , -0.26744284],\n",
              "       [ 0.49522053,  1.2725405 , -1.97889407],\n",
              "       [-0.78616198, -0.27928757, -0.74672069],\n",
              "       [ 0.58562018,  0.83511859,  1.68019945],\n",
              "       [ 0.85450412,  0.71574298,  0.52562487],\n",
              "       [-0.39426242, -1.21318999,  0.38727085],\n",
              "       [-0.49631074, -0.43746469,  0.56372647],\n",
              "       [ 0.01774834, -1.66126392, -1.05942991],\n",
              "       [ 1.0456669 , -1.05622936, -1.08642518],\n",
              "       [ 1.07551559,  1.51977089,  0.75987942],\n",
              "       [-1.29103896,  1.09151903, -0.82108927],\n",
              "       [-1.18830853,  0.29065278, -0.26190454],\n",
              "       [ 1.42904484, -0.50457379,  0.49081078],\n",
              "       [-0.20101603, -0.95499286,  0.90922967],\n",
              "       [ 0.62533398,  0.13716541, -0.65484297],\n",
              "       [ 0.35322947,  1.0607726 ,  0.51793191],\n",
              "       [ 0.52513474, -0.00296885, -1.01553176],\n",
              "       [-1.93665721, -0.68353104, -1.39057916],\n",
              "       [-0.52465633,  1.25270792,  0.96796131],\n",
              "       [ 0.12246872, -1.74947332, -0.06724139],\n",
              "       [-1.75822712,  0.91493549,  0.79113681],\n",
              "       [-0.07867963, -0.1824681 ,  0.3953996 ],\n",
              "       [ 0.36587519, -0.20298441,  0.23144984],\n",
              "       [-0.62724967,  0.85652391,  0.92895126],\n",
              "       [ 0.53130856, -0.20298441, -0.00306944],\n",
              "       [ 0.27045056,  0.90965233, -1.20981332],\n",
              "       [-0.24514238, -0.44484785, -1.42534498],\n",
              "       [ 0.99148599, -1.46701964,  1.90420913],\n",
              "       [-1.63438885,  0.95176976, -0.20737541],\n",
              "       [ 0.71820605, -1.26510158, -0.32944703],\n",
              "       [ 0.80403524,  0.15589202,  1.18797267],\n",
              "       [ 1.46230082, -0.76519122, -1.31304986],\n",
              "       [-1.10987617, -0.68353104, -0.38763953],\n",
              "       [ 0.28112073, -0.01596668,  0.86598739],\n",
              "       [-1.60245911, -0.06841773, -0.47232241],\n",
              "       [ 0.32257166, -1.07517365, -0.75400514],\n",
              "       [ 0.87322688, -1.46701964, -0.73224866],\n",
              "       [ 1.39381826,  1.51501853,  0.67098058],\n",
              "       [ 1.12535894,  0.54811736, -0.27856754],\n",
              "       [ 0.34161695, -1.00961537,  0.41961731],\n",
              "       [ 1.39196069, -1.60632069, -0.09754949],\n",
              "       [ 0.29283811, -0.81547901, -0.43554699],\n",
              "       [ 0.19634785, -1.56676988, -1.12323656],\n",
              "       [ 0.83474968, -1.2441519 ,  0.08265171],\n",
              "       [-1.02082882, -1.21318999,  0.18741746],\n",
              "       [ 1.49268741,  1.22782124,  1.58280405],\n",
              "       [ 1.17682728,  0.00998415,  0.20071936],\n",
              "       [ 0.70012304,  1.33163754, -0.31802204],\n",
              "       [ 0.0088456 , -1.63345378,  0.04498207],\n",
              "       [ 0.55902662,  0.46200391, -0.39949982],\n",
              "       [ 1.47796614, -0.50457379, -1.64450612],\n",
              "       [-1.61927178, -0.64363221, -0.11287487],\n",
              "       [-1.267656  ,  1.13225036, -1.37920552],\n",
              "       [-0.75856261, -0.74865064, -1.35676548],\n",
              "       [-1.6477566 , -1.3853128 ,  0.27034854],\n",
              "       [ 0.30559723,  1.1777216 , -1.65883577],\n",
              "       [ 0.12137572,  0.84583242, -1.35676548],\n",
              "       [-1.28790757, -1.43143631, -0.68257581],\n",
              "       [-0.52094879, -1.29701657, -1.14201102],\n",
              "       [ 0.41309098, -0.87549189, -1.31304986],\n",
              "       [ 1.45584317,  1.1777216 ,  1.43335009],\n",
              "       [ 0.96816082, -0.93708342, -1.08642518]])"
            ]
          },
          "metadata": {},
          "execution_count": 44
        }
      ]
    },
    {
      "cell_type": "markdown",
      "source": [
        "# As the Outcome is Price Value which is in Float So we use Linear Regression Model"
      ],
      "metadata": {
        "id": "IZojRBlKvvnm"
      }
    },
    {
      "cell_type": "code",
      "source": [
        "from sklearn.linear_model import LinearRegression\n",
        "from sklearn.model_selection import train_test_split\n",
        "from sklearn.metrics import mean_absolute_error,mean_squared_error\n",
        "from sklearn.metrics import r2_score\n",
        "\n",
        "\n",
        "for i in range(1,100):\n",
        "  x_train,x_test,y_train,y_test=train_test_split(x,y,test_size=.20,random_state=i)\n",
        "  lr=LinearRegression()\n",
        "  lr.fit(x_train,y_train)\n",
        "  pred_train=lr.predict(x_train)\n",
        "  pred_test=lr.predict(x_test)\n",
        "  print(f\"At random state {i},the training accuracy is :- {r2_score(y_train,pred_train)*100}\")\n",
        "  print(f\"At random state {i},the testing accuracy is :- {r2_score(y_test,pred_test)*100}\")\n",
        "  print(\"\\n\")"
      ],
      "metadata": {
        "colab": {
          "base_uri": "https://localhost:8080/"
        },
        "id": "xcmjoKVSvlM4",
        "outputId": "0727fe1a-aa18-4727-944d-e3c5fd44ef5a"
      },
      "execution_count": 45,
      "outputs": [
        {
          "output_type": "stream",
          "name": "stdout",
          "text": [
            "At random state 1,the training accuracy is :- 90.71938747219684\n",
            "At random state 1,the testing accuracy is :- 89.62223515318661\n",
            "\n",
            "\n",
            "At random state 2,the training accuracy is :- 91.83341288802332\n",
            "At random state 2,the testing accuracy is :- 81.34661880809733\n",
            "\n",
            "\n",
            "At random state 3,the training accuracy is :- 90.44922374546076\n",
            "At random state 3,the testing accuracy is :- 91.76823268482114\n",
            "\n",
            "\n",
            "At random state 4,the training accuracy is :- 90.58334490016561\n",
            "At random state 4,the testing accuracy is :- 89.99332568068064\n",
            "\n",
            "\n",
            "At random state 5,the training accuracy is :- 90.57996837685972\n",
            "At random state 5,the testing accuracy is :- 91.11155103873196\n",
            "\n",
            "\n",
            "At random state 6,the training accuracy is :- 90.31637800959938\n",
            "At random state 6,the testing accuracy is :- 92.63228920019166\n",
            "\n",
            "\n",
            "At random state 7,the training accuracy is :- 90.24328978288426\n",
            "At random state 7,the testing accuracy is :- 92.29594391045336\n",
            "\n",
            "\n",
            "At random state 8,the training accuracy is :- 91.61168555487973\n",
            "At random state 8,the testing accuracy is :- 86.78974095570129\n",
            "\n",
            "\n",
            "At random state 9,the training accuracy is :- 90.09624466452009\n",
            "At random state 9,the testing accuracy is :- 93.18076821551766\n",
            "\n",
            "\n",
            "At random state 10,the training accuracy is :- 92.28846311393283\n",
            "At random state 10,the testing accuracy is :- 86.57541622711325\n",
            "\n",
            "\n",
            "At random state 11,the training accuracy is :- 91.33524709379977\n",
            "At random state 11,the testing accuracy is :- 88.03200845985657\n",
            "\n",
            "\n",
            "At random state 12,the training accuracy is :- 90.2936158022683\n",
            "At random state 12,the testing accuracy is :- 91.94470983657712\n",
            "\n",
            "\n",
            "At random state 13,the training accuracy is :- 89.76805428874329\n",
            "At random state 13,the testing accuracy is :- 93.9589889787954\n",
            "\n",
            "\n",
            "At random state 14,the training accuracy is :- 91.23609625961204\n",
            "At random state 14,the testing accuracy is :- 88.55915841915028\n",
            "\n",
            "\n",
            "At random state 15,the training accuracy is :- 91.05627140433175\n",
            "At random state 15,the testing accuracy is :- 89.2749299033213\n",
            "\n",
            "\n",
            "At random state 16,the training accuracy is :- 90.07165527505835\n",
            "At random state 16,the testing accuracy is :- 93.94773289601729\n",
            "\n",
            "\n",
            "At random state 17,the training accuracy is :- 91.42812695219607\n",
            "At random state 17,the testing accuracy is :- 87.04482295852985\n",
            "\n",
            "\n",
            "At random state 18,the training accuracy is :- 91.4422622247835\n",
            "At random state 18,the testing accuracy is :- 88.52485991092028\n",
            "\n",
            "\n",
            "At random state 19,the training accuracy is :- 90.91652752339459\n",
            "At random state 19,the testing accuracy is :- 88.99047479311963\n",
            "\n",
            "\n",
            "At random state 20,the training accuracy is :- 90.40548283088206\n",
            "At random state 20,the testing accuracy is :- 91.46141588810444\n",
            "\n",
            "\n",
            "At random state 21,the training accuracy is :- 90.55624003652625\n",
            "At random state 21,the testing accuracy is :- 90.82319224948718\n",
            "\n",
            "\n",
            "At random state 22,the training accuracy is :- 90.09738344986651\n",
            "At random state 22,the testing accuracy is :- 92.63830838963717\n",
            "\n",
            "\n",
            "At random state 23,the training accuracy is :- 90.51980620752518\n",
            "At random state 23,the testing accuracy is :- 91.2255042790337\n",
            "\n",
            "\n",
            "At random state 24,the training accuracy is :- 90.47131226879829\n",
            "At random state 24,the testing accuracy is :- 91.61946899635484\n",
            "\n",
            "\n",
            "At random state 25,the training accuracy is :- 91.08220375209233\n",
            "At random state 25,the testing accuracy is :- 88.64519771219054\n",
            "\n",
            "\n",
            "At random state 26,the training accuracy is :- 90.97254623523156\n",
            "At random state 26,the testing accuracy is :- 88.61223870939148\n",
            "\n",
            "\n",
            "At random state 27,the training accuracy is :- 90.61121337699268\n",
            "At random state 27,the testing accuracy is :- 91.24326285551334\n",
            "\n",
            "\n",
            "At random state 28,the training accuracy is :- 90.72975185732034\n",
            "At random state 28,the testing accuracy is :- 90.55189371310904\n",
            "\n",
            "\n",
            "At random state 29,the training accuracy is :- 90.19778705090933\n",
            "At random state 29,the testing accuracy is :- 91.77322552308233\n",
            "\n",
            "\n",
            "At random state 30,the training accuracy is :- 90.32029024339488\n",
            "At random state 30,the testing accuracy is :- 91.84029165462607\n",
            "\n",
            "\n",
            "At random state 31,the training accuracy is :- 90.11717960066744\n",
            "At random state 31,the testing accuracy is :- 92.03877988948184\n",
            "\n",
            "\n",
            "At random state 32,the training accuracy is :- 91.85058459448898\n",
            "At random state 32,the testing accuracy is :- 83.58992309579858\n",
            "\n",
            "\n",
            "At random state 33,the training accuracy is :- 91.05975424686962\n",
            "At random state 33,the testing accuracy is :- 88.03971236069516\n",
            "\n",
            "\n",
            "At random state 34,the training accuracy is :- 91.1792222488136\n",
            "At random state 34,the testing accuracy is :- 88.39111433962009\n",
            "\n",
            "\n",
            "At random state 35,the training accuracy is :- 91.70581141140548\n",
            "At random state 35,the testing accuracy is :- 84.20493162670037\n",
            "\n",
            "\n",
            "At random state 36,the training accuracy is :- 90.17665999083452\n",
            "At random state 36,the testing accuracy is :- 92.69013680745883\n",
            "\n",
            "\n",
            "At random state 37,the training accuracy is :- 91.1212290936598\n",
            "At random state 37,the testing accuracy is :- 88.84592002685253\n",
            "\n",
            "\n",
            "At random state 38,the training accuracy is :- 90.79162095332599\n",
            "At random state 38,the testing accuracy is :- 90.10698757344736\n",
            "\n",
            "\n",
            "At random state 39,the training accuracy is :- 91.39340857893717\n",
            "At random state 39,the testing accuracy is :- 86.9805273691302\n",
            "\n",
            "\n",
            "At random state 40,the training accuracy is :- 91.88570437425926\n",
            "At random state 40,the testing accuracy is :- 85.42245191528461\n",
            "\n",
            "\n",
            "At random state 41,the training accuracy is :- 91.02190502465965\n",
            "At random state 41,the testing accuracy is :- 89.37312995040838\n",
            "\n",
            "\n",
            "At random state 42,the training accuracy is :- 90.4963200589296\n",
            "At random state 42,the testing accuracy is :- 91.38021136866257\n",
            "\n",
            "\n",
            "At random state 43,the training accuracy is :- 90.04897083294492\n",
            "At random state 43,the testing accuracy is :- 93.2130151454902\n",
            "\n",
            "\n",
            "At random state 44,the training accuracy is :- 91.18487205867773\n",
            "At random state 44,the testing accuracy is :- 87.43918799320492\n",
            "\n",
            "\n",
            "At random state 45,the training accuracy is :- 90.57903571407299\n",
            "At random state 45,the testing accuracy is :- 90.87110254753443\n",
            "\n",
            "\n",
            "At random state 46,the training accuracy is :- 91.30511705521397\n",
            "At random state 46,the testing accuracy is :- 86.57040334330458\n",
            "\n",
            "\n",
            "At random state 47,the training accuracy is :- 90.78904275091112\n",
            "At random state 47,the testing accuracy is :- 90.05738151488634\n",
            "\n",
            "\n",
            "At random state 48,the training accuracy is :- 90.20955665822108\n",
            "At random state 48,the testing accuracy is :- 92.48092380313993\n",
            "\n",
            "\n",
            "At random state 49,the training accuracy is :- 92.13692965856144\n",
            "At random state 49,the testing accuracy is :- 84.31951938655837\n",
            "\n",
            "\n",
            "At random state 50,the training accuracy is :- 91.18285594538524\n",
            "At random state 50,the testing accuracy is :- 85.71529325285366\n",
            "\n",
            "\n",
            "At random state 51,the training accuracy is :- 90.61949092130422\n",
            "At random state 51,the testing accuracy is :- 90.45527475388691\n",
            "\n",
            "\n",
            "At random state 52,the training accuracy is :- 91.59688226033337\n",
            "At random state 52,the testing accuracy is :- 87.84644356620782\n",
            "\n",
            "\n",
            "At random state 53,the training accuracy is :- 89.89992099599323\n",
            "At random state 53,the testing accuracy is :- 93.6184115390699\n",
            "\n",
            "\n",
            "At random state 54,the training accuracy is :- 90.15581622607004\n",
            "At random state 54,the testing accuracy is :- 93.01797919444894\n",
            "\n",
            "\n",
            "At random state 55,the training accuracy is :- 90.3113522825293\n",
            "At random state 55,the testing accuracy is :- 92.15456769563856\n",
            "\n",
            "\n",
            "At random state 56,the training accuracy is :- 90.7903552480028\n",
            "At random state 56,the testing accuracy is :- 90.42263224424735\n",
            "\n",
            "\n",
            "At random state 57,the training accuracy is :- 89.5308788272214\n",
            "At random state 57,the testing accuracy is :- 94.31364424474637\n",
            "\n",
            "\n",
            "At random state 58,the training accuracy is :- 92.03168422350186\n",
            "At random state 58,the testing accuracy is :- 86.0650691822407\n",
            "\n",
            "\n",
            "At random state 59,the training accuracy is :- 90.38775993395896\n",
            "At random state 59,the testing accuracy is :- 91.87981301938703\n",
            "\n",
            "\n",
            "At random state 60,the training accuracy is :- 90.07891011576945\n",
            "At random state 60,the testing accuracy is :- 92.7606621267765\n",
            "\n",
            "\n",
            "At random state 61,the training accuracy is :- 90.95824787427897\n",
            "At random state 61,the testing accuracy is :- 88.96111045827058\n",
            "\n",
            "\n",
            "At random state 62,the training accuracy is :- 91.74896046611255\n",
            "At random state 62,the testing accuracy is :- 86.93195452162922\n",
            "\n",
            "\n",
            "At random state 63,the training accuracy is :- 90.41381449353588\n",
            "At random state 63,the testing accuracy is :- 92.21005536010267\n",
            "\n",
            "\n",
            "At random state 64,the training accuracy is :- 90.79142899545766\n",
            "At random state 64,the testing accuracy is :- 89.64084075107654\n",
            "\n",
            "\n",
            "At random state 65,the training accuracy is :- 90.43116058172039\n",
            "At random state 65,the testing accuracy is :- 91.8132356871056\n",
            "\n",
            "\n",
            "At random state 66,the training accuracy is :- 90.91938493251156\n",
            "At random state 66,the testing accuracy is :- 89.96390781190253\n",
            "\n",
            "\n",
            "At random state 67,the training accuracy is :- 91.11440876313132\n",
            "At random state 67,the testing accuracy is :- 88.75870015335046\n",
            "\n",
            "\n",
            "At random state 68,the training accuracy is :- 91.38243202034859\n",
            "At random state 68,the testing accuracy is :- 85.89891563312658\n",
            "\n",
            "\n",
            "At random state 69,the training accuracy is :- 90.14443993649188\n",
            "At random state 69,the testing accuracy is :- 91.85233771378266\n",
            "\n",
            "\n",
            "At random state 70,the training accuracy is :- 90.00269410692063\n",
            "At random state 70,the testing accuracy is :- 92.38416154690943\n",
            "\n",
            "\n",
            "At random state 71,the training accuracy is :- 91.85638639298016\n",
            "At random state 71,the testing accuracy is :- 86.26931959696404\n",
            "\n",
            "\n",
            "At random state 72,the training accuracy is :- 90.20381903522322\n",
            "At random state 72,the testing accuracy is :- 92.46687934200781\n",
            "\n",
            "\n",
            "At random state 73,the training accuracy is :- 91.37158777681897\n",
            "At random state 73,the testing accuracy is :- 87.38770721132306\n",
            "\n",
            "\n",
            "At random state 74,the training accuracy is :- 90.62392352374458\n",
            "At random state 74,the testing accuracy is :- 89.71155481778105\n",
            "\n",
            "\n",
            "At random state 75,the training accuracy is :- 90.43284575928459\n",
            "At random state 75,the testing accuracy is :- 91.87213130374418\n",
            "\n",
            "\n",
            "At random state 76,the training accuracy is :- 91.67003187657926\n",
            "At random state 76,the testing accuracy is :- 78.72310541726866\n",
            "\n",
            "\n",
            "At random state 77,the training accuracy is :- 90.08407055820994\n",
            "At random state 77,the testing accuracy is :- 92.95887069752791\n",
            "\n",
            "\n",
            "At random state 78,the training accuracy is :- 90.53283797064712\n",
            "At random state 78,the testing accuracy is :- 91.68981169463656\n",
            "\n",
            "\n",
            "At random state 79,the training accuracy is :- 90.61109164102092\n",
            "At random state 79,the testing accuracy is :- 90.04417088792037\n",
            "\n",
            "\n",
            "At random state 80,the training accuracy is :- 91.74194759885411\n",
            "At random state 80,the testing accuracy is :- 85.86454341647932\n",
            "\n",
            "\n",
            "At random state 81,the training accuracy is :- 90.77888550419523\n",
            "At random state 81,the testing accuracy is :- 90.14652379684625\n",
            "\n",
            "\n",
            "At random state 82,the training accuracy is :- 92.06782975894254\n",
            "At random state 82,the testing accuracy is :- 83.78836808675189\n",
            "\n",
            "\n",
            "At random state 83,the training accuracy is :- 89.58074123424984\n",
            "At random state 83,the testing accuracy is :- 94.28931586289615\n",
            "\n",
            "\n",
            "At random state 84,the training accuracy is :- 90.35460222335627\n",
            "At random state 84,the testing accuracy is :- 92.1234941532908\n",
            "\n",
            "\n",
            "At random state 85,the training accuracy is :- 91.2962692366928\n",
            "At random state 85,the testing accuracy is :- 88.19302530555693\n",
            "\n",
            "\n",
            "At random state 86,the training accuracy is :- 90.71291359485299\n",
            "At random state 86,the testing accuracy is :- 90.77013021276181\n",
            "\n",
            "\n",
            "At random state 87,the training accuracy is :- 91.36862395498544\n",
            "At random state 87,the testing accuracy is :- 82.91889959066567\n",
            "\n",
            "\n",
            "At random state 88,the training accuracy is :- 91.395033287003\n",
            "At random state 88,the testing accuracy is :- 87.50208458235947\n",
            "\n",
            "\n",
            "At random state 89,the training accuracy is :- 91.2119700527964\n",
            "At random state 89,the testing accuracy is :- 87.61149085676092\n",
            "\n",
            "\n",
            "At random state 90,the training accuracy is :- 91.1876601589196\n",
            "At random state 90,the testing accuracy is :- 87.43953914251712\n",
            "\n",
            "\n",
            "At random state 91,the training accuracy is :- 90.00719902630581\n",
            "At random state 91,the testing accuracy is :- 90.54991771558714\n",
            "\n",
            "\n",
            "At random state 92,the training accuracy is :- 89.81521525334043\n",
            "At random state 92,the testing accuracy is :- 93.40599933972584\n",
            "\n",
            "\n",
            "At random state 93,the training accuracy is :- 90.47647564829178\n",
            "At random state 93,the testing accuracy is :- 91.63923829199183\n",
            "\n",
            "\n",
            "At random state 94,the training accuracy is :- 91.58358853267463\n",
            "At random state 94,the testing accuracy is :- 87.74273999952187\n",
            "\n",
            "\n",
            "At random state 95,the training accuracy is :- 90.8762010746474\n",
            "At random state 95,the testing accuracy is :- 88.47191924397741\n",
            "\n",
            "\n",
            "At random state 96,the training accuracy is :- 91.24810864436\n",
            "At random state 96,the testing accuracy is :- 87.65165408243331\n",
            "\n",
            "\n",
            "At random state 97,the training accuracy is :- 90.03961187317151\n",
            "At random state 97,the testing accuracy is :- 92.29711156572431\n",
            "\n",
            "\n",
            "At random state 98,the training accuracy is :- 89.65618381654458\n",
            "At random state 98,the testing accuracy is :- 93.74842321940754\n",
            "\n",
            "\n",
            "At random state 99,the training accuracy is :- 90.11286161276885\n",
            "At random state 99,the testing accuracy is :- 92.89415808839094\n",
            "\n",
            "\n"
          ]
        }
      ]
    },
    {
      "cell_type": "code",
      "source": [
        "x_train,x_test,y_train,y_test=train_test_split(x,y,test_size=.20,random_state=54)"
      ],
      "metadata": {
        "id": "0TqgBCqAv45R"
      },
      "execution_count": 46,
      "outputs": []
    },
    {
      "cell_type": "markdown",
      "source": [
        "# Linear Regression"
      ],
      "metadata": {
        "id": "gd0TP32twYlG"
      }
    },
    {
      "cell_type": "code",
      "source": [
        "pred=lr.predict(x_test)\n",
        "print(\"predicted result \",pred)\n",
        "print('actual result',y_test)"
      ],
      "metadata": {
        "colab": {
          "base_uri": "https://localhost:8080/"
        },
        "id": "cJtTO77owRJn",
        "outputId": "ab5f6804-f1b8-4018-956a-8dc20665661a"
      },
      "execution_count": 47,
      "outputs": [
        {
          "output_type": "stream",
          "name": "stdout",
          "text": [
            "predicted result  [12.86787808 10.12792407 17.42486532  6.6777674   9.57484826 11.79622808\n",
            " 19.42255585 10.42904847 16.19284893 15.09346009  9.98557565 14.23909563\n",
            " 16.6074724  17.41930172  8.95294381 22.9747748   8.77908638 13.92306952\n",
            " 10.07128127 12.23280279 18.22601968 12.72966701 18.55415765 20.61428156\n",
            " 13.91030029 14.01228954 11.47451807 23.50141965  9.77789755 14.40451074\n",
            " 19.91617674  9.37266723 19.79871831 20.93091447 18.38604045 20.87815832\n",
            "  6.67850619 15.50878929 19.98348018  6.08179799]\n",
            "actual result 179    12.6\n",
            "166     8.0\n",
            "187    17.3\n",
            "119     6.6\n",
            "186    10.3\n",
            "134    10.8\n",
            "142    20.1\n",
            "12      9.2\n",
            "118    15.9\n",
            "178    11.8\n",
            "138     9.6\n",
            "43     12.9\n",
            "194    17.3\n",
            "11     17.4\n",
            "44      8.5\n",
            "101    23.8\n",
            "49      9.7\n",
            "4      12.9\n",
            "149    10.1\n",
            "31     11.9\n",
            "188    15.9\n",
            "116    12.2\n",
            "33     17.4\n",
            "0      22.1\n",
            "181    12.2\n",
            "161    13.3\n",
            "2       9.3\n",
            "183    26.2\n",
            "125    10.6\n",
            "81     12.3\n",
            "176    20.2\n",
            "145    10.3\n",
            "124    19.7\n",
            "55     23.7\n",
            "153    19.0\n",
            "137    20.8\n",
            "182     8.7\n",
            "156    15.3\n",
            "104    20.7\n",
            "106     7.2\n",
            "Name: sales, dtype: float64\n"
          ]
        }
      ]
    },
    {
      "cell_type": "code",
      "source": [
        "print('Error:')\n",
        "print('Mean Absolute Error :',mean_absolute_error(y_test,pred))\n",
        "print('Mean Squared Error :',mean_squared_error(y_test,pred))\n",
        "print('Root mean Squared Error',np.sqrt(mean_squared_error(y_test,pred)))\n",
        "print('r2 score :',r2_score(y_test,pred)*100)"
      ],
      "metadata": {
        "colab": {
          "base_uri": "https://localhost:8080/"
        },
        "id": "tE4w5WfIweQZ",
        "outputId": "5ad2dd28-ff11-4b6d-b312-bc082619bb62"
      },
      "execution_count": 49,
      "outputs": [
        {
          "output_type": "stream",
          "name": "stdout",
          "text": [
            "Error:\n",
            "Mean Absolute Error : 1.0096684382685588\n",
            "Mean Squared Error : 1.7257417769080319\n",
            "Root mean Squared Error 1.3136749129476561\n",
            "r2 score : 93.38858948468285\n"
          ]
        }
      ]
    },
    {
      "cell_type": "markdown",
      "source": [
        "# Decission Tree Regression"
      ],
      "metadata": {
        "id": "uDl3f0OnwnGV"
      }
    },
    {
      "cell_type": "code",
      "source": [
        "from sklearn.tree import DecisionTreeRegressor\n",
        "dtr=DecisionTreeRegressor()\n",
        "dtr.fit(x_train,y_train)"
      ],
      "metadata": {
        "colab": {
          "base_uri": "https://localhost:8080/"
        },
        "id": "LqTJqlJhwiHQ",
        "outputId": "d682db20-9a80-4812-9a38-0e1740273a0b"
      },
      "execution_count": 50,
      "outputs": [
        {
          "output_type": "execute_result",
          "data": {
            "text/plain": [
              "DecisionTreeRegressor()"
            ]
          },
          "metadata": {},
          "execution_count": 50
        }
      ]
    },
    {
      "cell_type": "code",
      "source": [
        "pred=dtr.predict(x_test)\n",
        "print(\"predicted result \",pred)\n",
        "print('actual result',y_test)"
      ],
      "metadata": {
        "colab": {
          "base_uri": "https://localhost:8080/"
        },
        "id": "vgSsoVCIws2H",
        "outputId": "52fcb0fb-9642-4c0f-d91d-e485b703a48a"
      },
      "execution_count": 51,
      "outputs": [
        {
          "output_type": "stream",
          "name": "stdout",
          "text": [
            "predicted result  [14.5  8.8 18.4  7.  10.1 10.4 19.6  8.8 16.  12.7 10.1 12.2 15.  17.1\n",
            "  6.9 22.2  9.7 14.1 10.1 11.9 16.1 12.9 16.1 22.4 12.2 12.5  8.7 25.5\n",
            "  9.7 11.9 18.  10.5 19.6 23.8 18.5 20.2  8.1 13.6 19.6  6.9]\n",
            "actual result 179    12.6\n",
            "166     8.0\n",
            "187    17.3\n",
            "119     6.6\n",
            "186    10.3\n",
            "134    10.8\n",
            "142    20.1\n",
            "12      9.2\n",
            "118    15.9\n",
            "178    11.8\n",
            "138     9.6\n",
            "43     12.9\n",
            "194    17.3\n",
            "11     17.4\n",
            "44      8.5\n",
            "101    23.8\n",
            "49      9.7\n",
            "4      12.9\n",
            "149    10.1\n",
            "31     11.9\n",
            "188    15.9\n",
            "116    12.2\n",
            "33     17.4\n",
            "0      22.1\n",
            "181    12.2\n",
            "161    13.3\n",
            "2       9.3\n",
            "183    26.2\n",
            "125    10.6\n",
            "81     12.3\n",
            "176    20.2\n",
            "145    10.3\n",
            "124    19.7\n",
            "55     23.7\n",
            "153    19.0\n",
            "137    20.8\n",
            "182     8.7\n",
            "156    15.3\n",
            "104    20.7\n",
            "106     7.2\n",
            "Name: sales, dtype: float64\n"
          ]
        }
      ]
    },
    {
      "cell_type": "code",
      "source": [
        "print('Error:')\n",
        "print('Mean Absolute Error :',mean_absolute_error(y_test,pred))\n",
        "print('Mean Squared Error :',mean_squared_error(y_test,pred))\n",
        "print('Root mean Squared Error',np.sqrt(mean_squared_error(y_test,pred)))\n",
        "print('r2 score :',r2_score(y_test,pred)*100)"
      ],
      "metadata": {
        "id": "oHX_TK31wvE2",
        "outputId": "e7c64ab7-a78d-4f5c-c875-1b3d7bcf3019",
        "colab": {
          "base_uri": "https://localhost:8080/"
        }
      },
      "execution_count": 52,
      "outputs": [
        {
          "output_type": "stream",
          "name": "stdout",
          "text": [
            "Error:\n",
            "Mean Absolute Error : 0.7049999999999998\n",
            "Mean Squared Error : 0.8639999999999997\n",
            "Root mean Squared Error 0.9295160030897799\n",
            "r2 score : 96.6899690546586\n"
          ]
        }
      ]
    },
    {
      "cell_type": "markdown",
      "source": [
        "# Regularization"
      ],
      "metadata": {
        "id": "4EFCop8Yw7ZV"
      }
    },
    {
      "cell_type": "code",
      "source": [
        "from sklearn.linear_model import Lasso\n",
        "from sklearn.model_selection import GridSearchCV\n",
        "\n",
        "parameters = {'alpha':[.0001,.001,.01,.1,1,10],'random_state':list(range(0,10))}\n",
        "ls=Lasso()\n",
        "clf=GridSearchCV(ls,parameters)\n",
        "clf.fit(x_train,y_train)\n",
        "\n",
        "print(clf.best_params_)"
      ],
      "metadata": {
        "id": "nSNItJb4wyvn",
        "outputId": "ab6f5491-6eb8-47d9-90f0-97183e8e5fec",
        "colab": {
          "base_uri": "https://localhost:8080/"
        }
      },
      "execution_count": 53,
      "outputs": [
        {
          "metadata": {
            "tags": null
          },
          "name": "stdout",
          "output_type": "stream",
          "text": [
            "{'alpha': 0.1, 'random_state': 0}\n"
          ]
        }
      ]
    },
    {
      "cell_type": "code",
      "source": [
        "ls=Lasso(alpha=0.0001,random_state=0)\n",
        "ls.fit(x_train,y_train)\n",
        "ls_score_training=ls.score(x_train,y_train)\n",
        "pred_ls = ls.predict(x_test)\n",
        "ls_score_training*100"
      ],
      "metadata": {
        "id": "QkD75maWxA3X",
        "outputId": "c39374e1-3aed-4b70-e39b-5b5f065e2735",
        "colab": {
          "base_uri": "https://localhost:8080/"
        }
      },
      "execution_count": 54,
      "outputs": [
        {
          "output_type": "execute_result",
          "data": {
            "text/plain": [
              "90.15581613836716"
            ]
          },
          "metadata": {},
          "execution_count": 54
        }
      ]
    },
    {
      "cell_type": "markdown",
      "source": [
        "ENSEMBLE TECHNIQUE"
      ],
      "metadata": {
        "id": "BcvEXUB9xFI_"
      }
    },
    {
      "cell_type": "code",
      "source": [
        "from sklearn.ensemble import RandomForestRegressor\n",
        "Rrf=RandomForestRegressor()\n",
        "\n",
        "parameters = {'criterion':['mse','mae'],'max_features':[\"auto\",\"sqrt\",\"log2\"]}\n",
        "clf = GridSearchCV(Rrf,parameters)\n",
        "clf.fit(x_train,y_train)\n",
        "\n",
        "print(clf.best_params_)"
      ],
      "metadata": {
        "id": "Ui8zm_6nxIEF",
        "outputId": "292d2e54-af23-40ad-f48e-80cb987c149f",
        "colab": {
          "base_uri": "https://localhost:8080/"
        }
      },
      "execution_count": 55,
      "outputs": [
        {
          "output_type": "stream",
          "name": "stdout",
          "text": [
            "{'criterion': 'mae', 'max_features': 'auto'}\n"
          ]
        }
      ]
    },
    {
      "cell_type": "code",
      "source": [
        "from sklearn.model_selection import cross_val_score\n",
        "\n",
        "Rrf= RandomForestRegressor(criterion=\"mae\",max_features=\"auto\")\n",
        "Rrf.fit(x_train,y_train)\n",
        "Rrf.score(x_train,y_train)\n",
        "pred_decession = Rrf.predict(x_test)\n",
        "\n",
        "rfs = r2_score(y_test,pred_decession)\n",
        "print('R2 Score :',rfs*100)\n",
        "\n",
        "rfscore = cross_val_score(Rrf,x,y,cv=5)\n",
        "rfc=rfscore.mean()\n",
        "print('cross Val Score :',rfc*100)"
      ],
      "metadata": {
        "id": "0c6iqT-pxQcL",
        "outputId": "ed025831-c7a1-430c-e9d4-6e3ed1beb927",
        "colab": {
          "base_uri": "https://localhost:8080/"
        }
      },
      "execution_count": 56,
      "outputs": [
        {
          "output_type": "stream",
          "name": "stdout",
          "text": [
            "R2 Score : 97.94486499843407\n",
            "cross Val Score : 97.6651345050721\n"
          ]
        }
      ]
    },
    {
      "cell_type": "markdown",
      "source": [
        "# Saving the Best Model"
      ],
      "metadata": {
        "id": "HwCNdhTtxh-t"
      }
    },
    {
      "cell_type": "code",
      "source": [
        "import pickle\n",
        "filename = 'Advertising Sales Channel Prediction.pkl'\n",
        "pickle.dump(Rrf,open(filename,'wb'))"
      ],
      "metadata": {
        "id": "KcJHnLP9xdmf"
      },
      "execution_count": 57,
      "outputs": []
    },
    {
      "cell_type": "code",
      "source": [
        ""
      ],
      "metadata": {
        "id": "i5RbaD_0xr0X"
      },
      "execution_count": null,
      "outputs": []
    }
  ]
}
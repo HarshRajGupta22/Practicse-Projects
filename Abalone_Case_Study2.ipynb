{
  "nbformat": 4,
  "nbformat_minor": 0,
  "metadata": {
    "colab": {
      "name": "Abalone Case Study.ipynb",
      "provenance": [],
      "authorship_tag": "ABX9TyMaIOsw3Hnwae+HsdymCVY7",
      "include_colab_link": true
    },
    "kernelspec": {
      "name": "python3",
      "display_name": "Python 3"
    },
    "language_info": {
      "name": "python"
    }
  },
  "cells": [
    {
      "cell_type": "markdown",
      "metadata": {
        "id": "view-in-github",
        "colab_type": "text"
      },
      "source": [
        "<a href=\"https://colab.research.google.com/github/HarshRajGupta22/Practicse-Projects/blob/main/Abalone_Case_Study2.ipynb\" target=\"_parent\"><img src=\"https://colab.research.google.com/assets/colab-badge.svg\" alt=\"Open In Colab\"/></a>"
      ]
    },
    {
      "cell_type": "markdown",
      "source": [
        "# Abalone "
      ],
      "metadata": {
        "id": "7L0jm3NshfZy"
      }
    },
    {
      "cell_type": "markdown",
      "source": [
        "Abalones are marine snails. Their taxonomy puts them in the family Haliotidae, which contains only one genus, Haliotis, which once contained six subgenera. These subgenera have become alternate representations of Haliotis. The number of species recognized worldwide ranges between 30 and 130 with over 230 species-level taxa described. The most comprehensive treatment of the family considers 56 species valid, with 18 additional subspecies.\n",
        "\n",
        "The shells of abalones have a low, open spiral structure, and are characterized by several open respiratory pores in a row near the shell's outer edge. The thick inner layer of the shell is composed of nacre (mother-of-pearl), which in many species is highly iridescent, giving rise to a range of strong, changeable colors which make the shells attractive to humans as decorative objects, jewelry, and as a source of colorful mother-of-pearl.\n",
        "\n",
        "Distribution..\n",
        "\n",
        "Abalone with a live sponge on its shell in Póvoa de Varzim, Portugal\n",
        "The haliotid family has a worldwide distribution, along the coastal waters of every continent, except the Pacific coast of South America, the Atlantic coast of North America, the Arctic, and Antarctica. The majority of abalone species are found in cold waters, such as off the coasts of New Zealand, South Africa, Australia, Western North America, and Japan.\n",
        "\n",
        "Structure and properties of the shell..\n",
        "\n",
        "The shell of the abalone is exceptionally strong and is made of microscopic calcium carbonate tiles stacked like bricks. Between the layers of tiles is a clingy protein substance. When the abalone shell is struck, the tiles slide instead of shattering and the protein stretches to absorb the energy of the blow. Material scientists around the world are studying this tiled structure for insight into stronger ceramic products such as body armor. The dust created by grinding and cutting abalone shell is dangerous; appropriate safeguards must be taken to protect people from inhaling these particles."
      ],
      "metadata": {
        "id": "4VBllEHYhkd2"
      }
    },
    {
      "cell_type": "markdown",
      "source": [
        "# Data Description"
      ],
      "metadata": {
        "id": "Xyfuc3yel3ky"
      }
    },
    {
      "cell_type": "markdown",
      "source": [
        "The age of abalone is determined by cutting the shell through the cone, staining it, and counting the number of rings through a microscope -- a boring and time-consuming task. Other measurements, which are easier to obtain, are used to predict the age. Further information, such as weather patterns and location (hence food availability) may be required to solve the problem.\n"
      ],
      "metadata": {
        "id": "aLAbMAN2mBgJ"
      }
    },
    {
      "cell_type": "markdown",
      "source": [
        "# Loading the DataSet"
      ],
      "metadata": {
        "id": "zYDGAo75uUgl"
      }
    },
    {
      "cell_type": "code",
      "source": [
        "import pandas as pd\n",
        "import numpy as np\n",
        "path ='https://raw.githubusercontent.com/dsrscientist/dataset1/master/abalone.csv'\n",
        "df = pd.read_csv(path)"
      ],
      "metadata": {
        "id": "ZCnDS10ofm1_"
      },
      "execution_count": 1,
      "outputs": []
    },
    {
      "cell_type": "code",
      "source": [
        "df"
      ],
      "metadata": {
        "colab": {
          "base_uri": "https://localhost:8080/",
          "height": 423
        },
        "id": "p5taRFF5f0QR",
        "outputId": "92e066d9-c856-4a68-e01f-775914ae179f"
      },
      "execution_count": 2,
      "outputs": [
        {
          "output_type": "execute_result",
          "data": {
            "text/plain": [
              "     Sex  Length  Diameter  Height  Whole weight  Shucked weight  \\\n",
              "0      M   0.455     0.365   0.095        0.5140          0.2245   \n",
              "1      M   0.350     0.265   0.090        0.2255          0.0995   \n",
              "2      F   0.530     0.420   0.135        0.6770          0.2565   \n",
              "3      M   0.440     0.365   0.125        0.5160          0.2155   \n",
              "4      I   0.330     0.255   0.080        0.2050          0.0895   \n",
              "...   ..     ...       ...     ...           ...             ...   \n",
              "4172   F   0.565     0.450   0.165        0.8870          0.3700   \n",
              "4173   M   0.590     0.440   0.135        0.9660          0.4390   \n",
              "4174   M   0.600     0.475   0.205        1.1760          0.5255   \n",
              "4175   F   0.625     0.485   0.150        1.0945          0.5310   \n",
              "4176   M   0.710     0.555   0.195        1.9485          0.9455   \n",
              "\n",
              "      Viscera weight  Shell weight  Rings  \n",
              "0             0.1010        0.1500     15  \n",
              "1             0.0485        0.0700      7  \n",
              "2             0.1415        0.2100      9  \n",
              "3             0.1140        0.1550     10  \n",
              "4             0.0395        0.0550      7  \n",
              "...              ...           ...    ...  \n",
              "4172          0.2390        0.2490     11  \n",
              "4173          0.2145        0.2605     10  \n",
              "4174          0.2875        0.3080      9  \n",
              "4175          0.2610        0.2960     10  \n",
              "4176          0.3765        0.4950     12  \n",
              "\n",
              "[4177 rows x 9 columns]"
            ],
            "text/html": [
              "\n",
              "  <div id=\"df-8bc3e39f-cd39-4771-a714-a863c82f42ab\">\n",
              "    <div class=\"colab-df-container\">\n",
              "      <div>\n",
              "<style scoped>\n",
              "    .dataframe tbody tr th:only-of-type {\n",
              "        vertical-align: middle;\n",
              "    }\n",
              "\n",
              "    .dataframe tbody tr th {\n",
              "        vertical-align: top;\n",
              "    }\n",
              "\n",
              "    .dataframe thead th {\n",
              "        text-align: right;\n",
              "    }\n",
              "</style>\n",
              "<table border=\"1\" class=\"dataframe\">\n",
              "  <thead>\n",
              "    <tr style=\"text-align: right;\">\n",
              "      <th></th>\n",
              "      <th>Sex</th>\n",
              "      <th>Length</th>\n",
              "      <th>Diameter</th>\n",
              "      <th>Height</th>\n",
              "      <th>Whole weight</th>\n",
              "      <th>Shucked weight</th>\n",
              "      <th>Viscera weight</th>\n",
              "      <th>Shell weight</th>\n",
              "      <th>Rings</th>\n",
              "    </tr>\n",
              "  </thead>\n",
              "  <tbody>\n",
              "    <tr>\n",
              "      <th>0</th>\n",
              "      <td>M</td>\n",
              "      <td>0.455</td>\n",
              "      <td>0.365</td>\n",
              "      <td>0.095</td>\n",
              "      <td>0.5140</td>\n",
              "      <td>0.2245</td>\n",
              "      <td>0.1010</td>\n",
              "      <td>0.1500</td>\n",
              "      <td>15</td>\n",
              "    </tr>\n",
              "    <tr>\n",
              "      <th>1</th>\n",
              "      <td>M</td>\n",
              "      <td>0.350</td>\n",
              "      <td>0.265</td>\n",
              "      <td>0.090</td>\n",
              "      <td>0.2255</td>\n",
              "      <td>0.0995</td>\n",
              "      <td>0.0485</td>\n",
              "      <td>0.0700</td>\n",
              "      <td>7</td>\n",
              "    </tr>\n",
              "    <tr>\n",
              "      <th>2</th>\n",
              "      <td>F</td>\n",
              "      <td>0.530</td>\n",
              "      <td>0.420</td>\n",
              "      <td>0.135</td>\n",
              "      <td>0.6770</td>\n",
              "      <td>0.2565</td>\n",
              "      <td>0.1415</td>\n",
              "      <td>0.2100</td>\n",
              "      <td>9</td>\n",
              "    </tr>\n",
              "    <tr>\n",
              "      <th>3</th>\n",
              "      <td>M</td>\n",
              "      <td>0.440</td>\n",
              "      <td>0.365</td>\n",
              "      <td>0.125</td>\n",
              "      <td>0.5160</td>\n",
              "      <td>0.2155</td>\n",
              "      <td>0.1140</td>\n",
              "      <td>0.1550</td>\n",
              "      <td>10</td>\n",
              "    </tr>\n",
              "    <tr>\n",
              "      <th>4</th>\n",
              "      <td>I</td>\n",
              "      <td>0.330</td>\n",
              "      <td>0.255</td>\n",
              "      <td>0.080</td>\n",
              "      <td>0.2050</td>\n",
              "      <td>0.0895</td>\n",
              "      <td>0.0395</td>\n",
              "      <td>0.0550</td>\n",
              "      <td>7</td>\n",
              "    </tr>\n",
              "    <tr>\n",
              "      <th>...</th>\n",
              "      <td>...</td>\n",
              "      <td>...</td>\n",
              "      <td>...</td>\n",
              "      <td>...</td>\n",
              "      <td>...</td>\n",
              "      <td>...</td>\n",
              "      <td>...</td>\n",
              "      <td>...</td>\n",
              "      <td>...</td>\n",
              "    </tr>\n",
              "    <tr>\n",
              "      <th>4172</th>\n",
              "      <td>F</td>\n",
              "      <td>0.565</td>\n",
              "      <td>0.450</td>\n",
              "      <td>0.165</td>\n",
              "      <td>0.8870</td>\n",
              "      <td>0.3700</td>\n",
              "      <td>0.2390</td>\n",
              "      <td>0.2490</td>\n",
              "      <td>11</td>\n",
              "    </tr>\n",
              "    <tr>\n",
              "      <th>4173</th>\n",
              "      <td>M</td>\n",
              "      <td>0.590</td>\n",
              "      <td>0.440</td>\n",
              "      <td>0.135</td>\n",
              "      <td>0.9660</td>\n",
              "      <td>0.4390</td>\n",
              "      <td>0.2145</td>\n",
              "      <td>0.2605</td>\n",
              "      <td>10</td>\n",
              "    </tr>\n",
              "    <tr>\n",
              "      <th>4174</th>\n",
              "      <td>M</td>\n",
              "      <td>0.600</td>\n",
              "      <td>0.475</td>\n",
              "      <td>0.205</td>\n",
              "      <td>1.1760</td>\n",
              "      <td>0.5255</td>\n",
              "      <td>0.2875</td>\n",
              "      <td>0.3080</td>\n",
              "      <td>9</td>\n",
              "    </tr>\n",
              "    <tr>\n",
              "      <th>4175</th>\n",
              "      <td>F</td>\n",
              "      <td>0.625</td>\n",
              "      <td>0.485</td>\n",
              "      <td>0.150</td>\n",
              "      <td>1.0945</td>\n",
              "      <td>0.5310</td>\n",
              "      <td>0.2610</td>\n",
              "      <td>0.2960</td>\n",
              "      <td>10</td>\n",
              "    </tr>\n",
              "    <tr>\n",
              "      <th>4176</th>\n",
              "      <td>M</td>\n",
              "      <td>0.710</td>\n",
              "      <td>0.555</td>\n",
              "      <td>0.195</td>\n",
              "      <td>1.9485</td>\n",
              "      <td>0.9455</td>\n",
              "      <td>0.3765</td>\n",
              "      <td>0.4950</td>\n",
              "      <td>12</td>\n",
              "    </tr>\n",
              "  </tbody>\n",
              "</table>\n",
              "<p>4177 rows × 9 columns</p>\n",
              "</div>\n",
              "      <button class=\"colab-df-convert\" onclick=\"convertToInteractive('df-8bc3e39f-cd39-4771-a714-a863c82f42ab')\"\n",
              "              title=\"Convert this dataframe to an interactive table.\"\n",
              "              style=\"display:none;\">\n",
              "        \n",
              "  <svg xmlns=\"http://www.w3.org/2000/svg\" height=\"24px\"viewBox=\"0 0 24 24\"\n",
              "       width=\"24px\">\n",
              "    <path d=\"M0 0h24v24H0V0z\" fill=\"none\"/>\n",
              "    <path d=\"M18.56 5.44l.94 2.06.94-2.06 2.06-.94-2.06-.94-.94-2.06-.94 2.06-2.06.94zm-11 1L8.5 8.5l.94-2.06 2.06-.94-2.06-.94L8.5 2.5l-.94 2.06-2.06.94zm10 10l.94 2.06.94-2.06 2.06-.94-2.06-.94-.94-2.06-.94 2.06-2.06.94z\"/><path d=\"M17.41 7.96l-1.37-1.37c-.4-.4-.92-.59-1.43-.59-.52 0-1.04.2-1.43.59L10.3 9.45l-7.72 7.72c-.78.78-.78 2.05 0 2.83L4 21.41c.39.39.9.59 1.41.59.51 0 1.02-.2 1.41-.59l7.78-7.78 2.81-2.81c.8-.78.8-2.07 0-2.86zM5.41 20L4 18.59l7.72-7.72 1.47 1.35L5.41 20z\"/>\n",
              "  </svg>\n",
              "      </button>\n",
              "      \n",
              "  <style>\n",
              "    .colab-df-container {\n",
              "      display:flex;\n",
              "      flex-wrap:wrap;\n",
              "      gap: 12px;\n",
              "    }\n",
              "\n",
              "    .colab-df-convert {\n",
              "      background-color: #E8F0FE;\n",
              "      border: none;\n",
              "      border-radius: 50%;\n",
              "      cursor: pointer;\n",
              "      display: none;\n",
              "      fill: #1967D2;\n",
              "      height: 32px;\n",
              "      padding: 0 0 0 0;\n",
              "      width: 32px;\n",
              "    }\n",
              "\n",
              "    .colab-df-convert:hover {\n",
              "      background-color: #E2EBFA;\n",
              "      box-shadow: 0px 1px 2px rgba(60, 64, 67, 0.3), 0px 1px 3px 1px rgba(60, 64, 67, 0.15);\n",
              "      fill: #174EA6;\n",
              "    }\n",
              "\n",
              "    [theme=dark] .colab-df-convert {\n",
              "      background-color: #3B4455;\n",
              "      fill: #D2E3FC;\n",
              "    }\n",
              "\n",
              "    [theme=dark] .colab-df-convert:hover {\n",
              "      background-color: #434B5C;\n",
              "      box-shadow: 0px 1px 3px 1px rgba(0, 0, 0, 0.15);\n",
              "      filter: drop-shadow(0px 1px 2px rgba(0, 0, 0, 0.3));\n",
              "      fill: #FFFFFF;\n",
              "    }\n",
              "  </style>\n",
              "\n",
              "      <script>\n",
              "        const buttonEl =\n",
              "          document.querySelector('#df-8bc3e39f-cd39-4771-a714-a863c82f42ab button.colab-df-convert');\n",
              "        buttonEl.style.display =\n",
              "          google.colab.kernel.accessAllowed ? 'block' : 'none';\n",
              "\n",
              "        async function convertToInteractive(key) {\n",
              "          const element = document.querySelector('#df-8bc3e39f-cd39-4771-a714-a863c82f42ab');\n",
              "          const dataTable =\n",
              "            await google.colab.kernel.invokeFunction('convertToInteractive',\n",
              "                                                     [key], {});\n",
              "          if (!dataTable) return;\n",
              "\n",
              "          const docLinkHtml = 'Like what you see? Visit the ' +\n",
              "            '<a target=\"_blank\" href=https://colab.research.google.com/notebooks/data_table.ipynb>data table notebook</a>'\n",
              "            + ' to learn more about interactive tables.';\n",
              "          element.innerHTML = '';\n",
              "          dataTable['output_type'] = 'display_data';\n",
              "          await google.colab.output.renderOutput(dataTable, element);\n",
              "          const docLink = document.createElement('div');\n",
              "          docLink.innerHTML = docLinkHtml;\n",
              "          element.appendChild(docLink);\n",
              "        }\n",
              "      </script>\n",
              "    </div>\n",
              "  </div>\n",
              "  "
            ]
          },
          "metadata": {},
          "execution_count": 2
        }
      ]
    },
    {
      "cell_type": "code",
      "source": [
        "df.head().T"
      ],
      "metadata": {
        "colab": {
          "base_uri": "https://localhost:8080/",
          "height": 331
        },
        "id": "LHxtluyJgoLA",
        "outputId": "af2ccdc7-87fc-42bc-a97e-5c0b59cc4478"
      },
      "execution_count": 3,
      "outputs": [
        {
          "output_type": "execute_result",
          "data": {
            "text/plain": [
              "                     0       1       2       3       4\n",
              "Sex                  M       M       F       M       I\n",
              "Length           0.455    0.35    0.53    0.44    0.33\n",
              "Diameter         0.365   0.265    0.42   0.365   0.255\n",
              "Height           0.095    0.09   0.135   0.125    0.08\n",
              "Whole weight     0.514  0.2255   0.677   0.516   0.205\n",
              "Shucked weight  0.2245  0.0995  0.2565  0.2155  0.0895\n",
              "Viscera weight   0.101  0.0485  0.1415   0.114  0.0395\n",
              "Shell weight      0.15    0.07    0.21   0.155   0.055\n",
              "Rings               15       7       9      10       7"
            ],
            "text/html": [
              "\n",
              "  <div id=\"df-86d55257-bc43-47fb-9554-f37366c4bc00\">\n",
              "    <div class=\"colab-df-container\">\n",
              "      <div>\n",
              "<style scoped>\n",
              "    .dataframe tbody tr th:only-of-type {\n",
              "        vertical-align: middle;\n",
              "    }\n",
              "\n",
              "    .dataframe tbody tr th {\n",
              "        vertical-align: top;\n",
              "    }\n",
              "\n",
              "    .dataframe thead th {\n",
              "        text-align: right;\n",
              "    }\n",
              "</style>\n",
              "<table border=\"1\" class=\"dataframe\">\n",
              "  <thead>\n",
              "    <tr style=\"text-align: right;\">\n",
              "      <th></th>\n",
              "      <th>0</th>\n",
              "      <th>1</th>\n",
              "      <th>2</th>\n",
              "      <th>3</th>\n",
              "      <th>4</th>\n",
              "    </tr>\n",
              "  </thead>\n",
              "  <tbody>\n",
              "    <tr>\n",
              "      <th>Sex</th>\n",
              "      <td>M</td>\n",
              "      <td>M</td>\n",
              "      <td>F</td>\n",
              "      <td>M</td>\n",
              "      <td>I</td>\n",
              "    </tr>\n",
              "    <tr>\n",
              "      <th>Length</th>\n",
              "      <td>0.455</td>\n",
              "      <td>0.35</td>\n",
              "      <td>0.53</td>\n",
              "      <td>0.44</td>\n",
              "      <td>0.33</td>\n",
              "    </tr>\n",
              "    <tr>\n",
              "      <th>Diameter</th>\n",
              "      <td>0.365</td>\n",
              "      <td>0.265</td>\n",
              "      <td>0.42</td>\n",
              "      <td>0.365</td>\n",
              "      <td>0.255</td>\n",
              "    </tr>\n",
              "    <tr>\n",
              "      <th>Height</th>\n",
              "      <td>0.095</td>\n",
              "      <td>0.09</td>\n",
              "      <td>0.135</td>\n",
              "      <td>0.125</td>\n",
              "      <td>0.08</td>\n",
              "    </tr>\n",
              "    <tr>\n",
              "      <th>Whole weight</th>\n",
              "      <td>0.514</td>\n",
              "      <td>0.2255</td>\n",
              "      <td>0.677</td>\n",
              "      <td>0.516</td>\n",
              "      <td>0.205</td>\n",
              "    </tr>\n",
              "    <tr>\n",
              "      <th>Shucked weight</th>\n",
              "      <td>0.2245</td>\n",
              "      <td>0.0995</td>\n",
              "      <td>0.2565</td>\n",
              "      <td>0.2155</td>\n",
              "      <td>0.0895</td>\n",
              "    </tr>\n",
              "    <tr>\n",
              "      <th>Viscera weight</th>\n",
              "      <td>0.101</td>\n",
              "      <td>0.0485</td>\n",
              "      <td>0.1415</td>\n",
              "      <td>0.114</td>\n",
              "      <td>0.0395</td>\n",
              "    </tr>\n",
              "    <tr>\n",
              "      <th>Shell weight</th>\n",
              "      <td>0.15</td>\n",
              "      <td>0.07</td>\n",
              "      <td>0.21</td>\n",
              "      <td>0.155</td>\n",
              "      <td>0.055</td>\n",
              "    </tr>\n",
              "    <tr>\n",
              "      <th>Rings</th>\n",
              "      <td>15</td>\n",
              "      <td>7</td>\n",
              "      <td>9</td>\n",
              "      <td>10</td>\n",
              "      <td>7</td>\n",
              "    </tr>\n",
              "  </tbody>\n",
              "</table>\n",
              "</div>\n",
              "      <button class=\"colab-df-convert\" onclick=\"convertToInteractive('df-86d55257-bc43-47fb-9554-f37366c4bc00')\"\n",
              "              title=\"Convert this dataframe to an interactive table.\"\n",
              "              style=\"display:none;\">\n",
              "        \n",
              "  <svg xmlns=\"http://www.w3.org/2000/svg\" height=\"24px\"viewBox=\"0 0 24 24\"\n",
              "       width=\"24px\">\n",
              "    <path d=\"M0 0h24v24H0V0z\" fill=\"none\"/>\n",
              "    <path d=\"M18.56 5.44l.94 2.06.94-2.06 2.06-.94-2.06-.94-.94-2.06-.94 2.06-2.06.94zm-11 1L8.5 8.5l.94-2.06 2.06-.94-2.06-.94L8.5 2.5l-.94 2.06-2.06.94zm10 10l.94 2.06.94-2.06 2.06-.94-2.06-.94-.94-2.06-.94 2.06-2.06.94z\"/><path d=\"M17.41 7.96l-1.37-1.37c-.4-.4-.92-.59-1.43-.59-.52 0-1.04.2-1.43.59L10.3 9.45l-7.72 7.72c-.78.78-.78 2.05 0 2.83L4 21.41c.39.39.9.59 1.41.59.51 0 1.02-.2 1.41-.59l7.78-7.78 2.81-2.81c.8-.78.8-2.07 0-2.86zM5.41 20L4 18.59l7.72-7.72 1.47 1.35L5.41 20z\"/>\n",
              "  </svg>\n",
              "      </button>\n",
              "      \n",
              "  <style>\n",
              "    .colab-df-container {\n",
              "      display:flex;\n",
              "      flex-wrap:wrap;\n",
              "      gap: 12px;\n",
              "    }\n",
              "\n",
              "    .colab-df-convert {\n",
              "      background-color: #E8F0FE;\n",
              "      border: none;\n",
              "      border-radius: 50%;\n",
              "      cursor: pointer;\n",
              "      display: none;\n",
              "      fill: #1967D2;\n",
              "      height: 32px;\n",
              "      padding: 0 0 0 0;\n",
              "      width: 32px;\n",
              "    }\n",
              "\n",
              "    .colab-df-convert:hover {\n",
              "      background-color: #E2EBFA;\n",
              "      box-shadow: 0px 1px 2px rgba(60, 64, 67, 0.3), 0px 1px 3px 1px rgba(60, 64, 67, 0.15);\n",
              "      fill: #174EA6;\n",
              "    }\n",
              "\n",
              "    [theme=dark] .colab-df-convert {\n",
              "      background-color: #3B4455;\n",
              "      fill: #D2E3FC;\n",
              "    }\n",
              "\n",
              "    [theme=dark] .colab-df-convert:hover {\n",
              "      background-color: #434B5C;\n",
              "      box-shadow: 0px 1px 3px 1px rgba(0, 0, 0, 0.15);\n",
              "      filter: drop-shadow(0px 1px 2px rgba(0, 0, 0, 0.3));\n",
              "      fill: #FFFFFF;\n",
              "    }\n",
              "  </style>\n",
              "\n",
              "      <script>\n",
              "        const buttonEl =\n",
              "          document.querySelector('#df-86d55257-bc43-47fb-9554-f37366c4bc00 button.colab-df-convert');\n",
              "        buttonEl.style.display =\n",
              "          google.colab.kernel.accessAllowed ? 'block' : 'none';\n",
              "\n",
              "        async function convertToInteractive(key) {\n",
              "          const element = document.querySelector('#df-86d55257-bc43-47fb-9554-f37366c4bc00');\n",
              "          const dataTable =\n",
              "            await google.colab.kernel.invokeFunction('convertToInteractive',\n",
              "                                                     [key], {});\n",
              "          if (!dataTable) return;\n",
              "\n",
              "          const docLinkHtml = 'Like what you see? Visit the ' +\n",
              "            '<a target=\"_blank\" href=https://colab.research.google.com/notebooks/data_table.ipynb>data table notebook</a>'\n",
              "            + ' to learn more about interactive tables.';\n",
              "          element.innerHTML = '';\n",
              "          dataTable['output_type'] = 'display_data';\n",
              "          await google.colab.output.renderOutput(dataTable, element);\n",
              "          const docLink = document.createElement('div');\n",
              "          docLink.innerHTML = docLinkHtml;\n",
              "          element.appendChild(docLink);\n",
              "        }\n",
              "      </script>\n",
              "    </div>\n",
              "  </div>\n",
              "  "
            ]
          },
          "metadata": {},
          "execution_count": 3
        }
      ]
    },
    {
      "cell_type": "code",
      "source": [
        "df.tail().T"
      ],
      "metadata": {
        "colab": {
          "base_uri": "https://localhost:8080/",
          "height": 331
        },
        "id": "i59zw3Oig2sF",
        "outputId": "f4d8414b-1080-4a35-9144-3ffc52f6cc14"
      },
      "execution_count": null,
      "outputs": [
        {
          "output_type": "execute_result",
          "data": {
            "text/plain": [
              "                 4172    4173    4174    4175    4176\n",
              "Sex                 F       M       M       F       M\n",
              "Length          0.565    0.59     0.6   0.625    0.71\n",
              "Diameter         0.45    0.44   0.475   0.485   0.555\n",
              "Height          0.165   0.135   0.205    0.15   0.195\n",
              "Whole weight    0.887   0.966   1.176  1.0945  1.9485\n",
              "Shucked weight   0.37   0.439  0.5255   0.531  0.9455\n",
              "Viscera weight  0.239  0.2145  0.2875   0.261  0.3765\n",
              "Shell weight    0.249  0.2605   0.308   0.296   0.495\n",
              "Rings              11      10       9      10      12"
            ],
            "text/html": [
              "\n",
              "  <div id=\"df-edbe758a-60fd-47d0-9037-09ae1a243456\">\n",
              "    <div class=\"colab-df-container\">\n",
              "      <div>\n",
              "<style scoped>\n",
              "    .dataframe tbody tr th:only-of-type {\n",
              "        vertical-align: middle;\n",
              "    }\n",
              "\n",
              "    .dataframe tbody tr th {\n",
              "        vertical-align: top;\n",
              "    }\n",
              "\n",
              "    .dataframe thead th {\n",
              "        text-align: right;\n",
              "    }\n",
              "</style>\n",
              "<table border=\"1\" class=\"dataframe\">\n",
              "  <thead>\n",
              "    <tr style=\"text-align: right;\">\n",
              "      <th></th>\n",
              "      <th>4172</th>\n",
              "      <th>4173</th>\n",
              "      <th>4174</th>\n",
              "      <th>4175</th>\n",
              "      <th>4176</th>\n",
              "    </tr>\n",
              "  </thead>\n",
              "  <tbody>\n",
              "    <tr>\n",
              "      <th>Sex</th>\n",
              "      <td>F</td>\n",
              "      <td>M</td>\n",
              "      <td>M</td>\n",
              "      <td>F</td>\n",
              "      <td>M</td>\n",
              "    </tr>\n",
              "    <tr>\n",
              "      <th>Length</th>\n",
              "      <td>0.565</td>\n",
              "      <td>0.59</td>\n",
              "      <td>0.6</td>\n",
              "      <td>0.625</td>\n",
              "      <td>0.71</td>\n",
              "    </tr>\n",
              "    <tr>\n",
              "      <th>Diameter</th>\n",
              "      <td>0.45</td>\n",
              "      <td>0.44</td>\n",
              "      <td>0.475</td>\n",
              "      <td>0.485</td>\n",
              "      <td>0.555</td>\n",
              "    </tr>\n",
              "    <tr>\n",
              "      <th>Height</th>\n",
              "      <td>0.165</td>\n",
              "      <td>0.135</td>\n",
              "      <td>0.205</td>\n",
              "      <td>0.15</td>\n",
              "      <td>0.195</td>\n",
              "    </tr>\n",
              "    <tr>\n",
              "      <th>Whole weight</th>\n",
              "      <td>0.887</td>\n",
              "      <td>0.966</td>\n",
              "      <td>1.176</td>\n",
              "      <td>1.0945</td>\n",
              "      <td>1.9485</td>\n",
              "    </tr>\n",
              "    <tr>\n",
              "      <th>Shucked weight</th>\n",
              "      <td>0.37</td>\n",
              "      <td>0.439</td>\n",
              "      <td>0.5255</td>\n",
              "      <td>0.531</td>\n",
              "      <td>0.9455</td>\n",
              "    </tr>\n",
              "    <tr>\n",
              "      <th>Viscera weight</th>\n",
              "      <td>0.239</td>\n",
              "      <td>0.2145</td>\n",
              "      <td>0.2875</td>\n",
              "      <td>0.261</td>\n",
              "      <td>0.3765</td>\n",
              "    </tr>\n",
              "    <tr>\n",
              "      <th>Shell weight</th>\n",
              "      <td>0.249</td>\n",
              "      <td>0.2605</td>\n",
              "      <td>0.308</td>\n",
              "      <td>0.296</td>\n",
              "      <td>0.495</td>\n",
              "    </tr>\n",
              "    <tr>\n",
              "      <th>Rings</th>\n",
              "      <td>11</td>\n",
              "      <td>10</td>\n",
              "      <td>9</td>\n",
              "      <td>10</td>\n",
              "      <td>12</td>\n",
              "    </tr>\n",
              "  </tbody>\n",
              "</table>\n",
              "</div>\n",
              "      <button class=\"colab-df-convert\" onclick=\"convertToInteractive('df-edbe758a-60fd-47d0-9037-09ae1a243456')\"\n",
              "              title=\"Convert this dataframe to an interactive table.\"\n",
              "              style=\"display:none;\">\n",
              "        \n",
              "  <svg xmlns=\"http://www.w3.org/2000/svg\" height=\"24px\"viewBox=\"0 0 24 24\"\n",
              "       width=\"24px\">\n",
              "    <path d=\"M0 0h24v24H0V0z\" fill=\"none\"/>\n",
              "    <path d=\"M18.56 5.44l.94 2.06.94-2.06 2.06-.94-2.06-.94-.94-2.06-.94 2.06-2.06.94zm-11 1L8.5 8.5l.94-2.06 2.06-.94-2.06-.94L8.5 2.5l-.94 2.06-2.06.94zm10 10l.94 2.06.94-2.06 2.06-.94-2.06-.94-.94-2.06-.94 2.06-2.06.94z\"/><path d=\"M17.41 7.96l-1.37-1.37c-.4-.4-.92-.59-1.43-.59-.52 0-1.04.2-1.43.59L10.3 9.45l-7.72 7.72c-.78.78-.78 2.05 0 2.83L4 21.41c.39.39.9.59 1.41.59.51 0 1.02-.2 1.41-.59l7.78-7.78 2.81-2.81c.8-.78.8-2.07 0-2.86zM5.41 20L4 18.59l7.72-7.72 1.47 1.35L5.41 20z\"/>\n",
              "  </svg>\n",
              "      </button>\n",
              "      \n",
              "  <style>\n",
              "    .colab-df-container {\n",
              "      display:flex;\n",
              "      flex-wrap:wrap;\n",
              "      gap: 12px;\n",
              "    }\n",
              "\n",
              "    .colab-df-convert {\n",
              "      background-color: #E8F0FE;\n",
              "      border: none;\n",
              "      border-radius: 50%;\n",
              "      cursor: pointer;\n",
              "      display: none;\n",
              "      fill: #1967D2;\n",
              "      height: 32px;\n",
              "      padding: 0 0 0 0;\n",
              "      width: 32px;\n",
              "    }\n",
              "\n",
              "    .colab-df-convert:hover {\n",
              "      background-color: #E2EBFA;\n",
              "      box-shadow: 0px 1px 2px rgba(60, 64, 67, 0.3), 0px 1px 3px 1px rgba(60, 64, 67, 0.15);\n",
              "      fill: #174EA6;\n",
              "    }\n",
              "\n",
              "    [theme=dark] .colab-df-convert {\n",
              "      background-color: #3B4455;\n",
              "      fill: #D2E3FC;\n",
              "    }\n",
              "\n",
              "    [theme=dark] .colab-df-convert:hover {\n",
              "      background-color: #434B5C;\n",
              "      box-shadow: 0px 1px 3px 1px rgba(0, 0, 0, 0.15);\n",
              "      filter: drop-shadow(0px 1px 2px rgba(0, 0, 0, 0.3));\n",
              "      fill: #FFFFFF;\n",
              "    }\n",
              "  </style>\n",
              "\n",
              "      <script>\n",
              "        const buttonEl =\n",
              "          document.querySelector('#df-edbe758a-60fd-47d0-9037-09ae1a243456 button.colab-df-convert');\n",
              "        buttonEl.style.display =\n",
              "          google.colab.kernel.accessAllowed ? 'block' : 'none';\n",
              "\n",
              "        async function convertToInteractive(key) {\n",
              "          const element = document.querySelector('#df-edbe758a-60fd-47d0-9037-09ae1a243456');\n",
              "          const dataTable =\n",
              "            await google.colab.kernel.invokeFunction('convertToInteractive',\n",
              "                                                     [key], {});\n",
              "          if (!dataTable) return;\n",
              "\n",
              "          const docLinkHtml = 'Like what you see? Visit the ' +\n",
              "            '<a target=\"_blank\" href=https://colab.research.google.com/notebooks/data_table.ipynb>data table notebook</a>'\n",
              "            + ' to learn more about interactive tables.';\n",
              "          element.innerHTML = '';\n",
              "          dataTable['output_type'] = 'display_data';\n",
              "          await google.colab.output.renderOutput(dataTable, element);\n",
              "          const docLink = document.createElement('div');\n",
              "          docLink.innerHTML = docLinkHtml;\n",
              "          element.appendChild(docLink);\n",
              "        }\n",
              "      </script>\n",
              "    </div>\n",
              "  </div>\n",
              "  "
            ]
          },
          "metadata": {},
          "execution_count": 297
        }
      ]
    },
    {
      "cell_type": "code",
      "source": [
        "df.columns"
      ],
      "metadata": {
        "colab": {
          "base_uri": "https://localhost:8080/"
        },
        "id": "waKXPXqNg2vU",
        "outputId": "25a41312-9f7a-4293-86d4-369e64960156"
      },
      "execution_count": null,
      "outputs": [
        {
          "output_type": "execute_result",
          "data": {
            "text/plain": [
              "Index(['Sex', 'Length', 'Diameter', 'Height', 'Whole weight', 'Shucked weight',\n",
              "       'Viscera weight', 'Shell weight', 'Rings'],\n",
              "      dtype='object')"
            ]
          },
          "metadata": {},
          "execution_count": 298
        }
      ]
    },
    {
      "cell_type": "markdown",
      "source": [
        "# Details About The Columns"
      ],
      "metadata": {
        "id": "BnakkJPMhOkj"
      }
    },
    {
      "cell_type": "markdown",
      "source": [
        "     1. Abalone's Sex : -\n",
        "\n",
        "This Column shows the gender of the Abalone . Abalone are separate sexed. The sex of a live abalone can be determined by holding the abalone out of the water with the holes along the bottom. \n",
        "\n",
        "     2. Abalone's Length : -\n",
        "\n",
        "This Column Shows the length of the Abalones . Abalone vary in size from 20 mm (0.8 in) (Haliotis pulcherrima) to 200 mm (8 in) while Haliotis rufescens is the largest of the genus at 12 in (30 cm). The shell of abalones is convex, rounded to oval in shape, and may be highly arched or very flattened.\n",
        "\n",
        "\n",
        "     3. Abalone's Diameter : -\n",
        "\n",
        "This Column shows the Abalones Diameter . Abalone vary in size from 20 mm (0.8 in) (Haliotis pulcherrima) to 200 mm (8 in) while Haliotis rufescens is the largest of the genus at 12 in (30 cm).\n",
        " \n",
        "      4. Abalone's Hieght : - \n",
        "\n",
        "This Coluimn Shows the Hieght of the Abalones . Height, continuous, mm, with meat in shell. Whole weight, continuous, grams, whole abalone. Shucked weight, continuous, grams, weight of meat.\n",
        "\n",
        "      5. Abalone's Whole wieght : -\n",
        "\n",
        "This Column shows the Abalones Whole Wieght . Whole weight means the weight of a whole fish before any processing..\n",
        "\n",
        "       6. Abalone's Shucked wieght : -\n",
        "\n",
        "This Column Shows the Abalones Shucked wieght . It refers to the wieght of the Meat of the shell seperated apart.\n",
        "\n",
        "       7. Abalone's Viscera wieght : -\n",
        " \n",
        " This Column shows the Viscera Wieght of the Abalones . It refer to the continous guts wieght after bledding in grams   \n",
        "\n",
        "        8. Abalone's Shell wieght : -\n",
        " \n",
        " This Column Shows the Abalones shell wieght .. It refers to the shells wieght of the Abalone after bieng seperated and dried..\n",
        "\n",
        "\n",
        "        9. Abalone's Rings : -\n",
        "\n",
        "This Column Refers to the Abalones ring. It refers to the Target column also wchich gives the ring due to age "
      ],
      "metadata": {
        "id": "rnxzyY7Qmbvi"
      }
    },
    {
      "cell_type": "markdown",
      "source": [
        "# Transforming Datatypes of The Dataset into same format .ie. Categorical to Numerical For better Analysis.."
      ],
      "metadata": {
        "id": "9jdAYaeTwToy"
      }
    },
    {
      "cell_type": "code",
      "source": [
        "df.dtypes"
      ],
      "metadata": {
        "colab": {
          "base_uri": "https://localhost:8080/"
        },
        "id": "58PVi4DLwZsU",
        "outputId": "52971e2a-cd99-43d0-9f9e-3b8aa9860118"
      },
      "execution_count": 4,
      "outputs": [
        {
          "output_type": "execute_result",
          "data": {
            "text/plain": [
              "Sex                object\n",
              "Length            float64\n",
              "Diameter          float64\n",
              "Height            float64\n",
              "Whole weight      float64\n",
              "Shucked weight    float64\n",
              "Viscera weight    float64\n",
              "Shell weight      float64\n",
              "Rings               int64\n",
              "dtype: object"
            ]
          },
          "metadata": {},
          "execution_count": 4
        }
      ]
    },
    {
      "cell_type": "code",
      "source": [
        "from sklearn.preprocessing import LabelEncoder\n",
        "le =LabelEncoder()\n",
        "\n",
        "list1=['Sex']\n",
        "for val in list1:\n",
        "  df[val]=le.fit_transform(df[val].astype(str))\n",
        "\n",
        "df[\"Sex\"].value_counts()"
      ],
      "metadata": {
        "colab": {
          "base_uri": "https://localhost:8080/"
        },
        "id": "CRkHtE7CwddT",
        "outputId": "a8295fd8-5c8b-43a5-febf-dd4bb399ed03"
      },
      "execution_count": 5,
      "outputs": [
        {
          "output_type": "execute_result",
          "data": {
            "text/plain": [
              "2    1528\n",
              "1    1342\n",
              "0    1307\n",
              "Name: Sex, dtype: int64"
            ]
          },
          "metadata": {},
          "execution_count": 5
        }
      ]
    },
    {
      "cell_type": "code",
      "source": [
        "df.dtypes"
      ],
      "metadata": {
        "colab": {
          "base_uri": "https://localhost:8080/"
        },
        "id": "fRPAVANv8nF_",
        "outputId": "c259d6fa-6e08-48c7-ee10-6e6f0dc81d2c"
      },
      "execution_count": 6,
      "outputs": [
        {
          "output_type": "execute_result",
          "data": {
            "text/plain": [
              "Sex                 int64\n",
              "Length            float64\n",
              "Diameter          float64\n",
              "Height            float64\n",
              "Whole weight      float64\n",
              "Shucked weight    float64\n",
              "Viscera weight    float64\n",
              "Shell weight      float64\n",
              "Rings               int64\n",
              "dtype: object"
            ]
          },
          "metadata": {},
          "execution_count": 6
        }
      ]
    },
    {
      "cell_type": "code",
      "source": [
        "df['Sex']=df['Sex'].astype('float')"
      ],
      "metadata": {
        "id": "Rm4mFm7ExOEG"
      },
      "execution_count": 7,
      "outputs": []
    },
    {
      "cell_type": "code",
      "source": [
        "df.dtypes"
      ],
      "metadata": {
        "colab": {
          "base_uri": "https://localhost:8080/"
        },
        "id": "XLRhI3d0xT8z",
        "outputId": "89fd165e-d8dd-4a78-c957-cffebb71aba2"
      },
      "execution_count": 8,
      "outputs": [
        {
          "output_type": "execute_result",
          "data": {
            "text/plain": [
              "Sex               float64\n",
              "Length            float64\n",
              "Diameter          float64\n",
              "Height            float64\n",
              "Whole weight      float64\n",
              "Shucked weight    float64\n",
              "Viscera weight    float64\n",
              "Shell weight      float64\n",
              "Rings               int64\n",
              "dtype: object"
            ]
          },
          "metadata": {},
          "execution_count": 8
        }
      ]
    },
    {
      "cell_type": "code",
      "source": [
        "df"
      ],
      "metadata": {
        "colab": {
          "base_uri": "https://localhost:8080/",
          "height": 423
        },
        "id": "LaKzenzHwdgn",
        "outputId": "db6f66af-7335-48c8-c6c9-815967581bb8"
      },
      "execution_count": 9,
      "outputs": [
        {
          "output_type": "execute_result",
          "data": {
            "text/plain": [
              "      Sex  Length  Diameter  Height  Whole weight  Shucked weight  \\\n",
              "0     2.0   0.455     0.365   0.095        0.5140          0.2245   \n",
              "1     2.0   0.350     0.265   0.090        0.2255          0.0995   \n",
              "2     0.0   0.530     0.420   0.135        0.6770          0.2565   \n",
              "3     2.0   0.440     0.365   0.125        0.5160          0.2155   \n",
              "4     1.0   0.330     0.255   0.080        0.2050          0.0895   \n",
              "...   ...     ...       ...     ...           ...             ...   \n",
              "4172  0.0   0.565     0.450   0.165        0.8870          0.3700   \n",
              "4173  2.0   0.590     0.440   0.135        0.9660          0.4390   \n",
              "4174  2.0   0.600     0.475   0.205        1.1760          0.5255   \n",
              "4175  0.0   0.625     0.485   0.150        1.0945          0.5310   \n",
              "4176  2.0   0.710     0.555   0.195        1.9485          0.9455   \n",
              "\n",
              "      Viscera weight  Shell weight  Rings  \n",
              "0             0.1010        0.1500     15  \n",
              "1             0.0485        0.0700      7  \n",
              "2             0.1415        0.2100      9  \n",
              "3             0.1140        0.1550     10  \n",
              "4             0.0395        0.0550      7  \n",
              "...              ...           ...    ...  \n",
              "4172          0.2390        0.2490     11  \n",
              "4173          0.2145        0.2605     10  \n",
              "4174          0.2875        0.3080      9  \n",
              "4175          0.2610        0.2960     10  \n",
              "4176          0.3765        0.4950     12  \n",
              "\n",
              "[4177 rows x 9 columns]"
            ],
            "text/html": [
              "\n",
              "  <div id=\"df-18c177a7-0a4b-4519-bfbb-3dd343aa2bf8\">\n",
              "    <div class=\"colab-df-container\">\n",
              "      <div>\n",
              "<style scoped>\n",
              "    .dataframe tbody tr th:only-of-type {\n",
              "        vertical-align: middle;\n",
              "    }\n",
              "\n",
              "    .dataframe tbody tr th {\n",
              "        vertical-align: top;\n",
              "    }\n",
              "\n",
              "    .dataframe thead th {\n",
              "        text-align: right;\n",
              "    }\n",
              "</style>\n",
              "<table border=\"1\" class=\"dataframe\">\n",
              "  <thead>\n",
              "    <tr style=\"text-align: right;\">\n",
              "      <th></th>\n",
              "      <th>Sex</th>\n",
              "      <th>Length</th>\n",
              "      <th>Diameter</th>\n",
              "      <th>Height</th>\n",
              "      <th>Whole weight</th>\n",
              "      <th>Shucked weight</th>\n",
              "      <th>Viscera weight</th>\n",
              "      <th>Shell weight</th>\n",
              "      <th>Rings</th>\n",
              "    </tr>\n",
              "  </thead>\n",
              "  <tbody>\n",
              "    <tr>\n",
              "      <th>0</th>\n",
              "      <td>2.0</td>\n",
              "      <td>0.455</td>\n",
              "      <td>0.365</td>\n",
              "      <td>0.095</td>\n",
              "      <td>0.5140</td>\n",
              "      <td>0.2245</td>\n",
              "      <td>0.1010</td>\n",
              "      <td>0.1500</td>\n",
              "      <td>15</td>\n",
              "    </tr>\n",
              "    <tr>\n",
              "      <th>1</th>\n",
              "      <td>2.0</td>\n",
              "      <td>0.350</td>\n",
              "      <td>0.265</td>\n",
              "      <td>0.090</td>\n",
              "      <td>0.2255</td>\n",
              "      <td>0.0995</td>\n",
              "      <td>0.0485</td>\n",
              "      <td>0.0700</td>\n",
              "      <td>7</td>\n",
              "    </tr>\n",
              "    <tr>\n",
              "      <th>2</th>\n",
              "      <td>0.0</td>\n",
              "      <td>0.530</td>\n",
              "      <td>0.420</td>\n",
              "      <td>0.135</td>\n",
              "      <td>0.6770</td>\n",
              "      <td>0.2565</td>\n",
              "      <td>0.1415</td>\n",
              "      <td>0.2100</td>\n",
              "      <td>9</td>\n",
              "    </tr>\n",
              "    <tr>\n",
              "      <th>3</th>\n",
              "      <td>2.0</td>\n",
              "      <td>0.440</td>\n",
              "      <td>0.365</td>\n",
              "      <td>0.125</td>\n",
              "      <td>0.5160</td>\n",
              "      <td>0.2155</td>\n",
              "      <td>0.1140</td>\n",
              "      <td>0.1550</td>\n",
              "      <td>10</td>\n",
              "    </tr>\n",
              "    <tr>\n",
              "      <th>4</th>\n",
              "      <td>1.0</td>\n",
              "      <td>0.330</td>\n",
              "      <td>0.255</td>\n",
              "      <td>0.080</td>\n",
              "      <td>0.2050</td>\n",
              "      <td>0.0895</td>\n",
              "      <td>0.0395</td>\n",
              "      <td>0.0550</td>\n",
              "      <td>7</td>\n",
              "    </tr>\n",
              "    <tr>\n",
              "      <th>...</th>\n",
              "      <td>...</td>\n",
              "      <td>...</td>\n",
              "      <td>...</td>\n",
              "      <td>...</td>\n",
              "      <td>...</td>\n",
              "      <td>...</td>\n",
              "      <td>...</td>\n",
              "      <td>...</td>\n",
              "      <td>...</td>\n",
              "    </tr>\n",
              "    <tr>\n",
              "      <th>4172</th>\n",
              "      <td>0.0</td>\n",
              "      <td>0.565</td>\n",
              "      <td>0.450</td>\n",
              "      <td>0.165</td>\n",
              "      <td>0.8870</td>\n",
              "      <td>0.3700</td>\n",
              "      <td>0.2390</td>\n",
              "      <td>0.2490</td>\n",
              "      <td>11</td>\n",
              "    </tr>\n",
              "    <tr>\n",
              "      <th>4173</th>\n",
              "      <td>2.0</td>\n",
              "      <td>0.590</td>\n",
              "      <td>0.440</td>\n",
              "      <td>0.135</td>\n",
              "      <td>0.9660</td>\n",
              "      <td>0.4390</td>\n",
              "      <td>0.2145</td>\n",
              "      <td>0.2605</td>\n",
              "      <td>10</td>\n",
              "    </tr>\n",
              "    <tr>\n",
              "      <th>4174</th>\n",
              "      <td>2.0</td>\n",
              "      <td>0.600</td>\n",
              "      <td>0.475</td>\n",
              "      <td>0.205</td>\n",
              "      <td>1.1760</td>\n",
              "      <td>0.5255</td>\n",
              "      <td>0.2875</td>\n",
              "      <td>0.3080</td>\n",
              "      <td>9</td>\n",
              "    </tr>\n",
              "    <tr>\n",
              "      <th>4175</th>\n",
              "      <td>0.0</td>\n",
              "      <td>0.625</td>\n",
              "      <td>0.485</td>\n",
              "      <td>0.150</td>\n",
              "      <td>1.0945</td>\n",
              "      <td>0.5310</td>\n",
              "      <td>0.2610</td>\n",
              "      <td>0.2960</td>\n",
              "      <td>10</td>\n",
              "    </tr>\n",
              "    <tr>\n",
              "      <th>4176</th>\n",
              "      <td>2.0</td>\n",
              "      <td>0.710</td>\n",
              "      <td>0.555</td>\n",
              "      <td>0.195</td>\n",
              "      <td>1.9485</td>\n",
              "      <td>0.9455</td>\n",
              "      <td>0.3765</td>\n",
              "      <td>0.4950</td>\n",
              "      <td>12</td>\n",
              "    </tr>\n",
              "  </tbody>\n",
              "</table>\n",
              "<p>4177 rows × 9 columns</p>\n",
              "</div>\n",
              "      <button class=\"colab-df-convert\" onclick=\"convertToInteractive('df-18c177a7-0a4b-4519-bfbb-3dd343aa2bf8')\"\n",
              "              title=\"Convert this dataframe to an interactive table.\"\n",
              "              style=\"display:none;\">\n",
              "        \n",
              "  <svg xmlns=\"http://www.w3.org/2000/svg\" height=\"24px\"viewBox=\"0 0 24 24\"\n",
              "       width=\"24px\">\n",
              "    <path d=\"M0 0h24v24H0V0z\" fill=\"none\"/>\n",
              "    <path d=\"M18.56 5.44l.94 2.06.94-2.06 2.06-.94-2.06-.94-.94-2.06-.94 2.06-2.06.94zm-11 1L8.5 8.5l.94-2.06 2.06-.94-2.06-.94L8.5 2.5l-.94 2.06-2.06.94zm10 10l.94 2.06.94-2.06 2.06-.94-2.06-.94-.94-2.06-.94 2.06-2.06.94z\"/><path d=\"M17.41 7.96l-1.37-1.37c-.4-.4-.92-.59-1.43-.59-.52 0-1.04.2-1.43.59L10.3 9.45l-7.72 7.72c-.78.78-.78 2.05 0 2.83L4 21.41c.39.39.9.59 1.41.59.51 0 1.02-.2 1.41-.59l7.78-7.78 2.81-2.81c.8-.78.8-2.07 0-2.86zM5.41 20L4 18.59l7.72-7.72 1.47 1.35L5.41 20z\"/>\n",
              "  </svg>\n",
              "      </button>\n",
              "      \n",
              "  <style>\n",
              "    .colab-df-container {\n",
              "      display:flex;\n",
              "      flex-wrap:wrap;\n",
              "      gap: 12px;\n",
              "    }\n",
              "\n",
              "    .colab-df-convert {\n",
              "      background-color: #E8F0FE;\n",
              "      border: none;\n",
              "      border-radius: 50%;\n",
              "      cursor: pointer;\n",
              "      display: none;\n",
              "      fill: #1967D2;\n",
              "      height: 32px;\n",
              "      padding: 0 0 0 0;\n",
              "      width: 32px;\n",
              "    }\n",
              "\n",
              "    .colab-df-convert:hover {\n",
              "      background-color: #E2EBFA;\n",
              "      box-shadow: 0px 1px 2px rgba(60, 64, 67, 0.3), 0px 1px 3px 1px rgba(60, 64, 67, 0.15);\n",
              "      fill: #174EA6;\n",
              "    }\n",
              "\n",
              "    [theme=dark] .colab-df-convert {\n",
              "      background-color: #3B4455;\n",
              "      fill: #D2E3FC;\n",
              "    }\n",
              "\n",
              "    [theme=dark] .colab-df-convert:hover {\n",
              "      background-color: #434B5C;\n",
              "      box-shadow: 0px 1px 3px 1px rgba(0, 0, 0, 0.15);\n",
              "      filter: drop-shadow(0px 1px 2px rgba(0, 0, 0, 0.3));\n",
              "      fill: #FFFFFF;\n",
              "    }\n",
              "  </style>\n",
              "\n",
              "      <script>\n",
              "        const buttonEl =\n",
              "          document.querySelector('#df-18c177a7-0a4b-4519-bfbb-3dd343aa2bf8 button.colab-df-convert');\n",
              "        buttonEl.style.display =\n",
              "          google.colab.kernel.accessAllowed ? 'block' : 'none';\n",
              "\n",
              "        async function convertToInteractive(key) {\n",
              "          const element = document.querySelector('#df-18c177a7-0a4b-4519-bfbb-3dd343aa2bf8');\n",
              "          const dataTable =\n",
              "            await google.colab.kernel.invokeFunction('convertToInteractive',\n",
              "                                                     [key], {});\n",
              "          if (!dataTable) return;\n",
              "\n",
              "          const docLinkHtml = 'Like what you see? Visit the ' +\n",
              "            '<a target=\"_blank\" href=https://colab.research.google.com/notebooks/data_table.ipynb>data table notebook</a>'\n",
              "            + ' to learn more about interactive tables.';\n",
              "          element.innerHTML = '';\n",
              "          dataTable['output_type'] = 'display_data';\n",
              "          await google.colab.output.renderOutput(dataTable, element);\n",
              "          const docLink = document.createElement('div');\n",
              "          docLink.innerHTML = docLinkHtml;\n",
              "          element.appendChild(docLink);\n",
              "        }\n",
              "      </script>\n",
              "    </div>\n",
              "  </div>\n",
              "  "
            ]
          },
          "metadata": {},
          "execution_count": 9
        }
      ]
    },
    {
      "cell_type": "markdown",
      "source": [
        "# Checking For Null values in DataSet"
      ],
      "metadata": {
        "id": "t1Z2rPM8t8an"
      }
    },
    {
      "cell_type": "code",
      "source": [
        "df.isnull().sum()"
      ],
      "metadata": {
        "colab": {
          "base_uri": "https://localhost:8080/"
        },
        "id": "wdLE99P1g2x_",
        "outputId": "91ba77d2-1153-4c81-8873-fb76488c09a4"
      },
      "execution_count": 10,
      "outputs": [
        {
          "output_type": "execute_result",
          "data": {
            "text/plain": [
              "Sex               0\n",
              "Length            0\n",
              "Diameter          0\n",
              "Height            0\n",
              "Whole weight      0\n",
              "Shucked weight    0\n",
              "Viscera weight    0\n",
              "Shell weight      0\n",
              "Rings             0\n",
              "dtype: int64"
            ]
          },
          "metadata": {},
          "execution_count": 10
        }
      ]
    },
    {
      "cell_type": "code",
      "source": [
        "import seaborn as sns\n",
        "import matplotlib.pyplot as plt\n",
        "\n",
        "sns.heatmap(df.isnull())\n",
        "plt.title(\"Null Values\")\n",
        "plt.show()"
      ],
      "metadata": {
        "colab": {
          "base_uri": "https://localhost:8080/",
          "height": 351
        },
        "id": "UpDXoTNsvEJM",
        "outputId": "2d90b045-9b00-4fa2-b480-c7a374254eb2"
      },
      "execution_count": 11,
      "outputs": [
        {
          "output_type": "display_data",
          "data": {
            "text/plain": [
              "<Figure size 432x288 with 2 Axes>"
            ],
            "image/png": "[encoded data removed]"
          },
          "metadata": {
            "needs_background": "light"
          }
        }
      ]
    },
    {
      "cell_type": "markdown",
      "source": [
        "From this we come to know that there are No Null Values Present in the Data Set "
      ],
      "metadata": {
        "id": "1M8bpXRVuzPT"
      }
    },
    {
      "cell_type": "markdown",
      "source": [
        "# EDA"
      ],
      "metadata": {
        "id": "AVlzVCjC0V2N"
      }
    },
    {
      "cell_type": "markdown",
      "source": [
        "Voilin Plot"
      ],
      "metadata": {
        "id": "7zzQIevh89H8"
      }
    },
    {
      "cell_type": "code",
      "source": [
        "plt.figure(figsize = (20,7))\n",
        "sns.swarmplot(x = 'Sex', y = 'Rings', data = df, hue = 'Sex')\n",
        "sns.violinplot(x = 'Sex', y = 'Rings', data = df)"
      ],
      "metadata": {
        "colab": {
          "base_uri": "https://localhost:8080/",
          "height": 583
        },
        "id": "VKAzCAic7a__",
        "outputId": "faa78948-f905-48c3-c408-839975326519"
      },
      "execution_count": 12,
      "outputs": [
        {
          "output_type": "stream",
          "name": "stderr",
          "text": [
            "/usr/local/lib/python3.7/dist-packages/seaborn/categorical.py:1296: UserWarning: 52.2% of the points cannot be placed; you may want to decrease the size of the markers or use stripplot.\n",
            "  warnings.warn(msg, UserWarning)\n",
            "/usr/local/lib/python3.7/dist-packages/seaborn/categorical.py:1296: UserWarning: 58.5% of the points cannot be placed; you may want to decrease the size of the markers or use stripplot.\n",
            "  warnings.warn(msg, UserWarning)\n",
            "/usr/local/lib/python3.7/dist-packages/seaborn/categorical.py:1296: UserWarning: 56.2% of the points cannot be placed; you may want to decrease the size of the markers or use stripplot.\n",
            "  warnings.warn(msg, UserWarning)\n"
          ]
        },
        {
          "output_type": "execute_result",
          "data": {
            "text/plain": [
              "<matplotlib.axes._subplots.AxesSubplot at 0x7ff86ddb7d10>"
            ]
          },
          "metadata": {},
          "execution_count": 12
        },
        {
          "output_type": "display_data",
          "data": {
            "text/plain": [
              "<Figure size 1440x504 with 1 Axes>"
            ],
            "image/png": "[encoded data removed]"
          },
          "metadata": {
            "needs_background": "light"
          }
        }
      ]
    },
    {
      "cell_type": "markdown",
      "source": [
        "From the Above plot we can conclude that..\n",
        "0. Indicating the Gender Female\n",
        "1. Indicating the Gender Infant\n",
        "2. Indicating the Gender Male\n",
        "\n",
        "We can also notice that the Female has the max value for the ring size .."
      ],
      "metadata": {
        "id": "Fqq6V5UySCbw"
      }
    },
    {
      "cell_type": "markdown",
      "source": [
        "Scatter Plot"
      ],
      "metadata": {
        "id": "LRGNKYq70nX4"
      }
    },
    {
      "cell_type": "code",
      "source": [
        "sns.regplot(x=\"Length\",y=\"Rings\",data=df)"
      ],
      "metadata": {
        "colab": {
          "base_uri": "https://localhost:8080/",
          "height": 298
        },
        "id": "HnWnPV0F0n-o",
        "outputId": "e54bb2c2-0d45-41eb-e9c4-4c014f918ff3"
      },
      "execution_count": 13,
      "outputs": [
        {
          "output_type": "execute_result",
          "data": {
            "text/plain": [
              "<matplotlib.axes._subplots.AxesSubplot at 0x7ff868723f10>"
            ]
          },
          "metadata": {},
          "execution_count": 13
        },
        {
          "output_type": "display_data",
          "data": {
            "text/plain": [
              "<Figure size 432x288 with 1 Axes>"
            ],
            "image/png": "[encoded data removed]"
          },
          "metadata": {
            "needs_background": "light"
          }
        }
      ]
    },
    {
      "cell_type": "code",
      "source": [
        "sns.lmplot(x=\"Diameter\",y=\"Rings\",data=df)"
      ],
      "metadata": {
        "colab": {
          "base_uri": "https://localhost:8080/",
          "height": 386
        },
        "id": "RqLG7olD0o0-",
        "outputId": "d2ac4f68-779e-4c3a-ce93-7d2ca3c6291d"
      },
      "execution_count": 14,
      "outputs": [
        {
          "output_type": "execute_result",
          "data": {
            "text/plain": [
              "<seaborn.axisgrid.FacetGrid at 0x7ff866ea4c90>"
            ]
          },
          "metadata": {},
          "execution_count": 14
        },
        {
          "output_type": "display_data",
          "data": {
            "text/plain": [
              "<Figure size 360x360 with 1 Axes>"
            ],
            "image/png": "[encoded data removed]"
          },
          "metadata": {
            "needs_background": "light"
          }
        }
      ]
    },
    {
      "cell_type": "code",
      "source": [
        "sns.scatterplot(x=\"Height\",y=\"Rings\",data=df)"
      ],
      "metadata": {
        "colab": {
          "base_uri": "https://localhost:8080/",
          "height": 298
        },
        "id": "oBPMGYAf0pbb",
        "outputId": "a2ad3a42-dc05-45cf-87bf-fac41687cd6d"
      },
      "execution_count": 15,
      "outputs": [
        {
          "output_type": "execute_result",
          "data": {
            "text/plain": [
              "<matplotlib.axes._subplots.AxesSubplot at 0x7ff866e067d0>"
            ]
          },
          "metadata": {},
          "execution_count": 15
        },
        {
          "output_type": "display_data",
          "data": {
            "text/plain": [
              "<Figure size 432x288 with 1 Axes>"
            ],
            "image/png": "[encoded data removed]"
          },
          "metadata": {
            "needs_background": "light"
          }
        }
      ]
    },
    {
      "cell_type": "code",
      "source": [
        "sns.kdeplot(x=\"Whole weight\",y=\"Rings\",data=df)"
      ],
      "metadata": {
        "colab": {
          "base_uri": "https://localhost:8080/",
          "height": 296
        },
        "id": "9lrKJq8v0p58",
        "outputId": "acce647e-f741-41ae-e13d-2dcc6b6dd358"
      },
      "execution_count": 16,
      "outputs": [
        {
          "output_type": "execute_result",
          "data": {
            "text/plain": [
              "<matplotlib.axes._subplots.AxesSubplot at 0x7ff866e06d10>"
            ]
          },
          "metadata": {},
          "execution_count": 16
        },
        {
          "output_type": "display_data",
          "data": {
            "text/plain": [
              "<Figure size 432x288 with 1 Axes>"
            ],
            "image/png": "[encoded data removed]"
          },
          "metadata": {
            "needs_background": "light"
          }
        }
      ]
    },
    {
      "cell_type": "code",
      "source": [
        "sns.scatterplot(x=\"Shucked weight\",y=\"Rings\",data=df)"
      ],
      "metadata": {
        "colab": {
          "base_uri": "https://localhost:8080/",
          "height": 298
        },
        "id": "LmCv574t0qnx",
        "outputId": "90e6c848-c4b8-4268-ed7d-53e308679504"
      },
      "execution_count": 17,
      "outputs": [
        {
          "output_type": "execute_result",
          "data": {
            "text/plain": [
              "<matplotlib.axes._subplots.AxesSubplot at 0x7ff866b1b390>"
            ]
          },
          "metadata": {},
          "execution_count": 17
        },
        {
          "output_type": "display_data",
          "data": {
            "text/plain": [
              "<Figure size 432x288 with 1 Axes>"
            ],
            "image/png": "[encoded data removed]"
          },
          "metadata": {
            "needs_background": "light"
          }
        }
      ]
    },
    {
      "cell_type": "code",
      "source": [
        "sns.displot(x=\"Viscera weight\",y=\"Rings\",data=df)"
      ],
      "metadata": {
        "colab": {
          "base_uri": "https://localhost:8080/",
          "height": 386
        },
        "id": "cr4s-niS0rI1",
        "outputId": "7925e5f6-e06f-452e-b6a0-044a61b91668"
      },
      "execution_count": 18,
      "outputs": [
        {
          "output_type": "execute_result",
          "data": {
            "text/plain": [
              "<seaborn.axisgrid.FacetGrid at 0x7ff866e66950>"
            ]
          },
          "metadata": {},
          "execution_count": 18
        },
        {
          "output_type": "display_data",
          "data": {
            "text/plain": [
              "<Figure size 360x360 with 1 Axes>"
            ],
            "image/png": "[encoded data removed]"
          },
          "metadata": {
            "needs_background": "light"
          }
        }
      ]
    },
    {
      "cell_type": "code",
      "source": [
        "sns.histplot(x=\"Shell weight\",y=\"Rings\",data=df)"
      ],
      "metadata": {
        "colab": {
          "base_uri": "https://localhost:8080/",
          "height": 298
        },
        "id": "b4i2sM8B0rm0",
        "outputId": "670d861e-e7bb-4f9a-e92c-f851225fd513"
      },
      "execution_count": 19,
      "outputs": [
        {
          "output_type": "execute_result",
          "data": {
            "text/plain": [
              "<matplotlib.axes._subplots.AxesSubplot at 0x7ff866a20990>"
            ]
          },
          "metadata": {},
          "execution_count": 19
        },
        {
          "output_type": "display_data",
          "data": {
            "text/plain": [
              "<Figure size 432x288 with 1 Axes>"
            ],
            "image/png": "[encoded data removed]"
          },
          "metadata": {
            "needs_background": "light"
          }
        }
      ]
    },
    {
      "cell_type": "code",
      "source": [
        "df.hist(figsize=(20,10), grid=False, layout=(3, 3), bins = 30)"
      ],
      "metadata": {
        "colab": {
          "base_uri": "https://localhost:8080/",
          "height": 781
        },
        "id": "tJT6mS366Y1E",
        "outputId": "0f81b9a7-7132-4737-c9dc-8fdba6c4d71e"
      },
      "execution_count": 20,
      "outputs": [
        {
          "output_type": "execute_result",
          "data": {
            "text/plain": [
              "array([[<matplotlib.axes._subplots.AxesSubplot object at 0x7ff86694d610>,\n",
              "        <matplotlib.axes._subplots.AxesSubplot object at 0x7ff8668fcc50>,\n",
              "        <matplotlib.axes._subplots.AxesSubplot object at 0x7ff8668c0290>],\n",
              "       [<matplotlib.axes._subplots.AxesSubplot object at 0x7ff866875890>,\n",
              "        <matplotlib.axes._subplots.AxesSubplot object at 0x7ff86682be90>,\n",
              "        <matplotlib.axes._subplots.AxesSubplot object at 0x7ff86a77c650>],\n",
              "       [<matplotlib.axes._subplots.AxesSubplot object at 0x7ff866e15610>,\n",
              "        <matplotlib.axes._subplots.AxesSubplot object at 0x7ff866d922d0>,\n",
              "        <matplotlib.axes._subplots.AxesSubplot object at 0x7ff866d92b10>]],\n",
              "      dtype=object)"
            ]
          },
          "metadata": {},
          "execution_count": 20
        },
        {
          "output_type": "display_data",
          "data": {
            "text/plain": [
              "<Figure size 1440x720 with 9 Axes>"
            ],
            "image/png": "[encoded data removed]"
          },
          "metadata": {
            "needs_background": "light"
          }
        }
      ]
    },
    {
      "cell_type": "markdown",
      "source": [
        "# Coorelation"
      ],
      "metadata": {
        "id": "ZV17xKpeVgNh"
      }
    },
    {
      "cell_type": "code",
      "source": [
        "df.corr()"
      ],
      "metadata": {
        "colab": {
          "base_uri": "https://localhost:8080/",
          "height": 331
        },
        "id": "zoMCDDIp227U",
        "outputId": "79323fea-a5d2-4c5f-c7c9-cadb91838391"
      },
      "execution_count": 21,
      "outputs": [
        {
          "output_type": "execute_result",
          "data": {
            "text/plain": [
              "                     Sex    Length  Diameter    Height  Whole weight  \\\n",
              "Sex             1.000000 -0.036066 -0.038874 -0.042077     -0.021391   \n",
              "Length         -0.036066  1.000000  0.986812  0.827554      0.925261   \n",
              "Diameter       -0.038874  0.986812  1.000000  0.833684      0.925452   \n",
              "Height         -0.042077  0.827554  0.833684  1.000000      0.819221   \n",
              "Whole weight   -0.021391  0.925261  0.925452  0.819221      1.000000   \n",
              "Shucked weight -0.001373  0.897914  0.893162  0.774972      0.969405   \n",
              "Viscera weight -0.032067  0.903018  0.899724  0.798319      0.966375   \n",
              "Shell weight   -0.034854  0.897706  0.905330  0.817338      0.955355   \n",
              "Rings          -0.034627  0.556720  0.574660  0.557467      0.540390   \n",
              "\n",
              "                Shucked weight  Viscera weight  Shell weight     Rings  \n",
              "Sex                  -0.001373       -0.032067     -0.034854 -0.034627  \n",
              "Length                0.897914        0.903018      0.897706  0.556720  \n",
              "Diameter              0.893162        0.899724      0.905330  0.574660  \n",
              "Height                0.774972        0.798319      0.817338  0.557467  \n",
              "Whole weight          0.969405        0.966375      0.955355  0.540390  \n",
              "Shucked weight        1.000000        0.931961      0.882617  0.420884  \n",
              "Viscera weight        0.931961        1.000000      0.907656  0.503819  \n",
              "Shell weight          0.882617        0.907656      1.000000  0.627574  \n",
              "Rings                 0.420884        0.503819      0.627574  1.000000  "
            ],
            "text/html": [
              "\n",
              "  <div id=\"df-49fe4d6a-b50c-409a-9ac2-25485ea708ec\">\n",
              "    <div class=\"colab-df-container\">\n",
              "      <div>\n",
              "<style scoped>\n",
              "    .dataframe tbody tr th:only-of-type {\n",
              "        vertical-align: middle;\n",
              "    }\n",
              "\n",
              "    .dataframe tbody tr th {\n",
              "        vertical-align: top;\n",
              "    }\n",
              "\n",
              "    .dataframe thead th {\n",
              "        text-align: right;\n",
              "    }\n",
              "</style>\n",
              "<table border=\"1\" class=\"dataframe\">\n",
              "  <thead>\n",
              "    <tr style=\"text-align: right;\">\n",
              "      <th></th>\n",
              "      <th>Sex</th>\n",
              "      <th>Length</th>\n",
              "      <th>Diameter</th>\n",
              "      <th>Height</th>\n",
              "      <th>Whole weight</th>\n",
              "      <th>Shucked weight</th>\n",
              "      <th>Viscera weight</th>\n",
              "      <th>Shell weight</th>\n",
              "      <th>Rings</th>\n",
              "    </tr>\n",
              "  </thead>\n",
              "  <tbody>\n",
              "    <tr>\n",
              "      <th>Sex</th>\n",
              "      <td>1.000000</td>\n",
              "      <td>-0.036066</td>\n",
              "      <td>-0.038874</td>\n",
              "      <td>-0.042077</td>\n",
              "      <td>-0.021391</td>\n",
              "      <td>-0.001373</td>\n",
              "      <td>-0.032067</td>\n",
              "      <td>-0.034854</td>\n",
              "      <td>-0.034627</td>\n",
              "    </tr>\n",
              "    <tr>\n",
              "      <th>Length</th>\n",
              "      <td>-0.036066</td>\n",
              "      <td>1.000000</td>\n",
              "      <td>0.986812</td>\n",
              "      <td>0.827554</td>\n",
              "      <td>0.925261</td>\n",
              "      <td>0.897914</td>\n",
              "      <td>0.903018</td>\n",
              "      <td>0.897706</td>\n",
              "      <td>0.556720</td>\n",
              "    </tr>\n",
              "    <tr>\n",
              "      <th>Diameter</th>\n",
              "      <td>-0.038874</td>\n",
              "      <td>0.986812</td>\n",
              "      <td>1.000000</td>\n",
              "      <td>0.833684</td>\n",
              "      <td>0.925452</td>\n",
              "      <td>0.893162</td>\n",
              "      <td>0.899724</td>\n",
              "      <td>0.905330</td>\n",
              "      <td>0.574660</td>\n",
              "    </tr>\n",
              "    <tr>\n",
              "      <th>Height</th>\n",
              "      <td>-0.042077</td>\n",
              "      <td>0.827554</td>\n",
              "      <td>0.833684</td>\n",
              "      <td>1.000000</td>\n",
              "      <td>0.819221</td>\n",
              "      <td>0.774972</td>\n",
              "      <td>0.798319</td>\n",
              "      <td>0.817338</td>\n",
              "      <td>0.557467</td>\n",
              "    </tr>\n",
              "    <tr>\n",
              "      <th>Whole weight</th>\n",
              "      <td>-0.021391</td>\n",
              "      <td>0.925261</td>\n",
              "      <td>0.925452</td>\n",
              "      <td>0.819221</td>\n",
              "      <td>1.000000</td>\n",
              "      <td>0.969405</td>\n",
              "      <td>0.966375</td>\n",
              "      <td>0.955355</td>\n",
              "      <td>0.540390</td>\n",
              "    </tr>\n",
              "    <tr>\n",
              "      <th>Shucked weight</th>\n",
              "      <td>-0.001373</td>\n",
              "      <td>0.897914</td>\n",
              "      <td>0.893162</td>\n",
              "      <td>0.774972</td>\n",
              "      <td>0.969405</td>\n",
              "      <td>1.000000</td>\n",
              "      <td>0.931961</td>\n",
              "      <td>0.882617</td>\n",
              "      <td>0.420884</td>\n",
              "    </tr>\n",
              "    <tr>\n",
              "      <th>Viscera weight</th>\n",
              "      <td>-0.032067</td>\n",
              "      <td>0.903018</td>\n",
              "      <td>0.899724</td>\n",
              "      <td>0.798319</td>\n",
              "      <td>0.966375</td>\n",
              "      <td>0.931961</td>\n",
              "      <td>1.000000</td>\n",
              "      <td>0.907656</td>\n",
              "      <td>0.503819</td>\n",
              "    </tr>\n",
              "    <tr>\n",
              "      <th>Shell weight</th>\n",
              "      <td>-0.034854</td>\n",
              "      <td>0.897706</td>\n",
              "      <td>0.905330</td>\n",
              "      <td>0.817338</td>\n",
              "      <td>0.955355</td>\n",
              "      <td>0.882617</td>\n",
              "      <td>0.907656</td>\n",
              "      <td>1.000000</td>\n",
              "      <td>0.627574</td>\n",
              "    </tr>\n",
              "    <tr>\n",
              "      <th>Rings</th>\n",
              "      <td>-0.034627</td>\n",
              "      <td>0.556720</td>\n",
              "      <td>0.574660</td>\n",
              "      <td>0.557467</td>\n",
              "      <td>0.540390</td>\n",
              "      <td>0.420884</td>\n",
              "      <td>0.503819</td>\n",
              "      <td>0.627574</td>\n",
              "      <td>1.000000</td>\n",
              "    </tr>\n",
              "  </tbody>\n",
              "</table>\n",
              "</div>\n",
              "      <button class=\"colab-df-convert\" onclick=\"convertToInteractive('df-49fe4d6a-b50c-409a-9ac2-25485ea708ec')\"\n",
              "              title=\"Convert this dataframe to an interactive table.\"\n",
              "              style=\"display:none;\">\n",
              "        \n",
              "  <svg xmlns=\"http://www.w3.org/2000/svg\" height=\"24px\"viewBox=\"0 0 24 24\"\n",
              "       width=\"24px\">\n",
              "    <path d=\"M0 0h24v24H0V0z\" fill=\"none\"/>\n",
              "    <path d=\"M18.56 5.44l.94 2.06.94-2.06 2.06-.94-2.06-.94-.94-2.06-.94 2.06-2.06.94zm-11 1L8.5 8.5l.94-2.06 2.06-.94-2.06-.94L8.5 2.5l-.94 2.06-2.06.94zm10 10l.94 2.06.94-2.06 2.06-.94-2.06-.94-.94-2.06-.94 2.06-2.06.94z\"/><path d=\"M17.41 7.96l-1.37-1.37c-.4-.4-.92-.59-1.43-.59-.52 0-1.04.2-1.43.59L10.3 9.45l-7.72 7.72c-.78.78-.78 2.05 0 2.83L4 21.41c.39.39.9.59 1.41.59.51 0 1.02-.2 1.41-.59l7.78-7.78 2.81-2.81c.8-.78.8-2.07 0-2.86zM5.41 20L4 18.59l7.72-7.72 1.47 1.35L5.41 20z\"/>\n",
              "  </svg>\n",
              "      </button>\n",
              "      \n",
              "  <style>\n",
              "    .colab-df-container {\n",
              "      display:flex;\n",
              "      flex-wrap:wrap;\n",
              "      gap: 12px;\n",
              "    }\n",
              "\n",
              "    .colab-df-convert {\n",
              "      background-color: #E8F0FE;\n",
              "      border: none;\n",
              "      border-radius: 50%;\n",
              "      cursor: pointer;\n",
              "      display: none;\n",
              "      fill: #1967D2;\n",
              "      height: 32px;\n",
              "      padding: 0 0 0 0;\n",
              "      width: 32px;\n",
              "    }\n",
              "\n",
              "    .colab-df-convert:hover {\n",
              "      background-color: #E2EBFA;\n",
              "      box-shadow: 0px 1px 2px rgba(60, 64, 67, 0.3), 0px 1px 3px 1px rgba(60, 64, 67, 0.15);\n",
              "      fill: #174EA6;\n",
              "    }\n",
              "\n",
              "    [theme=dark] .colab-df-convert {\n",
              "      background-color: #3B4455;\n",
              "      fill: #D2E3FC;\n",
              "    }\n",
              "\n",
              "    [theme=dark] .colab-df-convert:hover {\n",
              "      background-color: #434B5C;\n",
              "      box-shadow: 0px 1px 3px 1px rgba(0, 0, 0, 0.15);\n",
              "      filter: drop-shadow(0px 1px 2px rgba(0, 0, 0, 0.3));\n",
              "      fill: #FFFFFF;\n",
              "    }\n",
              "  </style>\n",
              "\n",
              "      <script>\n",
              "        const buttonEl =\n",
              "          document.querySelector('#df-49fe4d6a-b50c-409a-9ac2-25485ea708ec button.colab-df-convert');\n",
              "        buttonEl.style.display =\n",
              "          google.colab.kernel.accessAllowed ? 'block' : 'none';\n",
              "\n",
              "        async function convertToInteractive(key) {\n",
              "          const element = document.querySelector('#df-49fe4d6a-b50c-409a-9ac2-25485ea708ec');\n",
              "          const dataTable =\n",
              "            await google.colab.kernel.invokeFunction('convertToInteractive',\n",
              "                                                     [key], {});\n",
              "          if (!dataTable) return;\n",
              "\n",
              "          const docLinkHtml = 'Like what you see? Visit the ' +\n",
              "            '<a target=\"_blank\" href=https://colab.research.google.com/notebooks/data_table.ipynb>data table notebook</a>'\n",
              "            + ' to learn more about interactive tables.';\n",
              "          element.innerHTML = '';\n",
              "          dataTable['output_type'] = 'display_data';\n",
              "          await google.colab.output.renderOutput(dataTable, element);\n",
              "          const docLink = document.createElement('div');\n",
              "          docLink.innerHTML = docLinkHtml;\n",
              "          element.appendChild(docLink);\n",
              "        }\n",
              "      </script>\n",
              "    </div>\n",
              "  </div>\n",
              "  "
            ]
          },
          "metadata": {},
          "execution_count": 21
        }
      ]
    },
    {
      "cell_type": "code",
      "source": [
        "df.corr()['Rings'].sort_values()"
      ],
      "metadata": {
        "colab": {
          "base_uri": "https://localhost:8080/"
        },
        "id": "w8QdbOSyVnJf",
        "outputId": "5f0bb5bd-c353-41e1-a1d4-ffd816734569"
      },
      "execution_count": 22,
      "outputs": [
        {
          "output_type": "execute_result",
          "data": {
            "text/plain": [
              "Sex              -0.034627\n",
              "Shucked weight    0.420884\n",
              "Viscera weight    0.503819\n",
              "Whole weight      0.540390\n",
              "Length            0.556720\n",
              "Height            0.557467\n",
              "Diameter          0.574660\n",
              "Shell weight      0.627574\n",
              "Rings             1.000000\n",
              "Name: Rings, dtype: float64"
            ]
          },
          "metadata": {},
          "execution_count": 22
        }
      ]
    },
    {
      "cell_type": "code",
      "source": [
        "import matplotlib.pyplot as plt\n",
        "plt.figure(figsize=(15,7))\n",
        "sns.heatmap(df.corr(), annot=True, linewidths=0.5,linecolor=\"black\", fmt='.2f')"
      ],
      "metadata": {
        "colab": {
          "base_uri": "https://localhost:8080/",
          "height": 519
        },
        "id": "KacYYYoIXMHN",
        "outputId": "1a147a79-27b5-4fe0-9a5f-2d02b17ed6f8"
      },
      "execution_count": 23,
      "outputs": [
        {
          "output_type": "execute_result",
          "data": {
            "text/plain": [
              "<matplotlib.axes._subplots.AxesSubplot at 0x7ff86632cdd0>"
            ]
          },
          "metadata": {},
          "execution_count": 23
        },
        {
          "output_type": "display_data",
          "data": {
            "text/plain": [
              "<Figure size 1080x504 with 2 Axes>"
            ],
            "image/png": "[encoded data removed]"
          },
          "metadata": {
            "needs_background": "light"
          }
        }
      ]
    },
    {
      "cell_type": "markdown",
      "source": [
        "# Outcome of Coorelation"
      ],
      "metadata": {
        "id": "r4FwI-sJXkIo"
      }
    },
    {
      "cell_type": "markdown",
      "source": [
        "All the Columns are Positively Coorelated with the Salary\n",
        "\n",
        "1. Length has a Correlation of 56 percent with Rings which can be considered as a Strong Bond..\n",
        "\n",
        "2. Diamater has a Correlation of 57 percent with Rings which can be considered as a Good Bond..\n",
        "\n",
        "3. Hieght has a Correlation of 56 percent with Rings which can be considered as a strong bond..\n",
        "\n",
        "4. Whole Wieght has a Correlation of 54 percent with Rings which can be considered as a strong Bond..\n",
        "\n",
        "5. Shucked Wieght has a Correlation of 42 percent with Rings which can be considered as a Strong Bond..\n",
        "\n",
        "6. Viscera weight has a Correlation of 50 percent with Rings which can be considered as a Strong Bond..\n",
        "\n",
        "7. Shell Wieght has a Correlation of 63 percent with Rings which can be considered as a Strong Bond..\n",
        "\n",
        "\n",
        "* Max Correlation - Shell Wieght\n",
        "* Min Coorelation - Sex"
      ],
      "metadata": {
        "id": "gFnVbG0yX-rk"
      }
    },
    {
      "cell_type": "markdown",
      "source": [
        "# Checking the data Distribution among all the columns"
      ],
      "metadata": {
        "id": "6-uBaZO-eMXO"
      }
    },
    {
      "cell_type": "code",
      "source": [
        "df.plot(kind='density', subplots=True, layout=(3,3), sharex=False, legend=False, fontsize=1, figsize=(18,12))"
      ],
      "metadata": {
        "colab": {
          "base_uri": "https://localhost:8080/",
          "height": 865
        },
        "id": "qfgXHE6VeO5X",
        "outputId": "4bbe2b4d-e8b1-4262-9f5a-05ca66bce2a2"
      },
      "execution_count": 24,
      "outputs": [
        {
          "output_type": "execute_result",
          "data": {
            "text/plain": [
              "array([[<matplotlib.axes._subplots.AxesSubplot object at 0x7ff8662ab350>,\n",
              "        <matplotlib.axes._subplots.AxesSubplot object at 0x7ff866218ed0>,\n",
              "        <matplotlib.axes._subplots.AxesSubplot object at 0x7ff8661d5350>],\n",
              "       [<matplotlib.axes._subplots.AxesSubplot object at 0x7ff86618c850>,\n",
              "        <matplotlib.axes._subplots.AxesSubplot object at 0x7ff866142d50>,\n",
              "        <matplotlib.axes._subplots.AxesSubplot object at 0x7ff866106290>],\n",
              "       [<matplotlib.axes._subplots.AxesSubplot object at 0x7ff8660bb810>,\n",
              "        <matplotlib.axes._subplots.AxesSubplot object at 0x7ff866072c50>,\n",
              "        <matplotlib.axes._subplots.AxesSubplot object at 0x7ff866072c90>]],\n",
              "      dtype=object)"
            ]
          },
          "metadata": {},
          "execution_count": 24
        },
        {
          "output_type": "display_data",
          "data": {
            "text/plain": [
              "<Figure size 1296x864 with 9 Axes>"
            ],
            "image/png": "[encoded data removed]"
          },
          "metadata": {
            "needs_background": "light"
          }
        }
      ]
    },
    {
      "cell_type": "markdown",
      "source": [
        "# Descriptive Statistics"
      ],
      "metadata": {
        "id": "J5p8gHzAZeq7"
      }
    },
    {
      "cell_type": "markdown",
      "source": [
        "Describing Datasets"
      ],
      "metadata": {
        "id": "4d7UMjCOZn7H"
      }
    },
    {
      "cell_type": "code",
      "source": [
        "df.describe()"
      ],
      "metadata": {
        "colab": {
          "base_uri": "https://localhost:8080/",
          "height": 300
        },
        "id": "cZppMtX5ZUBU",
        "outputId": "f7b4db10-459a-4c31-e757-61a35b8106e5"
      },
      "execution_count": 28,
      "outputs": [
        {
          "output_type": "execute_result",
          "data": {
            "text/plain": [
              "               Sex       Length     Diameter       Height  Whole weight  \\\n",
              "count  4177.000000  4177.000000  4177.000000  4177.000000   4177.000000   \n",
              "mean      1.052909     0.523992     0.407881     0.139516      0.828742   \n",
              "std       0.822240     0.120093     0.099240     0.041827      0.490389   \n",
              "min       0.000000     0.075000     0.055000     0.000000      0.002000   \n",
              "25%       0.000000     0.450000     0.350000     0.115000      0.441500   \n",
              "50%       1.000000     0.545000     0.425000     0.140000      0.799500   \n",
              "75%       2.000000     0.615000     0.480000     0.165000      1.153000   \n",
              "max       2.000000     0.815000     0.650000     1.130000      2.825500   \n",
              "\n",
              "       Shucked weight  Viscera weight  Shell weight        Rings  \n",
              "count     4177.000000     4177.000000   4177.000000  4177.000000  \n",
              "mean         0.359367        0.180594      0.238831     9.933684  \n",
              "std          0.221963        0.109614      0.139203     3.224169  \n",
              "min          0.001000        0.000500      0.001500     1.000000  \n",
              "25%          0.186000        0.093500      0.130000     8.000000  \n",
              "50%          0.336000        0.171000      0.234000     9.000000  \n",
              "75%          0.502000        0.253000      0.329000    11.000000  \n",
              "max          1.488000        0.760000      1.005000    29.000000  "
            ],
            "text/html": [
              "\n",
              "  <div id=\"df-87a2560b-9a87-40ff-b498-38db88409e21\">\n",
              "    <div class=\"colab-df-container\">\n",
              "      <div>\n",
              "<style scoped>\n",
              "    .dataframe tbody tr th:only-of-type {\n",
              "        vertical-align: middle;\n",
              "    }\n",
              "\n",
              "    .dataframe tbody tr th {\n",
              "        vertical-align: top;\n",
              "    }\n",
              "\n",
              "    .dataframe thead th {\n",
              "        text-align: right;\n",
              "    }\n",
              "</style>\n",
              "<table border=\"1\" class=\"dataframe\">\n",
              "  <thead>\n",
              "    <tr style=\"text-align: right;\">\n",
              "      <th></th>\n",
              "      <th>Sex</th>\n",
              "      <th>Length</th>\n",
              "      <th>Diameter</th>\n",
              "      <th>Height</th>\n",
              "      <th>Whole weight</th>\n",
              "      <th>Shucked weight</th>\n",
              "      <th>Viscera weight</th>\n",
              "      <th>Shell weight</th>\n",
              "      <th>Rings</th>\n",
              "    </tr>\n",
              "  </thead>\n",
              "  <tbody>\n",
              "    <tr>\n",
              "      <th>count</th>\n",
              "      <td>4177.000000</td>\n",
              "      <td>4177.000000</td>\n",
              "      <td>4177.000000</td>\n",
              "      <td>4177.000000</td>\n",
              "      <td>4177.000000</td>\n",
              "      <td>4177.000000</td>\n",
              "      <td>4177.000000</td>\n",
              "      <td>4177.000000</td>\n",
              "      <td>4177.000000</td>\n",
              "    </tr>\n",
              "    <tr>\n",
              "      <th>mean</th>\n",
              "      <td>1.052909</td>\n",
              "      <td>0.523992</td>\n",
              "      <td>0.407881</td>\n",
              "      <td>0.139516</td>\n",
              "      <td>0.828742</td>\n",
              "      <td>0.359367</td>\n",
              "      <td>0.180594</td>\n",
              "      <td>0.238831</td>\n",
              "      <td>9.933684</td>\n",
              "    </tr>\n",
              "    <tr>\n",
              "      <th>std</th>\n",
              "      <td>0.822240</td>\n",
              "      <td>0.120093</td>\n",
              "      <td>0.099240</td>\n",
              "      <td>0.041827</td>\n",
              "      <td>0.490389</td>\n",
              "      <td>0.221963</td>\n",
              "      <td>0.109614</td>\n",
              "      <td>0.139203</td>\n",
              "      <td>3.224169</td>\n",
              "    </tr>\n",
              "    <tr>\n",
              "      <th>min</th>\n",
              "      <td>0.000000</td>\n",
              "      <td>0.075000</td>\n",
              "      <td>0.055000</td>\n",
              "      <td>0.000000</td>\n",
              "      <td>0.002000</td>\n",
              "      <td>0.001000</td>\n",
              "      <td>0.000500</td>\n",
              "      <td>0.001500</td>\n",
              "      <td>1.000000</td>\n",
              "    </tr>\n",
              "    <tr>\n",
              "      <th>25%</th>\n",
              "      <td>0.000000</td>\n",
              "      <td>0.450000</td>\n",
              "      <td>0.350000</td>\n",
              "      <td>0.115000</td>\n",
              "      <td>0.441500</td>\n",
              "      <td>0.186000</td>\n",
              "      <td>0.093500</td>\n",
              "      <td>0.130000</td>\n",
              "      <td>8.000000</td>\n",
              "    </tr>\n",
              "    <tr>\n",
              "      <th>50%</th>\n",
              "      <td>1.000000</td>\n",
              "      <td>0.545000</td>\n",
              "      <td>0.425000</td>\n",
              "      <td>0.140000</td>\n",
              "      <td>0.799500</td>\n",
              "      <td>0.336000</td>\n",
              "      <td>0.171000</td>\n",
              "      <td>0.234000</td>\n",
              "      <td>9.000000</td>\n",
              "    </tr>\n",
              "    <tr>\n",
              "      <th>75%</th>\n",
              "      <td>2.000000</td>\n",
              "      <td>0.615000</td>\n",
              "      <td>0.480000</td>\n",
              "      <td>0.165000</td>\n",
              "      <td>1.153000</td>\n",
              "      <td>0.502000</td>\n",
              "      <td>0.253000</td>\n",
              "      <td>0.329000</td>\n",
              "      <td>11.000000</td>\n",
              "    </tr>\n",
              "    <tr>\n",
              "      <th>max</th>\n",
              "      <td>2.000000</td>\n",
              "      <td>0.815000</td>\n",
              "      <td>0.650000</td>\n",
              "      <td>1.130000</td>\n",
              "      <td>2.825500</td>\n",
              "      <td>1.488000</td>\n",
              "      <td>0.760000</td>\n",
              "      <td>1.005000</td>\n",
              "      <td>29.000000</td>\n",
              "    </tr>\n",
              "  </tbody>\n",
              "</table>\n",
              "</div>\n",
              "      <button class=\"colab-df-convert\" onclick=\"convertToInteractive('df-87a2560b-9a87-40ff-b498-38db88409e21')\"\n",
              "              title=\"Convert this dataframe to an interactive table.\"\n",
              "              style=\"display:none;\">\n",
              "        \n",
              "  <svg xmlns=\"http://www.w3.org/2000/svg\" height=\"24px\"viewBox=\"0 0 24 24\"\n",
              "       width=\"24px\">\n",
              "    <path d=\"M0 0h24v24H0V0z\" fill=\"none\"/>\n",
              "    <path d=\"M18.56 5.44l.94 2.06.94-2.06 2.06-.94-2.06-.94-.94-2.06-.94 2.06-2.06.94zm-11 1L8.5 8.5l.94-2.06 2.06-.94-2.06-.94L8.5 2.5l-.94 2.06-2.06.94zm10 10l.94 2.06.94-2.06 2.06-.94-2.06-.94-.94-2.06-.94 2.06-2.06.94z\"/><path d=\"M17.41 7.96l-1.37-1.37c-.4-.4-.92-.59-1.43-.59-.52 0-1.04.2-1.43.59L10.3 9.45l-7.72 7.72c-.78.78-.78 2.05 0 2.83L4 21.41c.39.39.9.59 1.41.59.51 0 1.02-.2 1.41-.59l7.78-7.78 2.81-2.81c.8-.78.8-2.07 0-2.86zM5.41 20L4 18.59l7.72-7.72 1.47 1.35L5.41 20z\"/>\n",
              "  </svg>\n",
              "      </button>\n",
              "      \n",
              "  <style>\n",
              "    .colab-df-container {\n",
              "      display:flex;\n",
              "      flex-wrap:wrap;\n",
              "      gap: 12px;\n",
              "    }\n",
              "\n",
              "    .colab-df-convert {\n",
              "      background-color: #E8F0FE;\n",
              "      border: none;\n",
              "      border-radius: 50%;\n",
              "      cursor: pointer;\n",
              "      display: none;\n",
              "      fill: #1967D2;\n",
              "      height: 32px;\n",
              "      padding: 0 0 0 0;\n",
              "      width: 32px;\n",
              "    }\n",
              "\n",
              "    .colab-df-convert:hover {\n",
              "      background-color: #E2EBFA;\n",
              "      box-shadow: 0px 1px 2px rgba(60, 64, 67, 0.3), 0px 1px 3px 1px rgba(60, 64, 67, 0.15);\n",
              "      fill: #174EA6;\n",
              "    }\n",
              "\n",
              "    [theme=dark] .colab-df-convert {\n",
              "      background-color: #3B4455;\n",
              "      fill: #D2E3FC;\n",
              "    }\n",
              "\n",
              "    [theme=dark] .colab-df-convert:hover {\n",
              "      background-color: #434B5C;\n",
              "      box-shadow: 0px 1px 3px 1px rgba(0, 0, 0, 0.15);\n",
              "      filter: drop-shadow(0px 1px 2px rgba(0, 0, 0, 0.3));\n",
              "      fill: #FFFFFF;\n",
              "    }\n",
              "  </style>\n",
              "\n",
              "      <script>\n",
              "        const buttonEl =\n",
              "          document.querySelector('#df-87a2560b-9a87-40ff-b498-38db88409e21 button.colab-df-convert');\n",
              "        buttonEl.style.display =\n",
              "          google.colab.kernel.accessAllowed ? 'block' : 'none';\n",
              "\n",
              "        async function convertToInteractive(key) {\n",
              "          const element = document.querySelector('#df-87a2560b-9a87-40ff-b498-38db88409e21');\n",
              "          const dataTable =\n",
              "            await google.colab.kernel.invokeFunction('convertToInteractive',\n",
              "                                                     [key], {});\n",
              "          if (!dataTable) return;\n",
              "\n",
              "          const docLinkHtml = 'Like what you see? Visit the ' +\n",
              "            '<a target=\"_blank\" href=https://colab.research.google.com/notebooks/data_table.ipynb>data table notebook</a>'\n",
              "            + ' to learn more about interactive tables.';\n",
              "          element.innerHTML = '';\n",
              "          dataTable['output_type'] = 'display_data';\n",
              "          await google.colab.output.renderOutput(dataTable, element);\n",
              "          const docLink = document.createElement('div');\n",
              "          docLink.innerHTML = docLinkHtml;\n",
              "          element.appendChild(docLink);\n",
              "        }\n",
              "      </script>\n",
              "    </div>\n",
              "  </div>\n",
              "  "
            ]
          },
          "metadata": {},
          "execution_count": 28
        }
      ]
    },
    {
      "cell_type": "code",
      "source": [
        "plt.figure(figsize=(15,7))\n",
        "sns.heatmap(round(df.describe()[1:].transpose(),2), annot=True, linewidths=0.5,linecolor=\"black\", fmt='f')"
      ],
      "metadata": {
        "colab": {
          "base_uri": "https://localhost:8080/",
          "height": 446
        },
        "id": "UmAk6vLfZtza",
        "outputId": "8d3c66b8-8c72-44c4-d1f1-ca89886092b6"
      },
      "execution_count": 29,
      "outputs": [
        {
          "output_type": "execute_result",
          "data": {
            "text/plain": [
              "<matplotlib.axes._subplots.AxesSubplot at 0x7ff865d4dc10>"
            ]
          },
          "metadata": {},
          "execution_count": 29
        },
        {
          "output_type": "display_data",
          "data": {
            "text/plain": [
              "<Figure size 1080x504 with 2 Axes>"
            ],
            "image/png": "[encoded data removed]"
          },
          "metadata": {
            "needs_background": "light"
          }
        }
      ]
    },
    {
      "cell_type": "code",
      "source": [
        "df.info()"
      ],
      "metadata": {
        "colab": {
          "base_uri": "https://localhost:8080/"
        },
        "id": "ZG0ZDh6PZuay",
        "outputId": "f0dd3d7a-df19-43b2-c46a-352f28f9794c"
      },
      "execution_count": 30,
      "outputs": [
        {
          "output_type": "stream",
          "name": "stdout",
          "text": [
            "<class 'pandas.core.frame.DataFrame'>\n",
            "RangeIndex: 4177 entries, 0 to 4176\n",
            "Data columns (total 9 columns):\n",
            " #   Column          Non-Null Count  Dtype  \n",
            "---  ------          --------------  -----  \n",
            " 0   Sex             4177 non-null   float64\n",
            " 1   Length          4177 non-null   float64\n",
            " 2   Diameter        4177 non-null   float64\n",
            " 3   Height          4177 non-null   float64\n",
            " 4   Whole weight    4177 non-null   float64\n",
            " 5   Shucked weight  4177 non-null   float64\n",
            " 6   Viscera weight  4177 non-null   float64\n",
            " 7   Shell weight    4177 non-null   float64\n",
            " 8   Rings           4177 non-null   int64  \n",
            "dtypes: float64(8), int64(1)\n",
            "memory usage: 293.8 KB\n"
          ]
        }
      ]
    },
    {
      "cell_type": "markdown",
      "source": [
        "# Outcome of Descriptive Statistics"
      ],
      "metadata": {
        "id": "K4gmTcaQenk0"
      }
    },
    {
      "cell_type": "markdown",
      "source": [
        "From the above plotting we are determining mean Standard Deviation , minimum and maximum value of each column. It Helps further in data cleaning ..\n",
        "\n",
        "* Total Numbers of rows in the Datasets are : -\n",
        "   * 4176 Rows\n",
        "   * 9 Columns\n",
        "\n",
        "* Sex : -\n",
        "   * Mean_Value - 1.052909\n",
        "   * Max_Value - 2.00000\n",
        "   * Min_Value - 0.00000\n",
        "   * Std - 0.822240\n",
        "\n",
        "* Length : -\n",
        "   * Mean_Value - 0.523992 \n",
        "   * Max_Value - 0.815000\n",
        "   * Min_Value - 0.075000\n",
        "   * Std - 0.120093\n",
        "\n",
        "* Diameter : -\n",
        "\n",
        "   * Mean_Value - 0.407881\n",
        "   * Max_Value - 0.650000\n",
        "   * Min_Value - 0.055000\n",
        "   * Std - 0.099240\n",
        "\n",
        "* Hieght : -\n",
        "   * Mean_Value - 0.139516\n",
        "   * Max_Value - 1.130000\n",
        "   * Min_Value - 0.00000\n",
        "   * Std   - 0.042187\n",
        "\n",
        "* Whole Wieght : -   \n",
        "   * Mean_Value -  0.82878\n",
        "   * Max_Value - 2.825550\n",
        "   * Min_Value - 0.00020\n",
        "   * Std - 0.490389\n",
        "\n",
        "* Shucked Wieght : -   \n",
        "   * Mean_Value -  0.359367\n",
        "   * Max_Value - 1.488000\n",
        "   * Min_Value - 0.00100\n",
        "   * Std - 0.221963\n",
        "\n",
        "* Viscera Wieght : -   \n",
        "   * Mean_Value -  0.180594\n",
        "   * Max_Value - 0.760000\n",
        "   * Min_Value - 0.00500\n",
        "   * Std -  0.109614\n",
        "\n",
        "* Shell Wieght : -   \n",
        "   * Mean_Value -  0.238831\n",
        "   * Max_Value - 1.005000\n",
        "   * Min_Value - 0.001500\n",
        "   * Std -      0.132903\n",
        "\n",
        "* Ring : -   \n",
        "   * Mean_Value -  9.933684\n",
        "   * Max_Value - 29.00000\n",
        "   * Min_Value - 1.00000\n",
        "   * Std - 3.224169\n"
      ],
      "metadata": {
        "id": "n7ara1T8eujj"
      }
    },
    {
      "cell_type": "markdown",
      "source": [
        "# Checking Data To Remove Skewness"
      ],
      "metadata": {
        "id": "V4E6D5H7lztV"
      }
    },
    {
      "cell_type": "markdown",
      "source": [
        "Removing the Target Column"
      ],
      "metadata": {
        "id": "Fu29YUJtSFiV"
      }
    },
    {
      "cell_type": "code",
      "source": [
        "df.iloc[:,:-1]"
      ],
      "metadata": {
        "colab": {
          "base_uri": "https://localhost:8080/",
          "height": 423
        },
        "id": "Fjg00dFomDQ-",
        "outputId": "d1a0edc7-7bdd-44e9-dc73-83f59ea610dd"
      },
      "execution_count": 31,
      "outputs": [
        {
          "output_type": "execute_result",
          "data": {
            "text/plain": [
              "      Sex  Length  Diameter  Height  Whole weight  Shucked weight  \\\n",
              "0     2.0   0.455     0.365   0.095        0.5140          0.2245   \n",
              "1     2.0   0.350     0.265   0.090        0.2255          0.0995   \n",
              "2     0.0   0.530     0.420   0.135        0.6770          0.2565   \n",
              "3     2.0   0.440     0.365   0.125        0.5160          0.2155   \n",
              "4     1.0   0.330     0.255   0.080        0.2050          0.0895   \n",
              "...   ...     ...       ...     ...           ...             ...   \n",
              "4172  0.0   0.565     0.450   0.165        0.8870          0.3700   \n",
              "4173  2.0   0.590     0.440   0.135        0.9660          0.4390   \n",
              "4174  2.0   0.600     0.475   0.205        1.1760          0.5255   \n",
              "4175  0.0   0.625     0.485   0.150        1.0945          0.5310   \n",
              "4176  2.0   0.710     0.555   0.195        1.9485          0.9455   \n",
              "\n",
              "      Viscera weight  Shell weight  \n",
              "0             0.1010        0.1500  \n",
              "1             0.0485        0.0700  \n",
              "2             0.1415        0.2100  \n",
              "3             0.1140        0.1550  \n",
              "4             0.0395        0.0550  \n",
              "...              ...           ...  \n",
              "4172          0.2390        0.2490  \n",
              "4173          0.2145        0.2605  \n",
              "4174          0.2875        0.3080  \n",
              "4175          0.2610        0.2960  \n",
              "4176          0.3765        0.4950  \n",
              "\n",
              "[4177 rows x 8 columns]"
            ],
            "text/html": [
              "\n",
              "  <div id=\"df-b8b49b64-f753-431c-8d1f-392bb47c10d9\">\n",
              "    <div class=\"colab-df-container\">\n",
              "      <div>\n",
              "<style scoped>\n",
              "    .dataframe tbody tr th:only-of-type {\n",
              "        vertical-align: middle;\n",
              "    }\n",
              "\n",
              "    .dataframe tbody tr th {\n",
              "        vertical-align: top;\n",
              "    }\n",
              "\n",
              "    .dataframe thead th {\n",
              "        text-align: right;\n",
              "    }\n",
              "</style>\n",
              "<table border=\"1\" class=\"dataframe\">\n",
              "  <thead>\n",
              "    <tr style=\"text-align: right;\">\n",
              "      <th></th>\n",
              "      <th>Sex</th>\n",
              "      <th>Length</th>\n",
              "      <th>Diameter</th>\n",
              "      <th>Height</th>\n",
              "      <th>Whole weight</th>\n",
              "      <th>Shucked weight</th>\n",
              "      <th>Viscera weight</th>\n",
              "      <th>Shell weight</th>\n",
              "    </tr>\n",
              "  </thead>\n",
              "  <tbody>\n",
              "    <tr>\n",
              "      <th>0</th>\n",
              "      <td>2.0</td>\n",
              "      <td>0.455</td>\n",
              "      <td>0.365</td>\n",
              "      <td>0.095</td>\n",
              "      <td>0.5140</td>\n",
              "      <td>0.2245</td>\n",
              "      <td>0.1010</td>\n",
              "      <td>0.1500</td>\n",
              "    </tr>\n",
              "    <tr>\n",
              "      <th>1</th>\n",
              "      <td>2.0</td>\n",
              "      <td>0.350</td>\n",
              "      <td>0.265</td>\n",
              "      <td>0.090</td>\n",
              "      <td>0.2255</td>\n",
              "      <td>0.0995</td>\n",
              "      <td>0.0485</td>\n",
              "      <td>0.0700</td>\n",
              "    </tr>\n",
              "    <tr>\n",
              "      <th>2</th>\n",
              "      <td>0.0</td>\n",
              "      <td>0.530</td>\n",
              "      <td>0.420</td>\n",
              "      <td>0.135</td>\n",
              "      <td>0.6770</td>\n",
              "      <td>0.2565</td>\n",
              "      <td>0.1415</td>\n",
              "      <td>0.2100</td>\n",
              "    </tr>\n",
              "    <tr>\n",
              "      <th>3</th>\n",
              "      <td>2.0</td>\n",
              "      <td>0.440</td>\n",
              "      <td>0.365</td>\n",
              "      <td>0.125</td>\n",
              "      <td>0.5160</td>\n",
              "      <td>0.2155</td>\n",
              "      <td>0.1140</td>\n",
              "      <td>0.1550</td>\n",
              "    </tr>\n",
              "    <tr>\n",
              "      <th>4</th>\n",
              "      <td>1.0</td>\n",
              "      <td>0.330</td>\n",
              "      <td>0.255</td>\n",
              "      <td>0.080</td>\n",
              "      <td>0.2050</td>\n",
              "      <td>0.0895</td>\n",
              "      <td>0.0395</td>\n",
              "      <td>0.0550</td>\n",
              "    </tr>\n",
              "    <tr>\n",
              "      <th>...</th>\n",
              "      <td>...</td>\n",
              "      <td>...</td>\n",
              "      <td>...</td>\n",
              "      <td>...</td>\n",
              "      <td>...</td>\n",
              "      <td>...</td>\n",
              "      <td>...</td>\n",
              "      <td>...</td>\n",
              "    </tr>\n",
              "    <tr>\n",
              "      <th>4172</th>\n",
              "      <td>0.0</td>\n",
              "      <td>0.565</td>\n",
              "      <td>0.450</td>\n",
              "      <td>0.165</td>\n",
              "      <td>0.8870</td>\n",
              "      <td>0.3700</td>\n",
              "      <td>0.2390</td>\n",
              "      <td>0.2490</td>\n",
              "    </tr>\n",
              "    <tr>\n",
              "      <th>4173</th>\n",
              "      <td>2.0</td>\n",
              "      <td>0.590</td>\n",
              "      <td>0.440</td>\n",
              "      <td>0.135</td>\n",
              "      <td>0.9660</td>\n",
              "      <td>0.4390</td>\n",
              "      <td>0.2145</td>\n",
              "      <td>0.2605</td>\n",
              "    </tr>\n",
              "    <tr>\n",
              "      <th>4174</th>\n",
              "      <td>2.0</td>\n",
              "      <td>0.600</td>\n",
              "      <td>0.475</td>\n",
              "      <td>0.205</td>\n",
              "      <td>1.1760</td>\n",
              "      <td>0.5255</td>\n",
              "      <td>0.2875</td>\n",
              "      <td>0.3080</td>\n",
              "    </tr>\n",
              "    <tr>\n",
              "      <th>4175</th>\n",
              "      <td>0.0</td>\n",
              "      <td>0.625</td>\n",
              "      <td>0.485</td>\n",
              "      <td>0.150</td>\n",
              "      <td>1.0945</td>\n",
              "      <td>0.5310</td>\n",
              "      <td>0.2610</td>\n",
              "      <td>0.2960</td>\n",
              "    </tr>\n",
              "    <tr>\n",
              "      <th>4176</th>\n",
              "      <td>2.0</td>\n",
              "      <td>0.710</td>\n",
              "      <td>0.555</td>\n",
              "      <td>0.195</td>\n",
              "      <td>1.9485</td>\n",
              "      <td>0.9455</td>\n",
              "      <td>0.3765</td>\n",
              "      <td>0.4950</td>\n",
              "    </tr>\n",
              "  </tbody>\n",
              "</table>\n",
              "<p>4177 rows × 8 columns</p>\n",
              "</div>\n",
              "      <button class=\"colab-df-convert\" onclick=\"convertToInteractive('df-b8b49b64-f753-431c-8d1f-392bb47c10d9')\"\n",
              "              title=\"Convert this dataframe to an interactive table.\"\n",
              "              style=\"display:none;\">\n",
              "        \n",
              "  <svg xmlns=\"http://www.w3.org/2000/svg\" height=\"24px\"viewBox=\"0 0 24 24\"\n",
              "       width=\"24px\">\n",
              "    <path d=\"M0 0h24v24H0V0z\" fill=\"none\"/>\n",
              "    <path d=\"M18.56 5.44l.94 2.06.94-2.06 2.06-.94-2.06-.94-.94-2.06-.94 2.06-2.06.94zm-11 1L8.5 8.5l.94-2.06 2.06-.94-2.06-.94L8.5 2.5l-.94 2.06-2.06.94zm10 10l.94 2.06.94-2.06 2.06-.94-2.06-.94-.94-2.06-.94 2.06-2.06.94z\"/><path d=\"M17.41 7.96l-1.37-1.37c-.4-.4-.92-.59-1.43-.59-.52 0-1.04.2-1.43.59L10.3 9.45l-7.72 7.72c-.78.78-.78 2.05 0 2.83L4 21.41c.39.39.9.59 1.41.59.51 0 1.02-.2 1.41-.59l7.78-7.78 2.81-2.81c.8-.78.8-2.07 0-2.86zM5.41 20L4 18.59l7.72-7.72 1.47 1.35L5.41 20z\"/>\n",
              "  </svg>\n",
              "      </button>\n",
              "      \n",
              "  <style>\n",
              "    .colab-df-container {\n",
              "      display:flex;\n",
              "      flex-wrap:wrap;\n",
              "      gap: 12px;\n",
              "    }\n",
              "\n",
              "    .colab-df-convert {\n",
              "      background-color: #E8F0FE;\n",
              "      border: none;\n",
              "      border-radius: 50%;\n",
              "      cursor: pointer;\n",
              "      display: none;\n",
              "      fill: #1967D2;\n",
              "      height: 32px;\n",
              "      padding: 0 0 0 0;\n",
              "      width: 32px;\n",
              "    }\n",
              "\n",
              "    .colab-df-convert:hover {\n",
              "      background-color: #E2EBFA;\n",
              "      box-shadow: 0px 1px 2px rgba(60, 64, 67, 0.3), 0px 1px 3px 1px rgba(60, 64, 67, 0.15);\n",
              "      fill: #174EA6;\n",
              "    }\n",
              "\n",
              "    [theme=dark] .colab-df-convert {\n",
              "      background-color: #3B4455;\n",
              "      fill: #D2E3FC;\n",
              "    }\n",
              "\n",
              "    [theme=dark] .colab-df-convert:hover {\n",
              "      background-color: #434B5C;\n",
              "      box-shadow: 0px 1px 3px 1px rgba(0, 0, 0, 0.15);\n",
              "      filter: drop-shadow(0px 1px 2px rgba(0, 0, 0, 0.3));\n",
              "      fill: #FFFFFF;\n",
              "    }\n",
              "  </style>\n",
              "\n",
              "      <script>\n",
              "        const buttonEl =\n",
              "          document.querySelector('#df-b8b49b64-f753-431c-8d1f-392bb47c10d9 button.colab-df-convert');\n",
              "        buttonEl.style.display =\n",
              "          google.colab.kernel.accessAllowed ? 'block' : 'none';\n",
              "\n",
              "        async function convertToInteractive(key) {\n",
              "          const element = document.querySelector('#df-b8b49b64-f753-431c-8d1f-392bb47c10d9');\n",
              "          const dataTable =\n",
              "            await google.colab.kernel.invokeFunction('convertToInteractive',\n",
              "                                                     [key], {});\n",
              "          if (!dataTable) return;\n",
              "\n",
              "          const docLinkHtml = 'Like what you see? Visit the ' +\n",
              "            '<a target=\"_blank\" href=https://colab.research.google.com/notebooks/data_table.ipynb>data table notebook</a>'\n",
              "            + ' to learn more about interactive tables.';\n",
              "          element.innerHTML = '';\n",
              "          dataTable['output_type'] = 'display_data';\n",
              "          await google.colab.output.renderOutput(dataTable, element);\n",
              "          const docLink = document.createElement('div');\n",
              "          docLink.innerHTML = docLinkHtml;\n",
              "          element.appendChild(docLink);\n",
              "        }\n",
              "      </script>\n",
              "    </div>\n",
              "  </div>\n",
              "  "
            ]
          },
          "metadata": {},
          "execution_count": 31
        }
      ]
    },
    {
      "cell_type": "code",
      "source": [
        "df.iloc[:,:-1].skew()"
      ],
      "metadata": {
        "colab": {
          "base_uri": "https://localhost:8080/"
        },
        "id": "CsxdKyOvSECX",
        "outputId": "d4ff0e9b-93ee-45d7-c1b2-a72ca193e175"
      },
      "execution_count": 32,
      "outputs": [
        {
          "output_type": "execute_result",
          "data": {
            "text/plain": [
              "Sex              -0.098155\n",
              "Length           -0.639873\n",
              "Diameter         -0.609198\n",
              "Height            3.128817\n",
              "Whole weight      0.530959\n",
              "Shucked weight    0.719098\n",
              "Viscera weight    0.591852\n",
              "Shell weight      0.620927\n",
              "dtype: float64"
            ]
          },
          "metadata": {},
          "execution_count": 32
        }
      ]
    },
    {
      "cell_type": "markdown",
      "source": [
        "Setting the skewness value of the dataset to +/- 0.5 as standard skewness"
      ],
      "metadata": {
        "id": "rXbiqCkq2Rr2"
      }
    },
    {
      "cell_type": "code",
      "source": [
        "from sklearn.preprocessing import power_transform\n",
        "x_new=power_transform(df.iloc[:,:-1],method='yeo-johnson')\n",
        "\n",
        "df.iloc[:,:-1]=pd.DataFrame(x_new,columns=df.iloc[:,:-1].columns)"
      ],
      "metadata": {
        "id": "x5lzHdG2mR44"
      },
      "execution_count": 33,
      "outputs": []
    },
    {
      "cell_type": "code",
      "source": [
        "df.iloc[:,:-1].skew()"
      ],
      "metadata": {
        "colab": {
          "base_uri": "https://localhost:8080/"
        },
        "id": "e34Y4UJQmSEr",
        "outputId": "4e9991e2-41a0-4b13-b32c-95373fc8238e"
      },
      "execution_count": 34,
      "outputs": [
        {
          "output_type": "execute_result",
          "data": {
            "text/plain": [
              "Sex              -0.176442\n",
              "Length           -0.066669\n",
              "Diameter         -0.065977\n",
              "Height           -0.115483\n",
              "Whole weight     -0.003980\n",
              "Shucked weight    0.027351\n",
              "Viscera weight    0.039780\n",
              "Shell weight      0.023390\n",
              "dtype: float64"
            ]
          },
          "metadata": {},
          "execution_count": 34
        }
      ]
    },
    {
      "cell_type": "markdown",
      "source": [
        "# Outliers Checking"
      ],
      "metadata": {
        "id": "R6CVKAeni_6A"
      }
    },
    {
      "cell_type": "code",
      "source": [
        "import warnings\n",
        "warnings.filterwarnings('ignore')\n",
        "df.plot(kind='box',subplots=True, layout=(3,3), figsize=[20,8])"
      ],
      "metadata": {
        "colab": {
          "base_uri": "https://localhost:8080/",
          "height": 657
        },
        "id": "dQegT9xZjC7B",
        "outputId": "3fd859fd-8be3-4438-f79a-0e16e36ded57"
      },
      "execution_count": 35,
      "outputs": [
        {
          "output_type": "execute_result",
          "data": {
            "text/plain": [
              "Sex                  AxesSubplot(0.125,0.657941;0.227941x0.222059)\n",
              "Length            AxesSubplot(0.398529,0.657941;0.227941x0.222059)\n",
              "Diameter          AxesSubplot(0.672059,0.657941;0.227941x0.222059)\n",
              "Height               AxesSubplot(0.125,0.391471;0.227941x0.222059)\n",
              "Whole weight      AxesSubplot(0.398529,0.391471;0.227941x0.222059)\n",
              "Shucked weight    AxesSubplot(0.672059,0.391471;0.227941x0.222059)\n",
              "Viscera weight          AxesSubplot(0.125,0.125;0.227941x0.222059)\n",
              "Shell weight         AxesSubplot(0.398529,0.125;0.227941x0.222059)\n",
              "Rings                AxesSubplot(0.672059,0.125;0.227941x0.222059)\n",
              "dtype: object"
            ]
          },
          "metadata": {},
          "execution_count": 35
        },
        {
          "output_type": "display_data",
          "data": {
            "text/plain": [
              "<Figure size 1440x576 with 9 Axes>"
            ],
            "image/png": "[encoded data removed]"
          },
          "metadata": {
            "needs_background": "light"
          }
        }
      ]
    },
    {
      "cell_type": "markdown",
      "source": [
        "# IQR Proximity Rule\n",
        "\n",
        "Z - Score Technique"
      ],
      "metadata": {
        "id": "1OWNjyQAlptT"
      }
    },
    {
      "cell_type": "code",
      "source": [
        "from scipy.stats import zscore\n",
        "import numpy as np\n",
        "z=np.abs(zscore(df))\n",
        "z.shape"
      ],
      "metadata": {
        "colab": {
          "base_uri": "https://localhost:8080/"
        },
        "id": "ZvNbnL4GltA3",
        "outputId": "87b3d312-9c3b-47e9-f65b-1604237348a6"
      },
      "execution_count": 36,
      "outputs": [
        {
          "output_type": "execute_result",
          "data": {
            "text/plain": [
              "(4177, 9)"
            ]
          },
          "metadata": {},
          "execution_count": 36
        }
      ]
    },
    {
      "cell_type": "code",
      "source": [
        "threshold=3\n",
        "print(np.where(z>3))"
      ],
      "metadata": {
        "colab": {
          "base_uri": "https://localhost:8080/"
        },
        "id": "UaHe7isfnaOY",
        "outputId": "baa94c34-6d2c-422a-8274-e3e90525baf7"
      },
      "execution_count": 37,
      "outputs": [
        {
          "output_type": "stream",
          "name": "stdout",
          "text": [
            "(array([   6,   72,   83,  163,  166,  166,  167,  181,  232,  236,  237,\n",
            "        238,  270,  275,  278,  294,  306,  310,  313,  314,  351,  355,\n",
            "        362,  375,  416,  417,  428,  431,  433,  469,  478,  480,  501,\n",
            "        530,  572,  628,  673,  674,  675,  678,  694,  719,  720,  744,\n",
            "        754,  756,  811,  891, 1174, 1209, 1257, 1417, 1428, 1428, 1763,\n",
            "       1987, 2051, 2108, 2108, 2161, 2169, 2171, 2172, 2176, 2180, 2199,\n",
            "       2201, 2209, 2275, 2305, 2334, 2334, 2335, 2344, 2358, 2381, 2436,\n",
            "       2459, 2471, 2711, 3140, 3149, 3151, 3190, 3193, 3280, 3359, 3902,\n",
            "       3924, 3930, 3944, 3996]), array([8, 8, 8, 7, 7, 8, 8, 8, 8, 3, 3, 3, 8, 8, 8, 8, 3, 8, 8, 8, 8, 8,\n",
            "       8, 8, 8, 8, 8, 8, 8, 8, 8, 8, 8, 8, 8, 8, 8, 8, 8, 8, 3, 3, 3, 8,\n",
            "       8, 8, 8, 7, 3, 5, 3, 3, 1, 2, 6, 3, 3, 7, 8, 7, 3, 3, 3, 8, 8, 8,\n",
            "       8, 8, 8, 8, 1, 8, 8, 8, 8, 3, 8, 8, 8, 3, 8, 8, 8, 3, 8, 8, 8, 3,\n",
            "       8, 8, 8, 3]))\n"
          ]
        }
      ]
    },
    {
      "cell_type": "code",
      "source": [
        "len(np.where(z>3)[0])"
      ],
      "metadata": {
        "colab": {
          "base_uri": "https://localhost:8080/"
        },
        "id": "tsk9IwqWnd5Y",
        "outputId": "5345299f-5e19-46c3-fb90-6dbeb217132b"
      },
      "execution_count": 38,
      "outputs": [
        {
          "output_type": "execute_result",
          "data": {
            "text/plain": [
              "92"
            ]
          },
          "metadata": {},
          "execution_count": 38
        }
      ]
    },
    {
      "cell_type": "code",
      "source": [
        "df.drop([ 6,   72,   83,  163,  166,  166,  167,  181,  232,  236,  237,\n",
        "        238,  270,  275,  278,  294,  306,  310,  313,  314,  351,  355,\n",
        "        362,  375,  416,  417,  428,  431,  433,  469,  478,  480,  501,\n",
        "        530,  572,  628,  673,  674,  675,  678,  694,  719,  720,  744,\n",
        "        754,  756,  811,  891, 1174, 1209, 1257, 1417, 1428, 1428, 1763,\n",
        "       1987, 2051, 2108, 2108, 2161, 2169, 2171, 2172, 2176, 2180, 2199,\n",
        "       2201, 2209, 2275, 2305, 2334, 2334, 2335, 2344, 2358, 2381, 2436,\n",
        "       2459, 2471, 2711, 3140, 3149, 3151, 3190, 3193, 3280, 3359, 3902,\n",
        "       3924, 3930, 3944, 3996],axis=0)"
      ],
      "metadata": {
        "colab": {
          "base_uri": "https://localhost:8080/",
          "height": 423
        },
        "id": "v3K9rUQsnjr4",
        "outputId": "5296a895-2e6f-42bb-adf0-2d1e96f993bc"
      },
      "execution_count": 39,
      "outputs": [
        {
          "output_type": "execute_result",
          "data": {
            "text/plain": [
              "           Sex    Length  Diameter    Height  Whole weight  Shucked weight  \\\n",
              "0     1.127072 -0.685502 -0.549860 -1.124512     -0.576766       -0.540989   \n",
              "1     1.127072 -1.396344 -1.387333 -1.264396     -1.351761       -1.311662   \n",
              "2    -1.307935 -0.070774  0.008537 -0.064823     -0.198099       -0.366116   \n",
              "3     1.127072 -0.797286 -0.549860 -0.320227     -0.571893       -0.591672   \n",
              "4    -0.009459 -1.513796 -1.459659 -1.549424     -1.413146       -1.380201   \n",
              "...        ...       ...       ...       ...           ...             ...   \n",
              "4172 -1.307935  0.249836  0.345636  0.666117      0.241948        0.194158   \n",
              "4173  1.127072  0.492813  0.230611 -0.064823      0.395706        0.495450   \n",
              "4174  1.127072  0.593366  0.645191  1.565082      0.777944        0.838137   \n",
              "4175 -1.307935  0.853375  0.769928  0.307083      0.633874        0.858739   \n",
              "4176  1.127072  1.834478  1.726289  1.347943      1.937323        2.103648   \n",
              "\n",
              "      Viscera weight  Shell weight  Rings  \n",
              "0          -0.693283     -0.587809     15  \n",
              "1          -1.332953     -1.332420      7  \n",
              "2          -0.255135     -0.098262      9  \n",
              "3          -0.547782     -0.544931     10  \n",
              "4          -1.451759     -1.485528      7  \n",
              "...              ...           ...    ...  \n",
              "4172        0.639623      0.193008     11  \n",
              "4173        0.433568      0.275215     10  \n",
              "4174        1.015607      0.598398      9  \n",
              "4175        0.815184      0.519145     10  \n",
              "4176        1.611344      1.658488     12  \n",
              "\n",
              "[4089 rows x 9 columns]"
            ],
            "text/html": [
              "\n",
              "  <div id=\"df-b1e05336-7ab7-4bbd-857b-9ad8035ad78d\">\n",
              "    <div class=\"colab-df-container\">\n",
              "      <div>\n",
              "<style scoped>\n",
              "    .dataframe tbody tr th:only-of-type {\n",
              "        vertical-align: middle;\n",
              "    }\n",
              "\n",
              "    .dataframe tbody tr th {\n",
              "        vertical-align: top;\n",
              "    }\n",
              "\n",
              "    .dataframe thead th {\n",
              "        text-align: right;\n",
              "    }\n",
              "</style>\n",
              "<table border=\"1\" class=\"dataframe\">\n",
              "  <thead>\n",
              "    <tr style=\"text-align: right;\">\n",
              "      <th></th>\n",
              "      <th>Sex</th>\n",
              "      <th>Length</th>\n",
              "      <th>Diameter</th>\n",
              "      <th>Height</th>\n",
              "      <th>Whole weight</th>\n",
              "      <th>Shucked weight</th>\n",
              "      <th>Viscera weight</th>\n",
              "      <th>Shell weight</th>\n",
              "      <th>Rings</th>\n",
              "    </tr>\n",
              "  </thead>\n",
              "  <tbody>\n",
              "    <tr>\n",
              "      <th>0</th>\n",
              "      <td>1.127072</td>\n",
              "      <td>-0.685502</td>\n",
              "      <td>-0.549860</td>\n",
              "      <td>-1.124512</td>\n",
              "      <td>-0.576766</td>\n",
              "      <td>-0.540989</td>\n",
              "      <td>-0.693283</td>\n",
              "      <td>-0.587809</td>\n",
              "      <td>15</td>\n",
              "    </tr>\n",
              "    <tr>\n",
              "      <th>1</th>\n",
              "      <td>1.127072</td>\n",
              "      <td>-1.396344</td>\n",
              "      <td>-1.387333</td>\n",
              "      <td>-1.264396</td>\n",
              "      <td>-1.351761</td>\n",
              "      <td>-1.311662</td>\n",
              "      <td>-1.332953</td>\n",
              "      <td>-1.332420</td>\n",
              "      <td>7</td>\n",
              "    </tr>\n",
              "    <tr>\n",
              "      <th>2</th>\n",
              "      <td>-1.307935</td>\n",
              "      <td>-0.070774</td>\n",
              "      <td>0.008537</td>\n",
              "      <td>-0.064823</td>\n",
              "      <td>-0.198099</td>\n",
              "      <td>-0.366116</td>\n",
              "      <td>-0.255135</td>\n",
              "      <td>-0.098262</td>\n",
              "      <td>9</td>\n",
              "    </tr>\n",
              "    <tr>\n",
              "      <th>3</th>\n",
              "      <td>1.127072</td>\n",
              "      <td>-0.797286</td>\n",
              "      <td>-0.549860</td>\n",
              "      <td>-0.320227</td>\n",
              "      <td>-0.571893</td>\n",
              "      <td>-0.591672</td>\n",
              "      <td>-0.547782</td>\n",
              "      <td>-0.544931</td>\n",
              "      <td>10</td>\n",
              "    </tr>\n",
              "    <tr>\n",
              "      <th>4</th>\n",
              "      <td>-0.009459</td>\n",
              "      <td>-1.513796</td>\n",
              "      <td>-1.459659</td>\n",
              "      <td>-1.549424</td>\n",
              "      <td>-1.413146</td>\n",
              "      <td>-1.380201</td>\n",
              "      <td>-1.451759</td>\n",
              "      <td>-1.485528</td>\n",
              "      <td>7</td>\n",
              "    </tr>\n",
              "    <tr>\n",
              "      <th>...</th>\n",
              "      <td>...</td>\n",
              "      <td>...</td>\n",
              "      <td>...</td>\n",
              "      <td>...</td>\n",
              "      <td>...</td>\n",
              "      <td>...</td>\n",
              "      <td>...</td>\n",
              "      <td>...</td>\n",
              "      <td>...</td>\n",
              "    </tr>\n",
              "    <tr>\n",
              "      <th>4172</th>\n",
              "      <td>-1.307935</td>\n",
              "      <td>0.249836</td>\n",
              "      <td>0.345636</td>\n",
              "      <td>0.666117</td>\n",
              "      <td>0.241948</td>\n",
              "      <td>0.194158</td>\n",
              "      <td>0.639623</td>\n",
              "      <td>0.193008</td>\n",
              "      <td>11</td>\n",
              "    </tr>\n",
              "    <tr>\n",
              "      <th>4173</th>\n",
              "      <td>1.127072</td>\n",
              "      <td>0.492813</td>\n",
              "      <td>0.230611</td>\n",
              "      <td>-0.064823</td>\n",
              "      <td>0.395706</td>\n",
              "      <td>0.495450</td>\n",
              "      <td>0.433568</td>\n",
              "      <td>0.275215</td>\n",
              "      <td>10</td>\n",
              "    </tr>\n",
              "    <tr>\n",
              "      <th>4174</th>\n",
              "      <td>1.127072</td>\n",
              "      <td>0.593366</td>\n",
              "      <td>0.645191</td>\n",
              "      <td>1.565082</td>\n",
              "      <td>0.777944</td>\n",
              "      <td>0.838137</td>\n",
              "      <td>1.015607</td>\n",
              "      <td>0.598398</td>\n",
              "      <td>9</td>\n",
              "    </tr>\n",
              "    <tr>\n",
              "      <th>4175</th>\n",
              "      <td>-1.307935</td>\n",
              "      <td>0.853375</td>\n",
              "      <td>0.769928</td>\n",
              "      <td>0.307083</td>\n",
              "      <td>0.633874</td>\n",
              "      <td>0.858739</td>\n",
              "      <td>0.815184</td>\n",
              "      <td>0.519145</td>\n",
              "      <td>10</td>\n",
              "    </tr>\n",
              "    <tr>\n",
              "      <th>4176</th>\n",
              "      <td>1.127072</td>\n",
              "      <td>1.834478</td>\n",
              "      <td>1.726289</td>\n",
              "      <td>1.347943</td>\n",
              "      <td>1.937323</td>\n",
              "      <td>2.103648</td>\n",
              "      <td>1.611344</td>\n",
              "      <td>1.658488</td>\n",
              "      <td>12</td>\n",
              "    </tr>\n",
              "  </tbody>\n",
              "</table>\n",
              "<p>4089 rows × 9 columns</p>\n",
              "</div>\n",
              "      <button class=\"colab-df-convert\" onclick=\"convertToInteractive('df-b1e05336-7ab7-4bbd-857b-9ad8035ad78d')\"\n",
              "              title=\"Convert this dataframe to an interactive table.\"\n",
              "              style=\"display:none;\">\n",
              "        \n",
              "  <svg xmlns=\"http://www.w3.org/2000/svg\" height=\"24px\"viewBox=\"0 0 24 24\"\n",
              "       width=\"24px\">\n",
              "    <path d=\"M0 0h24v24H0V0z\" fill=\"none\"/>\n",
              "    <path d=\"M18.56 5.44l.94 2.06.94-2.06 2.06-.94-2.06-.94-.94-2.06-.94 2.06-2.06.94zm-11 1L8.5 8.5l.94-2.06 2.06-.94-2.06-.94L8.5 2.5l-.94 2.06-2.06.94zm10 10l.94 2.06.94-2.06 2.06-.94-2.06-.94-.94-2.06-.94 2.06-2.06.94z\"/><path d=\"M17.41 7.96l-1.37-1.37c-.4-.4-.92-.59-1.43-.59-.52 0-1.04.2-1.43.59L10.3 9.45l-7.72 7.72c-.78.78-.78 2.05 0 2.83L4 21.41c.39.39.9.59 1.41.59.51 0 1.02-.2 1.41-.59l7.78-7.78 2.81-2.81c.8-.78.8-2.07 0-2.86zM5.41 20L4 18.59l7.72-7.72 1.47 1.35L5.41 20z\"/>\n",
              "  </svg>\n",
              "      </button>\n",
              "      \n",
              "  <style>\n",
              "    .colab-df-container {\n",
              "      display:flex;\n",
              "      flex-wrap:wrap;\n",
              "      gap: 12px;\n",
              "    }\n",
              "\n",
              "    .colab-df-convert {\n",
              "      background-color: #E8F0FE;\n",
              "      border: none;\n",
              "      border-radius: 50%;\n",
              "      cursor: pointer;\n",
              "      display: none;\n",
              "      fill: #1967D2;\n",
              "      height: 32px;\n",
              "      padding: 0 0 0 0;\n",
              "      width: 32px;\n",
              "    }\n",
              "\n",
              "    .colab-df-convert:hover {\n",
              "      background-color: #E2EBFA;\n",
              "      box-shadow: 0px 1px 2px rgba(60, 64, 67, 0.3), 0px 1px 3px 1px rgba(60, 64, 67, 0.15);\n",
              "      fill: #174EA6;\n",
              "    }\n",
              "\n",
              "    [theme=dark] .colab-df-convert {\n",
              "      background-color: #3B4455;\n",
              "      fill: #D2E3FC;\n",
              "    }\n",
              "\n",
              "    [theme=dark] .colab-df-convert:hover {\n",
              "      background-color: #434B5C;\n",
              "      box-shadow: 0px 1px 3px 1px rgba(0, 0, 0, 0.15);\n",
              "      filter: drop-shadow(0px 1px 2px rgba(0, 0, 0, 0.3));\n",
              "      fill: #FFFFFF;\n",
              "    }\n",
              "  </style>\n",
              "\n",
              "      <script>\n",
              "        const buttonEl =\n",
              "          document.querySelector('#df-b1e05336-7ab7-4bbd-857b-9ad8035ad78d button.colab-df-convert');\n",
              "        buttonEl.style.display =\n",
              "          google.colab.kernel.accessAllowed ? 'block' : 'none';\n",
              "\n",
              "        async function convertToInteractive(key) {\n",
              "          const element = document.querySelector('#df-b1e05336-7ab7-4bbd-857b-9ad8035ad78d');\n",
              "          const dataTable =\n",
              "            await google.colab.kernel.invokeFunction('convertToInteractive',\n",
              "                                                     [key], {});\n",
              "          if (!dataTable) return;\n",
              "\n",
              "          const docLinkHtml = 'Like what you see? Visit the ' +\n",
              "            '<a target=\"_blank\" href=https://colab.research.google.com/notebooks/data_table.ipynb>data table notebook</a>'\n",
              "            + ' to learn more about interactive tables.';\n",
              "          element.innerHTML = '';\n",
              "          dataTable['output_type'] = 'display_data';\n",
              "          await google.colab.output.renderOutput(dataTable, element);\n",
              "          const docLink = document.createElement('div');\n",
              "          docLink.innerHTML = docLinkHtml;\n",
              "          element.appendChild(docLink);\n",
              "        }\n",
              "      </script>\n",
              "    </div>\n",
              "  </div>\n",
              "  "
            ]
          },
          "metadata": {},
          "execution_count": 39
        }
      ]
    },
    {
      "cell_type": "code",
      "source": [
        "df=df[(z<3).all(axis=1)]"
      ],
      "metadata": {
        "id": "O-Aa1aj8ntJ5"
      },
      "execution_count": 40,
      "outputs": []
    },
    {
      "cell_type": "code",
      "source": [
        "df"
      ],
      "metadata": {
        "colab": {
          "base_uri": "https://localhost:8080/",
          "height": 423
        },
        "id": "44a85IHAoC-Z",
        "outputId": "ab5d83df-255c-4a3c-bae8-6279d7b199c5"
      },
      "execution_count": 41,
      "outputs": [
        {
          "output_type": "execute_result",
          "data": {
            "text/plain": [
              "           Sex    Length  Diameter    Height  Whole weight  Shucked weight  \\\n",
              "0     1.127072 -0.685502 -0.549860 -1.124512     -0.576766       -0.540989   \n",
              "1     1.127072 -1.396344 -1.387333 -1.264396     -1.351761       -1.311662   \n",
              "2    -1.307935 -0.070774  0.008537 -0.064823     -0.198099       -0.366116   \n",
              "3     1.127072 -0.797286 -0.549860 -0.320227     -0.571893       -0.591672   \n",
              "4    -0.009459 -1.513796 -1.459659 -1.549424     -1.413146       -1.380201   \n",
              "...        ...       ...       ...       ...           ...             ...   \n",
              "4172 -1.307935  0.249836  0.345636  0.666117      0.241948        0.194158   \n",
              "4173  1.127072  0.492813  0.230611 -0.064823      0.395706        0.495450   \n",
              "4174  1.127072  0.593366  0.645191  1.565082      0.777944        0.838137   \n",
              "4175 -1.307935  0.853375  0.769928  0.307083      0.633874        0.858739   \n",
              "4176  1.127072  1.834478  1.726289  1.347943      1.937323        2.103648   \n",
              "\n",
              "      Viscera weight  Shell weight  Rings  \n",
              "0          -0.693283     -0.587809     15  \n",
              "1          -1.332953     -1.332420      7  \n",
              "2          -0.255135     -0.098262      9  \n",
              "3          -0.547782     -0.544931     10  \n",
              "4          -1.451759     -1.485528      7  \n",
              "...              ...           ...    ...  \n",
              "4172        0.639623      0.193008     11  \n",
              "4173        0.433568      0.275215     10  \n",
              "4174        1.015607      0.598398      9  \n",
              "4175        0.815184      0.519145     10  \n",
              "4176        1.611344      1.658488     12  \n",
              "\n",
              "[4089 rows x 9 columns]"
            ],
            "text/html": [
              "\n",
              "  <div id=\"df-76da8dd6-fd00-41c7-a6f2-9f57b048356e\">\n",
              "    <div class=\"colab-df-container\">\n",
              "      <div>\n",
              "<style scoped>\n",
              "    .dataframe tbody tr th:only-of-type {\n",
              "        vertical-align: middle;\n",
              "    }\n",
              "\n",
              "    .dataframe tbody tr th {\n",
              "        vertical-align: top;\n",
              "    }\n",
              "\n",
              "    .dataframe thead th {\n",
              "        text-align: right;\n",
              "    }\n",
              "</style>\n",
              "<table border=\"1\" class=\"dataframe\">\n",
              "  <thead>\n",
              "    <tr style=\"text-align: right;\">\n",
              "      <th></th>\n",
              "      <th>Sex</th>\n",
              "      <th>Length</th>\n",
              "      <th>Diameter</th>\n",
              "      <th>Height</th>\n",
              "      <th>Whole weight</th>\n",
              "      <th>Shucked weight</th>\n",
              "      <th>Viscera weight</th>\n",
              "      <th>Shell weight</th>\n",
              "      <th>Rings</th>\n",
              "    </tr>\n",
              "  </thead>\n",
              "  <tbody>\n",
              "    <tr>\n",
              "      <th>0</th>\n",
              "      <td>1.127072</td>\n",
              "      <td>-0.685502</td>\n",
              "      <td>-0.549860</td>\n",
              "      <td>-1.124512</td>\n",
              "      <td>-0.576766</td>\n",
              "      <td>-0.540989</td>\n",
              "      <td>-0.693283</td>\n",
              "      <td>-0.587809</td>\n",
              "      <td>15</td>\n",
              "    </tr>\n",
              "    <tr>\n",
              "      <th>1</th>\n",
              "      <td>1.127072</td>\n",
              "      <td>-1.396344</td>\n",
              "      <td>-1.387333</td>\n",
              "      <td>-1.264396</td>\n",
              "      <td>-1.351761</td>\n",
              "      <td>-1.311662</td>\n",
              "      <td>-1.332953</td>\n",
              "      <td>-1.332420</td>\n",
              "      <td>7</td>\n",
              "    </tr>\n",
              "    <tr>\n",
              "      <th>2</th>\n",
              "      <td>-1.307935</td>\n",
              "      <td>-0.070774</td>\n",
              "      <td>0.008537</td>\n",
              "      <td>-0.064823</td>\n",
              "      <td>-0.198099</td>\n",
              "      <td>-0.366116</td>\n",
              "      <td>-0.255135</td>\n",
              "      <td>-0.098262</td>\n",
              "      <td>9</td>\n",
              "    </tr>\n",
              "    <tr>\n",
              "      <th>3</th>\n",
              "      <td>1.127072</td>\n",
              "      <td>-0.797286</td>\n",
              "      <td>-0.549860</td>\n",
              "      <td>-0.320227</td>\n",
              "      <td>-0.571893</td>\n",
              "      <td>-0.591672</td>\n",
              "      <td>-0.547782</td>\n",
              "      <td>-0.544931</td>\n",
              "      <td>10</td>\n",
              "    </tr>\n",
              "    <tr>\n",
              "      <th>4</th>\n",
              "      <td>-0.009459</td>\n",
              "      <td>-1.513796</td>\n",
              "      <td>-1.459659</td>\n",
              "      <td>-1.549424</td>\n",
              "      <td>-1.413146</td>\n",
              "      <td>-1.380201</td>\n",
              "      <td>-1.451759</td>\n",
              "      <td>-1.485528</td>\n",
              "      <td>7</td>\n",
              "    </tr>\n",
              "    <tr>\n",
              "      <th>...</th>\n",
              "      <td>...</td>\n",
              "      <td>...</td>\n",
              "      <td>...</td>\n",
              "      <td>...</td>\n",
              "      <td>...</td>\n",
              "      <td>...</td>\n",
              "      <td>...</td>\n",
              "      <td>...</td>\n",
              "      <td>...</td>\n",
              "    </tr>\n",
              "    <tr>\n",
              "      <th>4172</th>\n",
              "      <td>-1.307935</td>\n",
              "      <td>0.249836</td>\n",
              "      <td>0.345636</td>\n",
              "      <td>0.666117</td>\n",
              "      <td>0.241948</td>\n",
              "      <td>0.194158</td>\n",
              "      <td>0.639623</td>\n",
              "      <td>0.193008</td>\n",
              "      <td>11</td>\n",
              "    </tr>\n",
              "    <tr>\n",
              "      <th>4173</th>\n",
              "      <td>1.127072</td>\n",
              "      <td>0.492813</td>\n",
              "      <td>0.230611</td>\n",
              "      <td>-0.064823</td>\n",
              "      <td>0.395706</td>\n",
              "      <td>0.495450</td>\n",
              "      <td>0.433568</td>\n",
              "      <td>0.275215</td>\n",
              "      <td>10</td>\n",
              "    </tr>\n",
              "    <tr>\n",
              "      <th>4174</th>\n",
              "      <td>1.127072</td>\n",
              "      <td>0.593366</td>\n",
              "      <td>0.645191</td>\n",
              "      <td>1.565082</td>\n",
              "      <td>0.777944</td>\n",
              "      <td>0.838137</td>\n",
              "      <td>1.015607</td>\n",
              "      <td>0.598398</td>\n",
              "      <td>9</td>\n",
              "    </tr>\n",
              "    <tr>\n",
              "      <th>4175</th>\n",
              "      <td>-1.307935</td>\n",
              "      <td>0.853375</td>\n",
              "      <td>0.769928</td>\n",
              "      <td>0.307083</td>\n",
              "      <td>0.633874</td>\n",
              "      <td>0.858739</td>\n",
              "      <td>0.815184</td>\n",
              "      <td>0.519145</td>\n",
              "      <td>10</td>\n",
              "    </tr>\n",
              "    <tr>\n",
              "      <th>4176</th>\n",
              "      <td>1.127072</td>\n",
              "      <td>1.834478</td>\n",
              "      <td>1.726289</td>\n",
              "      <td>1.347943</td>\n",
              "      <td>1.937323</td>\n",
              "      <td>2.103648</td>\n",
              "      <td>1.611344</td>\n",
              "      <td>1.658488</td>\n",
              "      <td>12</td>\n",
              "    </tr>\n",
              "  </tbody>\n",
              "</table>\n",
              "<p>4089 rows × 9 columns</p>\n",
              "</div>\n",
              "      <button class=\"colab-df-convert\" onclick=\"convertToInteractive('df-76da8dd6-fd00-41c7-a6f2-9f57b048356e')\"\n",
              "              title=\"Convert this dataframe to an interactive table.\"\n",
              "              style=\"display:none;\">\n",
              "        \n",
              "  <svg xmlns=\"http://www.w3.org/2000/svg\" height=\"24px\"viewBox=\"0 0 24 24\"\n",
              "       width=\"24px\">\n",
              "    <path d=\"M0 0h24v24H0V0z\" fill=\"none\"/>\n",
              "    <path d=\"M18.56 5.44l.94 2.06.94-2.06 2.06-.94-2.06-.94-.94-2.06-.94 2.06-2.06.94zm-11 1L8.5 8.5l.94-2.06 2.06-.94-2.06-.94L8.5 2.5l-.94 2.06-2.06.94zm10 10l.94 2.06.94-2.06 2.06-.94-2.06-.94-.94-2.06-.94 2.06-2.06.94z\"/><path d=\"M17.41 7.96l-1.37-1.37c-.4-.4-.92-.59-1.43-.59-.52 0-1.04.2-1.43.59L10.3 9.45l-7.72 7.72c-.78.78-.78 2.05 0 2.83L4 21.41c.39.39.9.59 1.41.59.51 0 1.02-.2 1.41-.59l7.78-7.78 2.81-2.81c.8-.78.8-2.07 0-2.86zM5.41 20L4 18.59l7.72-7.72 1.47 1.35L5.41 20z\"/>\n",
              "  </svg>\n",
              "      </button>\n",
              "      \n",
              "  <style>\n",
              "    .colab-df-container {\n",
              "      display:flex;\n",
              "      flex-wrap:wrap;\n",
              "      gap: 12px;\n",
              "    }\n",
              "\n",
              "    .colab-df-convert {\n",
              "      background-color: #E8F0FE;\n",
              "      border: none;\n",
              "      border-radius: 50%;\n",
              "      cursor: pointer;\n",
              "      display: none;\n",
              "      fill: #1967D2;\n",
              "      height: 32px;\n",
              "      padding: 0 0 0 0;\n",
              "      width: 32px;\n",
              "    }\n",
              "\n",
              "    .colab-df-convert:hover {\n",
              "      background-color: #E2EBFA;\n",
              "      box-shadow: 0px 1px 2px rgba(60, 64, 67, 0.3), 0px 1px 3px 1px rgba(60, 64, 67, 0.15);\n",
              "      fill: #174EA6;\n",
              "    }\n",
              "\n",
              "    [theme=dark] .colab-df-convert {\n",
              "      background-color: #3B4455;\n",
              "      fill: #D2E3FC;\n",
              "    }\n",
              "\n",
              "    [theme=dark] .colab-df-convert:hover {\n",
              "      background-color: #434B5C;\n",
              "      box-shadow: 0px 1px 3px 1px rgba(0, 0, 0, 0.15);\n",
              "      filter: drop-shadow(0px 1px 2px rgba(0, 0, 0, 0.3));\n",
              "      fill: #FFFFFF;\n",
              "    }\n",
              "  </style>\n",
              "\n",
              "      <script>\n",
              "        const buttonEl =\n",
              "          document.querySelector('#df-76da8dd6-fd00-41c7-a6f2-9f57b048356e button.colab-df-convert');\n",
              "        buttonEl.style.display =\n",
              "          google.colab.kernel.accessAllowed ? 'block' : 'none';\n",
              "\n",
              "        async function convertToInteractive(key) {\n",
              "          const element = document.querySelector('#df-76da8dd6-fd00-41c7-a6f2-9f57b048356e');\n",
              "          const dataTable =\n",
              "            await google.colab.kernel.invokeFunction('convertToInteractive',\n",
              "                                                     [key], {});\n",
              "          if (!dataTable) return;\n",
              "\n",
              "          const docLinkHtml = 'Like what you see? Visit the ' +\n",
              "            '<a target=\"_blank\" href=https://colab.research.google.com/notebooks/data_table.ipynb>data table notebook</a>'\n",
              "            + ' to learn more about interactive tables.';\n",
              "          element.innerHTML = '';\n",
              "          dataTable['output_type'] = 'display_data';\n",
              "          await google.colab.output.renderOutput(dataTable, element);\n",
              "          const docLink = document.createElement('div');\n",
              "          docLink.innerHTML = docLinkHtml;\n",
              "          element.appendChild(docLink);\n",
              "        }\n",
              "      </script>\n",
              "    </div>\n",
              "  </div>\n",
              "  "
            ]
          },
          "metadata": {},
          "execution_count": 41
        }
      ]
    },
    {
      "cell_type": "code",
      "source": [
        "df.shape"
      ],
      "metadata": {
        "colab": {
          "base_uri": "https://localhost:8080/"
        },
        "id": "2Vx03cO_oWBh",
        "outputId": "ecd153e9-eec7-4522-aa03-7ce7f7452853"
      },
      "execution_count": 42,
      "outputs": [
        {
          "output_type": "execute_result",
          "data": {
            "text/plain": [
              "(4089, 9)"
            ]
          },
          "metadata": {},
          "execution_count": 42
        }
      ]
    },
    {
      "cell_type": "markdown",
      "source": [
        "# Feature Engineering ( Variantion Inflation Factor )"
      ],
      "metadata": {
        "id": "rtSzEH9l7I-W"
      }
    },
    {
      "cell_type": "code",
      "source": [
        "df.corr()"
      ],
      "metadata": {
        "colab": {
          "base_uri": "https://localhost:8080/",
          "height": 331
        },
        "id": "VJNwc8SNopBQ",
        "outputId": "132c7b6e-1f7d-49be-f7e0-da468d3e1967"
      },
      "execution_count": 43,
      "outputs": [
        {
          "output_type": "execute_result",
          "data": {
            "text/plain": [
              "                     Sex    Length  Diameter    Height  Whole weight  \\\n",
              "Sex             1.000000 -0.053809 -0.058973 -0.060771     -0.044714   \n",
              "Length         -0.053809  1.000000  0.982577  0.894482      0.972765   \n",
              "Diameter       -0.058973  0.982577  1.000000  0.901311      0.971055   \n",
              "Height         -0.060771  0.894482  0.901311  1.000000      0.914689   \n",
              "Whole weight   -0.044714  0.972765  0.971055  0.914689      1.000000   \n",
              "Shucked weight -0.029654  0.956553  0.949928  0.877426      0.978471   \n",
              "Viscera weight -0.054876  0.952819  0.947623  0.897916      0.975041   \n",
              "Shell weight   -0.053316  0.949480  0.956195  0.920351      0.970438   \n",
              "Rings          -0.044566  0.550328  0.571165  0.622877      0.576114   \n",
              "\n",
              "                Shucked weight  Viscera weight  Shell weight     Rings  \n",
              "Sex                  -0.029654       -0.054876     -0.053316 -0.044566  \n",
              "Length                0.956553        0.952819      0.949480  0.550328  \n",
              "Diameter              0.949928        0.947623      0.956195  0.571165  \n",
              "Height                0.877426        0.897916      0.920351  0.622877  \n",
              "Whole weight          0.978471        0.975041      0.970438  0.576114  \n",
              "Shucked weight        1.000000        0.947974      0.921706  0.482472  \n",
              "Viscera weight        0.947974        1.000000      0.938440  0.554953  \n",
              "Shell weight          0.921706        0.938440      1.000000  0.643446  \n",
              "Rings                 0.482472        0.554953      0.643446  1.000000  "
            ],
            "text/html": [
              "\n",
              "  <div id=\"df-88b2a7cb-aaea-46c7-aa6f-c76822a10f1a\">\n",
              "    <div class=\"colab-df-container\">\n",
              "      <div>\n",
              "<style scoped>\n",
              "    .dataframe tbody tr th:only-of-type {\n",
              "        vertical-align: middle;\n",
              "    }\n",
              "\n",
              "    .dataframe tbody tr th {\n",
              "        vertical-align: top;\n",
              "    }\n",
              "\n",
              "    .dataframe thead th {\n",
              "        text-align: right;\n",
              "    }\n",
              "</style>\n",
              "<table border=\"1\" class=\"dataframe\">\n",
              "  <thead>\n",
              "    <tr style=\"text-align: right;\">\n",
              "      <th></th>\n",
              "      <th>Sex</th>\n",
              "      <th>Length</th>\n",
              "      <th>Diameter</th>\n",
              "      <th>Height</th>\n",
              "      <th>Whole weight</th>\n",
              "      <th>Shucked weight</th>\n",
              "      <th>Viscera weight</th>\n",
              "      <th>Shell weight</th>\n",
              "      <th>Rings</th>\n",
              "    </tr>\n",
              "  </thead>\n",
              "  <tbody>\n",
              "    <tr>\n",
              "      <th>Sex</th>\n",
              "      <td>1.000000</td>\n",
              "      <td>-0.053809</td>\n",
              "      <td>-0.058973</td>\n",
              "      <td>-0.060771</td>\n",
              "      <td>-0.044714</td>\n",
              "      <td>-0.029654</td>\n",
              "      <td>-0.054876</td>\n",
              "      <td>-0.053316</td>\n",
              "      <td>-0.044566</td>\n",
              "    </tr>\n",
              "    <tr>\n",
              "      <th>Length</th>\n",
              "      <td>-0.053809</td>\n",
              "      <td>1.000000</td>\n",
              "      <td>0.982577</td>\n",
              "      <td>0.894482</td>\n",
              "      <td>0.972765</td>\n",
              "      <td>0.956553</td>\n",
              "      <td>0.952819</td>\n",
              "      <td>0.949480</td>\n",
              "      <td>0.550328</td>\n",
              "    </tr>\n",
              "    <tr>\n",
              "      <th>Diameter</th>\n",
              "      <td>-0.058973</td>\n",
              "      <td>0.982577</td>\n",
              "      <td>1.000000</td>\n",
              "      <td>0.901311</td>\n",
              "      <td>0.971055</td>\n",
              "      <td>0.949928</td>\n",
              "      <td>0.947623</td>\n",
              "      <td>0.956195</td>\n",
              "      <td>0.571165</td>\n",
              "    </tr>\n",
              "    <tr>\n",
              "      <th>Height</th>\n",
              "      <td>-0.060771</td>\n",
              "      <td>0.894482</td>\n",
              "      <td>0.901311</td>\n",
              "      <td>1.000000</td>\n",
              "      <td>0.914689</td>\n",
              "      <td>0.877426</td>\n",
              "      <td>0.897916</td>\n",
              "      <td>0.920351</td>\n",
              "      <td>0.622877</td>\n",
              "    </tr>\n",
              "    <tr>\n",
              "      <th>Whole weight</th>\n",
              "      <td>-0.044714</td>\n",
              "      <td>0.972765</td>\n",
              "      <td>0.971055</td>\n",
              "      <td>0.914689</td>\n",
              "      <td>1.000000</td>\n",
              "      <td>0.978471</td>\n",
              "      <td>0.975041</td>\n",
              "      <td>0.970438</td>\n",
              "      <td>0.576114</td>\n",
              "    </tr>\n",
              "    <tr>\n",
              "      <th>Shucked weight</th>\n",
              "      <td>-0.029654</td>\n",
              "      <td>0.956553</td>\n",
              "      <td>0.949928</td>\n",
              "      <td>0.877426</td>\n",
              "      <td>0.978471</td>\n",
              "      <td>1.000000</td>\n",
              "      <td>0.947974</td>\n",
              "      <td>0.921706</td>\n",
              "      <td>0.482472</td>\n",
              "    </tr>\n",
              "    <tr>\n",
              "      <th>Viscera weight</th>\n",
              "      <td>-0.054876</td>\n",
              "      <td>0.952819</td>\n",
              "      <td>0.947623</td>\n",
              "      <td>0.897916</td>\n",
              "      <td>0.975041</td>\n",
              "      <td>0.947974</td>\n",
              "      <td>1.000000</td>\n",
              "      <td>0.938440</td>\n",
              "      <td>0.554953</td>\n",
              "    </tr>\n",
              "    <tr>\n",
              "      <th>Shell weight</th>\n",
              "      <td>-0.053316</td>\n",
              "      <td>0.949480</td>\n",
              "      <td>0.956195</td>\n",
              "      <td>0.920351</td>\n",
              "      <td>0.970438</td>\n",
              "      <td>0.921706</td>\n",
              "      <td>0.938440</td>\n",
              "      <td>1.000000</td>\n",
              "      <td>0.643446</td>\n",
              "    </tr>\n",
              "    <tr>\n",
              "      <th>Rings</th>\n",
              "      <td>-0.044566</td>\n",
              "      <td>0.550328</td>\n",
              "      <td>0.571165</td>\n",
              "      <td>0.622877</td>\n",
              "      <td>0.576114</td>\n",
              "      <td>0.482472</td>\n",
              "      <td>0.554953</td>\n",
              "      <td>0.643446</td>\n",
              "      <td>1.000000</td>\n",
              "    </tr>\n",
              "  </tbody>\n",
              "</table>\n",
              "</div>\n",
              "      <button class=\"colab-df-convert\" onclick=\"convertToInteractive('df-88b2a7cb-aaea-46c7-aa6f-c76822a10f1a')\"\n",
              "              title=\"Convert this dataframe to an interactive table.\"\n",
              "              style=\"display:none;\">\n",
              "        \n",
              "  <svg xmlns=\"http://www.w3.org/2000/svg\" height=\"24px\"viewBox=\"0 0 24 24\"\n",
              "       width=\"24px\">\n",
              "    <path d=\"M0 0h24v24H0V0z\" fill=\"none\"/>\n",
              "    <path d=\"M18.56 5.44l.94 2.06.94-2.06 2.06-.94-2.06-.94-.94-2.06-.94 2.06-2.06.94zm-11 1L8.5 8.5l.94-2.06 2.06-.94-2.06-.94L8.5 2.5l-.94 2.06-2.06.94zm10 10l.94 2.06.94-2.06 2.06-.94-2.06-.94-.94-2.06-.94 2.06-2.06.94z\"/><path d=\"M17.41 7.96l-1.37-1.37c-.4-.4-.92-.59-1.43-.59-.52 0-1.04.2-1.43.59L10.3 9.45l-7.72 7.72c-.78.78-.78 2.05 0 2.83L4 21.41c.39.39.9.59 1.41.59.51 0 1.02-.2 1.41-.59l7.78-7.78 2.81-2.81c.8-.78.8-2.07 0-2.86zM5.41 20L4 18.59l7.72-7.72 1.47 1.35L5.41 20z\"/>\n",
              "  </svg>\n",
              "      </button>\n",
              "      \n",
              "  <style>\n",
              "    .colab-df-container {\n",
              "      display:flex;\n",
              "      flex-wrap:wrap;\n",
              "      gap: 12px;\n",
              "    }\n",
              "\n",
              "    .colab-df-convert {\n",
              "      background-color: #E8F0FE;\n",
              "      border: none;\n",
              "      border-radius: 50%;\n",
              "      cursor: pointer;\n",
              "      display: none;\n",
              "      fill: #1967D2;\n",
              "      height: 32px;\n",
              "      padding: 0 0 0 0;\n",
              "      width: 32px;\n",
              "    }\n",
              "\n",
              "    .colab-df-convert:hover {\n",
              "      background-color: #E2EBFA;\n",
              "      box-shadow: 0px 1px 2px rgba(60, 64, 67, 0.3), 0px 1px 3px 1px rgba(60, 64, 67, 0.15);\n",
              "      fill: #174EA6;\n",
              "    }\n",
              "\n",
              "    [theme=dark] .colab-df-convert {\n",
              "      background-color: #3B4455;\n",
              "      fill: #D2E3FC;\n",
              "    }\n",
              "\n",
              "    [theme=dark] .colab-df-convert:hover {\n",
              "      background-color: #434B5C;\n",
              "      box-shadow: 0px 1px 3px 1px rgba(0, 0, 0, 0.15);\n",
              "      filter: drop-shadow(0px 1px 2px rgba(0, 0, 0, 0.3));\n",
              "      fill: #FFFFFF;\n",
              "    }\n",
              "  </style>\n",
              "\n",
              "      <script>\n",
              "        const buttonEl =\n",
              "          document.querySelector('#df-88b2a7cb-aaea-46c7-aa6f-c76822a10f1a button.colab-df-convert');\n",
              "        buttonEl.style.display =\n",
              "          google.colab.kernel.accessAllowed ? 'block' : 'none';\n",
              "\n",
              "        async function convertToInteractive(key) {\n",
              "          const element = document.querySelector('#df-88b2a7cb-aaea-46c7-aa6f-c76822a10f1a');\n",
              "          const dataTable =\n",
              "            await google.colab.kernel.invokeFunction('convertToInteractive',\n",
              "                                                     [key], {});\n",
              "          if (!dataTable) return;\n",
              "\n",
              "          const docLinkHtml = 'Like what you see? Visit the ' +\n",
              "            '<a target=\"_blank\" href=https://colab.research.google.com/notebooks/data_table.ipynb>data table notebook</a>'\n",
              "            + ' to learn more about interactive tables.';\n",
              "          element.innerHTML = '';\n",
              "          dataTable['output_type'] = 'display_data';\n",
              "          await google.colab.output.renderOutput(dataTable, element);\n",
              "          const docLink = document.createElement('div');\n",
              "          docLink.innerHTML = docLinkHtml;\n",
              "          element.appendChild(docLink);\n",
              "        }\n",
              "      </script>\n",
              "    </div>\n",
              "  </div>\n",
              "  "
            ]
          },
          "metadata": {},
          "execution_count": 43
        }
      ]
    },
    {
      "cell_type": "code",
      "source": [
        "import seaborn as sns\n",
        "sns.heatmap(df.corr(),cmap=\"Blues\",annot=True)"
      ],
      "metadata": {
        "colab": {
          "base_uri": "https://localhost:8080/",
          "height": 356
        },
        "id": "aI1rXJKo7Y4m",
        "outputId": "c0e243ad-8da3-4f79-891c-93eb597bb2d7"
      },
      "execution_count": 44,
      "outputs": [
        {
          "output_type": "execute_result",
          "data": {
            "text/plain": [
              "<matplotlib.axes._subplots.AxesSubplot at 0x7ff8658d7390>"
            ]
          },
          "metadata": {},
          "execution_count": 44
        },
        {
          "output_type": "display_data",
          "data": {
            "text/plain": [
              "<Figure size 432x288 with 2 Axes>"
            ],
            "image/png": "[encoded data removed]"
          },
          "metadata": {
            "needs_background": "light"
          }
        }
      ]
    },
    {
      "cell_type": "code",
      "source": [
        "from statsmodels.stats.outliers_influence import variance_inflation_factor"
      ],
      "metadata": {
        "id": "mgMPkLvK7riS"
      },
      "execution_count": 45,
      "outputs": []
    },
    {
      "cell_type": "code",
      "source": [
        "# independent Column\n",
        "x=df.iloc[:,:-1]\n",
        "# target\n",
        "y=df.iloc[:,-1]"
      ],
      "metadata": {
        "id": "BYIYQmUa8oOB"
      },
      "execution_count": 46,
      "outputs": []
    },
    {
      "cell_type": "code",
      "source": [
        "x"
      ],
      "metadata": {
        "colab": {
          "base_uri": "https://localhost:8080/",
          "height": 423
        },
        "id": "mxNXsxnZ8vby",
        "outputId": "f966d395-8c64-453f-a923-a46107239cd2"
      },
      "execution_count": 47,
      "outputs": [
        {
          "output_type": "execute_result",
          "data": {
            "text/plain": [
              "           Sex    Length  Diameter    Height  Whole weight  Shucked weight  \\\n",
              "0     1.127072 -0.685502 -0.549860 -1.124512     -0.576766       -0.540989   \n",
              "1     1.127072 -1.396344 -1.387333 -1.264396     -1.351761       -1.311662   \n",
              "2    -1.307935 -0.070774  0.008537 -0.064823     -0.198099       -0.366116   \n",
              "3     1.127072 -0.797286 -0.549860 -0.320227     -0.571893       -0.591672   \n",
              "4    -0.009459 -1.513796 -1.459659 -1.549424     -1.413146       -1.380201   \n",
              "...        ...       ...       ...       ...           ...             ...   \n",
              "4172 -1.307935  0.249836  0.345636  0.666117      0.241948        0.194158   \n",
              "4173  1.127072  0.492813  0.230611 -0.064823      0.395706        0.495450   \n",
              "4174  1.127072  0.593366  0.645191  1.565082      0.777944        0.838137   \n",
              "4175 -1.307935  0.853375  0.769928  0.307083      0.633874        0.858739   \n",
              "4176  1.127072  1.834478  1.726289  1.347943      1.937323        2.103648   \n",
              "\n",
              "      Viscera weight  Shell weight  \n",
              "0          -0.693283     -0.587809  \n",
              "1          -1.332953     -1.332420  \n",
              "2          -0.255135     -0.098262  \n",
              "3          -0.547782     -0.544931  \n",
              "4          -1.451759     -1.485528  \n",
              "...              ...           ...  \n",
              "4172        0.639623      0.193008  \n",
              "4173        0.433568      0.275215  \n",
              "4174        1.015607      0.598398  \n",
              "4175        0.815184      0.519145  \n",
              "4176        1.611344      1.658488  \n",
              "\n",
              "[4089 rows x 8 columns]"
            ],
            "text/html": [
              "\n",
              "  <div id=\"df-5f08a2d7-8dba-4a92-8a18-df408a8d5b95\">\n",
              "    <div class=\"colab-df-container\">\n",
              "      <div>\n",
              "<style scoped>\n",
              "    .dataframe tbody tr th:only-of-type {\n",
              "        vertical-align: middle;\n",
              "    }\n",
              "\n",
              "    .dataframe tbody tr th {\n",
              "        vertical-align: top;\n",
              "    }\n",
              "\n",
              "    .dataframe thead th {\n",
              "        text-align: right;\n",
              "    }\n",
              "</style>\n",
              "<table border=\"1\" class=\"dataframe\">\n",
              "  <thead>\n",
              "    <tr style=\"text-align: right;\">\n",
              "      <th></th>\n",
              "      <th>Sex</th>\n",
              "      <th>Length</th>\n",
              "      <th>Diameter</th>\n",
              "      <th>Height</th>\n",
              "      <th>Whole weight</th>\n",
              "      <th>Shucked weight</th>\n",
              "      <th>Viscera weight</th>\n",
              "      <th>Shell weight</th>\n",
              "    </tr>\n",
              "  </thead>\n",
              "  <tbody>\n",
              "    <tr>\n",
              "      <th>0</th>\n",
              "      <td>1.127072</td>\n",
              "      <td>-0.685502</td>\n",
              "      <td>-0.549860</td>\n",
              "      <td>-1.124512</td>\n",
              "      <td>-0.576766</td>\n",
              "      <td>-0.540989</td>\n",
              "      <td>-0.693283</td>\n",
              "      <td>-0.587809</td>\n",
              "    </tr>\n",
              "    <tr>\n",
              "      <th>1</th>\n",
              "      <td>1.127072</td>\n",
              "      <td>-1.396344</td>\n",
              "      <td>-1.387333</td>\n",
              "      <td>-1.264396</td>\n",
              "      <td>-1.351761</td>\n",
              "      <td>-1.311662</td>\n",
              "      <td>-1.332953</td>\n",
              "      <td>-1.332420</td>\n",
              "    </tr>\n",
              "    <tr>\n",
              "      <th>2</th>\n",
              "      <td>-1.307935</td>\n",
              "      <td>-0.070774</td>\n",
              "      <td>0.008537</td>\n",
              "      <td>-0.064823</td>\n",
              "      <td>-0.198099</td>\n",
              "      <td>-0.366116</td>\n",
              "      <td>-0.255135</td>\n",
              "      <td>-0.098262</td>\n",
              "    </tr>\n",
              "    <tr>\n",
              "      <th>3</th>\n",
              "      <td>1.127072</td>\n",
              "      <td>-0.797286</td>\n",
              "      <td>-0.549860</td>\n",
              "      <td>-0.320227</td>\n",
              "      <td>-0.571893</td>\n",
              "      <td>-0.591672</td>\n",
              "      <td>-0.547782</td>\n",
              "      <td>-0.544931</td>\n",
              "    </tr>\n",
              "    <tr>\n",
              "      <th>4</th>\n",
              "      <td>-0.009459</td>\n",
              "      <td>-1.513796</td>\n",
              "      <td>-1.459659</td>\n",
              "      <td>-1.549424</td>\n",
              "      <td>-1.413146</td>\n",
              "      <td>-1.380201</td>\n",
              "      <td>-1.451759</td>\n",
              "      <td>-1.485528</td>\n",
              "    </tr>\n",
              "    <tr>\n",
              "      <th>...</th>\n",
              "      <td>...</td>\n",
              "      <td>...</td>\n",
              "      <td>...</td>\n",
              "      <td>...</td>\n",
              "      <td>...</td>\n",
              "      <td>...</td>\n",
              "      <td>...</td>\n",
              "      <td>...</td>\n",
              "    </tr>\n",
              "    <tr>\n",
              "      <th>4172</th>\n",
              "      <td>-1.307935</td>\n",
              "      <td>0.249836</td>\n",
              "      <td>0.345636</td>\n",
              "      <td>0.666117</td>\n",
              "      <td>0.241948</td>\n",
              "      <td>0.194158</td>\n",
              "      <td>0.639623</td>\n",
              "      <td>0.193008</td>\n",
              "    </tr>\n",
              "    <tr>\n",
              "      <th>4173</th>\n",
              "      <td>1.127072</td>\n",
              "      <td>0.492813</td>\n",
              "      <td>0.230611</td>\n",
              "      <td>-0.064823</td>\n",
              "      <td>0.395706</td>\n",
              "      <td>0.495450</td>\n",
              "      <td>0.433568</td>\n",
              "      <td>0.275215</td>\n",
              "    </tr>\n",
              "    <tr>\n",
              "      <th>4174</th>\n",
              "      <td>1.127072</td>\n",
              "      <td>0.593366</td>\n",
              "      <td>0.645191</td>\n",
              "      <td>1.565082</td>\n",
              "      <td>0.777944</td>\n",
              "      <td>0.838137</td>\n",
              "      <td>1.015607</td>\n",
              "      <td>0.598398</td>\n",
              "    </tr>\n",
              "    <tr>\n",
              "      <th>4175</th>\n",
              "      <td>-1.307935</td>\n",
              "      <td>0.853375</td>\n",
              "      <td>0.769928</td>\n",
              "      <td>0.307083</td>\n",
              "      <td>0.633874</td>\n",
              "      <td>0.858739</td>\n",
              "      <td>0.815184</td>\n",
              "      <td>0.519145</td>\n",
              "    </tr>\n",
              "    <tr>\n",
              "      <th>4176</th>\n",
              "      <td>1.127072</td>\n",
              "      <td>1.834478</td>\n",
              "      <td>1.726289</td>\n",
              "      <td>1.347943</td>\n",
              "      <td>1.937323</td>\n",
              "      <td>2.103648</td>\n",
              "      <td>1.611344</td>\n",
              "      <td>1.658488</td>\n",
              "    </tr>\n",
              "  </tbody>\n",
              "</table>\n",
              "<p>4089 rows × 8 columns</p>\n",
              "</div>\n",
              "      <button class=\"colab-df-convert\" onclick=\"convertToInteractive('df-5f08a2d7-8dba-4a92-8a18-df408a8d5b95')\"\n",
              "              title=\"Convert this dataframe to an interactive table.\"\n",
              "              style=\"display:none;\">\n",
              "        \n",
              "  <svg xmlns=\"http://www.w3.org/2000/svg\" height=\"24px\"viewBox=\"0 0 24 24\"\n",
              "       width=\"24px\">\n",
              "    <path d=\"M0 0h24v24H0V0z\" fill=\"none\"/>\n",
              "    <path d=\"M18.56 5.44l.94 2.06.94-2.06 2.06-.94-2.06-.94-.94-2.06-.94 2.06-2.06.94zm-11 1L8.5 8.5l.94-2.06 2.06-.94-2.06-.94L8.5 2.5l-.94 2.06-2.06.94zm10 10l.94 2.06.94-2.06 2.06-.94-2.06-.94-.94-2.06-.94 2.06-2.06.94z\"/><path d=\"M17.41 7.96l-1.37-1.37c-.4-.4-.92-.59-1.43-.59-.52 0-1.04.2-1.43.59L10.3 9.45l-7.72 7.72c-.78.78-.78 2.05 0 2.83L4 21.41c.39.39.9.59 1.41.59.51 0 1.02-.2 1.41-.59l7.78-7.78 2.81-2.81c.8-.78.8-2.07 0-2.86zM5.41 20L4 18.59l7.72-7.72 1.47 1.35L5.41 20z\"/>\n",
              "  </svg>\n",
              "      </button>\n",
              "      \n",
              "  <style>\n",
              "    .colab-df-container {\n",
              "      display:flex;\n",
              "      flex-wrap:wrap;\n",
              "      gap: 12px;\n",
              "    }\n",
              "\n",
              "    .colab-df-convert {\n",
              "      background-color: #E8F0FE;\n",
              "      border: none;\n",
              "      border-radius: 50%;\n",
              "      cursor: pointer;\n",
              "      display: none;\n",
              "      fill: #1967D2;\n",
              "      height: 32px;\n",
              "      padding: 0 0 0 0;\n",
              "      width: 32px;\n",
              "    }\n",
              "\n",
              "    .colab-df-convert:hover {\n",
              "      background-color: #E2EBFA;\n",
              "      box-shadow: 0px 1px 2px rgba(60, 64, 67, 0.3), 0px 1px 3px 1px rgba(60, 64, 67, 0.15);\n",
              "      fill: #174EA6;\n",
              "    }\n",
              "\n",
              "    [theme=dark] .colab-df-convert {\n",
              "      background-color: #3B4455;\n",
              "      fill: #D2E3FC;\n",
              "    }\n",
              "\n",
              "    [theme=dark] .colab-df-convert:hover {\n",
              "      background-color: #434B5C;\n",
              "      box-shadow: 0px 1px 3px 1px rgba(0, 0, 0, 0.15);\n",
              "      filter: drop-shadow(0px 1px 2px rgba(0, 0, 0, 0.3));\n",
              "      fill: #FFFFFF;\n",
              "    }\n",
              "  </style>\n",
              "\n",
              "      <script>\n",
              "        const buttonEl =\n",
              "          document.querySelector('#df-5f08a2d7-8dba-4a92-8a18-df408a8d5b95 button.colab-df-convert');\n",
              "        buttonEl.style.display =\n",
              "          google.colab.kernel.accessAllowed ? 'block' : 'none';\n",
              "\n",
              "        async function convertToInteractive(key) {\n",
              "          const element = document.querySelector('#df-5f08a2d7-8dba-4a92-8a18-df408a8d5b95');\n",
              "          const dataTable =\n",
              "            await google.colab.kernel.invokeFunction('convertToInteractive',\n",
              "                                                     [key], {});\n",
              "          if (!dataTable) return;\n",
              "\n",
              "          const docLinkHtml = 'Like what you see? Visit the ' +\n",
              "            '<a target=\"_blank\" href=https://colab.research.google.com/notebooks/data_table.ipynb>data table notebook</a>'\n",
              "            + ' to learn more about interactive tables.';\n",
              "          element.innerHTML = '';\n",
              "          dataTable['output_type'] = 'display_data';\n",
              "          await google.colab.output.renderOutput(dataTable, element);\n",
              "          const docLink = document.createElement('div');\n",
              "          docLink.innerHTML = docLinkHtml;\n",
              "          element.appendChild(docLink);\n",
              "        }\n",
              "      </script>\n",
              "    </div>\n",
              "  </div>\n",
              "  "
            ]
          },
          "metadata": {},
          "execution_count": 47
        }
      ]
    },
    {
      "cell_type": "code",
      "source": [
        "y"
      ],
      "metadata": {
        "colab": {
          "base_uri": "https://localhost:8080/"
        },
        "id": "IFceuZq98wih",
        "outputId": "2249e7b9-494d-4bbf-d1c3-70741673c05b"
      },
      "execution_count": 48,
      "outputs": [
        {
          "output_type": "execute_result",
          "data": {
            "text/plain": [
              "0       15\n",
              "1        7\n",
              "2        9\n",
              "3       10\n",
              "4        7\n",
              "        ..\n",
              "4172    11\n",
              "4173    10\n",
              "4174     9\n",
              "4175    10\n",
              "4176    12\n",
              "Name: Rings, Length: 4089, dtype: int64"
            ]
          },
          "metadata": {},
          "execution_count": 48
        }
      ]
    },
    {
      "cell_type": "code",
      "source": [
        "def vif_calc():\n",
        "  vif=pd.DataFrame()\n",
        "  vif[\"VIF Factor\"]=[variance_inflation_factor(x.values,i) for i in range(x.shape[1])]\n",
        "  vif[\"features\"]=x.columns\n",
        "  print(vif)"
      ],
      "metadata": {
        "id": "0GY_zzD48xFR"
      },
      "execution_count": 49,
      "outputs": []
    },
    {
      "cell_type": "code",
      "source": [
        "vif_calc()"
      ],
      "metadata": {
        "colab": {
          "base_uri": "https://localhost:8080/"
        },
        "id": "9y0ND9NN92eB",
        "outputId": "bdc2b6d4-7528-4e21-e42a-ffb31b899e49"
      },
      "execution_count": 50,
      "outputs": [
        {
          "output_type": "stream",
          "name": "stdout",
          "text": [
            "   VIF Factor        features\n",
            "0    1.013544             Sex\n",
            "1   36.461065          Length\n",
            "2   35.404797        Diameter\n",
            "3    7.043978          Height\n",
            "4  145.752070    Whole weight\n",
            "5   38.665499  Shucked weight\n",
            "6   23.145142  Viscera weight\n",
            "7   31.796079    Shell weight\n"
          ]
        }
      ]
    },
    {
      "cell_type": "code",
      "source": [
        "import seaborn as sns\n",
        "sns.heatmap(df.corr(),cmap=\"Blues\",annot=True)"
      ],
      "metadata": {
        "colab": {
          "base_uri": "https://localhost:8080/",
          "height": 356
        },
        "id": "MsK1pVOE4a1O",
        "outputId": "9fa134c8-4b5d-4b06-b8b2-745657be9f64"
      },
      "execution_count": 51,
      "outputs": [
        {
          "output_type": "execute_result",
          "data": {
            "text/plain": [
              "<matplotlib.axes._subplots.AxesSubplot at 0x7ff86559d450>"
            ]
          },
          "metadata": {},
          "execution_count": 51
        },
        {
          "output_type": "display_data",
          "data": {
            "text/plain": [
              "<Figure size 432x288 with 2 Axes>"
            ],
            "image/png": "[encoded data removed]"
          },
          "metadata": {
            "needs_background": "light"
          }
        }
      ]
    },
    {
      "cell_type": "markdown",
      "source": [
        "dropping the least coorelated column with high variance inflation factor"
      ],
      "metadata": {
        "id": "7JHO4IVo4d4a"
      }
    },
    {
      "cell_type": "code",
      "source": [
        "x.drop(['Shucked weight'],axis=1,inplace=True)"
      ],
      "metadata": {
        "id": "ww2D6IvZ4cZq"
      },
      "execution_count": 52,
      "outputs": []
    },
    {
      "cell_type": "code",
      "source": [
        "x"
      ],
      "metadata": {
        "colab": {
          "base_uri": "https://localhost:8080/",
          "height": 423
        },
        "id": "SKwC-m5r6gQ9",
        "outputId": "b32f9b3d-69cb-452d-e590-2d3d69f38097"
      },
      "execution_count": 53,
      "outputs": [
        {
          "output_type": "execute_result",
          "data": {
            "text/plain": [
              "           Sex    Length  Diameter    Height  Whole weight  Viscera weight  \\\n",
              "0     1.127072 -0.685502 -0.549860 -1.124512     -0.576766       -0.693283   \n",
              "1     1.127072 -1.396344 -1.387333 -1.264396     -1.351761       -1.332953   \n",
              "2    -1.307935 -0.070774  0.008537 -0.064823     -0.198099       -0.255135   \n",
              "3     1.127072 -0.797286 -0.549860 -0.320227     -0.571893       -0.547782   \n",
              "4    -0.009459 -1.513796 -1.459659 -1.549424     -1.413146       -1.451759   \n",
              "...        ...       ...       ...       ...           ...             ...   \n",
              "4172 -1.307935  0.249836  0.345636  0.666117      0.241948        0.639623   \n",
              "4173  1.127072  0.492813  0.230611 -0.064823      0.395706        0.433568   \n",
              "4174  1.127072  0.593366  0.645191  1.565082      0.777944        1.015607   \n",
              "4175 -1.307935  0.853375  0.769928  0.307083      0.633874        0.815184   \n",
              "4176  1.127072  1.834478  1.726289  1.347943      1.937323        1.611344   \n",
              "\n",
              "      Shell weight  \n",
              "0        -0.587809  \n",
              "1        -1.332420  \n",
              "2        -0.098262  \n",
              "3        -0.544931  \n",
              "4        -1.485528  \n",
              "...            ...  \n",
              "4172      0.193008  \n",
              "4173      0.275215  \n",
              "4174      0.598398  \n",
              "4175      0.519145  \n",
              "4176      1.658488  \n",
              "\n",
              "[4089 rows x 7 columns]"
            ],
            "text/html": [
              "\n",
              "  <div id=\"df-f63e1733-4153-4999-8155-a7f1bf4f4859\">\n",
              "    <div class=\"colab-df-container\">\n",
              "      <div>\n",
              "<style scoped>\n",
              "    .dataframe tbody tr th:only-of-type {\n",
              "        vertical-align: middle;\n",
              "    }\n",
              "\n",
              "    .dataframe tbody tr th {\n",
              "        vertical-align: top;\n",
              "    }\n",
              "\n",
              "    .dataframe thead th {\n",
              "        text-align: right;\n",
              "    }\n",
              "</style>\n",
              "<table border=\"1\" class=\"dataframe\">\n",
              "  <thead>\n",
              "    <tr style=\"text-align: right;\">\n",
              "      <th></th>\n",
              "      <th>Sex</th>\n",
              "      <th>Length</th>\n",
              "      <th>Diameter</th>\n",
              "      <th>Height</th>\n",
              "      <th>Whole weight</th>\n",
              "      <th>Viscera weight</th>\n",
              "      <th>Shell weight</th>\n",
              "    </tr>\n",
              "  </thead>\n",
              "  <tbody>\n",
              "    <tr>\n",
              "      <th>0</th>\n",
              "      <td>1.127072</td>\n",
              "      <td>-0.685502</td>\n",
              "      <td>-0.549860</td>\n",
              "      <td>-1.124512</td>\n",
              "      <td>-0.576766</td>\n",
              "      <td>-0.693283</td>\n",
              "      <td>-0.587809</td>\n",
              "    </tr>\n",
              "    <tr>\n",
              "      <th>1</th>\n",
              "      <td>1.127072</td>\n",
              "      <td>-1.396344</td>\n",
              "      <td>-1.387333</td>\n",
              "      <td>-1.264396</td>\n",
              "      <td>-1.351761</td>\n",
              "      <td>-1.332953</td>\n",
              "      <td>-1.332420</td>\n",
              "    </tr>\n",
              "    <tr>\n",
              "      <th>2</th>\n",
              "      <td>-1.307935</td>\n",
              "      <td>-0.070774</td>\n",
              "      <td>0.008537</td>\n",
              "      <td>-0.064823</td>\n",
              "      <td>-0.198099</td>\n",
              "      <td>-0.255135</td>\n",
              "      <td>-0.098262</td>\n",
              "    </tr>\n",
              "    <tr>\n",
              "      <th>3</th>\n",
              "      <td>1.127072</td>\n",
              "      <td>-0.797286</td>\n",
              "      <td>-0.549860</td>\n",
              "      <td>-0.320227</td>\n",
              "      <td>-0.571893</td>\n",
              "      <td>-0.547782</td>\n",
              "      <td>-0.544931</td>\n",
              "    </tr>\n",
              "    <tr>\n",
              "      <th>4</th>\n",
              "      <td>-0.009459</td>\n",
              "      <td>-1.513796</td>\n",
              "      <td>-1.459659</td>\n",
              "      <td>-1.549424</td>\n",
              "      <td>-1.413146</td>\n",
              "      <td>-1.451759</td>\n",
              "      <td>-1.485528</td>\n",
              "    </tr>\n",
              "    <tr>\n",
              "      <th>...</th>\n",
              "      <td>...</td>\n",
              "      <td>...</td>\n",
              "      <td>...</td>\n",
              "      <td>...</td>\n",
              "      <td>...</td>\n",
              "      <td>...</td>\n",
              "      <td>...</td>\n",
              "    </tr>\n",
              "    <tr>\n",
              "      <th>4172</th>\n",
              "      <td>-1.307935</td>\n",
              "      <td>0.249836</td>\n",
              "      <td>0.345636</td>\n",
              "      <td>0.666117</td>\n",
              "      <td>0.241948</td>\n",
              "      <td>0.639623</td>\n",
              "      <td>0.193008</td>\n",
              "    </tr>\n",
              "    <tr>\n",
              "      <th>4173</th>\n",
              "      <td>1.127072</td>\n",
              "      <td>0.492813</td>\n",
              "      <td>0.230611</td>\n",
              "      <td>-0.064823</td>\n",
              "      <td>0.395706</td>\n",
              "      <td>0.433568</td>\n",
              "      <td>0.275215</td>\n",
              "    </tr>\n",
              "    <tr>\n",
              "      <th>4174</th>\n",
              "      <td>1.127072</td>\n",
              "      <td>0.593366</td>\n",
              "      <td>0.645191</td>\n",
              "      <td>1.565082</td>\n",
              "      <td>0.777944</td>\n",
              "      <td>1.015607</td>\n",
              "      <td>0.598398</td>\n",
              "    </tr>\n",
              "    <tr>\n",
              "      <th>4175</th>\n",
              "      <td>-1.307935</td>\n",
              "      <td>0.853375</td>\n",
              "      <td>0.769928</td>\n",
              "      <td>0.307083</td>\n",
              "      <td>0.633874</td>\n",
              "      <td>0.815184</td>\n",
              "      <td>0.519145</td>\n",
              "    </tr>\n",
              "    <tr>\n",
              "      <th>4176</th>\n",
              "      <td>1.127072</td>\n",
              "      <td>1.834478</td>\n",
              "      <td>1.726289</td>\n",
              "      <td>1.347943</td>\n",
              "      <td>1.937323</td>\n",
              "      <td>1.611344</td>\n",
              "      <td>1.658488</td>\n",
              "    </tr>\n",
              "  </tbody>\n",
              "</table>\n",
              "<p>4089 rows × 7 columns</p>\n",
              "</div>\n",
              "      <button class=\"colab-df-convert\" onclick=\"convertToInteractive('df-f63e1733-4153-4999-8155-a7f1bf4f4859')\"\n",
              "              title=\"Convert this dataframe to an interactive table.\"\n",
              "              style=\"display:none;\">\n",
              "        \n",
              "  <svg xmlns=\"http://www.w3.org/2000/svg\" height=\"24px\"viewBox=\"0 0 24 24\"\n",
              "       width=\"24px\">\n",
              "    <path d=\"M0 0h24v24H0V0z\" fill=\"none\"/>\n",
              "    <path d=\"M18.56 5.44l.94 2.06.94-2.06 2.06-.94-2.06-.94-.94-2.06-.94 2.06-2.06.94zm-11 1L8.5 8.5l.94-2.06 2.06-.94-2.06-.94L8.5 2.5l-.94 2.06-2.06.94zm10 10l.94 2.06.94-2.06 2.06-.94-2.06-.94-.94-2.06-.94 2.06-2.06.94z\"/><path d=\"M17.41 7.96l-1.37-1.37c-.4-.4-.92-.59-1.43-.59-.52 0-1.04.2-1.43.59L10.3 9.45l-7.72 7.72c-.78.78-.78 2.05 0 2.83L4 21.41c.39.39.9.59 1.41.59.51 0 1.02-.2 1.41-.59l7.78-7.78 2.81-2.81c.8-.78.8-2.07 0-2.86zM5.41 20L4 18.59l7.72-7.72 1.47 1.35L5.41 20z\"/>\n",
              "  </svg>\n",
              "      </button>\n",
              "      \n",
              "  <style>\n",
              "    .colab-df-container {\n",
              "      display:flex;\n",
              "      flex-wrap:wrap;\n",
              "      gap: 12px;\n",
              "    }\n",
              "\n",
              "    .colab-df-convert {\n",
              "      background-color: #E8F0FE;\n",
              "      border: none;\n",
              "      border-radius: 50%;\n",
              "      cursor: pointer;\n",
              "      display: none;\n",
              "      fill: #1967D2;\n",
              "      height: 32px;\n",
              "      padding: 0 0 0 0;\n",
              "      width: 32px;\n",
              "    }\n",
              "\n",
              "    .colab-df-convert:hover {\n",
              "      background-color: #E2EBFA;\n",
              "      box-shadow: 0px 1px 2px rgba(60, 64, 67, 0.3), 0px 1px 3px 1px rgba(60, 64, 67, 0.15);\n",
              "      fill: #174EA6;\n",
              "    }\n",
              "\n",
              "    [theme=dark] .colab-df-convert {\n",
              "      background-color: #3B4455;\n",
              "      fill: #D2E3FC;\n",
              "    }\n",
              "\n",
              "    [theme=dark] .colab-df-convert:hover {\n",
              "      background-color: #434B5C;\n",
              "      box-shadow: 0px 1px 3px 1px rgba(0, 0, 0, 0.15);\n",
              "      filter: drop-shadow(0px 1px 2px rgba(0, 0, 0, 0.3));\n",
              "      fill: #FFFFFF;\n",
              "    }\n",
              "  </style>\n",
              "\n",
              "      <script>\n",
              "        const buttonEl =\n",
              "          document.querySelector('#df-f63e1733-4153-4999-8155-a7f1bf4f4859 button.colab-df-convert');\n",
              "        buttonEl.style.display =\n",
              "          google.colab.kernel.accessAllowed ? 'block' : 'none';\n",
              "\n",
              "        async function convertToInteractive(key) {\n",
              "          const element = document.querySelector('#df-f63e1733-4153-4999-8155-a7f1bf4f4859');\n",
              "          const dataTable =\n",
              "            await google.colab.kernel.invokeFunction('convertToInteractive',\n",
              "                                                     [key], {});\n",
              "          if (!dataTable) return;\n",
              "\n",
              "          const docLinkHtml = 'Like what you see? Visit the ' +\n",
              "            '<a target=\"_blank\" href=https://colab.research.google.com/notebooks/data_table.ipynb>data table notebook</a>'\n",
              "            + ' to learn more about interactive tables.';\n",
              "          element.innerHTML = '';\n",
              "          dataTable['output_type'] = 'display_data';\n",
              "          await google.colab.output.renderOutput(dataTable, element);\n",
              "          const docLink = document.createElement('div');\n",
              "          docLink.innerHTML = docLinkHtml;\n",
              "          element.appendChild(docLink);\n",
              "        }\n",
              "      </script>\n",
              "    </div>\n",
              "  </div>\n",
              "  "
            ]
          },
          "metadata": {},
          "execution_count": 53
        }
      ]
    },
    {
      "cell_type": "markdown",
      "source": [
        "Rechecking the Variance inflation factor"
      ],
      "metadata": {
        "id": "QFB9QWj85KV_"
      }
    },
    {
      "cell_type": "code",
      "source": [
        "vif_calc()"
      ],
      "metadata": {
        "colab": {
          "base_uri": "https://localhost:8080/"
        },
        "id": "SCgaym_g6HR_",
        "outputId": "4f78ce2a-2aaa-4662-8d3a-7c8c628ce849"
      },
      "execution_count": 54,
      "outputs": [
        {
          "output_type": "stream",
          "name": "stdout",
          "text": [
            "   VIF Factor        features\n",
            "0    1.010781             Sex\n",
            "1   35.796694          Length\n",
            "2   35.334900        Diameter\n",
            "3    7.043978          Height\n",
            "4   54.782562    Whole weight\n",
            "5   21.329939  Viscera weight\n",
            "6   21.005174    Shell weight\n"
          ]
        }
      ]
    },
    {
      "cell_type": "markdown",
      "source": [
        "# Scaling the data "
      ],
      "metadata": {
        "id": "VF9-CKJi_OkI"
      }
    },
    {
      "cell_type": "code",
      "source": [
        "from sklearn.preprocessing import StandardScaler\n",
        "sc=StandardScaler()\n",
        "x=sc.fit_transform(x)\n",
        "x"
      ],
      "metadata": {
        "colab": {
          "base_uri": "https://localhost:8080/"
        },
        "id": "Hqee9qF798Yy",
        "outputId": "809f9eab-1d47-4a17-9f4a-03fc12c39367"
      },
      "execution_count": 55,
      "outputs": [
        {
          "output_type": "execute_result",
          "data": {
            "text/plain": [
              "array([[ 1.12568281, -0.68811815, -0.55024621, ..., -0.57397171,\n",
              "        -0.69281235, -0.58353679],\n",
              "       [ 1.12568281, -1.40810904, -1.3998753 , ..., -1.35871435,\n",
              "        -1.33784534, -1.34377352],\n",
              "       [-1.31423388, -0.06547848,  0.01625674, ..., -0.19054249,\n",
              "        -0.25099101, -0.08371633],\n",
              "       ...,\n",
              "       [ 1.12568281,  0.60720993,  0.66215191, ...,  0.79777696,\n",
              "         1.03040595,  0.62756323],\n",
              "       [-1.31423388,  0.87056545,  0.78869954, ...,  0.65189498,\n",
              "         0.82830241,  0.54664764],\n",
              "       [ 1.12568281,  1.86429554,  1.75894272, ...,  1.97173892,\n",
              "         1.63113754,  1.70990015]])"
            ]
          },
          "metadata": {},
          "execution_count": 55
        }
      ]
    },
    {
      "cell_type": "code",
      "source": [
        "from sklearn.model_selection import train_test_split\n",
        "from sklearn.linear_model import ElasticNet\n",
        "\n",
        "enr=ElasticNet()\n",
        "enr.fit(x_train,y_train)\n",
        "enrpred=enr.predict(x_test)\n",
        "print(enr.score(x_train,y_train))\n",
        "enr.coef_"
      ],
      "metadata": {
        "colab": {
          "base_uri": "https://localhost:8080/"
        },
        "id": "_kcDZkNOcnY0",
        "outputId": "882e4571-577b-4a75-cd22-34e6b8ba65ef"
      },
      "execution_count": 58,
      "outputs": [
        {
          "output_type": "stream",
          "name": "stdout",
          "text": [
            "0.3458655033131952\n"
          ]
        },
        {
          "output_type": "execute_result",
          "data": {
            "text/plain": [
              "array([-0.        ,  0.02664384,  0.10892792,  0.39084568,  0.10864391,\n",
              "        0.05093994,  0.46502772])"
            ]
          },
          "metadata": {},
          "execution_count": 58
        }
      ]
    },
    {
      "cell_type": "markdown",
      "source": [
        "# Linear Regression"
      ],
      "metadata": {
        "id": "0WrxJj8SGjKG"
      }
    },
    {
      "cell_type": "code",
      "source": [
        "from sklearn.linear_model import LinearRegression\n",
        "from sklearn.model_selection import train_test_split\n",
        "from sklearn.metrics import mean_absolute_error,mean_squared_error\n",
        "from sklearn.metrics import r2_score\n",
        "\n",
        "\n",
        "for i in range(1,100):\n",
        "  x_train,x_test,y_train,y_test=train_test_split(x,y,test_size=.20,random_state=i)\n",
        "  lr=LinearRegression()\n",
        "  lr.fit(x_train,y_train)\n",
        "  pred_train=lr.predict(x_train)\n",
        "  pred_test=lr.predict(x_test)\n",
        "  print(f\"At random state {i},the training accuracy is :- {r2_score(y_train,pred_train)}\")\n",
        "  print(f\"At random state {i},the testing accuracy is :- {r2_score(y_test,pred_test)}\")\n",
        "  print(\"\\n\")\n",
        " "
      ],
      "metadata": {
        "colab": {
          "base_uri": "https://localhost:8080/"
        },
        "id": "8UMtigcK_bDp",
        "outputId": "b57c02e8-cdc2-4886-ee6e-adfee93ef50b"
      },
      "execution_count": 57,
      "outputs": [
        {
          "output_type": "stream",
          "name": "stdout",
          "text": [
            "At random state 1,the training accuracy is :- 0.47244473404210274\n",
            "At random state 1,the testing accuracy is :- 0.49518558011014013\n",
            "\n",
            "\n",
            "At random state 2,the training accuracy is :- 0.4759190638009151\n",
            "At random state 2,the testing accuracy is :- 0.4810044260938404\n",
            "\n",
            "\n",
            "At random state 3,the training accuracy is :- 0.4734302651127891\n",
            "At random state 3,the testing accuracy is :- 0.4912546768741035\n",
            "\n",
            "\n",
            "At random state 4,the training accuracy is :- 0.47415301978931435\n",
            "At random state 4,the testing accuracy is :- 0.48815331957805386\n",
            "\n",
            "\n",
            "At random state 5,the training accuracy is :- 0.4812959279419846\n",
            "At random state 5,the testing accuracy is :- 0.4604898697297166\n",
            "\n",
            "\n",
            "At random state 6,the training accuracy is :- 0.4726552270440417\n",
            "At random state 6,the testing accuracy is :- 0.4935531604463429\n",
            "\n",
            "\n",
            "At random state 7,the training accuracy is :- 0.47661838578539195\n",
            "At random state 7,the testing accuracy is :- 0.4777812847166466\n",
            "\n",
            "\n",
            "At random state 8,the training accuracy is :- 0.4791558224024314\n",
            "At random state 8,the testing accuracy is :- 0.46588298136006656\n",
            "\n",
            "\n",
            "At random state 9,the training accuracy is :- 0.46869861909946553\n",
            "At random state 9,the testing accuracy is :- 0.5122150789342461\n",
            "\n",
            "\n",
            "At random state 10,the training accuracy is :- 0.46856589961268513\n",
            "At random state 10,the testing accuracy is :- 0.5090511345681716\n",
            "\n",
            "\n",
            "At random state 11,the training accuracy is :- 0.48103083662025736\n",
            "At random state 11,the testing accuracy is :- 0.4577005909292782\n",
            "\n",
            "\n",
            "At random state 12,the training accuracy is :- 0.4757011995835826\n",
            "At random state 12,the testing accuracy is :- 0.48172429993168364\n",
            "\n",
            "\n",
            "At random state 13,the training accuracy is :- 0.4867406258422554\n",
            "At random state 13,the testing accuracy is :- 0.4367890308754848\n",
            "\n",
            "\n",
            "At random state 14,the training accuracy is :- 0.4886281916886651\n",
            "At random state 14,the testing accuracy is :- 0.4255681529194085\n",
            "\n",
            "\n",
            "At random state 15,the training accuracy is :- 0.47052340988263\n",
            "At random state 15,the testing accuracy is :- 0.49847794306491\n",
            "\n",
            "\n",
            "At random state 16,the training accuracy is :- 0.4751549717182566\n",
            "At random state 16,the testing accuracy is :- 0.4840196251505099\n",
            "\n",
            "\n",
            "At random state 17,the training accuracy is :- 0.4743487475297251\n",
            "At random state 17,the testing accuracy is :- 0.48634476457415476\n",
            "\n",
            "\n",
            "At random state 18,the training accuracy is :- 0.4735800940357556\n",
            "At random state 18,the testing accuracy is :- 0.4918234872475302\n",
            "\n",
            "\n",
            "At random state 19,the training accuracy is :- 0.47829734954076486\n",
            "At random state 19,the testing accuracy is :- 0.4722004277282289\n",
            "\n",
            "\n",
            "At random state 20,the training accuracy is :- 0.4731215123457535\n",
            "At random state 20,the testing accuracy is :- 0.4934893505742509\n",
            "\n",
            "\n",
            "At random state 21,the training accuracy is :- 0.48436483981786727\n",
            "At random state 21,the testing accuracy is :- 0.4453873840064687\n",
            "\n",
            "\n",
            "At random state 22,the training accuracy is :- 0.47651706237280433\n",
            "At random state 22,the testing accuracy is :- 0.47864947823470705\n",
            "\n",
            "\n",
            "At random state 23,the training accuracy is :- 0.4830093191763212\n",
            "At random state 23,the testing accuracy is :- 0.45439768777171763\n",
            "\n",
            "\n",
            "At random state 24,the training accuracy is :- 0.47468223235617224\n",
            "At random state 24,the testing accuracy is :- 0.4860645102069444\n",
            "\n",
            "\n",
            "At random state 25,the training accuracy is :- 0.48465733841456093\n",
            "At random state 25,the testing accuracy is :- 0.44540244137011054\n",
            "\n",
            "\n",
            "At random state 26,the training accuracy is :- 0.4720860510371351\n",
            "At random state 26,the testing accuracy is :- 0.49583501073632796\n",
            "\n",
            "\n",
            "At random state 27,the training accuracy is :- 0.47895011226888384\n",
            "At random state 27,the testing accuracy is :- 0.46786987802479496\n",
            "\n",
            "\n",
            "At random state 28,the training accuracy is :- 0.4755323145702318\n",
            "At random state 28,the testing accuracy is :- 0.4810723307845157\n",
            "\n",
            "\n",
            "At random state 29,the training accuracy is :- 0.48038263093141853\n",
            "At random state 29,the testing accuracy is :- 0.4631963652233959\n",
            "\n",
            "\n",
            "At random state 30,the training accuracy is :- 0.4804182687734143\n",
            "At random state 30,the testing accuracy is :- 0.45830951205780135\n",
            "\n",
            "\n",
            "At random state 31,the training accuracy is :- 0.4737033102179712\n",
            "At random state 31,the testing accuracy is :- 0.48946403233697366\n",
            "\n",
            "\n",
            "At random state 32,the training accuracy is :- 0.4648978270279748\n",
            "At random state 32,the testing accuracy is :- 0.5215735010546517\n",
            "\n",
            "\n",
            "At random state 33,the training accuracy is :- 0.4754981762447389\n",
            "At random state 33,the testing accuracy is :- 0.4812218609668577\n",
            "\n",
            "\n",
            "At random state 34,the training accuracy is :- 0.46673422811751364\n",
            "At random state 34,the testing accuracy is :- 0.5145877736506022\n",
            "\n",
            "\n",
            "At random state 35,the training accuracy is :- 0.47926764068353245\n",
            "At random state 35,the testing accuracy is :- 0.46751453338724525\n",
            "\n",
            "\n",
            "At random state 36,the training accuracy is :- 0.4710737580199482\n",
            "At random state 36,the testing accuracy is :- 0.49585704843296774\n",
            "\n",
            "\n",
            "At random state 37,the training accuracy is :- 0.4793214846664928\n",
            "At random state 37,the testing accuracy is :- 0.46817189854979113\n",
            "\n",
            "\n",
            "At random state 38,the training accuracy is :- 0.4754499875903516\n",
            "At random state 38,the testing accuracy is :- 0.48259219122150443\n",
            "\n",
            "\n",
            "At random state 39,the training accuracy is :- 0.4874745979944788\n",
            "At random state 39,the testing accuracy is :- 0.4367167838385593\n",
            "\n",
            "\n",
            "At random state 40,the training accuracy is :- 0.47399012188399847\n",
            "At random state 40,the testing accuracy is :- 0.4888067982625539\n",
            "\n",
            "\n",
            "At random state 41,the training accuracy is :- 0.48339787701254344\n",
            "At random state 41,the testing accuracy is :- 0.4501281968131525\n",
            "\n",
            "\n",
            "At random state 42,the training accuracy is :- 0.4794188502895729\n",
            "At random state 42,the testing accuracy is :- 0.46811604574105714\n",
            "\n",
            "\n",
            "At random state 43,the training accuracy is :- 0.4707179903940908\n",
            "At random state 43,the testing accuracy is :- 0.4995307144629929\n",
            "\n",
            "\n",
            "At random state 44,the training accuracy is :- 0.47418789504324077\n",
            "At random state 44,the testing accuracy is :- 0.4856483215997135\n",
            "\n",
            "\n",
            "At random state 45,the training accuracy is :- 0.48710908764490124\n",
            "At random state 45,the testing accuracy is :- 0.4382197494830138\n",
            "\n",
            "\n",
            "At random state 46,the training accuracy is :- 0.4743263906862982\n",
            "At random state 46,the testing accuracy is :- 0.48644320776632255\n",
            "\n",
            "\n",
            "At random state 47,the training accuracy is :- 0.4835241359383159\n",
            "At random state 47,the testing accuracy is :- 0.44719039969859864\n",
            "\n",
            "\n",
            "At random state 48,the training accuracy is :- 0.4823693773334271\n",
            "At random state 48,the testing accuracy is :- 0.4523595320817291\n",
            "\n",
            "\n",
            "At random state 49,the training accuracy is :- 0.48302456495541846\n",
            "At random state 49,the testing accuracy is :- 0.4509668603536283\n",
            "\n",
            "\n",
            "At random state 50,the training accuracy is :- 0.4753320652244468\n",
            "At random state 50,the testing accuracy is :- 0.48317700401393104\n",
            "\n",
            "\n",
            "At random state 51,the training accuracy is :- 0.4806933651957709\n",
            "At random state 51,the testing accuracy is :- 0.4627202409364347\n",
            "\n",
            "\n",
            "At random state 52,the training accuracy is :- 0.4792424146936727\n",
            "At random state 52,the testing accuracy is :- 0.4687519663773373\n",
            "\n",
            "\n",
            "At random state 53,the training accuracy is :- 0.480334506030465\n",
            "At random state 53,the testing accuracy is :- 0.4646801856256212\n",
            "\n",
            "\n",
            "At random state 54,the training accuracy is :- 0.477712114332427\n",
            "At random state 54,the testing accuracy is :- 0.47338827423447427\n",
            "\n",
            "\n",
            "At random state 55,the training accuracy is :- 0.47134034270387826\n",
            "At random state 55,the testing accuracy is :- 0.49946086881971863\n",
            "\n",
            "\n",
            "At random state 56,the training accuracy is :- 0.4709561460733096\n",
            "At random state 56,the testing accuracy is :- 0.5018005813717299\n",
            "\n",
            "\n",
            "At random state 57,the training accuracy is :- 0.47049396452615744\n",
            "At random state 57,the testing accuracy is :- 0.5017540841908974\n",
            "\n",
            "\n",
            "At random state 58,the training accuracy is :- 0.468575618672478\n",
            "At random state 58,the testing accuracy is :- 0.5092755505732169\n",
            "\n",
            "\n",
            "At random state 59,the training accuracy is :- 0.47031539313623383\n",
            "At random state 59,the testing accuracy is :- 0.5068097719579782\n",
            "\n",
            "\n",
            "At random state 60,the training accuracy is :- 0.4762705891549428\n",
            "At random state 60,the testing accuracy is :- 0.48082996291040614\n",
            "\n",
            "\n",
            "At random state 61,the training accuracy is :- 0.48378178106180436\n",
            "At random state 61,the testing accuracy is :- 0.44806191471403245\n",
            "\n",
            "\n",
            "At random state 62,the training accuracy is :- 0.47991456022140366\n",
            "At random state 62,the testing accuracy is :- 0.4657237184361196\n",
            "\n",
            "\n",
            "At random state 63,the training accuracy is :- 0.4692681097698478\n",
            "At random state 63,the testing accuracy is :- 0.5067279981411801\n",
            "\n",
            "\n",
            "At random state 64,the training accuracy is :- 0.4802235091735261\n",
            "At random state 64,the testing accuracy is :- 0.46338501477361127\n",
            "\n",
            "\n",
            "At random state 65,the training accuracy is :- 0.47544854771626877\n",
            "At random state 65,the testing accuracy is :- 0.4835344349049794\n",
            "\n",
            "\n",
            "At random state 66,the training accuracy is :- 0.4751276062744292\n",
            "At random state 66,the testing accuracy is :- 0.48351663388629174\n",
            "\n",
            "\n",
            "At random state 67,the training accuracy is :- 0.47200697995867436\n",
            "At random state 67,the testing accuracy is :- 0.49774994342444856\n",
            "\n",
            "\n",
            "At random state 68,the training accuracy is :- 0.4823696633918567\n",
            "At random state 68,the testing accuracy is :- 0.45323906134263214\n",
            "\n",
            "\n",
            "At random state 69,the training accuracy is :- 0.4861463714874663\n",
            "At random state 69,the testing accuracy is :- 0.43975594814183905\n",
            "\n",
            "\n",
            "At random state 70,the training accuracy is :- 0.47898954836180074\n",
            "At random state 70,the testing accuracy is :- 0.4688606733241879\n",
            "\n",
            "\n",
            "At random state 71,the training accuracy is :- 0.47358617406056225\n",
            "At random state 71,the testing accuracy is :- 0.4898055578489803\n",
            "\n",
            "\n",
            "At random state 72,the training accuracy is :- 0.47890845542885363\n",
            "At random state 72,the testing accuracy is :- 0.4699327017968429\n",
            "\n",
            "\n",
            "At random state 73,the training accuracy is :- 0.48719698235586495\n",
            "At random state 73,the testing accuracy is :- 0.4366722203973824\n",
            "\n",
            "\n",
            "At random state 74,the training accuracy is :- 0.47328346873704585\n",
            "At random state 74,the testing accuracy is :- 0.49151246723708786\n",
            "\n",
            "\n",
            "At random state 75,the training accuracy is :- 0.4705968252738766\n",
            "At random state 75,the testing accuracy is :- 0.49821773984003337\n",
            "\n",
            "\n",
            "At random state 76,the training accuracy is :- 0.48052500766573436\n",
            "At random state 76,the testing accuracy is :- 0.46046386575889764\n",
            "\n",
            "\n",
            "At random state 77,the training accuracy is :- 0.4782272009057752\n",
            "At random state 77,the testing accuracy is :- 0.4720361010188059\n",
            "\n",
            "\n",
            "At random state 78,the training accuracy is :- 0.4881348553778071\n",
            "At random state 78,the testing accuracy is :- 0.4330095449500633\n",
            "\n",
            "\n",
            "At random state 79,the training accuracy is :- 0.47758327052733396\n",
            "At random state 79,the testing accuracy is :- 0.47539312233997033\n",
            "\n",
            "\n",
            "At random state 80,the training accuracy is :- 0.48792580228094995\n",
            "At random state 80,the testing accuracy is :- 0.4263641812162853\n",
            "\n",
            "\n",
            "At random state 81,the training accuracy is :- 0.4757590000004793\n",
            "At random state 81,the testing accuracy is :- 0.48155805665036755\n",
            "\n",
            "\n",
            "At random state 82,the training accuracy is :- 0.4847464231216001\n",
            "At random state 82,the testing accuracy is :- 0.4448098276775101\n",
            "\n",
            "\n",
            "At random state 83,the training accuracy is :- 0.4654931259173911\n",
            "At random state 83,the testing accuracy is :- 0.5238213294728074\n",
            "\n",
            "\n",
            "At random state 84,the training accuracy is :- 0.47996083336034445\n",
            "At random state 84,the testing accuracy is :- 0.46487823546396645\n",
            "\n",
            "\n",
            "At random state 85,the training accuracy is :- 0.47546236453914226\n",
            "At random state 85,the testing accuracy is :- 0.48242499036807773\n",
            "\n",
            "\n",
            "At random state 86,the training accuracy is :- 0.47975376541583736\n",
            "At random state 86,the testing accuracy is :- 0.4658065542682286\n",
            "\n",
            "\n",
            "At random state 87,the training accuracy is :- 0.476352681073806\n",
            "At random state 87,the testing accuracy is :- 0.47751763875380404\n",
            "\n",
            "\n",
            "At random state 88,the training accuracy is :- 0.4808523310954006\n",
            "At random state 88,the testing accuracy is :- 0.4611152262867201\n",
            "\n",
            "\n",
            "At random state 89,the training accuracy is :- 0.4814653189374456\n",
            "At random state 89,the testing accuracy is :- 0.45819636224067106\n",
            "\n",
            "\n",
            "At random state 90,the training accuracy is :- 0.4732948959804564\n",
            "At random state 90,the testing accuracy is :- 0.4921267111411233\n",
            "\n",
            "\n",
            "At random state 91,the training accuracy is :- 0.47589056901422344\n",
            "At random state 91,the testing accuracy is :- 0.4797589310018713\n",
            "\n",
            "\n",
            "At random state 92,the training accuracy is :- 0.46586115557140007\n",
            "At random state 92,the testing accuracy is :- 0.5141128364248738\n",
            "\n",
            "\n",
            "At random state 93,the training accuracy is :- 0.4804235787375004\n",
            "At random state 93,the testing accuracy is :- 0.4611928205462842\n",
            "\n",
            "\n",
            "At random state 94,the training accuracy is :- 0.47343682687100397\n",
            "At random state 94,the testing accuracy is :- 0.4905690318989151\n",
            "\n",
            "\n",
            "At random state 95,the training accuracy is :- 0.477153900752476\n",
            "At random state 95,the testing accuracy is :- 0.47446554192032153\n",
            "\n",
            "\n",
            "At random state 96,the training accuracy is :- 0.46516325016470006\n",
            "At random state 96,the testing accuracy is :- 0.525093456498519\n",
            "\n",
            "\n",
            "At random state 97,the training accuracy is :- 0.4869291613045099\n",
            "At random state 97,the testing accuracy is :- 0.43317267195939113\n",
            "\n",
            "\n",
            "At random state 98,the training accuracy is :- 0.4751839625514449\n",
            "At random state 98,the testing accuracy is :- 0.48336465014742314\n",
            "\n",
            "\n",
            "At random state 99,the training accuracy is :- 0.47412591381250246\n",
            "At random state 99,the testing accuracy is :- 0.48532819410724426\n",
            "\n",
            "\n"
          ]
        }
      ]
    },
    {
      "cell_type": "code",
      "source": [
        "x_train,x_test,y_train,y_test=train_test_split(x,y,test_size=.20,random_state=60)"
      ],
      "metadata": {
        "id": "hwgOLsjxIrtz"
      },
      "execution_count": 59,
      "outputs": []
    },
    {
      "cell_type": "code",
      "source": [
        "lr.fit(x_train,y_train)"
      ],
      "metadata": {
        "colab": {
          "base_uri": "https://localhost:8080/"
        },
        "id": "zK3Si8Z6BQ_e",
        "outputId": "d064a5d2-acfa-4c34-ff3f-5c21f8227cc0"
      },
      "execution_count": 60,
      "outputs": [
        {
          "output_type": "execute_result",
          "data": {
            "text/plain": [
              "LinearRegression()"
            ]
          },
          "metadata": {},
          "execution_count": 60
        }
      ]
    },
    {
      "cell_type": "code",
      "source": [
        "pred_test=lr.predict(x_test)"
      ],
      "metadata": {
        "id": "cBLaFkvGBwfb"
      },
      "execution_count": 61,
      "outputs": []
    },
    {
      "cell_type": "code",
      "source": [
        "print(r2_score(y_test,pred_test)*100)"
      ],
      "metadata": {
        "colab": {
          "base_uri": "https://localhost:8080/"
        },
        "id": "5oVj6Y9HCEut",
        "outputId": "e5b3fdb5-4c83-4e44-b858-999eecf97c18"
      },
      "execution_count": 62,
      "outputs": [
        {
          "output_type": "stream",
          "name": "stdout",
          "text": [
            "48.082996291040615\n"
          ]
        }
      ]
    },
    {
      "cell_type": "code",
      "source": [
        "print(lr.intercept_)\n",
        "print(lr.coef_)"
      ],
      "metadata": {
        "colab": {
          "base_uri": "https://localhost:8080/"
        },
        "id": "vhxBTnMXJTTR",
        "outputId": "89fd705a-f777-4b2e-9c4a-fb2715757ae5"
      },
      "execution_count": 63,
      "outputs": [
        {
          "output_type": "stream",
          "name": "stdout",
          "text": [
            "9.792189938793515\n",
            "[-1.93945683e-03 -1.20510999e+00  2.77517217e-01  1.00485498e+00\n",
            " -2.06755402e+00  1.74712922e-01  3.64533085e+00]\n"
          ]
        }
      ]
    },
    {
      "cell_type": "code",
      "source": [
        "pred=lr.predict(x_test)\n",
        "print(\"predicted result \",pred)\n",
        "print('actual result',y_test)"
      ],
      "metadata": {
        "colab": {
          "base_uri": "https://localhost:8080/"
        },
        "id": "5XoU38FxJ9aO",
        "outputId": "28534809-a0e2-4753-ea48-f7397eb08edc"
      },
      "execution_count": 64,
      "outputs": [
        {
          "output_type": "stream",
          "name": "stdout",
          "text": [
            "predicted result  [15.34181868 10.83553224 13.37308666 10.59844699  8.5827702  10.82884111\n",
            "  9.15662928  7.9918333   9.59606337 12.96871794 11.57230502  9.40197721\n",
            " 10.96628662 10.6181497  10.1635964   9.9641009   7.35574408  8.39208147\n",
            "  5.73554019 12.12650904 10.40889831  9.98289513 10.74790214 10.57321711\n",
            "  9.73086774 10.67055744 10.96982319 10.26342699 11.16261403  8.18939332\n",
            " 10.07299956 10.07574792 10.85852804 12.09701483  6.85429299 10.02017977\n",
            " 10.35338205 13.55191943 13.16755343  6.01905146  7.37671656 11.20941403\n",
            " 11.41533205  6.2246894  10.47358848  8.55167754 11.7103826  10.47132061\n",
            " 10.46501583  8.12287227  7.1672198   9.78251836 12.10242197  8.38370276\n",
            "  9.52791904  8.52842723 13.07546701 11.72752629  7.31214099  9.54011837\n",
            " 11.26624821  9.03155949 11.05675741  9.4998587   9.59805632  8.05082566\n",
            "  9.91905337 11.27541028 11.5571974   9.02872026  8.7351273  12.04889245\n",
            "  9.8372193   8.32913781 11.33102737  8.10508406 13.88459851 12.29005638\n",
            " 10.40476674  8.21455912  8.41337462 13.1023753  11.09573889 12.20093129\n",
            "  9.3626932   9.87313927  8.58274164  6.92086661  8.38671503  9.8332032\n",
            " 10.44382162  8.73425417  9.05002625 10.70660219  9.18378251 12.30556806\n",
            "  6.71290123  7.827994    8.36606784 10.52119821 12.1078667  12.33197276\n",
            "  9.56602479  7.69552169 10.75644102  6.13773794 12.48185045 10.47389755\n",
            " 11.88039855 11.62542278 10.73530049 10.67774202  8.09728174 11.0655382\n",
            " 10.11310639  6.50431087 10.11198026  9.12612632 11.24314082  8.63594363\n",
            "  8.32837768 11.45160396 11.95821197  9.03892218  8.25306101  6.56920901\n",
            " 11.67526743  9.73535997  8.83389911  5.58344815  7.45009183  9.91898023\n",
            "  8.28005206  9.68782675 11.35279235  6.42432656  9.5220299   8.91194571\n",
            " 11.67377423 10.67569868 11.83795853  5.81929994 15.36928948  6.78829236\n",
            "  9.50254001  7.45449377  9.96298673 12.04954342  9.18782413 10.63428977\n",
            "  8.05326455 12.39349194  6.42168216  9.32953456  8.0932205  12.37195891\n",
            "  7.01429842  9.86688601 12.64135578  6.85045346  6.81449665 12.36805715\n",
            "  8.84000322 10.19174528 10.24592851 10.69531794  9.62314021 11.12735465\n",
            "  6.1889512  10.65995736  9.70037543  9.98238872 12.31262324 11.92798719\n",
            " 11.74091054 11.91509226 10.36683364 10.17773308 12.77761593 13.09336214\n",
            "  8.87021177 10.32095951 11.937389    8.07380598  7.18080697  8.28088945\n",
            "  7.92061034 12.35268781 14.31291498  6.59251145 13.19166291 10.89447804\n",
            "  7.28660849  9.70863042 10.02910623 13.75053124  8.86322593  7.98753203\n",
            " 12.98613875  7.27635852 10.63225157  7.20116573  8.2347136   7.53064641\n",
            "  9.5639258   7.90247217 11.13269714 12.74597525 13.92221705  7.7041188\n",
            " 11.84889163  9.46098965  8.10920509  7.14963992 10.43493871  7.58817363\n",
            "  8.75730088  7.1096328   6.40745634 14.16846376 10.14190321  9.04560766\n",
            " 11.57463225  7.96227119  9.11770023  7.93935781  8.41822039 10.035274\n",
            "  9.37865332  9.33771623 12.89541755  9.05944457 10.5268838   6.20752647\n",
            " 12.6984471   6.57003957 10.15898284  6.59928304 11.65986294  7.59583696\n",
            "  8.12116814  9.02859995  6.48822926  7.19339206  5.77887846  9.82393029\n",
            " 10.06919723  5.47866162 12.30319588 10.01841852  9.70257794 12.76928374\n",
            "  6.84801351 10.01419278  9.92030615  8.4336615   6.89966052  9.52410165\n",
            "  8.59665613  9.51400264 11.60701725 10.85995429  9.70501331 11.79899436\n",
            "  9.2027445  13.40133241  9.61839525 10.99430775  6.58869966 10.6633529\n",
            " 10.50727252  9.7804495   9.70020122 10.71574228  7.38948776  6.26934074\n",
            "  7.28886896  8.74217284 12.70305767  9.03172496 10.64687875 11.72187742\n",
            " 10.39976867  9.0755808   5.85816316 10.81035304 11.25812399  9.08158988\n",
            " 12.66000681  9.33420455 13.00724234  6.783997   11.99620499  7.52375024\n",
            "  9.83150406  9.8331906  13.23972234 12.1692743   5.92409705  9.44537528\n",
            " 10.76321357 12.66168482 11.09026325 11.39718744  9.2551635   9.8476022\n",
            " 12.46713121 10.54187106  6.36848398  9.5477795  10.27778523 12.00408689\n",
            " 10.53968653  7.17488132  9.19850021  9.62442946  7.26487852  7.30423276\n",
            "  8.75999006 13.40123078  9.95515287 12.33111644  9.53771    10.60005177\n",
            "  6.12718207 10.66403773  8.16528941  9.30318371 11.97035346 13.16700497\n",
            " 10.63980832  8.05071574  8.13077635 12.29721462 12.57311666 11.97927282\n",
            " 12.68505452 14.38041704  9.41881007  6.97150461 12.13602528  8.4168309\n",
            "  9.67162432  8.68781133 10.51449908  9.75662359  9.93184703  6.88479195\n",
            "  7.74976595  9.77009685  9.07873792  9.52891737  6.60925952 10.63969662\n",
            "  9.38944967 11.11859561 12.93751191  6.70108292 10.93604443  9.3634873\n",
            " 10.19786299 11.26335975 10.17916419 10.73795197  8.09075772  8.49720226\n",
            "  8.67490229  8.30260475  9.94618344  6.80281898  7.93889707  7.23213604\n",
            "  9.44325182 11.11085182 12.02607632  8.91270439 11.51180059  7.80134038\n",
            "  5.75328964 10.39359621  7.57924427 11.48863655 10.84986276 10.99546506\n",
            "  9.69656707 10.48742549  9.01445541 13.30279647  9.96639776 12.80151715\n",
            " 14.57078591 10.12544551  8.15142747  9.26484175  9.46293484  8.07815259\n",
            " 12.75808476 10.77315572  9.5417641  10.17214757 10.7629823   9.1821816\n",
            "  8.77154651  7.58462386 11.45665841 10.67858059 11.49977033  7.4356154\n",
            "  5.93546723 12.74644263  9.81957795  8.99391816 10.07398763  7.8114537\n",
            " 11.56598915  7.40144982  8.89725572 10.68272462  8.57103291  9.94361869\n",
            " 10.01304395 10.12460612 10.02845313 10.80715173 10.05354955  7.91425363\n",
            "  9.10826202  8.42247846 10.70067143 11.83752639 12.6117975   7.95046714\n",
            "  7.24586525 10.44699539 11.26055932 11.00482674  8.35649064  8.45028473\n",
            "  9.04705195 11.86236765 11.81433851 10.02905371 10.51504078  9.0744745\n",
            "  9.22193044 11.01458135 11.44984613  8.9900933  11.06676749  8.7397283\n",
            " 12.69203554 10.78858297  6.93664552 10.23932754 10.23716737 10.68587636\n",
            "  8.3738196  10.10298626 10.57597851 12.54580172  9.20124893 11.04645752\n",
            "  9.2225472   9.60734603 10.83367422  8.92996625  9.95298434 10.6482405\n",
            " 10.53125408 12.0996499  10.72152515  9.40232157  8.47015853 11.31362881\n",
            "  7.76064005  6.64667348  9.45408404  5.86547938  9.12488981  8.15930916\n",
            "  9.20679992 11.97235199  9.71529699 11.84247384 11.56009302  8.91636493\n",
            " 10.3029481   8.01992232 11.98775832  7.33743479  9.41900097 11.3295312\n",
            " 12.78118054  7.03336917  6.78699692 10.28931697 12.1947752  11.84394477\n",
            " 12.22928418 12.96183565  7.29440882  6.95056767 10.49887969  9.20523932\n",
            " 10.80457945  7.17559355  9.66895012  8.81427052  7.66865389  7.70709944\n",
            "  9.72526831 12.82708771 10.375907    9.42679928 10.05371907 10.13008328\n",
            "  8.76558735 11.11064033  8.79890055  9.37287576  7.8642449  10.69299431\n",
            "  6.62483167  9.72352253  7.43603299  6.56011699  9.35564527  7.39889475\n",
            " 12.21644586 12.51436645 11.51240409  9.46572686 12.52597768 14.44356438\n",
            " 10.86435695 12.54268406  7.27619825  6.10054669  6.44927766  8.02467601\n",
            "  9.93282254  9.19108134  8.03469999 11.48858028  9.75000914 11.84441838\n",
            "  9.17803397 10.12409001  9.45185621  8.75572926  8.64383315  9.84351875\n",
            " 11.30490446 10.13782195 13.234165    9.92223768  7.6156739   8.25367627\n",
            "  7.90591204 11.90226203  6.08556085 10.6194976   8.09616805 10.6077623\n",
            " 10.62891829 11.70339763 10.06398523  7.83875406  7.83556129  7.2493194\n",
            "  7.78305574  9.05804415  6.30831331  7.70549381 10.26360955  7.11011657\n",
            "  8.23132483  7.48107877  9.88530155  7.56074846 10.29214807 11.47276627\n",
            "  8.99618531  8.99968849  7.91711083 10.97755769  6.15084918  6.36905578\n",
            "  9.58142263  9.67808968 11.08574759  6.3635331  12.85886916  9.78002891\n",
            "  5.89824459  8.2701485  11.03891893 11.64484044  9.39394282 14.17705998\n",
            "  9.14375898  8.38842658  9.00300965  7.96184682  7.21232832  8.17272791\n",
            " 11.31914683 13.39672155 10.35735327  7.50616049  8.94279501  6.6543814\n",
            " 11.08557771  9.2924229  10.18816151  9.67246357 11.13246042  8.99336391\n",
            "  7.70481769 10.11587387 10.44484305  8.13914323  9.3231375  11.20082907\n",
            " 10.19577641 10.92811413 10.21628593 11.12337666  7.92960864 10.21840926\n",
            "  8.07503955 10.10374943 10.57716686 10.14014233  7.0710013   9.27338328\n",
            " 10.6234631   8.55036616  9.28487822 10.01605328 10.62370279 11.82999674\n",
            " 10.02511274  7.47596528 11.42397992  6.86293677  8.56192881  9.85458544\n",
            "  7.64434351  9.82544303 11.37366557  7.06806018  9.11538395 11.2904484\n",
            "  9.60017122  7.26456888  7.98273559  8.80449986 10.70117762 10.42183781\n",
            " 13.23164027 11.77440268 13.69176323  7.58232377 10.26671174  7.66671428\n",
            "  9.13532374  8.05569788  6.62372396  7.65754236  9.95626203 11.28649523\n",
            " 10.87128324 12.16762406  9.6503424  12.6241664   8.01337122 13.51064438\n",
            "  7.44761706 10.64717159 11.7430312  10.39236798 11.14764149 11.03039299\n",
            "  7.58189406  9.3592767  10.80712686  8.24686223  8.71398592 11.38536766\n",
            " 11.17773657 11.98978326  9.71822561 10.10832998 11.48207941 10.2734961\n",
            " 12.39684826 10.61791893 11.87824416  7.21993932  9.84117654  7.77195319\n",
            " 11.14289228 10.63185244  6.91601639  8.76518863 10.07787387 11.73164095\n",
            "  9.07843788  9.51648238  9.25162792  7.3272813   9.15202347 10.04643518\n",
            " 10.3236386  10.77840226  7.43645502  9.80387587  9.88076629  7.63737697\n",
            " 10.97934304  8.13034842 13.19700936  6.36263282  8.43776067 10.76441168\n",
            "  6.34793423 10.93782746 12.24344948 10.60258375 10.4303967  12.27423344\n",
            " 10.40297311 10.07499705  8.81622862 12.64822545 11.08182572  6.80559249\n",
            "  9.37414191 11.38726693  8.39160759 12.19420136  9.91318794  8.9534021\n",
            "  9.1733678  10.50880581  7.49287639  7.19495037 13.38439721  9.21657403\n",
            " 11.56696281 13.01321526  6.26040005  6.02112283 10.04262305 14.02757178\n",
            " 10.08910869 12.78402677  9.19184156 12.96154473  6.14857815  9.21691985\n",
            " 11.06952485  6.56709055  9.10862497  8.1462882  10.36956354  8.26330455\n",
            " 11.00318155 13.08763781 13.77683023  9.70186796 11.69640991 11.46682294\n",
            " 10.92938488 10.91432694 10.95442677 10.26911884  9.61191045  6.98071236\n",
            " 13.69975152 12.37090552 11.89084044  6.32447872  8.49109613  9.37016975\n",
            "  7.53970899 14.303492    8.76231128 11.39434921  8.81882577  8.82466441\n",
            " 11.85601598 10.1567681  14.2221296  11.36949998 10.33175738 11.87554513\n",
            " 12.75039047 10.45954614  9.36895928  9.68829794 10.76277772 10.03135308\n",
            " 12.44233703  9.57050139  7.12709045 11.18904876  9.82634022 15.86790767\n",
            "  9.81345599 10.74202586 13.75372573 13.09706594 11.17322565 13.80715304\n",
            "  8.71523963  9.53643835]\n",
            "actual result 468     17\n",
            "1859    10\n",
            "2675    10\n",
            "3570     9\n",
            "4109     8\n",
            "        ..\n",
            "763     14\n",
            "3147    13\n",
            "3987    11\n",
            "4114     9\n",
            "3868     8\n",
            "Name: Rings, Length: 818, dtype: int64\n"
          ]
        }
      ]
    },
    {
      "cell_type": "code",
      "source": [
        "print('Error:')\n",
        "print('Mean Absolute Error :',mean_absolute_error(y_test,pred))\n",
        "print('Mean Squared Error :',mean_squared_error(y_test,pred))\n",
        "print('Root mean Squared Error',np.sqrt(mean_squared_error(y_test,pred)))\n",
        "print('r2 score :',r2_score(y_test,pred)*100)"
      ],
      "metadata": {
        "colab": {
          "base_uri": "https://localhost:8080/"
        },
        "id": "BsxWOAT9I9jj",
        "outputId": "8c1497f0-092c-45b3-dc36-194280625556"
      },
      "execution_count": 65,
      "outputs": [
        {
          "output_type": "stream",
          "name": "stdout",
          "text": [
            "Error:\n",
            "Mean Absolute Error : 1.4990086107201503\n",
            "Mean Squared Error : 4.087291276627421\n",
            "Root mean Squared Error 2.0217050419453924\n",
            "r2 score : 48.082996291040615\n"
          ]
        }
      ]
    },
    {
      "cell_type": "markdown",
      "source": [
        "# Decission Tree Regressor"
      ],
      "metadata": {
        "id": "Buw95eOMDIsD"
      }
    },
    {
      "cell_type": "code",
      "source": [
        "from sklearn.tree import DecisionTreeRegressor\n",
        "dtr=DecisionTreeRegressor()\n",
        "dtr.fit(x_train,y_train)"
      ],
      "metadata": {
        "colab": {
          "base_uri": "https://localhost:8080/"
        },
        "id": "rb4bzxylZwzO",
        "outputId": "bee345d5-f623-42c3-ba66-02c32cf39944"
      },
      "execution_count": 66,
      "outputs": [
        {
          "output_type": "execute_result",
          "data": {
            "text/plain": [
              "DecisionTreeRegressor()"
            ]
          },
          "metadata": {},
          "execution_count": 66
        }
      ]
    },
    {
      "cell_type": "code",
      "source": [
        "pred=dtr.predict(x_test)\n",
        "print(\"predicted result \",pred)\n",
        "print('actual result',y_test)"
      ],
      "metadata": {
        "colab": {
          "base_uri": "https://localhost:8080/"
        },
        "id": "kcd3AJuPKKH2",
        "outputId": "86ee51c9-ec87-490c-b2df-3c795e7ea985"
      },
      "execution_count": 67,
      "outputs": [
        {
          "output_type": "stream",
          "name": "stdout",
          "text": [
            "predicted result  [11. 11.  9. 10. 11. 11.  8. 11.  9. 13. 18.  8. 11. 10.  9. 14. 12.  9.\n",
            "  5. 11. 13. 10. 13. 10. 10. 11.  9. 10. 11.  6. 10.  9. 10.  9.  7. 12.\n",
            " 11.  9. 10.  6.  6. 11.  8.  6. 12. 12. 10. 13. 10.  7.  5.  9. 15.  9.\n",
            "  8.  9. 15. 10.  9.  7. 11. 10.  9. 10. 11. 10.  8. 11. 10.  8. 11. 10.\n",
            " 11.  8. 11.  9. 11. 11. 11.  8.  7. 16. 12. 11.  8. 17.  8. 13.  8.  7.\n",
            "  8.  9.  9. 11. 10. 16.  5.  8.  8. 10. 15. 19. 11. 10. 13.  5. 19. 12.\n",
            " 11. 12. 13. 11.  8. 11. 11.  6. 10. 10.  8. 11.  8. 10. 13.  9.  6.  5.\n",
            "  9.  9. 12.  3.  7.  8.  9.  9. 10.  5.  9.  9. 11. 15. 14.  5. 13.  7.\n",
            " 10. 10. 12. 12. 14. 12.  8. 12.  7.  9.  9. 11.  7.  9. 13.  4.  7. 10.\n",
            "  8. 12. 10.  9.  8. 10.  5.  8.  9.  9. 11. 10. 16. 18. 11.  9. 13. 11.\n",
            "  7. 10.  8.  8.  6.  9.  8. 12. 14.  6. 15. 11.  7. 17. 10. 13.  9.  6.\n",
            " 12.  8. 10.  9.  6.  6. 13.  7.  8.  9. 16.  8. 11. 10.  9.  6.  8.  7.\n",
            "  9.  7.  4. 16. 12. 10. 11.  8.  9.  6.  8.  9. 10. 10. 11. 12.  9.  5.\n",
            " 18.  7. 11.  7. 14.  7.  7.  7.  5.  7.  6. 17. 12.  5. 15. 10. 10. 12.\n",
            "  6. 14. 10.  8.  6.  8.  9. 14. 12.  9.  8.  8.  9. 18. 10.  9.  5.  9.\n",
            " 10. 19.  9.  9.  9.  6.  7.  8. 13. 10. 10. 12. 10.  9.  3.  9. 13.  8.\n",
            " 11. 10. 11.  6. 16.  7.  8. 10. 13. 11.  5. 10. 19. 13.  9. 13.  7. 10.\n",
            "  9. 18.  7.  8. 10. 10. 11.  6.  8.  9.  6.  7. 10. 12.  9. 18. 11. 13.\n",
            "  5.  8.  7. 12. 11. 19.  8.  6.  9. 10. 19.  9. 12. 15. 10.  6. 13.  7.\n",
            "  8. 13. 15.  8. 18.  7.  7. 10.  8. 10.  5.  9. 10. 11. 11.  7. 10. 10.\n",
            "  9.  9.  9. 11. 10.  9. 10.  9.  9.  7.  7.  7. 10. 12. 17. 10.  9.  7.\n",
            "  4. 10.  6. 13.  9.  9. 13.  8.  9. 15. 10.  9.  9. 10.  6.  8. 11.  6.\n",
            " 12. 11.  9. 14. 13.  7.  8.  9.  9. 15.  8.  5.  5. 14. 11. 12.  9.  6.\n",
            " 10.  8.  8. 12.  9.  9.  9. 12. 13.  9. 11.  7. 14.  7.  9. 10. 15.  7.\n",
            "  6.  9. 10. 11. 10. 10.  9.  8. 10. 10.  8.  9. 10. 10. 16.  8. 12. 10.\n",
            " 13. 14.  6. 10. 12. 13. 11.  9.  8. 10.  7. 17.  9. 15. 12.  8. 11.  9.\n",
            "  8. 11.  8.  9. 10. 13.  6.  9. 11.  4. 10.  6.  9. 15. 11. 18. 11.  8.\n",
            "  9.  8. 13.  8. 11. 12. 11.  7.  7.  9. 10. 10. 15. 11.  6. 11. 13. 10.\n",
            "  9.  6.  9.  8.  9.  8. 12. 12. 11. 13.  9. 12.  7. 13.  8. 11.  7. 11.\n",
            "  8. 10.  7.  6.  8.  7. 14. 13.  9. 11. 11. 15. 10. 18.  6.  4.  5. 12.\n",
            " 10. 10.  8.  8. 11. 11.  8.  9. 17.  8.  8. 14. 13.  8. 16.  7.  8.  7.\n",
            "  8.  9.  4. 13.  8. 10. 10. 11.  8.  7.  7.  7.  6.  7.  7.  8.  9.  4.\n",
            "  6.  7. 13.  8.  9. 11. 10.  9.  8. 13.  4.  7.  7.  9. 15.  6. 12. 11.\n",
            "  5.  6. 10. 10.  9. 16. 10.  6. 10.  9.  6.  8. 10. 12.  9.  7. 10.  6.\n",
            " 10.  9. 11.  9. 11. 10. 13. 11.  9.  8.  8. 11. 13.  9.  8.  9.  6. 11.\n",
            "  7.  7. 10. 14.  8. 10. 11. 13.  8. 13.  9. 19. 11.  6. 14.  9.  9. 15.\n",
            "  9. 10. 12.  6.  9. 14.  8.  8.  9.  9. 11. 11. 11. 19. 12.  5. 10.  7.\n",
            "  8.  9.  6.  6. 10. 11. 11. 11. 11. 13.  8. 15.  6. 15. 10. 10. 11.  9.\n",
            "  6.  8. 10.  9.  9. 10. 11. 10. 10.  9.  9.  9. 10. 10.  9.  6.  9.  7.\n",
            " 10.  9.  7.  7. 10. 19.  9. 10. 10.  9. 14. 11.  8.  8.  6. 13.  9.  6.\n",
            " 10.  7. 12.  5.  8.  9.  4. 10. 10. 13. 10. 11. 15. 10. 11. 14.  9.  5.\n",
            "  9. 14. 10. 10. 10.  8. 12. 14. 11.  8. 14.  8.  9. 19.  7.  4.  9. 10.\n",
            " 11. 14.  7. 16.  7.  8.  9.  7.  7.  9. 11.  7.  8. 11. 11. 11.  9.  8.\n",
            " 11. 16. 19.  8.  8.  5. 14. 15. 12.  6.  8. 11.  7. 10.  7. 13. 10.  6.\n",
            " 12. 14. 16. 10. 11. 14. 13.  9.  8. 10. 12.  9.  9. 12.  8.  9.  9. 13.\n",
            " 10. 10. 11. 15.  7. 15.  8. 12.]\n",
            "actual result 468     17\n",
            "1859    10\n",
            "2675    10\n",
            "3570     9\n",
            "4109     8\n",
            "        ..\n",
            "763     14\n",
            "3147    13\n",
            "3987    11\n",
            "4114     9\n",
            "3868     8\n",
            "Name: Rings, Length: 818, dtype: int64\n"
          ]
        }
      ]
    },
    {
      "cell_type": "code",
      "source": [
        "print('Error:')\n",
        "print('Mean Absolute Error :',mean_absolute_error(y_test,pred))\n",
        "print('Mean Squared Error :',mean_squared_error(y_test,pred))\n",
        "print('Root mean Squared Error',np.sqrt(mean_squared_error(y_test,pred)))\n",
        "print('r2 score :',r2_score(y_test,pred)*100)"
      ],
      "metadata": {
        "colab": {
          "base_uri": "https://localhost:8080/"
        },
        "id": "UxHjkSfwKKM-",
        "outputId": "90610ca5-08d7-4f4f-bf77-3d31715dda6a"
      },
      "execution_count": 68,
      "outputs": [
        {
          "output_type": "stream",
          "name": "stdout",
          "text": [
            "Error:\n",
            "Mean Absolute Error : 1.97799511002445\n",
            "Mean Squared Error : 7.909535452322738\n",
            "Root mean Squared Error 2.8123896338030296\n",
            "r2 score : -0.467364232778511\n"
          ]
        }
      ]
    },
    {
      "cell_type": "markdown",
      "source": [
        "# KNeighborsRegressor"
      ],
      "metadata": {
        "id": "XONqdlfqGqYJ"
      }
    },
    {
      "cell_type": "code",
      "source": [
        "from sklearn.neighbors import KNeighborsRegressor\n",
        "knr=KNeighborsRegressor(n_neighbors=5)\n",
        "knr.fit(x_train,y_train)"
      ],
      "metadata": {
        "colab": {
          "base_uri": "https://localhost:8080/"
        },
        "id": "iCI4NLWDZhhq",
        "outputId": "25239ad6-2bc1-4892-9264-5e9ae2f0b323"
      },
      "execution_count": 69,
      "outputs": [
        {
          "output_type": "execute_result",
          "data": {
            "text/plain": [
              "KNeighborsRegressor()"
            ]
          },
          "metadata": {},
          "execution_count": 69
        }
      ]
    },
    {
      "cell_type": "code",
      "source": [
        "pred=knr.predict(x_test)\n",
        "print(\"predicted result \",pred)\n",
        "print('actual result',y_test)"
      ],
      "metadata": {
        "colab": {
          "base_uri": "https://localhost:8080/"
        },
        "id": "W3Nz-6LSL4hX",
        "outputId": "a981c856-44ae-46d1-938c-dd9ae6bf8930"
      },
      "execution_count": 70,
      "outputs": [
        {
          "output_type": "stream",
          "name": "stdout",
          "text": [
            "predicted result  [14.2 12.  13.4 12.   9.4  8.6  8.6  7.4  9.6 13.8 10.   9.4  9.4 11.6\n",
            " 10.2 10.2  9.   7.8  5.  11.4 10.6 12.   9.4 10.  11.2 10.6 10.8  9.2\n",
            " 11.   7.6 10.2  9.6 11.  13.   6.8 10.4  9.8 13.6 13.6  5.2  6.6 11.\n",
            " 12.8  6.4 13.4 10.2 10.  14.  10.6  9.2  6.4  8.4 10.8  7.4  9.6  9.4\n",
            " 14.6 10.4  8.4  9.  11.2 10.4 13.4  8.4 10.  10.6  9.8 11.2 10.8 10.2\n",
            " 10.2 11.2 10.4  7.8  9.8  8.2 10.8 10.2 10.   7.2  8.4 10.8 11.  11.2\n",
            " 10.6  9.2  8.   9.   8.   9.8 10.   7.4 10.4 10.8 10.2 15.4  6.8 11.4\n",
            "  8.4  9.6 11.  11.8 11.   8.2  9.4  5.  12.2  9.4 10.8 11.2 12.4  9.4\n",
            "  9.4 11.2 10.   5.2  9.4  9.4 11.8  9.2  8.2 12.  17.   8.2  8.2  5.6\n",
            " 10.6  9.8  9.   3.6  7.2  9.4  8.6 10.2 10.   6.2 10.4 10.  11.  11.\n",
            " 11.2  5.2 13.6  6.8 10.6  7.4  9.2 11.2 10.6 12.   8.4 13.8  6.6  9.2\n",
            "  8.8 13.8  5.6 10.2 13.2  5.8  7.2 14.  10.  10.  12.  10.8 10.6 13.4\n",
            "  5.4  9.8  9.8 10.6 12.6 11.  11.  10.8  9.4 10.  10.6 13.   7.6  9.4\n",
            " 11.   8.6  6.6  9.   8.2 12.4 14.2  6.  12.4 11.4  7.   8.4 11.  13.4\n",
            "  8.4  7.4 10.4  7.2 11.4  6.6  7.4  6.6 11.2  7.6  8.8 11.2 15.2  6.6\n",
            " 12.8  9.2  8.8  7.2 11.6  6.6  7.6  6.6  5.  15.4 12.6  9.4  9.8  8.8\n",
            "  9.8  7.4  8.2  9.4 10.6 10.6 13.6 13.2  9.2  6.  14.2  5.8  9.4  6.8\n",
            " 10.8  8.   6.6  8.   6.2  6.6  5.4  9.8 10.2  4.  13.2  9.   9.4 11.6\n",
            "  5.4 10.2 11.   9.   8.8  9.   7.2 11.2  9.4 10.6  8.6 11.4  8.8 12.6\n",
            " 10.2 11.2  6.  11.2  9.2  9.  12.2 10.4  9.6  6.6  7.2  9.2 13.   8.2\n",
            " 10.8 12.  11.2 10.   4.6 12.8 11.2  8.8 10.4  9.4 13.4  5.6 12.6  7.\n",
            "  9.4  9.4 13.  10.6  5.   9.8 10.  14.6 11.2 10.2  9.2  8.8 11.6 12.6\n",
            "  5.4 11.4  9.8 11.  10.4  7.2 12.4  9.   7.4  7.   8.4 11.4  8.6 11.8\n",
            "  9.2 10.   6.2 10.2  6.8 12.  13.  13.4  9.8  7.6  9.8 10.2 10.8 14.\n",
            " 13.8 13.2  8.4  7.  10.6  7.4  9.  10.2 13.2  9.6 11.6  5.8  9.6 10.\n",
            "  9.4  9.   6.  11.   9.6 10.2 11.8  6.8  9.8 10.2  9.8 12.4 10.4 11.2\n",
            "  7.6  9.6 10.8  8.8  8.   6.8  7.4  6.8  9.2 12.2 14.8 10.2 11.8  7.\n",
            "  4.4 11.   7.8 10.8 11.2  9.6 11.  10.8  8.8 12.4 10.  13.6 12.6  9.\n",
            "  8.   7.8 11.2  8.  10.4 10.8  9.6 11.8 12.2  9.   9.6  7.8 11.4 14.6\n",
            " 11.2  6.8  6.  13.2  9.6 10.  10.2  7.4 12.8  7.6  9.6 11.8  8.6  8.4\n",
            "  9.2 10.6 11.6 12.2 11.8  7.6  8.4  7.4 10.  11.2 13.4  7.   6.6 10.\n",
            " 10.8 10.8  8.4 11.4 10.2 11.  10.4 10.   9.  11.6  8.4 11.4 10.8  8.4\n",
            " 10.   9.8 11.4 12.6  6.4  9.8 12.6 11.2  9.  10.  10.  12.6 10.8 10.4\n",
            "  9.2 11.2 10.8  8.6 10.4 12.8  9.8 12.2 12.4  7.6  6.8 10.   7.2  6.2\n",
            " 10.4  4.8  9.4  7.2  8.6 13.4 10.2 11.6 12.   9.  10.8  7.4 10.   6.4\n",
            " 11.8 10.  13.8  9.   6.2 10.4 11.8 10.6 10.6 12.   6.8  8.8 11.2  8.\n",
            " 13.4  6.6  9.   9.6  8.4  7.  10.2 14.4  9.4 12.4 10.4 10.   9.  12.4\n",
            "  8.  10.6  7.8 13.   5.8  9.8  7.2  6.6  8.8  7.4 11.2 13.  11.2  9.\n",
            " 12.8 12.8 11.  11.6  6.6  4.6  4.8 10.   9.8  9.8  8.   9.6 10.8 10.2\n",
            "  9.4 11.2 11.   9.2  8.2  9.4 12.6  9.4 13.8  9.2  6.8  8.   7.2 11.8\n",
            "  5.  10.   8.8  9.4  9.8 10.4  8.8  7.   9.6  7.   7.6 11.   6.6 10.6\n",
            "  9.6  5.4  7.6  6.8  9.2  6.8 10.  12.8 10.   9.4 10.  10.   5.4  6.6\n",
            "  9.2  9.6 11.2  6.2 11.8 10.2  5.2  7.8 10.  12.8 10.2 14.4  8.2 10.\n",
            " 10.2  7.8  7.   8.6 12.2 11.  10.   6.2 10.2  6.2 10.6  9.   9.2  9.\n",
            " 11.6  9.4 10.8  9.6  9.6  8.4  8.6 11.  10.2 10.  11.   9.8  9.4  9.8\n",
            "  6.8  8.8 10.6 10.4  7.2 10.  10.8  9.2 11.8 10.6 10.  10.8 10.   7.2\n",
            " 11.2  5.8  7.4 12.2  7.2  8.8 11.4  6.6  8.2 11.2  9.6  7.2  8.8  8.2\n",
            " 11.4 12.4 11.4 12.4 10.6  7.2 10.2  7.   8.4  7.4  5.8  7.4  9.6 11.4\n",
            " 11.8 10.6  7.8 10.   7.4 13.   8.  10.  10.6  9.8 12.  10.   6.6  8.6\n",
            " 10.6  7.4  9.4 10.8 10.8 10.4  9.6 11.  10.  10.6 10.8 11.2 10.8  7.\n",
            " 10.   7.4 10.4 10.   6.2  8.2 10.6 11.8  8.6  8.8  8.6  7.4  9.8  9.6\n",
            " 10.  10.2  6.8 10.  10.   8.  10.   8.4 13.   4.6  9.2 11.4  6.2 10.8\n",
            " 11.2 10.2 11.  11.  10.6  9.6 10.2 11.8 12.6  6.2  9.  11.2 10.4 13.2\n",
            "  9.8  9.6  8.8 10.8  8.6  6.  11.4  8.6 11.2 10.8  6.   4.4  9.2 11.4\n",
            " 11.  10.8 10.  10.4  5.   8.8 10.8  6.4 10.4 10.  11.6  7.4 10.6 11.4\n",
            " 12.4  9.6  9.6 11.8 11.4 10.2  9.  11.2  9.6  6.8 11.8 13.6 11.6  6.2\n",
            "  8.4  9.6  6.4 14.2  9.2 11.8  7.4  7.8 10.4 10.6 13.2 10.2  8.8 12.\n",
            " 11.  10.   8.8  8.6 13.6  9.6 13.6 10.4  7.4 11.4  9.4 15.2 10.6 10.4\n",
            " 12.6 12.6 10.  12.   8.6 11.2]\n",
            "actual result 468     17\n",
            "1859    10\n",
            "2675    10\n",
            "3570     9\n",
            "4109     8\n",
            "        ..\n",
            "763     14\n",
            "3147    13\n",
            "3987    11\n",
            "4114     9\n",
            "3868     8\n",
            "Name: Rings, Length: 818, dtype: int64\n"
          ]
        }
      ]
    },
    {
      "cell_type": "code",
      "source": [
        "print('Error:')\n",
        "print('Mean Absolute Error :',mean_absolute_error(y_test,pred))\n",
        "print('Mean Squared Error :',mean_squared_error(y_test,pred))\n",
        "print('Root mean Squared Error',np.sqrt(mean_squared_error(y_test,pred)))\n",
        "print('r2 score :',r2_score(y_test,pred)*100)"
      ],
      "metadata": {
        "colab": {
          "base_uri": "https://localhost:8080/"
        },
        "id": "3AXKbHm7MDYU",
        "outputId": "d70e7846-bf07-477e-da39-c50d532a86ca"
      },
      "execution_count": 71,
      "outputs": [
        {
          "output_type": "stream",
          "name": "stdout",
          "text": [
            "Error:\n",
            "Mean Absolute Error : 1.5518337408312957\n",
            "Mean Squared Error : 4.410317848410758\n",
            "Root mean Squared Error 2.10007567682947\n",
            "r2 score : 43.979894605758716\n"
          ]
        }
      ]
    },
    {
      "cell_type": "markdown",
      "source": [
        "# Support Vector Regressor( Kernel = rbf )"
      ],
      "metadata": {
        "id": "h-A6OYwPICQ6"
      }
    },
    {
      "cell_type": "code",
      "source": [
        "from sklearn.svm import SVR\n",
        "svr=SVR(kernel='rbf')\n",
        "svr.fit(x_train,y_train)"
      ],
      "metadata": {
        "colab": {
          "base_uri": "https://localhost:8080/"
        },
        "id": "tJcMU04sZSi-",
        "outputId": "c482e78a-22eb-459c-a414-4ceb78d8a859"
      },
      "execution_count": 72,
      "outputs": [
        {
          "output_type": "execute_result",
          "data": {
            "text/plain": [
              "SVR()"
            ]
          },
          "metadata": {},
          "execution_count": 72
        }
      ]
    },
    {
      "cell_type": "code",
      "source": [
        "pred=svr.predict(x_test)\n",
        "print(\"predicted result \",pred)\n",
        "print('actual result',y_test)"
      ],
      "metadata": {
        "colab": {
          "base_uri": "https://localhost:8080/"
        },
        "id": "cExw9v49Ma1o",
        "outputId": "e8a46b13-9257-45c8-beed-17865c61492c"
      },
      "execution_count": 73,
      "outputs": [
        {
          "output_type": "stream",
          "name": "stdout",
          "text": [
            "predicted result  [12.56711929 10.63089957 12.48617215 10.15091754  8.77879861 10.23288272\n",
            "  8.57331149  8.4538505   9.53503791 13.53899418 10.72022433  9.47124087\n",
            " 10.47600081 10.04675813  9.77399929 10.13456904  8.17539075  8.05419517\n",
            "  4.75062779 11.59075799 10.60407709  9.99082142 10.69280804 10.23202914\n",
            " 10.11605739 10.27659176 10.32052623  9.76518553 10.36044552  7.51073035\n",
            "  9.96394128  9.76929941 10.0898509  11.03194266  6.45940107  9.755238\n",
            "  9.84888383 13.31513576 12.51616195  4.46801571  7.0425963  10.84689618\n",
            " 12.04481263  5.79040688 10.84231501  9.6613645  10.80967691 10.33612207\n",
            "  9.82996578  9.06617017  6.74852131  9.55417035 11.325783    7.80667889\n",
            "  9.21030423  9.17505193 13.25803881 11.08969043  7.7446183   9.38227088\n",
            " 10.9443139   9.66656476 11.6160686   8.81996855  9.65584069  8.58501854\n",
            "  9.50988502 10.53002463 10.9442929   9.16932647  9.13648367 11.13017261\n",
            "  9.51324612  7.66091453 10.78932742  7.36627505 11.84701156 11.11925451\n",
            " 10.33758051  7.41029516  8.88707201 11.18971369 10.18582381 11.06701017\n",
            "  9.52650349 10.15639868  7.75523823  7.7988366   7.7143709   9.3500188\n",
            "  9.9401162   7.70936972  9.29409311 10.87207966  9.56835844 13.03695972\n",
            "  5.84816607  8.57960778  7.77039088  9.79559121 12.24622293 11.31565968\n",
            "  9.81533619  8.29989945 10.65481607  4.84085653 11.11138717 10.05243592\n",
            " 11.59440321 11.09282436 11.0060484  10.16841492  8.84345304 10.37411764\n",
            " 10.43612789  5.00208412  9.56501765  9.03143478 10.67752105  8.89445091\n",
            "  8.4117716  11.73749178 12.68035234  8.979282    8.49044495  5.20866042\n",
            " 11.01980401  9.657154    9.0302846   4.09656141  6.92684189  9.52149902\n",
            "  8.45273344  9.76595259 10.54623114  5.24698147  9.44016684  9.07371108\n",
            " 10.94572432 10.81842929 11.6225093   4.47023874 15.2842289   6.01422025\n",
            "  9.20206981  7.46005742  9.56905907 12.76669344  9.32280023 11.405995\n",
            "  7.20830533 12.0489143   6.5029435   9.58260197  8.83817943 11.71526859\n",
            "  5.76404611  9.58535933 11.16676084  5.90460409  6.64040532 11.13100808\n",
            "  9.16942888  9.7355113  10.84347671 11.0176217   9.6726405  10.90196143\n",
            "  5.47081347 10.26556     9.2373571   9.65879828 11.15492665 11.62399687\n",
            " 10.89849787 10.9316466  10.99706333  9.82574115 11.34889778 12.73042276\n",
            "  7.55866027  9.92417285 11.10430882  7.67400298  6.89126323  8.84602746\n",
            "  7.23156668 12.66566452 12.1555714   5.98228087 12.09252979 10.8961668\n",
            "  6.80505314  9.97877207  9.91872479 11.93439625  8.40674009  7.34241485\n",
            " 10.85824758  7.04946104 11.3470434   6.88363876  7.55996062  6.92730879\n",
            "  9.46733813  7.20832471 10.80397749 11.33126124 14.42384493  7.21412606\n",
            " 10.92353906  9.08257254  7.58063792  7.48919219 10.2133095   7.13264581\n",
            "  8.10814397  6.91721919  5.37079554 14.3896169  10.58759786  9.01279283\n",
            " 10.55009619  7.14556675  8.9328628   7.3381026   7.80125963  9.87856981\n",
            "  9.30603335  9.44555039 12.48410912  9.62019866 10.2554157   5.32250499\n",
            " 11.7065628   5.60410078  9.85324004  5.86348358 10.96082449  8.26704467\n",
            "  7.11771328  8.36320642  5.70525467  6.75882647  5.65818676 10.492074\n",
            " 10.15755213  4.10404941 11.33917602 10.48223814  9.41000329 11.40861052\n",
            "  6.7131388  10.17274734 10.2964545   8.58079209  7.55928714  8.91780305\n",
            "  9.2151244   9.72510617 10.49032378 10.36429997  9.16499859 10.79047366\n",
            "  8.97598101 11.68053838  9.65791526 11.02840983  6.1563225  11.23734185\n",
            "  9.90726534  9.93260785 10.19517835 10.03787857  8.25519001  6.11159856\n",
            "  6.89871203  8.94505085 11.36220162  8.45590272  9.93802431 11.60777436\n",
            " 10.7090701   8.30399141  4.83185095 10.62947364 10.59359073  9.13654934\n",
            " 11.64749896  9.15105535 12.41557531  6.14332031 11.4252398   7.10797162\n",
            "  9.68660248  9.34947748 13.16074343 11.41134849  4.62495134  9.15678164\n",
            " 10.18709104 12.93711548 10.38451594 10.66391781  8.84148537  9.18252226\n",
            " 11.41327681  9.33958097  5.54581086  9.59158781  9.71696266 11.2380034\n",
            " 10.65848018  6.65476844  9.3526929   8.96672975  6.81927421  6.66817809\n",
            "  8.13018761 11.60085067  9.61957106 12.21119553  9.3732952   9.99022563\n",
            "  5.09475887 10.53107159  7.47774882  9.89344862 10.83353635 12.86681366\n",
            " 10.27795141  7.3473805   8.79742493 11.32739502 11.61456227 10.92020693\n",
            " 11.32290385 12.17813215  9.61320509  7.36035396 11.73108233  8.03573267\n",
            "  9.18715889  9.01408086 10.34175931  9.464629   10.16437989  6.3913826\n",
            "  8.02366749  9.81490857  8.46529129  8.89255843  6.01250552 10.66041551\n",
            "  9.29904218 11.00923516 11.65189289  6.446048   10.22347489  9.45604359\n",
            "  9.83869137 11.40561022  9.68289365 10.85467021  7.1859328   8.58882082\n",
            "  9.22315923  8.68672706  9.41521068  6.48670871  7.34481433  6.83935786\n",
            "  9.58075914 11.0199187  11.93915037  9.20474888 10.79493043  7.16877673\n",
            "  4.23182839 10.44679589  7.14625479 10.62977949 10.78624696 10.13298457\n",
            "  9.82559405  9.89104278  8.39347933 11.84066345  9.84050403 12.56271122\n",
            " 12.38851602  9.67504128  7.51812443  9.10788932  9.93585635  7.48150121\n",
            " 11.56397601 11.0949292   9.00347772 10.07168985 11.31466609  8.6056729\n",
            "  9.21865906  8.27190893 11.14906036 11.12514375 10.61285395  6.80099412\n",
            "  6.07954783 12.89695075  9.79713339  9.62662045 10.16986369  8.31573716\n",
            " 11.45027606  6.84544262  8.33714283 10.00551362  8.63213279  9.48188179\n",
            " 10.16625891 10.71182676 10.12055517 10.61745705 10.25779718  7.2654263\n",
            "  8.6437187   7.86569695 10.02091886 11.1262097  12.18529792  7.1710421\n",
            "  6.56582688 10.07310039 10.99754003 10.40622836  7.86387676  9.01348706\n",
            "  9.18790749 10.50011966 10.73274697  9.42059803 10.98587227  9.66099817\n",
            "  8.55934306 10.45198867 10.71188025  9.23742073 10.65117887  8.20597176\n",
            " 11.77295053 11.06718558  6.24358558  9.67073293 10.86891284  9.94866781\n",
            "  7.38395941 10.32833864 10.22713412 11.29097236  8.8380702  10.4034605\n",
            "  9.18523832 10.08864077 10.33168109  8.3142748   9.75189863 10.89355578\n",
            " 11.24684306 11.03384058 10.8134802   8.60382571  7.72138439 10.89115173\n",
            "  7.22394108  5.90742663  9.69433594  4.3289713   9.63928888  7.52546707\n",
            "  9.16029676 11.35169948  9.65340989 10.7761016  11.16752383  8.95746815\n",
            " 10.20524913  7.41351197 10.93491513  6.94483934  9.55839795 10.34363275\n",
            " 11.21336291  7.75832232  5.67225769  9.94063017 12.16377429 11.35968218\n",
            " 12.19553329 11.37356379  6.9678849   7.48557855 10.59929793  8.46989983\n",
            " 10.84145038  6.84318048  8.96877789  8.21747228  8.32439725  7.30354344\n",
            "  9.27353531 11.41305787  9.84342593  9.78317483  9.73977094  9.62462081\n",
            "  8.37638353 10.84202575  8.11264554  9.90816127  7.37227873 10.85404295\n",
            "  6.43121942  9.56281963  7.0275856   5.86468702  8.73182974  7.07380166\n",
            " 10.95890759 12.47088477 11.37699794  8.8619288  11.32777751 12.89331606\n",
            " 10.0386261  11.37970977  6.86164071  4.15286877  5.27588645  8.6482868\n",
            " 10.14295209  9.40332368  7.31245534 10.60850458 10.00042209 10.79980401\n",
            "  9.56779587 10.40861347  9.93380457  9.02418245  7.9160382   8.9308279\n",
            " 10.53413203  9.7946925  12.61931689  9.35028125  7.12090402  7.69242988\n",
            "  7.32910303 11.65796999  4.48937306 11.12865618  8.62059348  9.97623308\n",
            " 10.18380919 10.83963771  9.7043185   7.30474649  8.64054175  7.79213305\n",
            "  8.62233172  8.76572866  6.31069608  8.42181982  9.79559161  6.06355876\n",
            "  7.57384315  6.66929848  9.99686672  7.06412392  9.81500684 10.90673211\n",
            "  9.45346602  8.2881357   8.84019913 10.72041891  4.95389166  6.11316642\n",
            "  9.98287009  9.11031551 10.38935627  6.83617111 11.47561563  9.47077617\n",
            "  5.2439878   7.82999841 10.77217141 11.31250295  9.26990344 13.3167221\n",
            "  8.45155603  9.30999903  9.54349221  7.51681686  6.85411891  8.81735089\n",
            " 11.01094431 11.9379739   9.51797084  6.79287034  9.23524222  6.1429248\n",
            " 10.33753659  8.7789032  10.16021568  9.36691069 10.36422006  9.76910642\n",
            " 10.40610916 10.39410284 10.62135727  8.53033573  9.30563256 10.08819662\n",
            " 10.28856398 10.76357244 10.13738922 10.43373377  7.32307056  9.88521382\n",
            "  6.96412907  9.4085643  10.37476711  9.75029403  6.70540751  8.83991522\n",
            " 10.99287194  8.78787364  9.63591872  9.74407307  9.897665   10.56403848\n",
            "  9.71919093  6.81684718 10.48859334  5.93206268  7.72646112 10.22651603\n",
            "  6.94115724  9.66236552 11.12016029  6.65268841  8.40970983 10.4924922\n",
            " 10.1136368   6.79292883  8.35041284  8.25678161 10.69857358 11.2696795\n",
            " 12.48066834 11.2605768  11.62582514  6.95418018  9.80387793  7.14266675\n",
            "  8.7407689   7.43790945  5.89826587  6.80838726  9.83618006 10.98877272\n",
            " 10.96394267 11.08715967  9.57399997 12.57598254  7.44396661 11.86533902\n",
            "  7.88086138 10.67552425 10.82267477 10.51981798 10.14151363 10.93496734\n",
            "  6.96807457  9.263602   10.77330582  7.59698419  9.32461401 11.18546417\n",
            " 10.65205968 10.86315939  9.4222058   9.92915185 10.70556555 10.6060299\n",
            " 11.65580545 10.19828647 11.08915642  6.65455305  9.72149772  7.2379633\n",
            " 11.68297962 10.31749363  6.44130138  8.17005362  9.84111948 11.66543209\n",
            "  8.76981718  9.34254137  8.47349949  6.70463833  8.38912385  9.48972789\n",
            " 10.17323516 10.01129023  6.77986462  9.21042819  9.35497883  7.89596256\n",
            " 11.20296355  7.87809023 11.53876512  4.74878835  8.84860277 10.74066898\n",
            "  6.51151485 10.24524837 11.37291367 10.49589083  9.97330719 11.38697299\n",
            " 10.71312037  9.81577226  9.23818019 11.65499039 10.38111847  5.80482494\n",
            "  8.97332951 10.53875133  8.7257946  11.58930343  9.63353686  9.16645095\n",
            "  8.42884326  9.8960854   8.67763736  6.89382607 11.27399131  8.51742603\n",
            " 10.84371146 12.10579724  5.39681828  4.68933145  9.91311745 11.70294183\n",
            "  9.69286786 11.37116836  9.15879265 12.18189611  4.84710877  8.65409506\n",
            " 10.24376145  5.38161733  9.13361327  8.72136277  9.9680289   7.7807855\n",
            " 10.5684264  12.46001229 12.05140698  9.25956422 11.01397376 12.00427313\n",
            " 10.34538393 11.2001667  10.84038581  9.77914943  9.88639713  6.81661504\n",
            " 11.95063869 12.02374494 11.64873125  5.72890926  8.91721753  9.47237196\n",
            "  7.01706094 12.14047779  8.44812939 12.06349813  8.01265726  8.13719562\n",
            " 11.81829558  9.70920619 12.16100423 11.12458971  9.90239447 10.91694285\n",
            " 11.45602108  9.1334934   9.86263316  9.48423093 10.68916696  9.77951245\n",
            " 11.71740324  9.66486284  7.15583491 10.73038587  9.27994281 13.97187847\n",
            " 10.30765888 10.44072432 11.85206359 12.20253784 10.43067282 12.11204939\n",
            "  8.68383398 10.18127167]\n",
            "actual result 468     17\n",
            "1859    10\n",
            "2675    10\n",
            "3570     9\n",
            "4109     8\n",
            "        ..\n",
            "763     14\n",
            "3147    13\n",
            "3987    11\n",
            "4114     9\n",
            "3868     8\n",
            "Name: Rings, Length: 818, dtype: int64\n"
          ]
        }
      ]
    },
    {
      "cell_type": "code",
      "source": [
        "print('Error:')\n",
        "print('Mean Absolute Error :',mean_absolute_error(y_test,pred))\n",
        "print('Mean Squared Error :',mean_squared_error(y_test,pred))\n",
        "print('Root mean Squared Error',np.sqrt(mean_squared_error(y_test,pred)))\n",
        "print('r2 score :',r2_score(y_test,pred)*100)"
      ],
      "metadata": {
        "colab": {
          "base_uri": "https://localhost:8080/"
        },
        "id": "X_OPoTp-MdG-",
        "outputId": "7da27b68-d21c-4361-8a61-11a98f4a9d94"
      },
      "execution_count": 74,
      "outputs": [
        {
          "output_type": "stream",
          "name": "stdout",
          "text": [
            "Error:\n",
            "Mean Absolute Error : 1.4235022213809292\n",
            "Mean Squared Error : 4.063495573674294\n",
            "Root mean Squared Error 2.015811393378432\n",
            "r2 score : 48.38525064847759\n"
          ]
        }
      ]
    },
    {
      "cell_type": "markdown",
      "source": [
        "# Support Vector Regressor( Kernel = poly )"
      ],
      "metadata": {
        "id": "Pzo9lkYoIPDv"
      }
    },
    {
      "cell_type": "code",
      "source": [
        "svp=SVR(kernel='poly')\n",
        "svp.fit(x_train,y_train)"
      ],
      "metadata": {
        "colab": {
          "base_uri": "https://localhost:8080/"
        },
        "id": "YMGhbD1fZEwD",
        "outputId": "b8620e10-4f76-43b2-f0f0-ea50421cc92c"
      },
      "execution_count": 75,
      "outputs": [
        {
          "output_type": "execute_result",
          "data": {
            "text/plain": [
              "SVR(kernel='poly')"
            ]
          },
          "metadata": {},
          "execution_count": 75
        }
      ]
    },
    {
      "cell_type": "code",
      "source": [
        "pred=svp.predict(x_test)\n",
        "print(\"predicted result \",pred)\n",
        "print('actual result',y_test)"
      ],
      "metadata": {
        "colab": {
          "base_uri": "https://localhost:8080/"
        },
        "id": "odGOvvCQMuxp",
        "outputId": "31839577-ca39-4af8-9a2f-366045ab3af8"
      },
      "execution_count": 76,
      "outputs": [
        {
          "output_type": "stream",
          "name": "stdout",
          "text": [
            "predicted result  [14.95475861  9.25127674 15.46826778  9.51371275  8.94404713  9.73998703\n",
            "  9.190585    8.17247012  9.25929788 10.30992548 10.40774344  9.3806607\n",
            "  9.52145761  9.48578293  9.37402698  9.37649662  7.938661    9.0768861\n",
            "  4.76834956 10.61329992  9.27100197  9.44400984  9.25228959  9.59621381\n",
            "  9.44913118  9.69437923  9.61422211  9.32994256  9.75563133  8.9125423\n",
            "  9.57254151  9.24741404  9.68323447 11.53359997  6.93601968  9.25124721\n",
            "  9.25128454 11.61847323 10.97836307  4.85579582  8.40572537  9.65889718\n",
            "  9.57240375  6.29946047  9.37332     8.7892388  10.37164165  9.24313899\n",
            "  9.35910382  8.54348083  8.28131881  9.16909272 10.08474093  8.91543374\n",
            "  9.14993965  8.95114078 10.49334543 10.15139684  7.15628424  9.31764191\n",
            "  9.83402709  9.17553857  9.36396487  9.18031348  9.25399123  8.68594291\n",
            "  9.2482507   9.65939256 11.11445705  9.05663261  9.00339402 10.18643263\n",
            "  9.25457289  8.64969924 10.30314468  8.69707998 16.28124944 10.57175603\n",
            "  9.48715373  8.58132209  8.78922098 15.62668171  9.5889986  10.34808292\n",
            "  9.14235176  9.2114229   8.86249217  7.30383594  9.03952589  9.2418209\n",
            "  9.55179073  8.83049219  8.77377286  9.46558928  9.24412669 10.07134154\n",
            "  6.86002769  8.35277472  9.20015934  9.39767596  9.37542615 11.59365927\n",
            "  9.24014073  7.94781914  9.78801759  5.10175272 11.03951108  9.27488374\n",
            " 10.35939221  9.86786498  9.4929434   9.35284595  8.64582902  9.70568276\n",
            "  9.6422302   5.78332794  9.01243673  8.89359586  9.55361545  8.98464364\n",
            "  8.84852691  9.79728246  9.94735598  8.94234386  8.73166006  5.62627073\n",
            " 10.3122194   9.2632301   9.09997244  3.55116316  8.65915087  9.25626497\n",
            "  8.85140508  9.05259826  9.76370325  5.80295247  9.12238825  8.84803164\n",
            "  9.87513107  9.42729947  9.55544182  4.45950816 11.55629301  6.59298716\n",
            "  9.02732583  7.91888551  9.35580854 10.01706232  9.13929757  9.94893378\n",
            "  8.27595797 11.53435611  6.76309262  9.23603692  8.50720401 10.63819388\n",
            "  6.81768062  9.24532784 13.25220552  6.57662898  7.57572446 11.78404832\n",
            "  8.89107411  9.25949199  9.8835365   9.63164925  8.9517583   9.68814828\n",
            "  5.804068    9.29789877  9.2726802   9.27169376 13.16906299 10.42908547\n",
            " 10.06280285 10.51186672 10.07366441  9.45222076 10.94463142 10.90969108\n",
            "  8.73059633  9.51008495 10.03028981  8.65863728  8.12091513  8.71772761\n",
            "  8.00774276 10.07617482 12.18034559  6.42449879 11.75951523  9.47668883\n",
            "  7.67268732  9.35106955  9.25507138 12.47009983  8.77106087  9.06638215\n",
            " 12.4449992   7.97679249  9.72524832  8.18909224  8.68992568  8.2186315\n",
            "  9.19852565  8.66236858  9.2236134  11.27868351 10.83431144  8.16010708\n",
            " 13.26136849  8.98070177  8.72050982  7.20795694  9.53532941  8.72969705\n",
            "  9.20433776  8.40419922  6.1386698  11.55872929  9.75886447  9.08368558\n",
            " 10.34371804  8.25370657  9.01642668  8.18918616  9.17271443  9.42544586\n",
            "  8.91237715  8.92404836 10.14709091  8.85472801  9.21495488  5.49154109\n",
            " 10.88288525  6.12423252  9.45214097  6.4973565  11.82565344  8.6201258\n",
            "  8.09803663  9.23658448  5.77980443  8.06970451  4.98750355  9.203168\n",
            "  9.12767296  3.68177777 12.04519515  9.67728217  9.16718657 11.028033\n",
            "  6.55746032  9.11362691  8.97643021  8.95459056  7.15055094  9.13713072\n",
            "  8.99839456  9.20817977  9.86155863 10.02808867  9.10944737 10.31730429\n",
            "  9.02975674 12.90560445  9.43326877 10.55277194  7.46138095  9.35027808\n",
            "  9.53611164  9.19888479  9.4291259   9.08260948  8.2282847   6.03786665\n",
            "  7.64553552  9.00296155 12.42407985  9.15004548  9.54622087 10.00931561\n",
            "  9.62580028  9.0125373   4.50469416 10.25324457  9.77043165  9.06319455\n",
            " 10.65188751  9.26731693 12.50120974  6.518841    9.89174348  8.36004889\n",
            "  9.08026265  9.25483106 10.53634505 10.91430297  4.69777551  9.2821126\n",
            "  9.21517312 10.09817243 10.27384536 10.36166611  9.19988125  9.21793815\n",
            " 13.0940715   9.19524905  6.02770188  9.24114314  9.37636169 12.22671919\n",
            "  9.86318581  7.38471089  9.0808183   9.20940989  7.93527802  7.89651949\n",
            "  9.11920758 14.95533994  9.27422587  9.47387931  9.32784431  9.6084263\n",
            "  5.30982755  9.56453758  8.68931115  9.4163186  10.2560206  10.73469302\n",
            "  9.46540379  8.8641867   8.34920222 10.45576361 11.94652993 10.24618165\n",
            " 11.15369721 13.14665664  9.18844056  7.04699833 10.27094696  7.81870621\n",
            "  9.22219593  8.88814327  9.52186131  9.23676988  9.24985333  7.34252764\n",
            "  8.07007967  9.21866437  9.21499855  9.22558845  6.52541455  9.22357639\n",
            "  9.16956602 10.5654819  14.30862078  7.07773171 10.48945788  9.29822578\n",
            "  9.30614456  9.98498637  9.36702261 10.53628007  8.21142785  8.96819891\n",
            "  8.85440494  8.83189842  9.28129654  7.20852748  9.08209864  8.10000074\n",
            "  9.20620717  9.79382673 10.17125498  9.025724   10.1185888   8.29909893\n",
            "  4.32798841  9.39297877  8.64993697  9.89941641  9.46389706  9.61732518\n",
            "  9.36025036  9.4603369   9.21043599 11.22230192  8.96822305 12.42808198\n",
            " 14.70719721  9.2986876   8.84362979  9.18119431  9.34523165  8.48534297\n",
            " 10.64007296  9.45320493  9.25058463  9.47961506  9.97945759  9.19942156\n",
            "  8.93419229  8.54827807  9.92970914  9.92258313  9.95953954  7.99272984\n",
            "  6.29500726 10.61509855  9.0311769   9.21826335  9.33985774  8.42220919\n",
            "  9.98327619  8.81740058  9.04123931  9.55369658  8.93788024  9.24629919\n",
            "  9.30252813 10.31719204  9.30823471 10.00437402  9.25243632  9.01758518\n",
            "  9.25211581  8.79909904  9.55143366 10.68173298 10.42318664  8.37494477\n",
            "  7.70450173  9.47148241 10.33329105 10.49862221  8.92208782  8.78131065\n",
            "  8.87518375 10.27078691 10.23535896  9.12794446  9.54298258  9.2919864\n",
            "  9.20916041  9.68057345  9.86533337  8.9534483   9.43591455  9.19866304\n",
            " 12.85501919  9.55128858  6.68839085  9.31415569  9.82011271  9.60207713\n",
            "  8.29292455  9.33671438  9.67133428 12.46490251  9.25315325  9.691321\n",
            "  9.16344986  9.50758847  9.52544847  9.19096405  9.0755589   9.8134088\n",
            "  9.57618963 10.20424204  9.47028281  9.22049698  8.92386327  9.6812213\n",
            "  8.71180154  7.10453398  9.19077429  4.28174918  9.26637732  9.09338939\n",
            "  8.95022579 10.02048348  9.05095665 10.24846653 10.39421656  9.03886518\n",
            "  9.59200165  8.91530163 11.08689427  8.46829959  9.01145074  9.77248088\n",
            " 11.32676276  7.1743438   6.56830684  9.37048806 10.26362975 12.32107702\n",
            " 10.01934852 12.0392969   8.26785576  7.03135098  9.33390026  9.17753392\n",
            "  9.71144768  8.07424516  9.20499475  9.17536266  8.21437797  8.55571783\n",
            "  9.25630279 11.00845076  9.21236112  9.10195559  9.32356945  9.31830938\n",
            "  9.2680648  10.06683267  9.14780013  9.45432197  8.93300025  9.49309389\n",
            "  6.49848041  9.252986    7.94312919  6.77577559  9.22223162  8.65198557\n",
            " 10.86931573 10.58998897  9.52921796  9.03416773 10.77824637 15.76031875\n",
            "  9.55134905 11.72959198  7.94929942  4.63421615  5.87045607  8.39382093\n",
            "  9.13976652  9.4113351   8.7606972  10.07489267  9.36379967 10.27841867\n",
            "  9.19634484  9.6828179   9.12163626  8.89185035  8.92221038  9.09779714\n",
            "  9.79903485  9.25911483 10.77826423  9.2285323   7.94358774  9.02158821\n",
            "  8.7016796  10.29170851  4.90101057  9.36933714  8.70666391  9.32200604\n",
            "  9.74931319 11.08691342  9.11098577  8.6516543   8.35509898  7.73258536\n",
            "  8.75955224  9.25859769  5.75736258  8.1158647   9.28469195  6.52521619\n",
            "  9.08055781  7.53973882  9.25790662  8.31103136  9.23481898 10.01480873\n",
            "  9.25919078  9.24326258  8.53133994  9.24237066  5.70072232  6.70184931\n",
            "  9.55737645  8.91306612  9.68863952  6.13629638 11.1433931   9.14591665\n",
            "  5.12015201  8.98655093  9.26955504 10.80888634  9.41867006 11.36020528\n",
            "  9.20429743  8.88116347  9.25276893  8.67904989  8.50072794  8.78880794\n",
            "  9.81874638 11.20339183  9.17159939  8.25539407  8.87434544  6.93969907\n",
            "  9.77784428  9.25459165  9.230507    9.17043924  9.87322563  9.38677125\n",
            " 10.04236796  9.21541734  9.82411473  8.76829653  9.07974323  9.67077915\n",
            "  9.22842597  9.26785594  9.13499936  9.78107019  9.05242228  9.23639591\n",
            "  8.2685379   9.22482405  9.48270773  9.43613791  7.67820416  9.31859991\n",
            " 10.93816969  8.87586736  9.03196131  9.31292589  9.54189889 10.31448686\n",
            "  9.27782123  7.67681934  9.96294705  7.65805907  8.97932092  9.48136419\n",
            "  7.98033002  9.25928077 10.88008277  7.67660415  9.11696143  9.76696551\n",
            "  9.48153643  9.00474242  8.23833472  9.21547888  9.68754348  9.23163286\n",
            " 12.32299929 11.00811867 14.06241895  7.81855637  9.27718299  8.18654199\n",
            "  9.24406876  8.82417391  6.35787616  8.08978586  9.31091262  9.85321002\n",
            " 11.01638601 10.60224597  9.30840309  9.39849012  8.69083956 11.92604475\n",
            "  7.77616858  9.41749313 10.40690849  9.86922742  9.97846427 10.04016525\n",
            "  7.73135021  9.20397149 10.83989531  8.6605336   8.91464289  9.74210011\n",
            " 10.13617081 10.47946574  9.27740365  9.38922053 10.07569338  9.23826161\n",
            " 10.54297251  9.54837661 10.05271561  7.46378255  9.03859962  8.85943327\n",
            " 10.01268302 10.12188902  7.19740348  9.17167159  9.1273447   9.77975968\n",
            "  9.23708978  9.13773407  9.10572275  7.7003792   9.15105117  9.25784261\n",
            "  9.3573735   9.15280327  8.03463507  9.26539083  9.25440728  7.65697385\n",
            "  9.59868705  8.10191774 12.1477278   5.34162629  8.9083899   9.721689\n",
            "  4.53620888  9.67195832 12.228452    9.4239479   9.69697465 12.71611397\n",
            "  9.1166475   9.26634245  8.76944813 11.94352111  9.86961909  6.47701801\n",
            "  9.25403789  9.96614637  9.04416949 11.4896835   8.87037077  8.94941428\n",
            "  9.04822884  9.42145469  8.46975541  7.93831982 15.13762553  9.22707831\n",
            " 10.13433889 12.15244109  5.55785083  4.45130646  9.30685275 17.42911883\n",
            "  9.30859342 11.10418477  9.28923456 11.95831274  4.93835749  8.84411561\n",
            "  9.68848377  5.55313725  9.11227559  8.58391113  9.28590691  8.43720033\n",
            " 10.21788208 11.32285357 13.77943515  9.25464122 10.36743586  9.65409104\n",
            "  9.63573896  9.25194534  9.63362675  9.2390884   9.15140929  7.72828321\n",
            " 12.02508861 10.36538267  9.61799807  6.33933773  8.89154776  9.25711192\n",
            "  7.49784922 16.77341404  9.08046116  9.5680977   8.97097656  9.1440027\n",
            " 10.01525651  9.25976058 17.09915168 10.72946411  9.27387135 10.12795012\n",
            " 10.93972981  9.2262124   9.37968328  9.31660362  9.85893247  9.1891491\n",
            " 10.33261155  9.12734835  7.63296277  9.88065096  9.11243209 13.18028843\n",
            "  9.66333044  9.7193701  13.26021768 12.51263784  9.87257591 12.86459781\n",
            "  9.07489266  9.55427491]\n",
            "actual result 468     17\n",
            "1859    10\n",
            "2675    10\n",
            "3570     9\n",
            "4109     8\n",
            "        ..\n",
            "763     14\n",
            "3147    13\n",
            "3987    11\n",
            "4114     9\n",
            "3868     8\n",
            "Name: Rings, Length: 818, dtype: int64\n"
          ]
        }
      ]
    },
    {
      "cell_type": "code",
      "source": [
        "print('Error:')\n",
        "print('Mean Absolute Error :',mean_absolute_error(y_test,pred))\n",
        "print('Mean Squared Error :',mean_squared_error(y_test,pred))\n",
        "print('Root mean Squared Error',np.sqrt(mean_squared_error(y_test,pred)))\n",
        "print('r2 score :',r2_score(y_test,pred)*100)"
      ],
      "metadata": {
        "colab": {
          "base_uri": "https://localhost:8080/"
        },
        "id": "ki5tQCSuMvI9",
        "outputId": "357d4123-9260-4819-988a-dd23aab2dd93"
      },
      "execution_count": 77,
      "outputs": [
        {
          "output_type": "stream",
          "name": "stdout",
          "text": [
            "Error:\n",
            "Mean Absolute Error : 1.5938376209717762\n",
            "Mean Squared Error : 5.057016937544188\n",
            "Root mean Squared Error 2.248781211577549\n",
            "r2 score : 35.76548639827107\n"
          ]
        }
      ]
    },
    {
      "cell_type": "markdown",
      "source": [
        "# Support Vector Regressor( Kernel = linear )"
      ],
      "metadata": {
        "id": "TSic--McIXcM"
      }
    },
    {
      "cell_type": "code",
      "source": [
        "svl=SVR(kernel='linear')\n",
        "svl.fit(x_train,y_train)"
      ],
      "metadata": {
        "colab": {
          "base_uri": "https://localhost:8080/"
        },
        "id": "9xvCTSr7YPsi",
        "outputId": "60035963-8f34-4192-adc0-570106b08ee1"
      },
      "execution_count": 78,
      "outputs": [
        {
          "output_type": "execute_result",
          "data": {
            "text/plain": [
              "SVR(kernel='linear')"
            ]
          },
          "metadata": {},
          "execution_count": 78
        }
      ]
    },
    {
      "cell_type": "code",
      "source": [
        "pred=svl.predict(x_test)\n",
        "print(\"predicted result \",pred)\n",
        "print('actual result',y_test)"
      ],
      "metadata": {
        "colab": {
          "base_uri": "https://localhost:8080/"
        },
        "id": "WVPgx_3VGxz7",
        "outputId": "e0b11307-322a-4f30-8cef-43d1c24c494d"
      },
      "execution_count": 79,
      "outputs": [
        {
          "output_type": "stream",
          "name": "stdout",
          "text": [
            "predicted result  [14.52184348 10.228838   12.56078196 10.17935698  8.27963471 10.08769862\n",
            "  8.71214554  7.50509023  9.32266853 12.29347016 11.11338997  9.04664469\n",
            " 10.67149294 10.26399812  9.77958467  9.45230257  7.04240135  8.04804073\n",
            "  5.34772297 11.61955638 10.15412272  9.58093711 10.37858114  9.90422513\n",
            "  9.13464411 10.37313826 10.64631621  9.78070369 10.56858552  7.82900167\n",
            "  9.73871874  9.76126643 10.41312577 11.75292784  6.45154485  9.92493227\n",
            " 10.08595341 12.86783354 12.42719013  5.54858972  7.05380621 10.82307306\n",
            " 10.74295029  5.91673909  9.97838836  8.08469676 11.29417125 10.03707875\n",
            " 10.2034848   7.66239069  6.8298691   9.3795394  11.57619006  8.07648008\n",
            "  9.21339187  8.08533364 12.58311747 11.2683074   6.96361652  9.15783616\n",
            " 10.96061786  8.51642157 10.49598814  9.0467242   9.11243528  7.67556949\n",
            "  9.59397071 10.89575358 11.36782375  8.62758648  8.31078252 11.45475184\n",
            "  9.47493347  7.96036436 10.91279334  7.71400903 13.46021753 11.75320382\n",
            " 10.16982964  7.81615381  8.08047406 12.5987707  10.66919746 11.72576178\n",
            "  8.91424831  9.549396    8.24519965  6.61317785  7.97149349  9.46746315\n",
            " 10.07410785  8.25313072  8.60141681 10.2514446   8.71631385 11.64975264\n",
            "  6.31443784  7.42129141  8.17924372 10.28277735 11.47788504 11.84327537\n",
            "  9.3961156   7.17599123 10.26339627  5.68771248 11.95805932 10.09526121\n",
            " 11.46440664 11.24360725 10.23008854 10.36329774  7.68072791 10.57290798\n",
            "  9.89848336  6.21718543  9.71175491  8.9032474  10.7813202   8.2454519\n",
            "  7.96633021 10.89149644 11.47289978  8.6728747   8.02844539  6.14776739\n",
            " 11.31979293  9.4444604   8.42851348  5.14220917  7.13521285  9.61386951\n",
            "  8.02126375  9.46991524 10.79433999  5.9965259   9.27663037  8.63864881\n",
            " 11.24437747 10.22114576 11.33522022  5.39088036 14.54786023  6.38576883\n",
            "  9.14350174  7.24009872  9.60939049 11.31489046  8.69424848 10.12127786\n",
            "  7.59231212 11.93121064  6.12593117  8.95837512  7.63090926 11.7562984\n",
            "  6.52453606  9.49157033 12.03918219  6.42821276  6.49657738 11.7581724\n",
            "  8.50184107  9.82419972  9.70386925 10.33989274  9.32250839 10.54723104\n",
            "  5.79762082  9.99021355  9.35145318  9.77098933 11.95206215 11.4815668\n",
            " 11.03337564 11.43463447  9.78705793  9.71093272 12.25723933 12.47806701\n",
            "  8.31860093  9.8394617  11.4852672   7.65923735  6.83577248  8.00133648\n",
            "  7.51470107 11.62849801 13.5547565   6.22335714 12.46073692 10.31096945\n",
            "  6.91407803  9.01219487  9.71842484 13.14880268  8.68722718  7.71034162\n",
            " 12.35601963  6.95906778 10.26081481  6.8845021   7.84521026  7.14517351\n",
            "  9.09766493  7.55720912 10.59983864 12.15789792 13.0743899   7.35341695\n",
            " 11.41190459  9.1667701   7.81928657  6.78537688  9.80683002  7.1853819\n",
            "  8.38546338  6.88548756  6.00137405 13.38106605  9.59694064  8.73707345\n",
            " 10.96054448  7.50135963  8.79535886  7.58948854  8.12165232  9.55434609\n",
            "  9.08529099  8.94015315 12.17029602  8.50414812 10.05013762  5.83229767\n",
            " 12.08260147  6.14376252  9.82444854  6.1973409  11.28214447  7.29976135\n",
            "  7.6312357   8.67679767  6.23146728  6.86315544  5.42362753  9.72072929\n",
            "  9.64482058  5.00862756 11.6770339   9.46154283  9.55995411 12.14792537\n",
            "  6.45554411  9.86136454  9.49058512  7.98800347  6.57003465  9.0318952\n",
            "  8.11680988  9.42254269 11.07133841 10.59021722  9.46918367 11.35774105\n",
            "  8.85555946 12.48800366  9.33241959 10.78916605  6.19990499 10.15361605\n",
            " 10.09257149  9.19660128  9.19827401 10.1155387   7.07876003  5.96920944\n",
            "  6.90882279  8.47515541 12.25796159  8.72173912 10.2773119  10.99168288\n",
            "  9.68770966  8.62089184  5.4313429  10.45863387 10.66315873  8.81458269\n",
            " 12.03728129  9.06883535 12.46471106  6.41645779 11.44140375  7.21486525\n",
            "  9.55520089  9.41412628 12.63664973 11.68494731  5.49874363  9.21277219\n",
            " 10.21379373 11.89169688 10.73246176 10.97374502  8.94042653  9.374942\n",
            " 11.98292801  9.8470312   5.97345747  9.05732932  9.85422709 11.61747264\n",
            " 10.37156689  6.80784096  8.83216283  9.13709898  6.86877415  6.88401791\n",
            "  8.3244367  12.74864197  9.56962785 11.66114541  9.1239388  10.31847206\n",
            "  5.74469907 10.34694529  7.71403683  8.83236791 11.1087817  12.36338883\n",
            " 10.19121455  7.68743604  7.64755094 11.72251163 12.08881754 11.61260829\n",
            " 12.04059274 13.63632205  8.99857186  6.61899518 11.49491661  8.05331951\n",
            "  9.31767446  8.12560749  9.9478055   9.49596991  9.52200858  6.53471749\n",
            "  7.44568401  9.53796548  8.69187854  9.13107557  6.24728349 10.22944564\n",
            "  9.24678686 10.97729396 12.52102652  6.32628226 10.33574917  9.1459037\n",
            "  9.97576279 10.65649745  9.74280688 10.41286322  7.69470997  8.21649192\n",
            "  8.05073397  8.0276281   9.42621827  6.46403841  7.66122902  6.7538997\n",
            "  9.08199033 10.6775844  11.31464431  8.49319193 10.98102246  7.39905611\n",
            "  5.3145507   9.87949354  7.30000011 10.9959032  10.39054226 10.58747647\n",
            "  9.31935565 10.02141456  8.66023113 12.6151318   9.52460063 12.15306974\n",
            " 13.73115719  9.92558489  7.69850859  8.844297    8.97539622  7.66054455\n",
            " 12.10570916 10.29775041  9.19862015  9.80723608 10.14378301  8.85649097\n",
            "  8.44295371  7.40227217 11.00726221 10.06809365 10.94577548  7.16838768\n",
            "  5.54579026 12.05790553  9.53948143  8.80663495  9.58828424  7.53816892\n",
            " 10.74532178  7.08728192  8.57281865 10.2273633   8.25471574  9.46281581\n",
            "  9.49522299 10.25407107  9.48249184 10.60416608  9.62498096  7.53685479\n",
            "  8.74506481  8.11846378 10.37179377 11.29060173 11.96452138  7.53871721\n",
            "  6.83252626 10.15426335 10.85021146 10.51717049  8.04362601  7.93315048\n",
            "  8.80149237 10.92083901 11.21409629  9.76924009  9.96376435  8.60838895\n",
            "  8.84384049 10.56555638 10.93190293  8.69250048 10.59595666  8.42337759\n",
            " 12.18282863 10.32113905  6.55756944  9.86631892  9.7227524  10.14561895\n",
            "  7.90014176  9.57144123 10.12710181 12.02072759  8.85556015 10.58093687\n",
            "  8.8562404   9.16396744 10.63651063  8.57157313  9.63387158 10.0381259\n",
            " 10.01643603 11.47114182 10.19995344  8.87991354  8.0422603  10.90498778\n",
            "  7.35719775  6.20714844  8.98263905  5.44024748  8.65859435  7.89902972\n",
            "  8.98598402 11.43175862  9.21025695 11.20965622 11.20377144  8.54654361\n",
            "  9.80441857  7.63419765 11.30727806  7.0697108   8.94884992 10.96794791\n",
            " 11.98082911  6.7021568   6.37233169  9.88679715 11.58315914 11.61327665\n",
            " 11.55377969 12.45060879  6.89595745  6.58052763  9.88269893  8.7484464\n",
            " 10.29186803  6.82905076  9.38734689  8.48029083  7.37113149  7.36344076\n",
            "  9.45607109 12.32354784 10.24070005  8.94367202  9.75439091  9.7842187\n",
            "  8.51035725 10.85824014  8.4647604   8.89614918  7.58403747 10.26644819\n",
            "  6.27476249  9.4239131   7.05413718  6.14331496  8.92082649  7.07491259\n",
            " 11.60774321 12.05328335 11.07083618  9.22533879 11.94672149 13.48149823\n",
            " 10.54787494 11.91431866  6.87689918  5.60197192  6.04091207  7.57718775\n",
            "  9.52139523  8.96302394  7.65319412 11.0148081   9.21403096 10.80782406\n",
            "  8.41318656  9.61482206  8.92268247  8.32082244  8.21556015  9.2538177\n",
            " 10.7953417   9.67466522 12.73874587  9.49389922  7.27314695  8.04546724\n",
            "  7.5325508  11.40162783  5.6207827  10.17274858  7.83135364 10.15724389\n",
            " 10.21820331 11.20690071  9.67507049  7.49625993  7.39666436  6.89772011\n",
            "  7.49145382  8.76275552  5.94194328  7.25255938  9.94693208  6.68304724\n",
            "  7.91284752  7.08665287  9.37168985  7.20644863  9.9732506  11.07589681\n",
            "  8.61221335  8.63983809  7.5062287  10.48839508  5.68212915  6.03001681\n",
            "  9.00711615  9.33809058 10.56120014  6.0531296  12.21418277  9.4872314\n",
            "  5.53297869  8.0792762  10.48258392 11.27496643  9.16613351 13.26591282\n",
            "  8.71922869  8.03656693  8.54563619  7.7040555   6.97359776  7.81767609\n",
            " 10.79197719 12.5945862  10.05398607  7.08791405  8.54120472  6.35657776\n",
            " 10.58018771  8.94044894  9.98792906  9.44806076 10.60542933  8.50035327\n",
            "  7.93741482  9.68775126 10.00164248  7.97562599  8.82093434 10.93906914\n",
            "  9.85418623 10.38150853  9.78057731 10.54753513  7.50445737 10.03482997\n",
            "  7.57947019  9.48148044 10.20237296  9.62717963  6.71343533  9.051578\n",
            " 10.49150849  8.27321716  8.94051187  9.58766653 10.10963862 11.19565662\n",
            "  9.68289884  7.08067787 10.78017279  6.38194102  8.13939091  9.28569217\n",
            "  7.18630864  9.52182986 11.06737755  6.68971858  8.74353814 10.89115282\n",
            "  9.11720436  7.00031974  7.60586639  8.499791   10.3085928   9.88975892\n",
            " 12.69065828 11.21721138 13.10254638  7.2181114   9.88923035  7.34057182\n",
            "  8.79299588  7.71668779  6.24182222  7.19497089  9.6677347  10.91553362\n",
            " 10.77216568 11.67664584  9.25671185 11.87800039  7.71363013 12.77426264\n",
            "  7.06219859 10.2437179  11.22756303 10.12517921 10.59469385 10.80911626\n",
            "  7.18032052  9.02238767 10.76595124  7.77991825  8.36045611 10.94304328\n",
            " 10.77433619 11.39560849  9.34461874  9.74832447 11.06987503 10.02531547\n",
            " 11.75486393 10.32616009 11.33841887  6.84386402  9.59756866  7.49179953\n",
            " 10.57478331 10.20823853  6.53039274  8.45204897  9.74026623 11.15586831\n",
            "  8.82093328  9.26372109  8.76636028  6.94207383  8.70672902  9.50438357\n",
            " 10.1593508  10.13590903  7.13704013  9.250188    9.4800331   7.38973161\n",
            " 10.66160452  7.61723258 12.56236817  5.91811955  8.0657394  10.3469534\n",
            "  5.91699346 10.55993597 11.71958944 10.32466224 10.10824913 11.95735897\n",
            "  9.99378764  9.735123    8.54613068 12.19461097 10.47018304  6.40549061\n",
            "  9.03043627 10.91575531  8.28595251 11.73783034  9.4751643   8.64775217\n",
            "  8.58463455 10.04614707  7.37485675  6.85718275 12.97707361  8.74599044\n",
            " 11.08315067 12.54212517  5.85192708  5.62858597  9.75132395 13.88594235\n",
            "  9.64179086 12.30381045  8.75003866 12.36092004  5.71374934  9.04181752\n",
            " 10.63028019  6.17036021  8.69536577  7.78746767 10.03565851  7.86875913\n",
            " 10.57588075 12.51856968 12.97355551  9.3472591  11.2140843  10.80837895\n",
            " 10.49201581 10.41031752 10.74438514  9.90359641  9.12322866  6.69841528\n",
            " 12.96739588 11.644052   11.31337318  5.96306946  8.13877182  9.00487853\n",
            "  7.20961105 13.5719318   8.19378433 10.77592194  8.37645397  8.43877771\n",
            " 11.04276521  9.72661829 13.59845517 11.31120656  9.97541161 11.31745373\n",
            " 12.22764743 10.00448929  8.8487993   9.33098432 10.33347197  9.81255738\n",
            " 11.5953607   9.1796822   6.81877787 10.80689403  9.44549971 14.84735845\n",
            "  9.20390656 10.21023782 13.1819089  12.48081349 10.77929344 12.96964707\n",
            "  8.38895829  9.01815033]\n",
            "actual result 468     17\n",
            "1859    10\n",
            "2675    10\n",
            "3570     9\n",
            "4109     8\n",
            "        ..\n",
            "763     14\n",
            "3147    13\n",
            "3987    11\n",
            "4114     9\n",
            "3868     8\n",
            "Name: Rings, Length: 818, dtype: int64\n"
          ]
        }
      ]
    },
    {
      "cell_type": "code",
      "source": [
        "print('Error:')\n",
        "print('Mean Absolute Error :',mean_absolute_error(y_test,pred))\n",
        "print('Mean Squared Error :',mean_squared_error(y_test,pred))\n",
        "print('Root mean Squared Error',np.sqrt(mean_squared_error(y_test,pred)))\n",
        "print('r2 score :',r2_score(y_test,pred)*100)"
      ],
      "metadata": {
        "colab": {
          "base_uri": "https://localhost:8080/"
        },
        "id": "5sJ4sRmiNI56",
        "outputId": "fe92a9f1-67ca-4ebf-98fd-aa08ee18b1a6"
      },
      "execution_count": 80,
      "outputs": [
        {
          "output_type": "stream",
          "name": "stdout",
          "text": [
            "Error:\n",
            "Mean Absolute Error : 1.4527685656614693\n",
            "Mean Squared Error : 4.229612161473553\n",
            "Root mean Squared Error 2.056602091186711\n",
            "r2 score : 46.27522840606721\n"
          ]
        }
      ]
    },
    {
      "cell_type": "markdown",
      "source": [
        "# RandomForest Regression"
      ],
      "metadata": {
        "id": "-CCfJ7KLR6em"
      }
    },
    {
      "cell_type": "code",
      "source": [
        "from sklearn.ensemble import RandomForestRegressor\n",
        "Rrf=RandomForestRegressor()\n",
        "Rrf.fit(x_train,y_train)"
      ],
      "metadata": {
        "colab": {
          "base_uri": "https://localhost:8080/"
        },
        "id": "ioU8IydxYJ0X",
        "outputId": "9a203cba-406a-49c3-dcd0-cd16212dcffe"
      },
      "execution_count": 81,
      "outputs": [
        {
          "output_type": "execute_result",
          "data": {
            "text/plain": [
              "RandomForestRegressor()"
            ]
          },
          "metadata": {},
          "execution_count": 81
        }
      ]
    },
    {
      "cell_type": "code",
      "source": [
        "pred=Rrf.predict(x_test)\n",
        "print(\"predicted result \",pred)\n",
        "print('actual result',y_test)"
      ],
      "metadata": {
        "colab": {
          "base_uri": "https://localhost:8080/"
        },
        "id": "Uhzhn8sYS-pb",
        "outputId": "c423c4bd-3f09-4283-be92-4b77afedbb00"
      },
      "execution_count": 82,
      "outputs": [
        {
          "output_type": "stream",
          "name": "stdout",
          "text": [
            "predicted result  [13.18 11.12 13.42 10.73  8.1  12.06  8.72  9.35 10.38 14.05 11.04  8.6\n",
            "  9.99 11.15  9.74 11.81  9.28  8.64  4.79 11.2  10.47 12.04 10.88 10.97\n",
            " 10.47 10.46 11.17 10.75 10.48  8.27 10.09  9.79 10.51 11.45  6.88  9.88\n",
            " 10.06 13.83 14.46  5.42  6.6  12.6  11.92  6.42 12.94 11.85 11.2  12.17\n",
            "  9.85  8.27  6.21  9.19 13.23  8.11  9.57  9.46 13.5  11.18  8.83 10.42\n",
            " 11.99  9.74 12.38  8.97 10.78 10.09 10.17 10.38 11.22  9.09  9.68 11.42\n",
            "  9.28  8.06 11.37  7.38 11.52 11.63 10.13  7.2   7.89 13.76 10.89 12.3\n",
            "  8.89 10.75  8.29  8.16  7.83  8.86 10.13  8.63  9.94 11.71  9.63 15.01\n",
            "  6.5   9.38  8.48  9.65 12.77 12.29 11.1   8.25 10.4   5.11 12.86 10.37\n",
            " 10.34 11.54 12.75 10.8   8.91 10.67 10.66  6.22  9.08  9.15 10.67  8.68\n",
            "  8.74 11.85 13.01  9.24  8.7   5.85 10.73 10.26  8.93  4.14  7.32  8.85\n",
            "  8.25 10.49 11.31  5.32  9.4   8.79 11.29 10.98 11.05  4.67 13.78  6.38\n",
            "  9.72  7.83 10.2  10.82 11.21 11.52  8.42 11.52  5.92  9.29  9.65 10.82\n",
            "  6.13  9.   12.53  5.4   6.25 12.38  9.86  9.95 10.98 10.28  8.79 11.84\n",
            "  6.04 11.26  9.72 10.   11.21 11.2  13.48 10.52 13.37 10.15 12.24 13.66\n",
            "  7.52  9.88 11.48  8.63  6.33  9.79  7.02 12.69 14.23  6.09 12.86 12.55\n",
            "  7.15 12.98  9.98 14.44  9.15  7.25 11.96  6.67 11.7   6.84  7.    6.71\n",
            " 10.24  7.26 10.06 11.83 13.39  7.26 11.63  9.51  8.    7.88 12.39  7.06\n",
            "  8.37  7.05  5.1  14.96 11.05  8.39 10.18  8.22  9.47  7.4   7.95  9.26\n",
            "  9.02 10.98 12.91 11.85 10.61  5.55 11.74  6.07 10.12  6.76 11.5   7.72\n",
            "  7.54  8.42  6.02  6.46  6.32 11.56  9.91  4.09 12.92 10.33  9.24 11.64\n",
            "  5.66  9.94 11.67  9.36  7.84  9.49  8.81 11.6  11.98 10.18  9.65 11.93\n",
            "  9.63 14.29  9.25 10.7   6.1  12.96  9.84 13.34 11.91 10.88  8.58  6.27\n",
            "  7.12  8.39 10.98  9.04 10.11 12.86 12.11  9.26  4.54 11.53 12.08  9.\n",
            " 12.31  9.55 13.27  6.32 12.17  6.95  9.56  9.09 12.93 11.37  4.75  9.69\n",
            " 10.51 13.33 10.23  9.79  8.46  9.07 11.37 13.03  6.08  9.97 10.56 10.81\n",
            " 10.58  6.71 10.19  8.86  6.96  7.18  9.83 12.09  9.13 12.14  9.01 11.04\n",
            "  5.98  9.57  7.27 10.15 13.45 14.93 10.95  7.3   9.13 12.05 11.67 11.12\n",
            " 12.74 14.93  9.25  7.16 12.95  7.2   9.49  9.37 12.56  9.53 11.09  6.38\n",
            "  7.51  9.51  9.82  9.2   6.69 11.26  9.27 10.85 11.35  6.33 10.57  9.92\n",
            " 10.33 11.71 10.25 11.16  8.01  8.26  9.67  8.78 10.22  6.34  7.93  7.06\n",
            "  9.46 10.63 12.35 10.37 11.74  7.25  3.92 11.56  7.12 12.55 11.05 10.12\n",
            " 10.01 10.48  8.42 14.06  9.97 11.56 12.95  9.59  8.22  8.31 10.43  8.02\n",
            " 11.96 11.83  9.51 13.25 11.87  8.25  9.48  8.91 12.48 13.4  11.19  6.56\n",
            "  6.22 13.36 10.58 10.03  9.89  7.75 11.64  7.4   9.3  12.09  8.15  9.96\n",
            " 10.23 10.86 12.27 10.38 10.84  7.21  9.48  9.    9.57 11.82 14.96  7.14\n",
            "  6.85 10.31 10.54 11.6   9.24 10.03  8.72 11.02 11.08  9.85  9.85 10.27\n",
            "  9.08  9.97 11.62  8.92 11.94  8.15 12.91 12.79  7.35 10.1  11.78 11.21\n",
            "  8.03 10.48 10.02 11.62 10.06 11.56  8.69 10.1  10.05  8.82 10.12 12.84\n",
            "  9.46 11.55 11.47  9.1   8.03 12.2   7.62  6.88 10.73  4.19  9.95  7.28\n",
            "  8.73 10.71 10.82 12.4  11.12  8.51  9.39  7.37 10.47  6.62 11.09 11.05\n",
            " 12.45  7.44  6.47 10.8  12.05 10.73 13.21 11.7   6.16  8.73 12.74  9.53\n",
            " 13.01  6.46  8.72  8.95  9.53  6.98  9.62 12.24 11.42 10.74 10.36 10.72\n",
            "  8.9  11.54  8.44  9.62  7.48 11.4   6.58  9.31  7.29  6.12  8.6   7.61\n",
            " 10.99 12.32 11.61  9.04 12.6  14.83 10.21 12.7   6.76  4.38  5.3   9.8\n",
            " 10.94 10.08  7.56 10.04 11.56 10.43  8.9  10.42 13.04  9.58  8.52 11.07\n",
            " 11.31  9.85 12.55  9.15  7.27  7.98  6.89 12.67  5.02 12.61  8.65  9.72\n",
            " 10.07 10.51  9.86  7.48  8.53  8.2   6.95  9.07  5.76  9.16  9.1   5.43\n",
            "  8.22  6.58 11.01  7.05  9.35 11.5   9.17  8.51  9.91 11.4   5.25  6.4\n",
            "  9.62  9.22 11.62  5.99 11.96 10.27  5.36  8.52 10.66 11.56 10.64 14.36\n",
            "  8.76  8.98 10.97  7.72  7.06  9.35 11.24 13.57 10.11  6.35 10.21  6.42\n",
            " 10.84  8.97  9.86 10.28 10.22 10.67 12.12 10.84  9.66  8.03  9.57 11.48\n",
            " 10.46 11.63 11.52 10.41  7.14 10.06  8.04  9.1  11.29  9.99  7.25  9.78\n",
            " 11.15  9.3   9.15 10.82 10.64 12.52  9.92  6.84 11.37  6.27  8.78 11.05\n",
            "  7.93  9.14 11.87  7.27  8.48 10.87  9.96  7.53  8.63  8.4  10.02 12.98\n",
            " 11.55 12.38 11.6   6.92 10.75  7.3   9.41  7.73  6.03  7.24  9.63 10.86\n",
            " 11.72 10.8   9.33 13.24  7.62 14.79  7.81 11.04 10.87 10.52 10.96 10.47\n",
            "  6.78  8.68 10.59  7.96  9.26 12.   10.34 10.31  9.22 10.65 11.54 10.53\n",
            " 12.07 10.81 12.33  6.63  9.99  7.53 12.32 10.38  6.3   8.08 10.85 13.91\n",
            "  9.07  9.23  9.7   6.91 10.23 10.11  9.85 10.53  6.78 10.63  9.34  7.14\n",
            " 11.16  7.88 13.17  5.01  8.76 12.34  5.14  9.82 11.43 11.2  11.02 10.66\n",
            " 12.98  9.87  9.26 11.53 10.39  5.49  9.25 11.3  10.03 10.87 10.55  9.45\n",
            "  9.22 11.03  9.29  6.64 13.38  8.6  10.59 11.93  5.93  4.52  9.57 12.14\n",
            " 11.37 12.34  9.27 13.46  5.13  8.64 10.66  6.29  8.43  9.26 10.68  8.14\n",
            " 11.51 13.48 12.59  9.55 10.03 11.26 10.32 11.51 11.99 10.79 10.15  7.17\n",
            " 13.03 12.64 11.64  6.46  8.38  9.46  7.07 13.45  7.95 14.19  8.07  8.3\n",
            " 12.97  9.44 13.7  10.49 10.33 11.47 11.84  9.6   9.8   9.55 12.34 10.16\n",
            " 15.53  9.54  7.39  9.99 10.46 14.81 10.74 10.41 13.12 13.17 10.49 15.03\n",
            "  8.24 10.19]\n",
            "actual result 468     17\n",
            "1859    10\n",
            "2675    10\n",
            "3570     9\n",
            "4109     8\n",
            "        ..\n",
            "763     14\n",
            "3147    13\n",
            "3987    11\n",
            "4114     9\n",
            "3868     8\n",
            "Name: Rings, Length: 818, dtype: int64\n"
          ]
        }
      ]
    },
    {
      "cell_type": "code",
      "source": [
        "print('Error:')\n",
        "print('Mean Absolute Error :',mean_absolute_error(y_test,pred))\n",
        "print('Mean Squared Error :',mean_squared_error(y_test,pred))\n",
        "print('Root mean Squared Error',np.sqrt(mean_squared_error(y_test,pred)))\n",
        "print('r2 score :',r2_score(y_test,pred)*100)"
      ],
      "metadata": {
        "colab": {
          "base_uri": "https://localhost:8080/"
        },
        "id": "KXnwG2qeTG82",
        "outputId": "6ae6c515-dc19-408f-b283-458c3cad5d89"
      },
      "execution_count": 83,
      "outputs": [
        {
          "output_type": "stream",
          "name": "stdout",
          "text": [
            "Error:\n",
            "Mean Absolute Error : 1.4824205378973103\n",
            "Mean Squared Error : 4.10258728606357\n",
            "Root mean Squared Error 2.0254844571271264\n",
            "r2 score : 47.8887055187705\n"
          ]
        }
      ]
    },
    {
      "cell_type": "markdown",
      "source": [
        "# Cross Validation"
      ],
      "metadata": {
        "id": "kBLv7dXiNUDJ"
      }
    },
    {
      "cell_type": "code",
      "source": [
        "from sklearn.model_selection import cross_val_score\n",
        "\n",
        "scr=cross_val_score(lr,x,y,cv=5)\n",
        "print(\"Cross Score of Linear Regression Model :\",scr.mean()*100)"
      ],
      "metadata": {
        "colab": {
          "base_uri": "https://localhost:8080/"
        },
        "id": "DlMcmouuNag1",
        "outputId": "638c4944-1409-4a6d-acba-33f24397ab3f"
      },
      "execution_count": 84,
      "outputs": [
        {
          "output_type": "stream",
          "name": "stdout",
          "text": [
            "Cross Score of Linear Regression Model : 38.13835659229574\n"
          ]
        }
      ]
    },
    {
      "cell_type": "code",
      "source": [
        "scr=cross_val_score(dtr,x,y,cv=5)\n",
        "print(\"Cross Score of Decission Tree Regression Model :\",scr.mean()*100)"
      ],
      "metadata": {
        "colab": {
          "base_uri": "https://localhost:8080/"
        },
        "id": "YWTosQmDPFgm",
        "outputId": "144dd4a8-80ee-462c-c490-8ec2ac82b433"
      },
      "execution_count": 85,
      "outputs": [
        {
          "output_type": "stream",
          "name": "stdout",
          "text": [
            "Cross Score of Decission Tree Regression Model : -13.273329009532015\n"
          ]
        }
      ]
    },
    {
      "cell_type": "code",
      "source": [
        "scr=cross_val_score(knr,x,y,cv=5)\n",
        "print(\"Cross Score of KNieghbour Regression Model :\",scr.mean()*100)"
      ],
      "metadata": {
        "colab": {
          "base_uri": "https://localhost:8080/"
        },
        "id": "NyXOnkbRPkl5",
        "outputId": "7aab6295-283f-45e0-b072-98b9b28702bb"
      },
      "execution_count": 86,
      "outputs": [
        {
          "output_type": "stream",
          "name": "stdout",
          "text": [
            "Cross Score of KNieghbour Regression Model : 34.92511233227231\n"
          ]
        }
      ]
    },
    {
      "cell_type": "code",
      "source": [
        "scr=cross_val_score(svr,x,y,cv=5)\n",
        "print(\"Cross Score of Support Vector Regression Model ( kernel = rbf) :\",scr.mean()*100)"
      ],
      "metadata": {
        "colab": {
          "base_uri": "https://localhost:8080/"
        },
        "id": "HEcYqyDfP4cc",
        "outputId": "4268ad76-eac5-4b3d-d89d-cfc2e4c57357"
      },
      "execution_count": 87,
      "outputs": [
        {
          "output_type": "stream",
          "name": "stdout",
          "text": [
            "Cross Score of Support Vector Regression Model ( kernel = rbf) : 43.771884516905025\n"
          ]
        }
      ]
    },
    {
      "cell_type": "code",
      "source": [
        "scr=cross_val_score(svp,x,y,cv=5)\n",
        "print(\"Cross Score of Support Vector Regression Model ( kernel = poly) :\",scr.mean()*100)"
      ],
      "metadata": {
        "colab": {
          "base_uri": "https://localhost:8080/"
        },
        "id": "jk4lhT-fPk8a",
        "outputId": "e8567875-a657-4f26-b420-661954f7b7d2"
      },
      "execution_count": 88,
      "outputs": [
        {
          "output_type": "stream",
          "name": "stdout",
          "text": [
            "Cross Score of Support Vector Regression Model ( kernel = poly) : 27.029744755832887\n"
          ]
        }
      ]
    },
    {
      "cell_type": "code",
      "source": [
        "scr=cross_val_score(svl,x,y,cv=5)\n",
        "print(\"Cross Score of Support Vector Regression Model ( kernel = linear) :\",scr.mean()*100)"
      ],
      "metadata": {
        "colab": {
          "base_uri": "https://localhost:8080/"
        },
        "id": "XQQvPhaeQTBV",
        "outputId": "8344fa46-5c21-4193-b8c4-82cbef16aa72"
      },
      "execution_count": 89,
      "outputs": [
        {
          "output_type": "stream",
          "name": "stdout",
          "text": [
            "Cross Score of Support Vector Regression Model ( kernel = linear) : 38.48091787655979\n"
          ]
        }
      ]
    },
    {
      "cell_type": "code",
      "source": [
        "scr=cross_val_score(Rrf,x,y,cv=5)\n",
        "print(\"Cross Score of Random Forest Regression Model ( kernel = linear) :\",scr.mean()*100)"
      ],
      "metadata": {
        "colab": {
          "base_uri": "https://localhost:8080/"
        },
        "id": "pRnnisTaRF9E",
        "outputId": "2ff673a1-30bb-486a-bdc0-b6f07f9337c6"
      },
      "execution_count": 90,
      "outputs": [
        {
          "output_type": "stream",
          "name": "stdout",
          "text": [
            "Cross Score of Random Forest Regression Model ( kernel = linear) : 40.2729094006419\n"
          ]
        }
      ]
    },
    {
      "cell_type": "markdown",
      "source": [
        "# Regularization"
      ],
      "metadata": {
        "id": "jpzzHvHODUu8"
      }
    },
    {
      "cell_type": "code",
      "source": [
        "from sklearn.linear_model import Lasso\n",
        "from sklearn.model_selection import GridSearchCV\n",
        "\n",
        "parameters = {'alpha':[.0001,.001,.01,.1,1,10],'random_state':list(range(0,10))}\n",
        "ls=Lasso()\n",
        "clf=GridSearchCV(ls,parameters)\n",
        "clf.fit(x_train,y_train)\n",
        "\n",
        "print(clf.best_params_)"
      ],
      "metadata": {
        "colab": {
          "base_uri": "https://localhost:8080/"
        },
        "id": "vqR--kqrDYIs",
        "outputId": "9f0e0ad0-a97e-4494-82ab-f491bc57f9c8"
      },
      "execution_count": 91,
      "outputs": [
        {
          "output_type": "stream",
          "name": "stdout",
          "text": [
            "{'alpha': 0.001, 'random_state': 0}\n"
          ]
        }
      ]
    },
    {
      "cell_type": "code",
      "source": [
        "ls=Lasso(alpha=0.0001,random_state=0)\n",
        "ls.fit(x_train,y_train)\n",
        "ls_score_training=ls.score(x_train,y_train)\n",
        "pred_ls = ls.predict(x_test)\n",
        "ls_score_training*100"
      ],
      "metadata": {
        "colab": {
          "base_uri": "https://localhost:8080/"
        },
        "id": "ZqYNsVJXGhQX",
        "outputId": "de55e5e7-13f6-498b-ea0e-28cc53f4284f"
      },
      "execution_count": 92,
      "outputs": [
        {
          "output_type": "execute_result",
          "data": {
            "text/plain": [
              "47.627026672516195"
            ]
          },
          "metadata": {},
          "execution_count": 92
        }
      ]
    },
    {
      "cell_type": "code",
      "source": [
        "lss=r2_score(y_test,pred_ls)\n",
        "lss*100"
      ],
      "metadata": {
        "colab": {
          "base_uri": "https://localhost:8080/"
        },
        "id": "JTnDWXHvHk_-",
        "outputId": "62cdf55e-b602-4ba9-eae7-783aaf49d0b9"
      },
      "execution_count": 94,
      "outputs": [
        {
          "output_type": "execute_result",
          "data": {
            "text/plain": [
              "48.082817425723434"
            ]
          },
          "metadata": {},
          "execution_count": 94
        }
      ]
    },
    {
      "cell_type": "markdown",
      "source": [
        "# Ensemble Technique"
      ],
      "metadata": {
        "id": "tbKybHM9Iirw"
      }
    },
    {
      "cell_type": "code",
      "source": [
        "parameters = {'criterion':['mse','mae'],'max_features':[\"auto\",\"sqrt\",\"log2\"]}\n",
        "clf = GridSearchCV(Rrf,parameters)\n",
        "clf.fit(x_train,y_train)\n",
        "\n",
        "print(clf.best_params_)"
      ],
      "metadata": {
        "colab": {
          "base_uri": "https://localhost:8080/"
        },
        "id": "J_oLx_aIIhso",
        "outputId": "80091197-3eec-41f6-f7be-d4960105b087"
      },
      "execution_count": 95,
      "outputs": [
        {
          "output_type": "stream",
          "name": "stdout",
          "text": [
            "{'criterion': 'mae', 'max_features': 'sqrt'}\n"
          ]
        }
      ]
    },
    {
      "cell_type": "code",
      "source": [
        "Rrf= RandomForestRegressor(criterion=\"mae\",max_features=\"sqrt\")\n",
        "Rrf.fit(x_train,y_train)\n",
        "Rrf.score(x_train,y_train)\n",
        "pred_decession = Rrf.predict(x_test)\n",
        "\n",
        "rfs = r2_score(y_test,pred_decession)\n",
        "print('R2 Score :',rfs*100)\n",
        "\n",
        "rfscore = cross_val_score(Rrf,x,y,cv=5)\n",
        "rfc=rfscore.mean()\n",
        "print('cross Val Score :',rfc*100)"
      ],
      "metadata": {
        "colab": {
          "base_uri": "https://localhost:8080/"
        },
        "id": "f9i9j0diH5ZP",
        "outputId": "36d407fb-296b-4452-a839-d0fb8803a511"
      },
      "execution_count": 98,
      "outputs": [
        {
          "output_type": "stream",
          "name": "stdout",
          "text": [
            "R2 Score : 48.34247522039394\n",
            "cross Val Score : 41.243076997172565\n"
          ]
        }
      ]
    },
    {
      "cell_type": "markdown",
      "source": [
        "# Conclusion"
      ],
      "metadata": {
        "id": "RAExIBpEPffL"
      }
    },
    {
      "cell_type": "code",
      "source": [
        "import pickle\n",
        "filename = 'Abalone.pkl'\n",
        "pickle.dump(Rrf,open(filename,'wb'))"
      ],
      "metadata": {
        "id": "aBj2pvlFMPM1"
      },
      "execution_count": 99,
      "outputs": []
    },
    {
      "cell_type": "code",
      "source": [
        ""
      ],
      "metadata": {
        "id": "ULHFtT5wbnVZ"
      },
      "execution_count": 97,
      "outputs": []
    }
  ]
}